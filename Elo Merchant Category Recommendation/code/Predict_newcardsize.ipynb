{
 "cells": [
  {
   "cell_type": "code",
   "execution_count": 1,
   "metadata": {},
   "outputs": [],
   "source": [
    "import gc\n",
    "from datetime import datetime, timedelta,date\n",
    "import warnings\n",
    "import itertools\n",
    "import numpy as np # linear algebra\n",
    "import pandas as pd # data processing, CSV file I/O (e.g. pd.read_csv)\n",
    "from sklearn.random_projection import GaussianRandomProjection\n",
    "from sklearn.random_projection import SparseRandomProjection,johnson_lindenstrauss_min_dim\n",
    "from sklearn.decomposition import PCA, FastICA,NMF,LatentDirichletAllocation,IncrementalPCA,MiniBatchSparsePCA\n",
    "from sklearn.decomposition import TruncatedSVD,FactorAnalysis,KernelPCA\n",
    "\n",
    "import seaborn as sns\n",
    "import lightgbm as lgb\n",
    "import matplotlib.pyplot as plt\n",
    "from sklearn.metrics import mean_squared_error, log_loss, mean_absolute_error\n",
    "from sklearn.model_selection import StratifiedKFold, KFold\n",
    "\n",
    "from scipy.stats import ks_2samp\n",
    "import tqdm\n",
    "\n",
    "#settings\n",
    "warnings.filterwarnings('ignore')\n",
    "np.random.seed(2018)\n",
    "pd.set_option(\"display.max_columns\", None)\n",
    "pd.set_option('display.max_rows',130)"
   ]
  },
  {
   "cell_type": "code",
   "execution_count": 2,
   "metadata": {},
   "outputs": [],
   "source": [
    "def get_prefix(group_col, target_col, prefix=None):\n",
    "    if isinstance(group_col, list) is True:\n",
    "        g = '_'.join(group_col)\n",
    "    else:\n",
    "        g = group_col\n",
    "    if isinstance(target_col, list) is True:\n",
    "        t = '_'.join(target_col)\n",
    "    else:\n",
    "        t = target_col\n",
    "    if prefix is not None:\n",
    "        return prefix + '_' + g + '_' + t\n",
    "    return g + '_' + t\n",
    "    \n",
    "def groupby_helper(df, group_col, target_col, agg_method, prefix_param=None):\n",
    "    try:\n",
    "        prefix = get_prefix(group_col, target_col, prefix_param)\n",
    "        print(group_col, target_col, agg_method)\n",
    "        group_df = df.groupby(group_col)[target_col].agg(agg_method)\n",
    "        group_df.columns = ['{}_{}'.format(prefix, m) for m in agg_method]\n",
    "    except BaseException as e:\n",
    "        print(e)\n",
    "    return group_df.reset_index()"
   ]
  },
  {
   "cell_type": "code",
   "execution_count": 3,
   "metadata": {},
   "outputs": [],
   "source": [
    "def create_new_columns(name,aggs):\n",
    "    return [name + '_' + k + '_' + agg for k in aggs.keys() for agg in aggs[k]]"
   ]
  },
  {
   "cell_type": "code",
   "execution_count": 4,
   "metadata": {},
   "outputs": [],
   "source": [
    "historical_trans_df = pd.read_csv('input/historical_transactions.csv')\n",
    "new_merchant_trans_df = pd.read_csv('input/new_merchant_transactions.csv')\n",
    "merchant_df = pd.read_csv('input/merchants.csv')\n",
    "train_df = pd.read_csv('input/train.csv')\n",
    "test_df = pd.read_csv('input/test.csv')"
   ]
  },
  {
   "cell_type": "code",
   "execution_count": 5,
   "metadata": {},
   "outputs": [],
   "source": [
    "def get_hist_default_prorcessing(df):\n",
    "    df['purchase_date'] = pd.to_datetime(df['purchase_date'])\n",
    "    df['year'] = df['purchase_date'].dt.year\n",
    "    df['weekofyear'] = df['purchase_date'].dt.weekofyear\n",
    "    df['month'] = df['purchase_date'].dt.month\n",
    "    df['dayofweek'] = df['purchase_date'].dt.dayofweek\n",
    "    df['weekend'] = (df.purchase_date.dt.weekday >=5).astype(int)\n",
    "    df['hour'] = df['purchase_date'].dt.hour\n",
    "    df['authorized_flag'] = df['authorized_flag'].map({'Y':1, 'N':0})\n",
    "    df['category_1'] = df['category_1'].map({'Y':1, 'N':0}) \n",
    "    df['category_3'] = df['category_3'].map({'A':0, 'B':1, 'C':2}) \n",
    "    df['month_diff'] = ((datetime(2012,4,1) - df['purchase_date']).dt.days)//30\n",
    "    df['month_diff'] += df['month_lag']\n",
    "    df['reference_date'] = (df['year']+(df['month'] - df['month_lag'])//12)*100 + (((df['month'] - df['month_lag'])%12) + 1)*1\n",
    "    return df"
   ]
  },
  {
   "cell_type": "code",
   "execution_count": 6,
   "metadata": {},
   "outputs": [],
   "source": [
    "historical_trans_df = get_hist_default_prorcessing(historical_trans_df)\n",
    "new_merchant_trans_df = get_hist_default_prorcessing(new_merchant_trans_df)"
   ]
  },
  {
   "cell_type": "code",
   "execution_count": 7,
   "metadata": {},
   "outputs": [],
   "source": [
    "historical_trans_df = historical_trans_df.sort_values('purchase_date')\n",
    "new_merchant_trans_df = new_merchant_trans_df.sort_values('purchase_date')"
   ]
  },
  {
   "cell_type": "code",
   "execution_count": 8,
   "metadata": {},
   "outputs": [],
   "source": [
    "historical_trans_df.loc[historical_trans_df['installments']==999,'installments_999'] = 1\n",
    "new_merchant_trans_df.loc[new_merchant_trans_df['installments']==999,'installments_999'] = 1\n",
    "\n",
    "historical_trans_df.loc[historical_trans_df['installments']==999,'installments'] = -1\n",
    "new_merchant_trans_df.loc[new_merchant_trans_df['installments']==999,'installments_999'] = -1"
   ]
  },
  {
   "cell_type": "markdown",
   "metadata": {},
   "source": [
    "### Feature Engineering"
   ]
  },
  {
   "cell_type": "code",
   "execution_count": 9,
   "metadata": {},
   "outputs": [],
   "source": [
    "all_df = pd.concat([train_df,test_df])"
   ]
  },
  {
   "cell_type": "code",
   "execution_count": 10,
   "metadata": {},
   "outputs": [
    {
     "name": "stdout",
     "output_type": "stream",
     "text": [
      "['card_id', 'month_lag'] purchase_amount ['count', 'mean']\n",
      "['card_id'] card_id_month_lag_purchase_amount_count ['sum', 'mean', 'std']\n",
      "['card_id'] card_id_month_lag_purchase_amount_mean ['sum', 'mean', 'std']\n"
     ]
    }
   ],
   "source": [
    "group_df = groupby_helper(historical_trans_df,['card_id','month_lag'], 'purchase_amount',['count','mean'])\n",
    "group_df['card_id_month_lag_purchase_amount_count'] = group_df['card_id_month_lag_purchase_amount_count']/(1-group_df['month_lag'])\n",
    "group_df['card_id_month_lag_purchase_amount_mean'] = group_df['card_id_month_lag_purchase_amount_mean']/(1-group_df['month_lag'])\n",
    "del group_df['month_lag']\n",
    "\n",
    "count_df = groupby_helper(group_df,['card_id'], 'card_id_month_lag_purchase_amount_count',['sum','mean','std'])\n",
    "mean_df = groupby_helper(group_df,['card_id'], 'card_id_month_lag_purchase_amount_mean',['sum','mean','std'])\n",
    "\n",
    "all_df = all_df.merge(count_df, on=['card_id'], how='left')\n",
    "all_df = all_df.merge(mean_df, on=['card_id'], how='left')"
   ]
  },
  {
   "cell_type": "code",
   "execution_count": 11,
   "metadata": {},
   "outputs": [
    {
     "name": "stdout",
     "output_type": "stream",
     "text": [
      "['card_id'] month ['nunique', 'max', 'min', 'mean', 'std']\n"
     ]
    }
   ],
   "source": [
    "group_df = groupby_helper(historical_trans_df,['card_id'], 'month',['nunique','max','min','mean','std'])\n",
    "all_df = all_df.merge(group_df, on=['card_id'], how='left')"
   ]
  },
  {
   "cell_type": "code",
   "execution_count": 12,
   "metadata": {},
   "outputs": [
    {
     "name": "stdout",
     "output_type": "stream",
     "text": [
      "['card_id'] merchant_id ['nunique']\n",
      "['card_id'] merchant_category_id ['nunique']\n",
      "['card_id'] subsector_id ['nunique']\n",
      "['card_id'] state_id ['nunique']\n",
      "['card_id'] city_id ['nunique']\n"
     ]
    }
   ],
   "source": [
    "group_df = groupby_helper(historical_trans_df,['card_id'], 'merchant_id',['nunique'])\n",
    "all_df = all_df.merge(group_df, on=['card_id'], how='left')\n",
    "\n",
    "group_df = groupby_helper(historical_trans_df,['card_id'], 'merchant_category_id',['nunique'])\n",
    "all_df = all_df.merge(group_df, on=['card_id'], how='left')\n",
    "\n",
    "group_df = groupby_helper(historical_trans_df,['card_id'], 'subsector_id',['nunique'])\n",
    "all_df = all_df.merge(group_df, on=['card_id'], how='left')\n",
    "\n",
    "group_df = groupby_helper(historical_trans_df,['card_id'], 'state_id',['nunique'])\n",
    "all_df = all_df.merge(group_df, on=['card_id'], how='left')\n",
    "\n",
    "group_df = groupby_helper(historical_trans_df,['card_id'], 'city_id',['nunique'])\n",
    "all_df = all_df.merge(group_df, on=['card_id'], how='left')"
   ]
  },
  {
   "cell_type": "code",
   "execution_count": 13,
   "metadata": {},
   "outputs": [],
   "source": [
    "aggs = {}\n",
    "\n",
    "for col in ['hour', 'weekofyear', 'dayofweek', 'year']:\n",
    "    aggs[col] = ['nunique', 'mean', 'min', 'max']\n",
    "    \n",
    "aggs['purchase_amount'] = ['sum','max','min','mean','var']\n",
    "aggs['installments'] = ['sum','max','min','mean','var']\n",
    "aggs['purchase_date'] = ['max','min']\n",
    "aggs['month_lag'] = ['max','min','mean','var']\n",
    "aggs['month_diff'] = ['mean', 'max', 'min', 'var']\n",
    "aggs['weekend'] = ['sum', 'mean', 'min', 'max']\n",
    "aggs['category_1'] = ['sum', 'mean', 'min', 'max']\n",
    "aggs['authorized_flag'] = ['sum', 'mean', 'min', 'max']\n",
    "#aggs['category_2'] = ['sum', 'mean', 'min', 'max']\n",
    "#aggs['category_3'] = ['sum', 'mean', 'min', 'max']\n",
    "aggs['card_id'] = ['size']\n",
    "aggs['reference_date'] = ['median']"
   ]
  },
  {
   "cell_type": "code",
   "execution_count": 14,
   "metadata": {},
   "outputs": [],
   "source": [
    "new_columns = create_new_columns('hist',aggs)\n",
    "historical_trans_group_df = historical_trans_df.groupby('card_id').agg(aggs)\n",
    "historical_trans_group_df.columns = new_columns\n",
    "historical_trans_group_df.reset_index(drop=False,inplace=True)\n",
    "historical_trans_group_df['hist_purchase_date_diff'] = (historical_trans_group_df['hist_purchase_date_max'] - historical_trans_group_df['hist_purchase_date_min']).dt.days\n",
    "historical_trans_group_df['hist_purchase_date_average'] = historical_trans_group_df['hist_purchase_date_diff']/historical_trans_group_df['hist_card_id_size']\n",
    "historical_trans_group_df['hist_purchase_date_uptonow'] = (datetime(2012,4,1) - historical_trans_group_df['hist_purchase_date_max']).dt.days\n",
    "historical_trans_group_df['hist_purchase_date_uptomin'] = (datetime(2012,4,1) - historical_trans_group_df['hist_purchase_date_min']).dt.days\n",
    "all_df = all_df.merge(historical_trans_group_df, on=['card_id'], how='left')"
   ]
  },
  {
   "cell_type": "code",
   "execution_count": 15,
   "metadata": {},
   "outputs": [],
   "source": [
    "def get_train_default_prorcessing(df):\n",
    "    df['first_active_month'] = pd.to_datetime(df['first_active_month'])\n",
    "    df['dayofweek'] = df['first_active_month'].dt.dayofweek\n",
    "    df['weekofyear'] = df['first_active_month'].dt.weekofyear\n",
    "    df['dayofyear'] = df['first_active_month'].dt.dayofyear\n",
    "    df['quarter'] = df['first_active_month'].dt.quarter\n",
    "    #df['is_month_start'] = df['first_active_month'].dt.is_month_start\n",
    "    df['month'] = df['first_active_month'].dt.month\n",
    "    df['year'] = df['first_active_month'].dt.year\n",
    "    \n",
    "    #df['elapsed_time'] = (datetime(2018, 2, 1).date() - df['first_active_month'].dt.date).dt.days\n",
    "    df['elapsed_time'] = (datetime(2019,1, 20) - df['first_active_month']).dt.days\n",
    "    #df['after_big_event'] = (datetime(2012,4, 1) - df['first_active_month']).dt.days\n",
    "    df['hist_first_buy'] = (df['hist_purchase_date_min'] - df['first_active_month']).dt.days\n",
    "    df['hist_last_buy'] = (df['hist_purchase_date_max'] - df['first_active_month']).dt.days\n",
    "    \n",
    "    df['year_month'] = df['year']*100 + df['month']\n",
    "    df['hist_diff_reference_date_first'] = 12*(df['hist_reference_date_median']//100 - df['year_month']//100) + (df['hist_reference_date_median']%100 - df['year_month']%100)\n",
    "    df['hist_diff_reference_date_last'] = 12*(df['hist_purchase_date_max'].dt.year - df['year_month']//100) + (df['hist_purchase_date_max'].dt.month - df['year_month']%100)\n",
    "\n",
    "    df['hist_diff_first_last'] = df['hist_diff_reference_date_first'] - df['hist_diff_reference_date_last']   \n",
    "    \n",
    "    df['hist_flag_ratio'] = df['hist_authorized_flag_sum'] / df['hist_card_id_size']\n",
    "    #df['new_flag_ratio'] = df['new_hist_authorized_flag_sum'] / df['new_hist_card_id_size']\n",
    "    #df['new_hist_flag_ratio'] = 1/(1+df['hist_flag_ratio'])\n",
    "    \n",
    "    for f in ['hist_purchase_date_max','hist_purchase_date_min']:\n",
    "        df[f] = df[f].astype(np.int64) * 1e-9   \n",
    "\n",
    "    df['hist_CLV'] = df['hist_card_id_size'] * df['hist_purchase_amount_sum'] / df['hist_month_diff_mean']\n",
    "    \n",
    "    del df['year']\n",
    "    del df['year_month']\n",
    "    return df"
   ]
  },
  {
   "cell_type": "code",
   "execution_count": 16,
   "metadata": {},
   "outputs": [],
   "source": [
    "all_df = get_train_default_prorcessing(all_df)"
   ]
  },
  {
   "cell_type": "code",
   "execution_count": 17,
   "metadata": {},
   "outputs": [],
   "source": [
    "all_df['feature123'] = all_df['feature_1'].astype(str) +'_'+all_df['feature_2'].astype(str)+'_'+all_df['feature_3'].astype(str)\n",
    "all_df['feature123'] = pd.factorize(all_df['feature123'])[0]"
   ]
  },
  {
   "cell_type": "code",
   "execution_count": 18,
   "metadata": {},
   "outputs": [
    {
     "name": "stdout",
     "output_type": "stream",
     "text": [
      "['card_id', 'month_lag'] subsector_id ['nunique']\n",
      "['card_id'] card_id_month_lag_subsector_id_nunique ['sum', 'mean', 'std']\n"
     ]
    }
   ],
   "source": [
    "group_df = groupby_helper(historical_trans_df,['card_id','month_lag'], 'subsector_id',['nunique'])\n",
    "group_df['card_id_month_lag_subsector_id_nunique'] = group_df['card_id_month_lag_subsector_id_nunique']/(1-group_df['month_lag'])\n",
    "del group_df['month_lag']\n",
    "\n",
    "count_df = groupby_helper(group_df,['card_id'], 'card_id_month_lag_subsector_id_nunique',['sum','mean','std'])\n",
    "\n",
    "all_df = all_df.merge(count_df, on=['card_id'], how='left')"
   ]
  },
  {
   "cell_type": "code",
   "execution_count": 19,
   "metadata": {},
   "outputs": [
    {
     "name": "stdout",
     "output_type": "stream",
     "text": [
      "card_id is_smaller_firstactive ['sum']\n",
      "card_id card_id ['size']\n"
     ]
    }
   ],
   "source": [
    "historical_trans_df =historical_trans_df.merge(all_df[['card_id','first_active_month','target','feature123']], on='card_id',how='left')\n",
    "historical_trans_df['ym'] = historical_trans_df['purchase_date'].dt.year*100 + historical_trans_df['purchase_date'].dt.month\n",
    "historical_trans_df['first_active_month_ym'] = historical_trans_df['first_active_month'].dt.year*100 + historical_trans_df['first_active_month'].dt.month\n",
    "historical_trans_df['is_smaller_firstactive'] = 0\n",
    "historical_trans_df.loc[historical_trans_df['ym']<=historical_trans_df['first_active_month_ym'],'is_smaller_firstactive'] = 1\n",
    "group_df = groupby_helper(historical_trans_df,'card_id', 'is_smaller_firstactive',['sum'])\n",
    "temp = groupby_helper(historical_trans_df,'card_id', 'card_id',['size'])\n",
    "group_df = group_df.merge(temp, on='card_id', how='left')\n",
    "group_df['before_firstactive_purchase_ratio']=group_df['card_id_is_smaller_firstactive_sum'] /group_df['card_id_card_id_size']\n",
    "all_df = all_df.merge(group_df[['card_id','before_firstactive_purchase_ratio']], on=['card_id'], how='left')"
   ]
  },
  {
   "cell_type": "code",
   "execution_count": 20,
   "metadata": {},
   "outputs": [],
   "source": [
    "all_df['feature123_frequency_encoding']= all_df['feature123'].map(all_df['feature123'].value_counts()/all_df.shape[0])"
   ]
  },
  {
   "cell_type": "markdown",
   "metadata": {},
   "source": [
    "마지막 1달, 마지막 3달, 마지막 6달 masking"
   ]
  },
  {
   "cell_type": "code",
   "execution_count": 21,
   "metadata": {},
   "outputs": [
    {
     "name": "stdout",
     "output_type": "stream",
     "text": [
      "['card_id'] month_lag ['min']\n"
     ]
    }
   ],
   "source": [
    "group_df = groupby_helper(historical_trans_df,['card_id'], 'month_lag',['min'])\n",
    "historical_trans_df = historical_trans_df.merge(group_df, on='card_id', how='left')"
   ]
  },
  {
   "cell_type": "code",
   "execution_count": 22,
   "metadata": {},
   "outputs": [],
   "source": [
    "group_df = historical_trans_df.groupby(['card_id'])['month_lag'].unique().reset_index()\n",
    "group_df['month_lag_last'] = group_df['month_lag'].apply(lambda x: x[-1])\n",
    "group_df['month_lag_last3month'] =group_df['month_lag'].apply(lambda x: x[-3:])\n",
    "group_df['month_lag_last3month'] = group_df['month_lag_last3month'].apply(lambda x: x[0])\n",
    "group_df['month_lag_last6month'] =group_df['month_lag'].apply(lambda x: x[-6:])\n",
    "group_df['month_lag_last6month'] = group_df['month_lag_last6month'].apply(lambda x: x[0])\n",
    "historical_trans_df = historical_trans_df.merge(group_df, on='card_id', how='left')\n",
    "del historical_trans_df['month_lag_y']\n",
    "historical_trans_df.rename(columns={'month_lag_x':'month_lag'},inplace=True)"
   ]
  },
  {
   "cell_type": "code",
   "execution_count": 23,
   "metadata": {},
   "outputs": [],
   "source": [
    "last_month = historical_trans_df.loc[historical_trans_df['month_lag']==historical_trans_df['month_lag_last']]\n",
    "last_3month = historical_trans_df.loc[historical_trans_df['month_lag']>=historical_trans_df['month_lag_last3month']]\n",
    "last_6month = historical_trans_df.loc[historical_trans_df['month_lag']>=historical_trans_df['month_lag_last6month']]"
   ]
  },
  {
   "cell_type": "code",
   "execution_count": 24,
   "metadata": {},
   "outputs": [
    {
     "name": "stdout",
     "output_type": "stream",
     "text": [
      "['card_id'] merchant_id ['nunique']\n",
      "['card_id'] subsector_id ['nunique']\n",
      "['card_id'] city_id ['nunique']\n"
     ]
    }
   ],
   "source": [
    "group_df = groupby_helper(last_month,['card_id'], 'merchant_id',['nunique'],'last_month')\n",
    "all_df = all_df.merge(group_df, on=['card_id'], how='left')\n",
    "\n",
    "group_df = groupby_helper(last_month,['card_id'], 'subsector_id',['nunique'],'last_month')\n",
    "all_df = all_df.merge(group_df, on=['card_id'], how='left')\n",
    "\n",
    "group_df = groupby_helper(last_month,['card_id'], 'city_id',['nunique'],'last_month')\n",
    "all_df = all_df.merge(group_df, on=['card_id'], how='left')"
   ]
  },
  {
   "cell_type": "code",
   "execution_count": 25,
   "metadata": {
    "scrolled": true
   },
   "outputs": [
    {
     "name": "stdout",
     "output_type": "stream",
     "text": [
      "['card_id'] card_id ['size']\n",
      "['card_id'] purchase_amount ['sum', 'min', 'mean', 'max', 'std']\n"
     ]
    }
   ],
   "source": [
    "group_df = groupby_helper(last_month,['card_id'], 'card_id',['size'],'last_month')\n",
    "all_df = all_df.merge(group_df, on=['card_id'], how='left')\n",
    "\n",
    "group_df = groupby_helper(last_month,['card_id'], 'purchase_amount',['sum','min','mean','max','std'],'last_month')\n",
    "all_df = all_df.merge(group_df, on=['card_id'], how='left')"
   ]
  },
  {
   "cell_type": "code",
   "execution_count": 26,
   "metadata": {},
   "outputs": [
    {
     "name": "stdout",
     "output_type": "stream",
     "text": [
      "['card_id'] card_id ['size']\n",
      "['card_id'] card_id ['size']\n"
     ]
    }
   ],
   "source": [
    "group_df = groupby_helper(last_3month,['card_id'], 'card_id',['size'],'last_3month')\n",
    "all_df = all_df.merge(group_df, on=['card_id'], how='left')\n",
    "group_df = groupby_helper(last_6month,['card_id'], 'card_id',['size'],'last_6month')\n",
    "all_df = all_df.merge(group_df, on=['card_id'], how='left')"
   ]
  },
  {
   "cell_type": "code",
   "execution_count": 27,
   "metadata": {},
   "outputs": [],
   "source": [
    "historical_trans_df_merchant = historical_trans_df.merge(merchant_df[['merchant_id', 'merchant_group_id','numerical_1', 'numerical_2',\n",
    "       'most_recent_sales_range', 'most_recent_purchases_range',\n",
    "       'avg_sales_lag3', 'avg_purchases_lag3', 'active_months_lag3',\n",
    "       'avg_sales_lag6', 'avg_purchases_lag6', 'active_months_lag6',\n",
    "       'avg_sales_lag12', 'avg_purchases_lag12', 'active_months_lag12',\n",
    "       'category_4']], on='merchant_id', how='left')"
   ]
  },
  {
   "cell_type": "code",
   "execution_count": 28,
   "metadata": {},
   "outputs": [],
   "source": [
    "historical_trans_df_merchant['most_sales_purchases_range'] = historical_trans_df_merchant['most_recent_sales_range'] +historical_trans_df_merchant['most_recent_purchases_range']"
   ]
  },
  {
   "cell_type": "code",
   "execution_count": 29,
   "metadata": {},
   "outputs": [],
   "source": [
    "historical_trans_df_merchant['avg_lag3_aov'] = historical_trans_df_merchant['avg_sales_lag3']/historical_trans_df_merchant['avg_purchases_lag3']\n",
    "historical_trans_df_merchant['avg_lag3_conv'] = historical_trans_df_merchant['avg_purchases_lag3']/historical_trans_df_merchant['active_months_lag3']\n",
    "historical_trans_df_merchant['avg_lag3_rps'] = historical_trans_df_merchant['avg_sales_lag3']/historical_trans_df_merchant['active_months_lag3']\n",
    "historical_trans_df_merchant['avg_lag6_aov'] = historical_trans_df_merchant['avg_sales_lag6']/historical_trans_df_merchant['avg_purchases_lag6']\n",
    "historical_trans_df_merchant['avg_lag6_conv'] = historical_trans_df_merchant['avg_purchases_lag6']/historical_trans_df_merchant['active_months_lag6']\n",
    "historical_trans_df_merchant['avg_lag6_rps'] = historical_trans_df_merchant['avg_sales_lag6']/historical_trans_df_merchant['active_months_lag6']\n",
    "historical_trans_df_merchant['avg_lag12_aov'] = historical_trans_df_merchant['avg_sales_lag12']/historical_trans_df_merchant['avg_purchases_lag12']\n",
    "historical_trans_df_merchant['avg_lag12_conv'] = historical_trans_df_merchant['avg_purchases_lag12']/historical_trans_df_merchant['active_months_lag12']\n",
    "historical_trans_df_merchant['avg_lag12_rps'] = historical_trans_df_merchant['avg_sales_lag12']/historical_trans_df_merchant['active_months_lag12']"
   ]
  },
  {
   "cell_type": "code",
   "execution_count": 30,
   "metadata": {},
   "outputs": [
    {
     "name": "stdout",
     "output_type": "stream",
     "text": [
      "['card_id'] avg_lag3_rps ['min', 'max', 'sum', 'mean', 'std']\n"
     ]
    }
   ],
   "source": [
    "group_df = groupby_helper(historical_trans_df_merchant,['card_id'], 'avg_lag3_rps',['min','max','sum','mean','std'])\n",
    "all_df = all_df.merge(group_df, on=['card_id'], how='left')"
   ]
  },
  {
   "cell_type": "code",
   "execution_count": 31,
   "metadata": {},
   "outputs": [
    {
     "data": {
      "text/plain": [
       "Index(['authorized_flag', 'card_id', 'city_id', 'category_1', 'installments',\n",
       "       'category_3', 'merchant_category_id', 'merchant_id', 'month_lag',\n",
       "       'purchase_amount', 'purchase_date', 'category_2', 'state_id',\n",
       "       'subsector_id', 'year', 'weekofyear', 'month', 'dayofweek', 'weekend',\n",
       "       'hour', 'month_diff', 'reference_date', 'installments_999',\n",
       "       'first_active_month', 'target', 'feature123', 'ym',\n",
       "       'first_active_month_ym', 'is_smaller_firstactive',\n",
       "       'card_id_month_lag_min', 'month_lag_last', 'month_lag_last3month',\n",
       "       'month_lag_last6month', 'merchant_group_id', 'numerical_1',\n",
       "       'numerical_2', 'most_recent_sales_range', 'most_recent_purchases_range',\n",
       "       'avg_sales_lag3', 'avg_purchases_lag3', 'active_months_lag3',\n",
       "       'avg_sales_lag6', 'avg_purchases_lag6', 'active_months_lag6',\n",
       "       'avg_sales_lag12', 'avg_purchases_lag12', 'active_months_lag12',\n",
       "       'category_4', 'most_sales_purchases_range', 'avg_lag3_aov',\n",
       "       'avg_lag3_conv', 'avg_lag3_rps', 'avg_lag6_aov', 'avg_lag6_conv',\n",
       "       'avg_lag6_rps', 'avg_lag12_aov', 'avg_lag12_conv', 'avg_lag12_rps'],\n",
       "      dtype='object')"
      ]
     },
     "execution_count": 31,
     "metadata": {},
     "output_type": "execute_result"
    }
   ],
   "source": [
    "historical_trans_df_merchant.columns"
   ]
  },
  {
   "cell_type": "code",
   "execution_count": 32,
   "metadata": {},
   "outputs": [],
   "source": [
    "historical_trans_df_merchant['category_4'] = historical_trans_df_merchant['category_4'].map({'Y':1,'N':0})"
   ]
  },
  {
   "cell_type": "code",
   "execution_count": 33,
   "metadata": {
    "scrolled": true
   },
   "outputs": [
    {
     "name": "stdout",
     "output_type": "stream",
     "text": [
      "['card_id'] category_4 ['sum', 'mean']\n"
     ]
    }
   ],
   "source": [
    "group_df = groupby_helper(historical_trans_df_merchant,['card_id'], 'category_4',['sum','mean'])\n",
    "all_df = all_df.merge(group_df, on=['card_id'], how='left')"
   ]
  },
  {
   "cell_type": "code",
   "execution_count": 34,
   "metadata": {
    "scrolled": true
   },
   "outputs": [
    {
     "name": "stdout",
     "output_type": "stream",
     "text": [
      "['card_id'] category_4 ['sum', 'mean']\n"
     ]
    }
   ],
   "source": [
    "group_df = groupby_helper(historical_trans_df_merchant.loc[historical_trans_df_merchant['month_lag']==historical_trans_df_merchant['month_lag_last']],['card_id'], 'category_4',['sum','mean'],'last_month')\n",
    "all_df = all_df.merge(group_df, on=['card_id'], how='left')"
   ]
  },
  {
   "cell_type": "markdown",
   "metadata": {},
   "source": [
    "### 실패 피쳐"
   ]
  },
  {
   "cell_type": "code",
   "execution_count": 121,
   "metadata": {
    "scrolled": true
   },
   "outputs": [
    {
     "name": "stdout",
     "output_type": "stream",
     "text": [
      "['card_id'] merchant_id ['nunique']\n",
      "['card_id'] subsector_id ['nunique']\n",
      "['card_id'] city_id ['nunique']\n"
     ]
    }
   ],
   "source": [
    "last_month_auth1 = last_month.loc[last_month['authorized_flag']==1]\n",
    "group_df = groupby_helper(last_month_auth1,['card_id'], 'merchant_id',['nunique'],'last_month_auth1')\n",
    "all_df = all_df.merge(group_df, on=['card_id'], how='left')\n",
    "\n",
    "group_df = groupby_helper(last_month_auth1,['card_id'], 'subsector_id',['nunique'],'last_month_auth1')\n",
    "all_df = all_df.merge(group_df, on=['card_id'], how='left')\n",
    "\n",
    "group_df = groupby_helper(last_month_auth1,['card_id'], 'city_id',['nunique'],'last_month_auth1')\n",
    "all_df = all_df.merge(group_df, on=['card_id'], how='left')"
   ]
  },
  {
   "cell_type": "code",
   "execution_count": 97,
   "metadata": {},
   "outputs": [
    {
     "name": "stdout",
     "output_type": "stream",
     "text": [
      "['card_id'] city_id ['nunique']\n"
     ]
    }
   ],
   "source": [
    "group_df = groupby_helper(last_3month,['card_id'], 'city_id',['nunique'],'last_3month')\n",
    "all_df = all_df.merge(group_df, on=['card_id'], how='left')"
   ]
  },
  {
   "cell_type": "code",
   "execution_count": 102,
   "metadata": {},
   "outputs": [
    {
     "name": "stdout",
     "output_type": "stream",
     "text": [
      "['card_id'] merchant_id ['nunique']\n"
     ]
    }
   ],
   "source": [
    "group_df = groupby_helper(last_6month,['card_id'], 'merchant_id',['nunique'],'last_6month')\n",
    "all_df = all_df.merge(group_df, on=['card_id'], how='left')"
   ]
  },
  {
   "cell_type": "code",
   "execution_count": 80,
   "metadata": {
    "scrolled": true
   },
   "outputs": [],
   "source": [
    "group_df = groupby_helper(historical_trans_df,['card_id','ym'], 'merchant_id',['nunique'])\n",
    "group_df_pivot = group_df.pivot('card_id','ym','card_id_ym_merchant_id_nunique').reset_index()\n",
    "group_df_pivot.columns = ['card_id'] + ['ym_{}_card_id_ym_merchant_id_nunique'.format(m) for m in [201701,    201702,    201703,    201704,    201705,\n",
    "          201706,    201707,    201708,    201709,    201710,    201711,\n",
    "          201712,    201801,    201802]]\n",
    "all_df = all_df.merge(group_df_pivot, on=['card_id'], how='left')"
   ]
  },
  {
   "cell_type": "code",
   "execution_count": null,
   "metadata": {},
   "outputs": [
    {
     "name": "stdout",
     "output_type": "stream",
     "text": [
      "['card_id', 'month_lag'] merchant_id ['nunique']\n"
     ]
    }
   ],
   "source": [
    "group_df = groupby_helper(historical_trans_df,['card_id','month_lag'], 'merchant_id',['nunique'])\n",
    "group_df['card_id_month_lag_merchant_id_nunique'] = group_df['card_id_month_lag_merchant_id_nunique']/(1-group_df['month_lag'])\n",
    "del group_df['month_lag']\n",
    "\n",
    "count_df = groupby_helper(group_df,['card_id'], 'card_id_month_lag_merchant_id_nunique',['sum','mean','std'])\n",
    "\n",
    "all_df = all_df.merge(count_df, on=['card_id'], how='left')"
   ]
  },
  {
   "cell_type": "code",
   "execution_count": 45,
   "metadata": {},
   "outputs": [
    {
     "name": "stdout",
     "output_type": "stream",
     "text": [
      "card_id subsector_id ['nunique']\n"
     ]
    }
   ],
   "source": [
    "group_df_mode = pd.read_csv('input/subsector_id_mode.csv')\n",
    "group_df = groupby_helper(group_df_mode.reset_index(),'card_id', 'subsector_id',['nunique'],'mode')\n",
    "all_df = all_df.merge(group_df, on=['card_id'], how='left')"
   ]
  },
  {
   "cell_type": "code",
   "execution_count": 46,
   "metadata": {},
   "outputs": [
    {
     "name": "stdout",
     "output_type": "stream",
     "text": [
      "card_id merchant_category_id ['nunique']\n"
     ]
    }
   ],
   "source": [
    "group_df_mode_mci = pd.read_csv('input/merchant_category_id_mode.csv')\n",
    "group_df = groupby_helper(group_df_mode_mci.reset_index(),'card_id', 'merchant_category_id',['nunique'],'mode')\n",
    "all_df = all_df.merge(group_df, on=['card_id'], how='left')"
   ]
  },
  {
   "cell_type": "markdown",
   "metadata": {},
   "source": [
    "### Modeling"
   ]
  },
  {
   "cell_type": "markdown",
   "metadata": {},
   "source": [
    "target value 생성"
   ]
  },
  {
   "cell_type": "code",
   "execution_count": 221,
   "metadata": {},
   "outputs": [
    {
     "name": "stdout",
     "output_type": "stream",
     "text": [
      "['card_id'] purchase_date ['max']\n"
     ]
    }
   ],
   "source": [
    "group_df = groupby_helper(new_merchant_trans_df,['card_id'], 'purchase_date',['max'],'new_hist')\n",
    "group_df['new_hist_card_id_purchase_date_max'] = np.sqrt(group_df['new_hist_card_id_purchase_date_max'].astype(np.int64) * 1e-9)\n",
    "all_df = all_df.merge(group_df, on=['card_id'], how='left')"
   ]
  },
  {
   "cell_type": "code",
   "execution_count": 289,
   "metadata": {},
   "outputs": [
    {
     "name": "stdout",
     "output_type": "stream",
     "text": [
      "['card_id'] purchase_date ['min']\n"
     ]
    }
   ],
   "source": [
    "group_df = groupby_helper(new_merchant_trans_df,['card_id'], 'purchase_date',['min'],'new_hist')\n",
    "group_df['new_hist_card_id_purchase_date_min'] = np.sqrt(group_df['new_hist_card_id_purchase_date_min'].astype(np.int64) * 1e-9)\n",
    "all_df = all_df.merge(group_df, on=['card_id'], how='left')"
   ]
  },
  {
   "cell_type": "code",
   "execution_count": 35,
   "metadata": {},
   "outputs": [
    {
     "name": "stdout",
     "output_type": "stream",
     "text": [
      "['card_id'] card_id ['size']\n"
     ]
    }
   ],
   "source": [
    "group_df = groupby_helper(new_merchant_trans_df,['card_id'], 'card_id',['size'],'new_hist')\n",
    "all_df = all_df.merge(group_df, on=['card_id'], how='left')"
   ]
  },
  {
   "cell_type": "code",
   "execution_count": 45,
   "metadata": {},
   "outputs": [
    {
     "name": "stdout",
     "output_type": "stream",
     "text": [
      "['card_id'] weekofyear ['mean']\n"
     ]
    }
   ],
   "source": [
    "group_df = groupby_helper(new_merchant_trans_df,['card_id'], 'weekofyear',['mean'],'new_hist')\n",
    "all_df = all_df.merge(group_df, on=['card_id'], how='left')"
   ]
  },
  {
   "cell_type": "code",
   "execution_count": 154,
   "metadata": {},
   "outputs": [
    {
     "name": "stdout",
     "output_type": "stream",
     "text": [
      "card_id_avg_lag6_rps_min\n",
      "card_id_avg_lag6_rps_max\n",
      "card_id_avg_lag6_rps_sum\n",
      "card_id_avg_lag6_rps_mean\n",
      "card_id_avg_lag6_rps_std\n"
     ]
    }
   ],
   "source": [
    "for col in all_df.columns:\n",
    "    if col.find('card_id_avg_lag6_rps') !=-1:\n",
    "        print(col)\n",
    "        del all_df[col]"
   ]
  },
  {
   "cell_type": "code",
   "execution_count": 22,
   "metadata": {},
   "outputs": [
    {
     "name": "stdout",
     "output_type": "stream",
     "text": [
      "hist_year_min\n",
      "hist_authorized_flag_max\n"
     ]
    }
   ],
   "source": [
    "for col in all_df.columns:\n",
    "    if all_df[col].nunique() == 1:\n",
    "        print(col)\n",
    "        del all_df[col]"
   ]
  },
  {
   "cell_type": "markdown",
   "metadata": {},
   "source": [
    "(325540, 104)\n",
    "(290001, 104)\n",
    "(35539, 104)"
   ]
  },
  {
   "cell_type": "code",
   "execution_count": 46,
   "metadata": {},
   "outputs": [
    {
     "name": "stdout",
     "output_type": "stream",
     "text": [
      "(325540, 117)\n",
      "(290001, 117)\n",
      "(35539, 117)\n"
     ]
    },
    {
     "data": {
      "text/plain": [
       "['feature_1',\n",
       " 'feature_2',\n",
       " 'feature_3',\n",
       " 'card_id_card_id_month_lag_purchase_amount_count_sum',\n",
       " 'card_id_card_id_month_lag_purchase_amount_count_mean',\n",
       " 'card_id_card_id_month_lag_purchase_amount_count_std',\n",
       " 'card_id_card_id_month_lag_purchase_amount_mean_sum',\n",
       " 'card_id_card_id_month_lag_purchase_amount_mean_mean',\n",
       " 'card_id_card_id_month_lag_purchase_amount_mean_std',\n",
       " 'card_id_month_nunique',\n",
       " 'card_id_month_max',\n",
       " 'card_id_month_min',\n",
       " 'card_id_month_mean',\n",
       " 'card_id_month_std',\n",
       " 'card_id_merchant_id_nunique',\n",
       " 'card_id_merchant_category_id_nunique',\n",
       " 'card_id_subsector_id_nunique',\n",
       " 'card_id_state_id_nunique',\n",
       " 'card_id_city_id_nunique',\n",
       " 'hist_hour_nunique',\n",
       " 'hist_hour_mean',\n",
       " 'hist_hour_min',\n",
       " 'hist_hour_max',\n",
       " 'hist_weekofyear_nunique',\n",
       " 'hist_weekofyear_mean',\n",
       " 'hist_weekofyear_min',\n",
       " 'hist_weekofyear_max',\n",
       " 'hist_dayofweek_nunique',\n",
       " 'hist_dayofweek_mean',\n",
       " 'hist_dayofweek_min',\n",
       " 'hist_dayofweek_max',\n",
       " 'hist_year_mean',\n",
       " 'hist_purchase_amount_sum',\n",
       " 'hist_purchase_amount_max',\n",
       " 'hist_purchase_amount_min',\n",
       " 'hist_purchase_amount_mean',\n",
       " 'hist_purchase_amount_var',\n",
       " 'hist_installments_sum',\n",
       " 'hist_installments_max',\n",
       " 'hist_installments_min',\n",
       " 'hist_installments_mean',\n",
       " 'hist_installments_var',\n",
       " 'hist_purchase_date_max',\n",
       " 'hist_purchase_date_min',\n",
       " 'hist_month_lag_max',\n",
       " 'hist_month_lag_min',\n",
       " 'hist_month_lag_mean',\n",
       " 'hist_month_lag_var',\n",
       " 'hist_month_diff_mean',\n",
       " 'hist_month_diff_max',\n",
       " 'hist_month_diff_min',\n",
       " 'hist_month_diff_var',\n",
       " 'hist_weekend_sum',\n",
       " 'hist_weekend_mean',\n",
       " 'hist_category_1_sum',\n",
       " 'hist_category_1_mean',\n",
       " 'hist_category_1_min',\n",
       " 'hist_category_1_max',\n",
       " 'hist_authorized_flag_sum',\n",
       " 'hist_authorized_flag_mean',\n",
       " 'hist_authorized_flag_min',\n",
       " 'hist_card_id_size',\n",
       " 'hist_reference_date_median',\n",
       " 'hist_purchase_date_diff',\n",
       " 'hist_purchase_date_average',\n",
       " 'hist_purchase_date_uptonow',\n",
       " 'hist_purchase_date_uptomin',\n",
       " 'dayofweek',\n",
       " 'weekofyear',\n",
       " 'dayofyear',\n",
       " 'quarter',\n",
       " 'month',\n",
       " 'elapsed_time',\n",
       " 'hist_first_buy',\n",
       " 'hist_last_buy',\n",
       " 'hist_diff_reference_date_first',\n",
       " 'hist_diff_reference_date_last',\n",
       " 'hist_diff_first_last',\n",
       " 'hist_flag_ratio',\n",
       " 'hist_CLV',\n",
       " 'feature123',\n",
       " 'card_id_card_id_month_lag_subsector_id_nunique_sum',\n",
       " 'card_id_card_id_month_lag_subsector_id_nunique_mean',\n",
       " 'card_id_card_id_month_lag_subsector_id_nunique_std',\n",
       " 'feature123_frequency_encoding',\n",
       " 'last_month_card_id_merchant_id_nunique',\n",
       " 'last_month_card_id_subsector_id_nunique',\n",
       " 'last_month_card_id_city_id_nunique',\n",
       " 'last_month_card_id_card_id_size',\n",
       " 'last_month_card_id_purchase_amount_sum',\n",
       " 'last_month_card_id_purchase_amount_min',\n",
       " 'last_month_card_id_purchase_amount_mean',\n",
       " 'last_month_card_id_purchase_amount_max',\n",
       " 'last_month_card_id_purchase_amount_std',\n",
       " 'last_3month_card_id_card_id_size',\n",
       " 'last_6month_card_id_card_id_size',\n",
       " 'card_id_avg_lag3_rps_min',\n",
       " 'card_id_avg_lag3_rps_max',\n",
       " 'card_id_avg_lag3_rps_sum',\n",
       " 'card_id_avg_lag3_rps_mean',\n",
       " 'card_id_avg_lag3_rps_std',\n",
       " 'card_id_category_4_sum',\n",
       " 'card_id_category_4_mean',\n",
       " 'last_month_card_id_category_4_sum',\n",
       " 'last_month_card_id_category_4_mean']"
      ]
     },
     "execution_count": 46,
     "metadata": {},
     "output_type": "execute_result"
    }
   ],
   "source": [
    "print(all_df.shape)\n",
    "train_df = all_df.loc[all_df['new_hist_card_id_weekofyear_mean'].notnull()]\n",
    "test_df = all_df.loc[all_df['new_hist_card_id_weekofyear_mean'].isnull()]\n",
    "\n",
    "print(train_df.shape)\n",
    "print(test_df.shape)\n",
    "\n",
    "train_columns = [c for c in train_df.columns if c not in ['card_id','first_active_month','new_hist_card_id_card_id_size','target','outliers'\n",
    "                                                         ,'hist_weekend_max','hist_year_max','before_firstactive_purchase_ratio',\n",
    "                                                          'hist_weekend_min','hist_year_nunique','new_hist_card_id_purchase_date_max',\n",
    "                                                         'new_hist_card_id_purchase_date_min','hist_year_min','hist_authorized_flag_max',\n",
    "                                                         'new_hist_card_id_weekofyear_mean']]\n",
    "\n",
    "train_columns = new_col.copy()\n",
    "train_columns"
   ]
  },
  {
   "cell_type": "code",
   "execution_count": 47,
   "metadata": {
    "scrolled": true
   },
   "outputs": [],
   "source": [
    "train = train_df.copy()\n",
    "target = train['new_hist_card_id_weekofyear_mean']\n",
    "del train['new_hist_card_id_weekofyear_mean']"
   ]
  },
  {
   "cell_type": "code",
   "execution_count": 57,
   "metadata": {
    "scrolled": true
   },
   "outputs": [
    {
     "name": "stdout",
     "output_type": "stream",
     "text": [
      "fold 1\n",
      "Training until validation scores don't improve for 100 rounds.\n",
      "[100]\ttraining's rmse: 3.68335\tvalid_1's rmse: 3.74896\n",
      "[200]\ttraining's rmse: 3.45124\tvalid_1's rmse: 3.54097\n",
      "[300]\ttraining's rmse: 3.4037\tvalid_1's rmse: 3.54093\n",
      "Early stopping, best iteration is:\n",
      "[222]\ttraining's rmse: 3.43956\tvalid_1's rmse: 3.53858\n",
      "fold 2\n",
      "Training until validation scores don't improve for 100 rounds.\n",
      "[100]\ttraining's rmse: 3.68754\tvalid_1's rmse: 3.70652\n",
      "[200]\ttraining's rmse: 3.45701\tvalid_1's rmse: 3.51551\n",
      "[300]\ttraining's rmse: 3.40965\tvalid_1's rmse: 3.51808\n",
      "Early stopping, best iteration is:\n",
      "[218]\ttraining's rmse: 3.44572\tvalid_1's rmse: 3.51429\n",
      "fold 3\n",
      "Training until validation scores don't improve for 100 rounds.\n",
      "[100]\ttraining's rmse: 3.68981\tvalid_1's rmse: 3.70091\n",
      "[200]\ttraining's rmse: 3.46194\tvalid_1's rmse: 3.48914\n",
      "[300]\ttraining's rmse: 3.41103\tvalid_1's rmse: 3.48847\n",
      "Early stopping, best iteration is:\n",
      "[223]\ttraining's rmse: 3.44819\tvalid_1's rmse: 3.48767\n",
      "fold 4\n",
      "Training until validation scores don't improve for 100 rounds.\n",
      "[100]\ttraining's rmse: 3.67693\tvalid_1's rmse: 3.796\n",
      "[200]\ttraining's rmse: 3.44776\tvalid_1's rmse: 3.59283\n",
      "[300]\ttraining's rmse: 3.40499\tvalid_1's rmse: 3.59355\n",
      "Early stopping, best iteration is:\n",
      "[209]\ttraining's rmse: 3.44198\tvalid_1's rmse: 3.59179\n",
      "fold 5\n",
      "Training until validation scores don't improve for 100 rounds.\n",
      "[100]\ttraining's rmse: 3.70176\tvalid_1's rmse: 3.59424\n",
      "[200]\ttraining's rmse: 3.47423\tvalid_1's rmse: 3.39277\n",
      "[300]\ttraining's rmse: 3.42499\tvalid_1's rmse: 3.38944\n",
      "[400]\ttraining's rmse: 3.40378\tvalid_1's rmse: 3.38929\n",
      "Early stopping, best iteration is:\n",
      "[348]\ttraining's rmse: 3.41312\tvalid_1's rmse: 3.3884\n",
      "fold 6\n",
      "Training until validation scores don't improve for 100 rounds.\n",
      "[100]\ttraining's rmse: 3.69616\tvalid_1's rmse: 3.63615\n",
      "[200]\ttraining's rmse: 3.46913\tvalid_1's rmse: 3.42594\n",
      "[300]\ttraining's rmse: 3.42698\tvalid_1's rmse: 3.42814\n",
      "Early stopping, best iteration is:\n",
      "[233]\ttraining's rmse: 3.4527\tvalid_1's rmse: 3.42318\n",
      "fold 7\n",
      "Training until validation scores don't improve for 100 rounds.\n",
      "[100]\ttraining's rmse: 3.68724\tvalid_1's rmse: 3.72556\n",
      "[200]\ttraining's rmse: 3.46038\tvalid_1's rmse: 3.51561\n",
      "[300]\ttraining's rmse: 3.4164\tvalid_1's rmse: 3.51464\n",
      "Early stopping, best iteration is:\n",
      "[243]\ttraining's rmse: 3.43912\tvalid_1's rmse: 3.51139\n",
      "fold 8\n",
      "Training until validation scores don't improve for 100 rounds.\n",
      "[100]\ttraining's rmse: 3.69626\tvalid_1's rmse: 3.65147\n",
      "[200]\ttraining's rmse: 3.47072\tvalid_1's rmse: 3.42707\n",
      "[300]\ttraining's rmse: 3.42764\tvalid_1's rmse: 3.42257\n",
      "Early stopping, best iteration is:\n",
      "[270]\ttraining's rmse: 3.43854\tvalid_1's rmse: 3.42177\n",
      "fold 9\n",
      "Training until validation scores don't improve for 100 rounds.\n",
      "[100]\ttraining's rmse: 3.68155\tvalid_1's rmse: 3.76227\n",
      "[200]\ttraining's rmse: 3.4534\tvalid_1's rmse: 3.55546\n",
      "[300]\ttraining's rmse: 3.41849\tvalid_1's rmse: 3.55296\n",
      "Early stopping, best iteration is:\n",
      "[259]\ttraining's rmse: 3.4279\tvalid_1's rmse: 3.55231\n",
      "1.7888887673089737\n",
      "[1.8051603040704274, 1.7983353710747105, 1.7804212546197151, 1.8278887722173136, 1.7495443144174543, 1.7614941247946243, 1.7933470779587724, 1.7721620017109256, 1.8116451495488108]\n",
      "0.023717473518571668\n"
     ]
    }
   ],
   "source": [
    "param = {'num_leaves': 24,\n",
    "         'min_data_in_leaf': 30, \n",
    "         'objective':'regression',\n",
    "         'max_depth': 5,\n",
    "         'learning_rate': 0.02,\n",
    "         \"min_child_samples\": 50,\n",
    "         \"boosting\": \"gbdt\",\n",
    "         \"feature_fraction\": 0.6,\n",
    "         \"bagging_fraction\": 0.7 ,\n",
    "         \"metric\": 'mae',\n",
    "         \"lambda_l1\": 0.1,\n",
    "         \"verbosity\": -1,\n",
    "         \"nthread\": 24,\n",
    "         \"seed\": 6}\n",
    "\n",
    "#prepare fit model with cross-validation\n",
    "np.random.seed(2019)\n",
    "\n",
    "feature_importance_df = pd.DataFrame()\n",
    "folds = KFold(n_splits=9, shuffle=True, random_state=4950)\n",
    "oof = np.zeros(len(train))\n",
    "predictions = np.zeros(len(test_df))\n",
    "cv_score_list = []\n",
    "for fold_, (trn_idx, val_idx) in enumerate(folds.split(train)):\n",
    "    strLog = \"fold {}\".format(fold_+1)\n",
    "    print(strLog)\n",
    "    trn_data = lgb.Dataset(train.iloc[trn_idx][train_columns], label=target.iloc[trn_idx])#, categorical_feature=categorical_feats)\n",
    "    val_data = lgb.Dataset(train.iloc[val_idx][train_columns], label=target.iloc[val_idx])#, categorical_feature=categorical_feats)\n",
    "\n",
    "    num_round = 10000\n",
    "    clf = lgb.train(param, trn_data, num_round, valid_sets = [trn_data, val_data], verbose_eval=100, early_stopping_rounds = 100)\n",
    "    oof[val_idx] = clf.predict(train.iloc[val_idx][train_columns], num_iteration=clf.best_iteration)\n",
    "    \n",
    "    cv_score = mean_absolute_error(oof[val_idx], target.iloc[val_idx])\n",
    "    cv_score_list.append(cv_score)\n",
    "    #feature importance\n",
    "    fold_importance_df = pd.DataFrame()\n",
    "    fold_importance_df[\"Feature\"] = train_columns\n",
    "    fold_importance_df[\"importance\"] = clf.feature_importance()\n",
    "    fold_importance_df[\"fold\"] = fold_ + 1\n",
    "    feature_importance_df = pd.concat([feature_importance_df, fold_importance_df], axis=0)\n",
    "    #predictions\n",
    "    predictions += clf.predict(test_df[train_columns], num_iteration=clf.best_iteration) / folds.n_splits\n",
    "\n",
    "cv_score = mean_absolute_error(oof, target)\n",
    "print(cv_score)\n",
    "print(cv_score_list)\n",
    "print(np.std(cv_score_list))\n",
    "withoutoutlier_predictions = predictions.copy()"
   ]
  },
  {
   "cell_type": "markdown",
   "metadata": {},
   "source": [
    "3.3970930803197725\n",
    "[3.424083429272235, 3.3840467415887687, 3.383221489654165, 3.403918994024673, 3.3779742041405982, 3.374429299939257, 3.384381691692165, 3.4311935398008693, 3.410588330517707]\n",
    "0.019786136839886365"
   ]
  },
  {
   "cell_type": "code",
   "execution_count": 49,
   "metadata": {},
   "outputs": [
    {
     "data": {
      "image/png": "[encoded data removed]",
      "text/plain": [
       "<Figure size 1008x1872 with 1 Axes>"
      ]
     },
     "metadata": {},
     "output_type": "display_data"
    }
   ],
   "source": [
    "filename = '{}_cv{:.6f}'.format(datetime.now().strftime('%Y%m%d_%H%M%S'), cv_score)\n",
    "\n",
    "cols = (feature_importance_df[[\"Feature\", \"importance\"]]\n",
    "        .groupby(\"Feature\")\n",
    "        .mean()\n",
    "        .sort_values(by=\"importance\", ascending=False)[:1000].index)\n",
    "best_features = feature_importance_df.loc[feature_importance_df.Feature.isin(cols)]\n",
    "\n",
    "plt.figure(figsize=(14,26))\n",
    "sns.barplot(x=\"importance\", y=\"Feature\", data=best_features.sort_values(by=\"importance\",ascending=False))\n",
    "plt.title('LightGBM Features (averaged over folds)')\n",
    "plt.tight_layout()\n",
    "plt.savefig('fi/{}_lgbm_importances.png'.format(filename))"
   ]
  },
  {
   "cell_type": "code",
   "execution_count": 50,
   "metadata": {},
   "outputs": [
    {
     "data": {
      "text/html": [
       "<div>\n",
       "<style scoped>\n",
       "    .dataframe tbody tr th:only-of-type {\n",
       "        vertical-align: middle;\n",
       "    }\n",
       "\n",
       "    .dataframe tbody tr th {\n",
       "        vertical-align: top;\n",
       "    }\n",
       "\n",
       "    .dataframe thead th {\n",
       "        text-align: right;\n",
       "    }\n",
       "</style>\n",
       "<table border=\"1\" class=\"dataframe\">\n",
       "  <thead>\n",
       "    <tr style=\"text-align: right;\">\n",
       "      <th></th>\n",
       "      <th>Feature</th>\n",
       "      <th>importance</th>\n",
       "    </tr>\n",
       "  </thead>\n",
       "  <tbody>\n",
       "    <tr>\n",
       "      <th>36</th>\n",
       "      <td>hist_authorized_flag_min</td>\n",
       "      <td>2</td>\n",
       "    </tr>\n",
       "    <tr>\n",
       "      <th>41</th>\n",
       "      <td>hist_category_1_min</td>\n",
       "      <td>5</td>\n",
       "    </tr>\n",
       "    <tr>\n",
       "      <th>39</th>\n",
       "      <td>hist_category_1_max</td>\n",
       "      <td>11</td>\n",
       "    </tr>\n",
       "    <tr>\n",
       "      <th>103</th>\n",
       "      <td>quarter</td>\n",
       "      <td>19</td>\n",
       "    </tr>\n",
       "    <tr>\n",
       "      <th>102</th>\n",
       "      <td>month</td>\n",
       "      <td>29</td>\n",
       "    </tr>\n",
       "    <tr>\n",
       "      <th>46</th>\n",
       "      <td>hist_dayofweek_nunique</td>\n",
       "      <td>30</td>\n",
       "    </tr>\n",
       "    <tr>\n",
       "      <th>43</th>\n",
       "      <td>hist_dayofweek_max</td>\n",
       "      <td>32</td>\n",
       "    </tr>\n",
       "    <tr>\n",
       "      <th>45</th>\n",
       "      <td>hist_dayofweek_min</td>\n",
       "      <td>49</td>\n",
       "    </tr>\n",
       "    <tr>\n",
       "      <th>33</th>\n",
       "      <td>feature_3</td>\n",
       "      <td>66</td>\n",
       "    </tr>\n",
       "    <tr>\n",
       "      <th>48</th>\n",
       "      <td>hist_diff_reference_date_first</td>\n",
       "      <td>84</td>\n",
       "    </tr>\n",
       "    <tr>\n",
       "      <th>24</th>\n",
       "      <td>card_id_state_id_nunique</td>\n",
       "      <td>92</td>\n",
       "    </tr>\n",
       "    <tr>\n",
       "      <th>55</th>\n",
       "      <td>hist_hour_nunique</td>\n",
       "      <td>92</td>\n",
       "    </tr>\n",
       "    <tr>\n",
       "      <th>104</th>\n",
       "      <td>weekofyear</td>\n",
       "      <td>94</td>\n",
       "    </tr>\n",
       "    <tr>\n",
       "      <th>21</th>\n",
       "      <td>card_id_month_min</td>\n",
       "      <td>109</td>\n",
       "    </tr>\n",
       "    <tr>\n",
       "      <th>58</th>\n",
       "      <td>hist_installments_min</td>\n",
       "      <td>112</td>\n",
       "    </tr>\n",
       "    <tr>\n",
       "      <th>27</th>\n",
       "      <td>dayofyear</td>\n",
       "      <td>116</td>\n",
       "    </tr>\n",
       "    <tr>\n",
       "      <th>54</th>\n",
       "      <td>hist_hour_min</td>\n",
       "      <td>118</td>\n",
       "    </tr>\n",
       "    <tr>\n",
       "      <th>34</th>\n",
       "      <td>hist_CLV</td>\n",
       "      <td>125</td>\n",
       "    </tr>\n",
       "    <tr>\n",
       "      <th>56</th>\n",
       "      <td>hist_installments_max</td>\n",
       "      <td>127</td>\n",
       "    </tr>\n",
       "    <tr>\n",
       "      <th>91</th>\n",
       "      <td>last_month_card_id_card_id_size</td>\n",
       "      <td>127</td>\n",
       "    </tr>\n",
       "    <tr>\n",
       "      <th>22</th>\n",
       "      <td>card_id_month_nunique</td>\n",
       "      <td>133</td>\n",
       "    </tr>\n",
       "    <tr>\n",
       "      <th>16</th>\n",
       "      <td>card_id_city_id_nunique</td>\n",
       "      <td>134</td>\n",
       "    </tr>\n",
       "    <tr>\n",
       "      <th>52</th>\n",
       "      <td>hist_hour_max</td>\n",
       "      <td>139</td>\n",
       "    </tr>\n",
       "    <tr>\n",
       "      <th>92</th>\n",
       "      <td>last_month_card_id_category_4_mean</td>\n",
       "      <td>142</td>\n",
       "    </tr>\n",
       "    <tr>\n",
       "      <th>49</th>\n",
       "      <td>hist_diff_reference_date_last</td>\n",
       "      <td>143</td>\n",
       "    </tr>\n",
       "    <tr>\n",
       "      <th>94</th>\n",
       "      <td>last_month_card_id_city_id_nunique</td>\n",
       "      <td>149</td>\n",
       "    </tr>\n",
       "    <tr>\n",
       "      <th>26</th>\n",
       "      <td>dayofweek</td>\n",
       "      <td>165</td>\n",
       "    </tr>\n",
       "    <tr>\n",
       "      <th>38</th>\n",
       "      <td>hist_card_id_size</td>\n",
       "      <td>166</td>\n",
       "    </tr>\n",
       "    <tr>\n",
       "      <th>101</th>\n",
       "      <td>last_month_card_id_subsector_id_nunique</td>\n",
       "      <td>168</td>\n",
       "    </tr>\n",
       "    <tr>\n",
       "      <th>73</th>\n",
       "      <td>hist_purchase_amount_sum</td>\n",
       "      <td>169</td>\n",
       "    </tr>\n",
       "    <tr>\n",
       "      <th>79</th>\n",
       "      <td>hist_purchase_date_uptomin</td>\n",
       "      <td>169</td>\n",
       "    </tr>\n",
       "    <tr>\n",
       "      <th>51</th>\n",
       "      <td>hist_flag_ratio</td>\n",
       "      <td>184</td>\n",
       "    </tr>\n",
       "    <tr>\n",
       "      <th>32</th>\n",
       "      <td>feature_2</td>\n",
       "      <td>191</td>\n",
       "    </tr>\n",
       "    <tr>\n",
       "      <th>83</th>\n",
       "      <td>hist_weekend_sum</td>\n",
       "      <td>194</td>\n",
       "    </tr>\n",
       "    <tr>\n",
       "      <th>93</th>\n",
       "      <td>last_month_card_id_category_4_sum</td>\n",
       "      <td>198</td>\n",
       "    </tr>\n",
       "    <tr>\n",
       "      <th>37</th>\n",
       "      <td>hist_authorized_flag_sum</td>\n",
       "      <td>226</td>\n",
       "    </tr>\n",
       "    <tr>\n",
       "      <th>0</th>\n",
       "      <td>card_id_avg_lag3_rps_max</td>\n",
       "      <td>243</td>\n",
       "    </tr>\n",
       "    <tr>\n",
       "      <th>61</th>\n",
       "      <td>hist_last_buy</td>\n",
       "      <td>248</td>\n",
       "    </tr>\n",
       "    <tr>\n",
       "      <th>25</th>\n",
       "      <td>card_id_subsector_id_nunique</td>\n",
       "      <td>251</td>\n",
       "    </tr>\n",
       "    <tr>\n",
       "      <th>28</th>\n",
       "      <td>elapsed_time</td>\n",
       "      <td>254</td>\n",
       "    </tr>\n",
       "    <tr>\n",
       "      <th>40</th>\n",
       "      <td>hist_category_1_mean</td>\n",
       "      <td>259</td>\n",
       "    </tr>\n",
       "    <tr>\n",
       "      <th>15</th>\n",
       "      <td>card_id_category_4_sum</td>\n",
       "      <td>283</td>\n",
       "    </tr>\n",
       "    <tr>\n",
       "      <th>17</th>\n",
       "      <td>card_id_merchant_category_id_nunique</td>\n",
       "      <td>293</td>\n",
       "    </tr>\n",
       "    <tr>\n",
       "      <th>60</th>\n",
       "      <td>hist_installments_var</td>\n",
       "      <td>296</td>\n",
       "    </tr>\n",
       "    <tr>\n",
       "      <th>31</th>\n",
       "      <td>feature_1</td>\n",
       "      <td>304</td>\n",
       "    </tr>\n",
       "    <tr>\n",
       "      <th>78</th>\n",
       "      <td>hist_purchase_date_min</td>\n",
       "      <td>315</td>\n",
       "    </tr>\n",
       "    <tr>\n",
       "      <th>89</th>\n",
       "      <td>last_3month_card_id_card_id_size</td>\n",
       "      <td>315</td>\n",
       "    </tr>\n",
       "    <tr>\n",
       "      <th>42</th>\n",
       "      <td>hist_category_1_sum</td>\n",
       "      <td>332</td>\n",
       "    </tr>\n",
       "    <tr>\n",
       "      <th>14</th>\n",
       "      <td>card_id_category_4_mean</td>\n",
       "      <td>332</td>\n",
       "    </tr>\n",
       "    <tr>\n",
       "      <th>1</th>\n",
       "      <td>card_id_avg_lag3_rps_mean</td>\n",
       "      <td>333</td>\n",
       "    </tr>\n",
       "    <tr>\n",
       "      <th>72</th>\n",
       "      <td>hist_purchase_amount_min</td>\n",
       "      <td>339</td>\n",
       "    </tr>\n",
       "    <tr>\n",
       "      <th>74</th>\n",
       "      <td>hist_purchase_amount_var</td>\n",
       "      <td>346</td>\n",
       "    </tr>\n",
       "    <tr>\n",
       "      <th>69</th>\n",
       "      <td>hist_month_lag_var</td>\n",
       "      <td>365</td>\n",
       "    </tr>\n",
       "    <tr>\n",
       "      <th>4</th>\n",
       "      <td>card_id_avg_lag3_rps_sum</td>\n",
       "      <td>369</td>\n",
       "    </tr>\n",
       "    <tr>\n",
       "      <th>19</th>\n",
       "      <td>card_id_month_max</td>\n",
       "      <td>387</td>\n",
       "    </tr>\n",
       "    <tr>\n",
       "      <th>70</th>\n",
       "      <td>hist_purchase_amount_max</td>\n",
       "      <td>389</td>\n",
       "    </tr>\n",
       "    <tr>\n",
       "      <th>47</th>\n",
       "      <td>hist_diff_first_last</td>\n",
       "      <td>400</td>\n",
       "    </tr>\n",
       "    <tr>\n",
       "      <th>20</th>\n",
       "      <td>card_id_month_mean</td>\n",
       "      <td>414</td>\n",
       "    </tr>\n",
       "    <tr>\n",
       "      <th>68</th>\n",
       "      <td>hist_month_lag_min</td>\n",
       "      <td>418</td>\n",
       "    </tr>\n",
       "    <tr>\n",
       "      <th>53</th>\n",
       "      <td>hist_hour_mean</td>\n",
       "      <td>437</td>\n",
       "    </tr>\n",
       "    <tr>\n",
       "      <th>95</th>\n",
       "      <td>last_month_card_id_merchant_id_nunique</td>\n",
       "      <td>445</td>\n",
       "    </tr>\n",
       "    <tr>\n",
       "      <th>7</th>\n",
       "      <td>card_id_card_id_month_lag_purchase_amount_coun...</td>\n",
       "      <td>456</td>\n",
       "    </tr>\n",
       "    <tr>\n",
       "      <th>97</th>\n",
       "      <td>last_month_card_id_purchase_amount_mean</td>\n",
       "      <td>459</td>\n",
       "    </tr>\n",
       "    <tr>\n",
       "      <th>35</th>\n",
       "      <td>hist_authorized_flag_mean</td>\n",
       "      <td>461</td>\n",
       "    </tr>\n",
       "    <tr>\n",
       "      <th>87</th>\n",
       "      <td>hist_weekofyear_nunique</td>\n",
       "      <td>462</td>\n",
       "    </tr>\n",
       "    <tr>\n",
       "      <th>65</th>\n",
       "      <td>hist_month_diff_var</td>\n",
       "      <td>463</td>\n",
       "    </tr>\n",
       "    <tr>\n",
       "      <th>90</th>\n",
       "      <td>last_6month_card_id_card_id_size</td>\n",
       "      <td>466</td>\n",
       "    </tr>\n",
       "    <tr>\n",
       "      <th>2</th>\n",
       "      <td>card_id_avg_lag3_rps_min</td>\n",
       "      <td>469</td>\n",
       "    </tr>\n",
       "    <tr>\n",
       "      <th>98</th>\n",
       "      <td>last_month_card_id_purchase_amount_min</td>\n",
       "      <td>498</td>\n",
       "    </tr>\n",
       "    <tr>\n",
       "      <th>13</th>\n",
       "      <td>card_id_card_id_month_lag_subsector_id_nunique...</td>\n",
       "      <td>503</td>\n",
       "    </tr>\n",
       "    <tr>\n",
       "      <th>3</th>\n",
       "      <td>card_id_avg_lag3_rps_std</td>\n",
       "      <td>547</td>\n",
       "    </tr>\n",
       "    <tr>\n",
       "      <th>30</th>\n",
       "      <td>feature123_frequency_encoding</td>\n",
       "      <td>567</td>\n",
       "    </tr>\n",
       "    <tr>\n",
       "      <th>96</th>\n",
       "      <td>last_month_card_id_purchase_amount_max</td>\n",
       "      <td>575</td>\n",
       "    </tr>\n",
       "    <tr>\n",
       "      <th>82</th>\n",
       "      <td>hist_weekend_mean</td>\n",
       "      <td>581</td>\n",
       "    </tr>\n",
       "    <tr>\n",
       "      <th>18</th>\n",
       "      <td>card_id_merchant_id_nunique</td>\n",
       "      <td>600</td>\n",
       "    </tr>\n",
       "    <tr>\n",
       "      <th>11</th>\n",
       "      <td>card_id_card_id_month_lag_subsector_id_nunique...</td>\n",
       "      <td>608</td>\n",
       "    </tr>\n",
       "    <tr>\n",
       "      <th>100</th>\n",
       "      <td>last_month_card_id_purchase_amount_sum</td>\n",
       "      <td>612</td>\n",
       "    </tr>\n",
       "    <tr>\n",
       "      <th>85</th>\n",
       "      <td>hist_weekofyear_mean</td>\n",
       "      <td>635</td>\n",
       "    </tr>\n",
       "    <tr>\n",
       "      <th>6</th>\n",
       "      <td>card_id_card_id_month_lag_purchase_amount_coun...</td>\n",
       "      <td>644</td>\n",
       "    </tr>\n",
       "    <tr>\n",
       "      <th>76</th>\n",
       "      <td>hist_purchase_date_diff</td>\n",
       "      <td>655</td>\n",
       "    </tr>\n",
       "    <tr>\n",
       "      <th>44</th>\n",
       "      <td>hist_dayofweek_mean</td>\n",
       "      <td>684</td>\n",
       "    </tr>\n",
       "    <tr>\n",
       "      <th>75</th>\n",
       "      <td>hist_purchase_date_average</td>\n",
       "      <td>691</td>\n",
       "    </tr>\n",
       "    <tr>\n",
       "      <th>5</th>\n",
       "      <td>card_id_card_id_month_lag_purchase_amount_coun...</td>\n",
       "      <td>695</td>\n",
       "    </tr>\n",
       "    <tr>\n",
       "      <th>50</th>\n",
       "      <td>hist_first_buy</td>\n",
       "      <td>719</td>\n",
       "    </tr>\n",
       "    <tr>\n",
       "      <th>88</th>\n",
       "      <td>hist_year_mean</td>\n",
       "      <td>761</td>\n",
       "    </tr>\n",
       "    <tr>\n",
       "      <th>71</th>\n",
       "      <td>hist_purchase_amount_mean</td>\n",
       "      <td>768</td>\n",
       "    </tr>\n",
       "    <tr>\n",
       "      <th>59</th>\n",
       "      <td>hist_installments_sum</td>\n",
       "      <td>789</td>\n",
       "    </tr>\n",
       "    <tr>\n",
       "      <th>29</th>\n",
       "      <td>feature123</td>\n",
       "      <td>871</td>\n",
       "    </tr>\n",
       "    <tr>\n",
       "      <th>86</th>\n",
       "      <td>hist_weekofyear_min</td>\n",
       "      <td>878</td>\n",
       "    </tr>\n",
       "    <tr>\n",
       "      <th>23</th>\n",
       "      <td>card_id_month_std</td>\n",
       "      <td>884</td>\n",
       "    </tr>\n",
       "    <tr>\n",
       "      <th>8</th>\n",
       "      <td>card_id_card_id_month_lag_purchase_amount_mean...</td>\n",
       "      <td>900</td>\n",
       "    </tr>\n",
       "    <tr>\n",
       "      <th>62</th>\n",
       "      <td>hist_month_diff_max</td>\n",
       "      <td>942</td>\n",
       "    </tr>\n",
       "    <tr>\n",
       "      <th>84</th>\n",
       "      <td>hist_weekofyear_max</td>\n",
       "      <td>1001</td>\n",
       "    </tr>\n",
       "    <tr>\n",
       "      <th>66</th>\n",
       "      <td>hist_month_lag_max</td>\n",
       "      <td>1003</td>\n",
       "    </tr>\n",
       "    <tr>\n",
       "      <th>57</th>\n",
       "      <td>hist_installments_mean</td>\n",
       "      <td>1010</td>\n",
       "    </tr>\n",
       "    <tr>\n",
       "      <th>99</th>\n",
       "      <td>last_month_card_id_purchase_amount_std</td>\n",
       "      <td>1081</td>\n",
       "    </tr>\n",
       "    <tr>\n",
       "      <th>10</th>\n",
       "      <td>card_id_card_id_month_lag_purchase_amount_mean...</td>\n",
       "      <td>1108</td>\n",
       "    </tr>\n",
       "    <tr>\n",
       "      <th>67</th>\n",
       "      <td>hist_month_lag_mean</td>\n",
       "      <td>1111</td>\n",
       "    </tr>\n",
       "    <tr>\n",
       "      <th>9</th>\n",
       "      <td>card_id_card_id_month_lag_purchase_amount_mean...</td>\n",
       "      <td>1257</td>\n",
       "    </tr>\n",
       "    <tr>\n",
       "      <th>12</th>\n",
       "      <td>card_id_card_id_month_lag_subsector_id_nunique...</td>\n",
       "      <td>1461</td>\n",
       "    </tr>\n",
       "    <tr>\n",
       "      <th>80</th>\n",
       "      <td>hist_purchase_date_uptonow</td>\n",
       "      <td>3819</td>\n",
       "    </tr>\n",
       "    <tr>\n",
       "      <th>77</th>\n",
       "      <td>hist_purchase_date_max</td>\n",
       "      <td>3952</td>\n",
       "    </tr>\n",
       "    <tr>\n",
       "      <th>81</th>\n",
       "      <td>hist_reference_date_median</td>\n",
       "      <td>7005</td>\n",
       "    </tr>\n",
       "    <tr>\n",
       "      <th>64</th>\n",
       "      <td>hist_month_diff_min</td>\n",
       "      <td>8022</td>\n",
       "    </tr>\n",
       "    <tr>\n",
       "      <th>63</th>\n",
       "      <td>hist_month_diff_mean</td>\n",
       "      <td>8586</td>\n",
       "    </tr>\n",
       "  </tbody>\n",
       "</table>\n",
       "</div>"
      ],
      "text/plain": [
       "                                               Feature  importance\n",
       "36                            hist_authorized_flag_min           2\n",
       "41                                 hist_category_1_min           5\n",
       "39                                 hist_category_1_max          11\n",
       "103                                            quarter          19\n",
       "102                                              month          29\n",
       "46                              hist_dayofweek_nunique          30\n",
       "43                                  hist_dayofweek_max          32\n",
       "45                                  hist_dayofweek_min          49\n",
       "33                                           feature_3          66\n",
       "48                      hist_diff_reference_date_first          84\n",
       "24                            card_id_state_id_nunique          92\n",
       "55                                   hist_hour_nunique          92\n",
       "104                                         weekofyear          94\n",
       "21                                   card_id_month_min         109\n",
       "58                               hist_installments_min         112\n",
       "27                                           dayofyear         116\n",
       "54                                       hist_hour_min         118\n",
       "34                                            hist_CLV         125\n",
       "56                               hist_installments_max         127\n",
       "91                     last_month_card_id_card_id_size         127\n",
       "22                               card_id_month_nunique         133\n",
       "16                             card_id_city_id_nunique         134\n",
       "52                                       hist_hour_max         139\n",
       "92                  last_month_card_id_category_4_mean         142\n",
       "49                       hist_diff_reference_date_last         143\n",
       "94                  last_month_card_id_city_id_nunique         149\n",
       "26                                           dayofweek         165\n",
       "38                                   hist_card_id_size         166\n",
       "101            last_month_card_id_subsector_id_nunique         168\n",
       "73                            hist_purchase_amount_sum         169\n",
       "79                          hist_purchase_date_uptomin         169\n",
       "51                                     hist_flag_ratio         184\n",
       "32                                           feature_2         191\n",
       "83                                    hist_weekend_sum         194\n",
       "93                   last_month_card_id_category_4_sum         198\n",
       "37                            hist_authorized_flag_sum         226\n",
       "0                             card_id_avg_lag3_rps_max         243\n",
       "61                                       hist_last_buy         248\n",
       "25                        card_id_subsector_id_nunique         251\n",
       "28                                        elapsed_time         254\n",
       "40                                hist_category_1_mean         259\n",
       "15                              card_id_category_4_sum         283\n",
       "17                card_id_merchant_category_id_nunique         293\n",
       "60                               hist_installments_var         296\n",
       "31                                           feature_1         304\n",
       "78                              hist_purchase_date_min         315\n",
       "89                    last_3month_card_id_card_id_size         315\n",
       "42                                 hist_category_1_sum         332\n",
       "14                             card_id_category_4_mean         332\n",
       "1                            card_id_avg_lag3_rps_mean         333\n",
       "72                            hist_purchase_amount_min         339\n",
       "74                            hist_purchase_amount_var         346\n",
       "69                                  hist_month_lag_var         365\n",
       "4                             card_id_avg_lag3_rps_sum         369\n",
       "19                                   card_id_month_max         387\n",
       "70                            hist_purchase_amount_max         389\n",
       "47                                hist_diff_first_last         400\n",
       "20                                  card_id_month_mean         414\n",
       "68                                  hist_month_lag_min         418\n",
       "53                                      hist_hour_mean         437\n",
       "95              last_month_card_id_merchant_id_nunique         445\n",
       "7    card_id_card_id_month_lag_purchase_amount_coun...         456\n",
       "97             last_month_card_id_purchase_amount_mean         459\n",
       "35                           hist_authorized_flag_mean         461\n",
       "87                             hist_weekofyear_nunique         462\n",
       "65                                 hist_month_diff_var         463\n",
       "90                    last_6month_card_id_card_id_size         466\n",
       "2                             card_id_avg_lag3_rps_min         469\n",
       "98              last_month_card_id_purchase_amount_min         498\n",
       "13   card_id_card_id_month_lag_subsector_id_nunique...         503\n",
       "3                             card_id_avg_lag3_rps_std         547\n",
       "30                       feature123_frequency_encoding         567\n",
       "96              last_month_card_id_purchase_amount_max         575\n",
       "82                                   hist_weekend_mean         581\n",
       "18                         card_id_merchant_id_nunique         600\n",
       "11   card_id_card_id_month_lag_subsector_id_nunique...         608\n",
       "100             last_month_card_id_purchase_amount_sum         612\n",
       "85                                hist_weekofyear_mean         635\n",
       "6    card_id_card_id_month_lag_purchase_amount_coun...         644\n",
       "76                             hist_purchase_date_diff         655\n",
       "44                                 hist_dayofweek_mean         684\n",
       "75                          hist_purchase_date_average         691\n",
       "5    card_id_card_id_month_lag_purchase_amount_coun...         695\n",
       "50                                      hist_first_buy         719\n",
       "88                                      hist_year_mean         761\n",
       "71                           hist_purchase_amount_mean         768\n",
       "59                               hist_installments_sum         789\n",
       "29                                          feature123         871\n",
       "86                                 hist_weekofyear_min         878\n",
       "23                                   card_id_month_std         884\n",
       "8    card_id_card_id_month_lag_purchase_amount_mean...         900\n",
       "62                                 hist_month_diff_max         942\n",
       "84                                 hist_weekofyear_max        1001\n",
       "66                                  hist_month_lag_max        1003\n",
       "57                              hist_installments_mean        1010\n",
       "99              last_month_card_id_purchase_amount_std        1081\n",
       "10   card_id_card_id_month_lag_purchase_amount_mean...        1108\n",
       "67                                 hist_month_lag_mean        1111\n",
       "9    card_id_card_id_month_lag_purchase_amount_mean...        1257\n",
       "12   card_id_card_id_month_lag_subsector_id_nunique...        1461\n",
       "80                          hist_purchase_date_uptonow        3819\n",
       "77                              hist_purchase_date_max        3952\n",
       "81                          hist_reference_date_median        7005\n",
       "64                                 hist_month_diff_min        8022\n",
       "63                                hist_month_diff_mean        8586"
      ]
     },
     "execution_count": 50,
     "metadata": {},
     "output_type": "execute_result"
    }
   ],
   "source": [
    "feature_importance_df.groupby('Feature')['importance'].sum().reset_index().sort_values('importance')"
   ]
  },
  {
   "cell_type": "code",
   "execution_count": 51,
   "metadata": {},
   "outputs": [
    {
     "data": {
      "text/plain": [
       "1.826889664787815"
      ]
     },
     "execution_count": 51,
     "metadata": {},
     "output_type": "execute_result"
    }
   ],
   "source": [
    "mean_absolute_error(np.floor(oof), target)"
   ]
  },
  {
   "cell_type": "code",
   "execution_count": 52,
   "metadata": {},
   "outputs": [],
   "source": [
    "result = pd.concat([pd.DataFrame(oof,columns=['oof']),pd.DataFrame(target).reset_index(drop=True)],axis=1)"
   ]
  },
  {
   "cell_type": "code",
   "execution_count": 53,
   "metadata": {},
   "outputs": [
    {
     "data": {
      "text/plain": [
       "<matplotlib.axes._subplots.AxesSubplot at 0x7f2d2ef279e8>"
      ]
     },
     "execution_count": 53,
     "metadata": {},
     "output_type": "execute_result"
    },
    {
     "data": {
      "image/png": "[encoded data removed]",
      "text/plain": [
       "<Figure size 432x288 with 1 Axes>"
      ]
     },
     "metadata": {},
     "output_type": "display_data"
    }
   ],
   "source": [
    "sns.distplot(result['oof'])\n",
    "sns.distplot(result['new_hist_card_id_weekofyear_mean'])"
   ]
  },
  {
   "cell_type": "code",
   "execution_count": 56,
   "metadata": {},
   "outputs": [],
   "source": [
    "sub_df = pd.DataFrame({\"card_id\":test_df[\"card_id\"].values})\n",
    "sub_df['new_hist_weekofyear_mean'] = predictions\n",
    "#sub_df.loc[sub_df['target']<-9,'target'] = -33.21928095\n",
    "sub_df.to_csv(\"input/fill_new_hist_weekofyear_mean_{}.csv\".format(filename), index=False)"
   ]
  }
 ],
 "metadata": {
  "kernelspec": {
   "display_name": "Python 3",
   "language": "python",
   "name": "python3"
  },
  "language_info": {
   "codemirror_mode": {
    "name": "ipython",
    "version": 3
   },
   "file_extension": ".py",
   "mimetype": "text/x-python",
   "name": "python",
   "nbconvert_exporter": "python",
   "pygments_lexer": "ipython3",
   "version": "3.6.5"
  }
 },
 "nbformat": 4,
 "nbformat_minor": 2
}
