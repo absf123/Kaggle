{
 "cells": [
  {
   "cell_type": "code",
   "execution_count": 1,
   "metadata": {},
   "outputs": [],
   "source": [
    "import pandas as pd\n",
    "import numpy as np\n",
    "import matplotlib.pyplot as plt\n",
    "import seaborn as sns\n",
    "import itertools\n",
    "from datetime import datetime\n",
    "import warnings\n",
    "warnings.filterwarnings('ignore')\n",
    "\n",
    "from sklearn.preprocessing import minmax_scale,StandardScaler\n",
    "\n",
    "%matplotlib inline"
   ]
  },
  {
   "cell_type": "code",
   "execution_count": 65,
   "metadata": {},
   "outputs": [],
   "source": [
    "my_best = pd.read_csv('ensemble/test4/combine_submission_20190205_182031_cv3.642718.csv')\n",
    "my_best2 = pd.read_csv('output/combine_submission_20190206_183854_cv3.639315.csv')\n",
    "my_best3 = pd.read_csv('output/combine_submission_20190207_050544_cv3.640543.csv')\n",
    "something_diff2 = pd.read_csv('ensemble/test5/submission_blend_blend4.csv')\n",
    "something_diff3 = pd.read_csv('output/submission_blend_blend5.csv')\n",
    "something_diff4 = pd.read_csv('output/submission_blend_blend6.csv')\n",
    "wow_isleak = pd.read_csv('output/combine_submission_20190208_165017_cv3.343579.csv')\n",
    "overfitting = pd.read_csv('output/is_it_overfitting__20190131_171047_cv2.121559.csv')\n",
    "fill_cardsize = pd.read_csv('output/combine_submission_20190209_190818_cv3.593867.csv')"
   ]
  },
  {
   "cell_type": "code",
   "execution_count": 67,
   "metadata": {
    "scrolled": true
   },
   "outputs": [
    {
     "data": {
      "text/plain": [
       "0.9175475607048347"
      ]
     },
     "execution_count": 67,
     "metadata": {},
     "output_type": "execute_result"
    }
   ],
   "source": [
    "something_diff3['target'].corr(fill_cardsize['target'])"
   ]
  },
  {
   "cell_type": "code",
   "execution_count": 68,
   "metadata": {},
   "outputs": [
    {
     "data": {
      "text/plain": [
       "0.9583383560086015"
      ]
     },
     "execution_count": 68,
     "metadata": {},
     "output_type": "execute_result"
    }
   ],
   "source": [
    "my_best['target'].corr(fill_cardsize['target'])"
   ]
  },
  {
   "cell_type": "code",
   "execution_count": 57,
   "metadata": {},
   "outputs": [],
   "source": [
    "fill_cardsize = fill_cardsize.merge(my_best,on='card_id')"
   ]
  },
  {
   "cell_type": "code",
   "execution_count": 59,
   "metadata": {},
   "outputs": [],
   "source": [
    "fill_cardsize['diff'] = fill_cardsize['target_x'] - fill_cardsize['target_y']\n",
    "fill_cardsize['abs_diff'] = np.abs(fill_cardsize['diff'])"
   ]
  },
  {
   "cell_type": "code",
   "execution_count": 63,
   "metadata": {
    "scrolled": false
   },
   "outputs": [],
   "source": [
    "fill_cardsize.sort_values('target_y').to_csv('compare_with_fillcardsize_and_mybest642718.csv',index=False)"
   ]
  },
  {
   "cell_type": "code",
   "execution_count": 48,
   "metadata": {},
   "outputs": [
    {
     "name": "stdout",
     "output_type": "stream",
     "text": [
      "20985.359533175644\n",
      "20201.81245385919\n",
      "20260.813616501327\n",
      "33925.07152151711\n"
     ]
    }
   ],
   "source": [
    "print(np.sum(np.abs(my_best['target'] - fill_cardsize['target'])))\n",
    "print(np.sum(np.abs(my_best2['target'] - fill_cardsize['target'])))\n",
    "print(np.sum(np.abs(my_best3['target'] - fill_cardsize['target'])))\n",
    "print(np.sum(np.abs(something_diff3['target'] - fill_cardsize['target'])))"
   ]
  },
  {
   "cell_type": "code",
   "execution_count": null,
   "metadata": {},
   "outputs": [],
   "source": []
  },
  {
   "cell_type": "code",
   "execution_count": 41,
   "metadata": {},
   "outputs": [],
   "source": [
    "whereis_cardid = list(set(my_best['card_id'].unique()) - set(wow_isleak['card_id'].unique()))"
   ]
  },
  {
   "cell_type": "code",
   "execution_count": 42,
   "metadata": {
    "scrolled": true
   },
   "outputs": [],
   "source": [
    "result = pd.concat([my_best.loc[my_best['card_id'].isin(whereis_cardid)],wow_isleak])"
   ]
  },
  {
   "cell_type": "code",
   "execution_count": 43,
   "metadata": {},
   "outputs": [
    {
     "data": {
      "text/plain": [
       "(123623, 2)"
      ]
     },
     "execution_count": 43,
     "metadata": {},
     "output_type": "execute_result"
    }
   ],
   "source": [
    "result.shape"
   ]
  },
  {
   "cell_type": "code",
   "execution_count": 44,
   "metadata": {},
   "outputs": [],
   "source": [
    "result.to_csv('A dream of winter night2.csv',index=False)"
   ]
  },
  {
   "cell_type": "code",
   "execution_count": 5,
   "metadata": {},
   "outputs": [
    {
     "data": {
      "text/plain": [
       "(123623, 2)"
      ]
     },
     "execution_count": 5,
     "metadata": {},
     "output_type": "execute_result"
    }
   ],
   "source": [
    "something_diff3.loc[something_diff3['card_']]"
   ]
  },
  {
   "cell_type": "code",
   "execution_count": 4,
   "metadata": {},
   "outputs": [
    {
     "data": {
      "text/plain": [
       "(123623, 2)"
      ]
     },
     "execution_count": 4,
     "metadata": {},
     "output_type": "execute_result"
    }
   ],
   "source": [
    "something_diff4.shape"
   ]
  },
  {
   "cell_type": "code",
   "execution_count": 3,
   "metadata": {},
   "outputs": [
    {
     "data": {
      "text/plain": [
       "(110015, 2)"
      ]
     },
     "execution_count": 3,
     "metadata": {},
     "output_type": "execute_result"
    }
   ],
   "source": [
    "wow_isleak.shape"
   ]
  },
  {
   "cell_type": "code",
   "execution_count": 20,
   "metadata": {},
   "outputs": [],
   "source": [
    "something_diff3.columns=['card_id','bestlb_target']"
   ]
  },
  {
   "cell_type": "code",
   "execution_count": 21,
   "metadata": {},
   "outputs": [
    {
     "data": {
      "text/plain": [
       "(110015, 2)"
      ]
     },
     "execution_count": 21,
     "metadata": {},
     "output_type": "execute_result"
    }
   ],
   "source": [
    "wow_isleak.shape"
   ]
  },
  {
   "cell_type": "code",
   "execution_count": 22,
   "metadata": {},
   "outputs": [],
   "source": [
    "wow_isleak = wow_isleak.merge(something_diff3,on='card_id')"
   ]
  },
  {
   "cell_type": "code",
   "execution_count": 23,
   "metadata": {},
   "outputs": [
    {
     "data": {
      "text/plain": [
       "(110015, 3)"
      ]
     },
     "execution_count": 23,
     "metadata": {},
     "output_type": "execute_result"
    }
   ],
   "source": [
    "wow_isleak.shape"
   ]
  },
  {
   "cell_type": "code",
   "execution_count": 24,
   "metadata": {
    "scrolled": true
   },
   "outputs": [],
   "source": [
    "wow_isleak['diff'] = wow_isleak['target'] - wow_isleak['bestlb_target']\n",
    "wow_isleak['abs_diff'] = np.abs(wow_isleak['diff'])"
   ]
  },
  {
   "cell_type": "code",
   "execution_count": 25,
   "metadata": {},
   "outputs": [
    {
     "data": {
      "text/plain": [
       "20696.105900789666"
      ]
     },
     "execution_count": 25,
     "metadata": {},
     "output_type": "execute_result"
    }
   ],
   "source": [
    "wow_isleak['abs_diff'].sum()"
   ]
  },
  {
   "cell_type": "code",
   "execution_count": 30,
   "metadata": {
    "scrolled": true
   },
   "outputs": [
    {
     "data": {
      "text/html": [
       "<div>\n",
       "<style scoped>\n",
       "    .dataframe tbody tr th:only-of-type {\n",
       "        vertical-align: middle;\n",
       "    }\n",
       "\n",
       "    .dataframe tbody tr th {\n",
       "        vertical-align: top;\n",
       "    }\n",
       "\n",
       "    .dataframe thead th {\n",
       "        text-align: right;\n",
       "    }\n",
       "</style>\n",
       "<table border=\"1\" class=\"dataframe\">\n",
       "  <thead>\n",
       "    <tr style=\"text-align: right;\">\n",
       "      <th></th>\n",
       "      <th>card_id</th>\n",
       "      <th>target</th>\n",
       "      <th>bestlb_target</th>\n",
       "      <th>diff</th>\n",
       "      <th>abs_diff</th>\n",
       "    </tr>\n",
       "  </thead>\n",
       "  <tbody>\n",
       "    <tr>\n",
       "      <th>101128</th>\n",
       "      <td>C_ID_dc932bbd89</td>\n",
       "      <td>-12.584950</td>\n",
       "      <td>-33.219281</td>\n",
       "      <td>20.634331</td>\n",
       "      <td>20.634331</td>\n",
       "    </tr>\n",
       "    <tr>\n",
       "      <th>93819</th>\n",
       "      <td>C_ID_c27856d211</td>\n",
       "      <td>-12.974988</td>\n",
       "      <td>-33.219281</td>\n",
       "      <td>20.244293</td>\n",
       "      <td>20.244293</td>\n",
       "    </tr>\n",
       "    <tr>\n",
       "      <th>3041</th>\n",
       "      <td>C_ID_47a06004a5</td>\n",
       "      <td>-13.487496</td>\n",
       "      <td>-33.219281</td>\n",
       "      <td>19.731785</td>\n",
       "      <td>19.731785</td>\n",
       "    </tr>\n",
       "    <tr>\n",
       "      <th>106661</th>\n",
       "      <td>C_ID_4cdcd7bbb1</td>\n",
       "      <td>-13.998568</td>\n",
       "      <td>-33.219281</td>\n",
       "      <td>19.220713</td>\n",
       "      <td>19.220713</td>\n",
       "    </tr>\n",
       "    <tr>\n",
       "      <th>24486</th>\n",
       "      <td>C_ID_493de71141</td>\n",
       "      <td>-14.166151</td>\n",
       "      <td>-33.219281</td>\n",
       "      <td>19.053130</td>\n",
       "      <td>19.053130</td>\n",
       "    </tr>\n",
       "    <tr>\n",
       "      <th>38533</th>\n",
       "      <td>C_ID_dc60219f6c</td>\n",
       "      <td>-15.150049</td>\n",
       "      <td>-33.219281</td>\n",
       "      <td>18.069232</td>\n",
       "      <td>18.069232</td>\n",
       "    </tr>\n",
       "    <tr>\n",
       "      <th>22046</th>\n",
       "      <td>C_ID_151cb0ccbd</td>\n",
       "      <td>-15.985468</td>\n",
       "      <td>-33.219281</td>\n",
       "      <td>17.233813</td>\n",
       "      <td>17.233813</td>\n",
       "    </tr>\n",
       "    <tr>\n",
       "      <th>63113</th>\n",
       "      <td>C_ID_833aa2f7af</td>\n",
       "      <td>-16.944280</td>\n",
       "      <td>-33.219281</td>\n",
       "      <td>16.275001</td>\n",
       "      <td>16.275001</td>\n",
       "    </tr>\n",
       "    <tr>\n",
       "      <th>60326</th>\n",
       "      <td>C_ID_3b5972c942</td>\n",
       "      <td>-16.945252</td>\n",
       "      <td>-33.219281</td>\n",
       "      <td>16.274029</td>\n",
       "      <td>16.274029</td>\n",
       "    </tr>\n",
       "    <tr>\n",
       "      <th>17088</th>\n",
       "      <td>C_ID_0be3fb41d2</td>\n",
       "      <td>-17.125164</td>\n",
       "      <td>-33.219281</td>\n",
       "      <td>16.094117</td>\n",
       "      <td>16.094117</td>\n",
       "    </tr>\n",
       "    <tr>\n",
       "      <th>71999</th>\n",
       "      <td>C_ID_bced41d837</td>\n",
       "      <td>-17.372979</td>\n",
       "      <td>-33.219281</td>\n",
       "      <td>15.846302</td>\n",
       "      <td>15.846302</td>\n",
       "    </tr>\n",
       "    <tr>\n",
       "      <th>101578</th>\n",
       "      <td>C_ID_e54aeb08f7</td>\n",
       "      <td>-17.440697</td>\n",
       "      <td>-33.219281</td>\n",
       "      <td>15.778584</td>\n",
       "      <td>15.778584</td>\n",
       "    </tr>\n",
       "    <tr>\n",
       "      <th>39685</th>\n",
       "      <td>C_ID_75519a6d74</td>\n",
       "      <td>-18.310810</td>\n",
       "      <td>-33.219281</td>\n",
       "      <td>14.908471</td>\n",
       "      <td>14.908471</td>\n",
       "    </tr>\n",
       "    <tr>\n",
       "      <th>24964</th>\n",
       "      <td>C_ID_e7f772dfc0</td>\n",
       "      <td>-19.847163</td>\n",
       "      <td>-33.219281</td>\n",
       "      <td>13.372118</td>\n",
       "      <td>13.372118</td>\n",
       "    </tr>\n",
       "    <tr>\n",
       "      <th>18354</th>\n",
       "      <td>C_ID_aae50409e7</td>\n",
       "      <td>-20.227504</td>\n",
       "      <td>-33.219281</td>\n",
       "      <td>12.991777</td>\n",
       "      <td>12.991777</td>\n",
       "    </tr>\n",
       "    <tr>\n",
       "      <th>28946</th>\n",
       "      <td>C_ID_ac114ef831</td>\n",
       "      <td>-21.683691</td>\n",
       "      <td>-33.219281</td>\n",
       "      <td>11.535590</td>\n",
       "      <td>11.535590</td>\n",
       "    </tr>\n",
       "    <tr>\n",
       "      <th>93460</th>\n",
       "      <td>C_ID_86ddafb51c</td>\n",
       "      <td>-22.181030</td>\n",
       "      <td>-33.219281</td>\n",
       "      <td>11.038251</td>\n",
       "      <td>11.038251</td>\n",
       "    </tr>\n",
       "    <tr>\n",
       "      <th>6938</th>\n",
       "      <td>C_ID_a74b12dcf8</td>\n",
       "      <td>-22.189595</td>\n",
       "      <td>-33.219281</td>\n",
       "      <td>11.029686</td>\n",
       "      <td>11.029686</td>\n",
       "    </tr>\n",
       "    <tr>\n",
       "      <th>55069</th>\n",
       "      <td>C_ID_7590c5ff99</td>\n",
       "      <td>-3.626883</td>\n",
       "      <td>-10.148168</td>\n",
       "      <td>6.521285</td>\n",
       "      <td>6.521285</td>\n",
       "    </tr>\n",
       "    <tr>\n",
       "      <th>64929</th>\n",
       "      <td>C_ID_75c2316ae3</td>\n",
       "      <td>-12.774028</td>\n",
       "      <td>-18.022005</td>\n",
       "      <td>5.247977</td>\n",
       "      <td>5.247977</td>\n",
       "    </tr>\n",
       "    <tr>\n",
       "      <th>101794</th>\n",
       "      <td>C_ID_377003c3ad</td>\n",
       "      <td>-6.932319</td>\n",
       "      <td>-12.028684</td>\n",
       "      <td>5.096366</td>\n",
       "      <td>5.096366</td>\n",
       "    </tr>\n",
       "    <tr>\n",
       "      <th>72680</th>\n",
       "      <td>C_ID_3ba4759657</td>\n",
       "      <td>-7.209157</td>\n",
       "      <td>-11.916744</td>\n",
       "      <td>4.707587</td>\n",
       "      <td>4.707587</td>\n",
       "    </tr>\n",
       "    <tr>\n",
       "      <th>86500</th>\n",
       "      <td>C_ID_64f4df14d5</td>\n",
       "      <td>-14.354640</td>\n",
       "      <td>-9.800627</td>\n",
       "      <td>-4.554012</td>\n",
       "      <td>4.554012</td>\n",
       "    </tr>\n",
       "    <tr>\n",
       "      <th>99303</th>\n",
       "      <td>C_ID_da3b8bd9b2</td>\n",
       "      <td>-7.406995</td>\n",
       "      <td>-11.881528</td>\n",
       "      <td>4.474533</td>\n",
       "      <td>4.474533</td>\n",
       "    </tr>\n",
       "    <tr>\n",
       "      <th>36684</th>\n",
       "      <td>C_ID_d706b6696a</td>\n",
       "      <td>-15.511371</td>\n",
       "      <td>-19.956021</td>\n",
       "      <td>4.444650</td>\n",
       "      <td>4.444650</td>\n",
       "    </tr>\n",
       "    <tr>\n",
       "      <th>102908</th>\n",
       "      <td>C_ID_afbab1ba44</td>\n",
       "      <td>-8.277780</td>\n",
       "      <td>-12.654675</td>\n",
       "      <td>4.376896</td>\n",
       "      <td>4.376896</td>\n",
       "    </tr>\n",
       "    <tr>\n",
       "      <th>24383</th>\n",
       "      <td>C_ID_7f5f950342</td>\n",
       "      <td>-13.060463</td>\n",
       "      <td>-17.339875</td>\n",
       "      <td>4.279412</td>\n",
       "      <td>4.279412</td>\n",
       "    </tr>\n",
       "    <tr>\n",
       "      <th>28666</th>\n",
       "      <td>C_ID_6c988a9d0a</td>\n",
       "      <td>-14.085227</td>\n",
       "      <td>-9.843604</td>\n",
       "      <td>-4.241623</td>\n",
       "      <td>4.241623</td>\n",
       "    </tr>\n",
       "    <tr>\n",
       "      <th>33680</th>\n",
       "      <td>C_ID_61faff41fb</td>\n",
       "      <td>-6.105937</td>\n",
       "      <td>-10.346065</td>\n",
       "      <td>4.240128</td>\n",
       "      <td>4.240128</td>\n",
       "    </tr>\n",
       "    <tr>\n",
       "      <th>24903</th>\n",
       "      <td>C_ID_14989f1bef</td>\n",
       "      <td>-10.375711</td>\n",
       "      <td>-6.396090</td>\n",
       "      <td>-3.979622</td>\n",
       "      <td>3.979622</td>\n",
       "    </tr>\n",
       "    <tr>\n",
       "      <th>...</th>\n",
       "      <td>...</td>\n",
       "      <td>...</td>\n",
       "      <td>...</td>\n",
       "      <td>...</td>\n",
       "      <td>...</td>\n",
       "    </tr>\n",
       "    <tr>\n",
       "      <th>4724</th>\n",
       "      <td>C_ID_2855ec6b65</td>\n",
       "      <td>-0.198712</td>\n",
       "      <td>-0.198656</td>\n",
       "      <td>-0.000056</td>\n",
       "      <td>0.000056</td>\n",
       "    </tr>\n",
       "    <tr>\n",
       "      <th>96018</th>\n",
       "      <td>C_ID_afa305ed97</td>\n",
       "      <td>0.245381</td>\n",
       "      <td>0.245438</td>\n",
       "      <td>-0.000056</td>\n",
       "      <td>0.000056</td>\n",
       "    </tr>\n",
       "    <tr>\n",
       "      <th>39014</th>\n",
       "      <td>C_ID_ba9fee9018</td>\n",
       "      <td>-0.048125</td>\n",
       "      <td>-0.048180</td>\n",
       "      <td>0.000055</td>\n",
       "      <td>0.000055</td>\n",
       "    </tr>\n",
       "    <tr>\n",
       "      <th>6611</th>\n",
       "      <td>C_ID_4a86e07d0e</td>\n",
       "      <td>-0.247639</td>\n",
       "      <td>-0.247691</td>\n",
       "      <td>0.000053</td>\n",
       "      <td>0.000053</td>\n",
       "    </tr>\n",
       "    <tr>\n",
       "      <th>33384</th>\n",
       "      <td>C_ID_324672fe50</td>\n",
       "      <td>-0.583335</td>\n",
       "      <td>-0.583286</td>\n",
       "      <td>-0.000049</td>\n",
       "      <td>0.000049</td>\n",
       "    </tr>\n",
       "    <tr>\n",
       "      <th>85629</th>\n",
       "      <td>C_ID_d38703e11b</td>\n",
       "      <td>0.117956</td>\n",
       "      <td>0.118003</td>\n",
       "      <td>-0.000046</td>\n",
       "      <td>0.000046</td>\n",
       "    </tr>\n",
       "    <tr>\n",
       "      <th>44643</th>\n",
       "      <td>C_ID_795bc23dda</td>\n",
       "      <td>-0.488673</td>\n",
       "      <td>-0.488717</td>\n",
       "      <td>0.000045</td>\n",
       "      <td>0.000045</td>\n",
       "    </tr>\n",
       "    <tr>\n",
       "      <th>61246</th>\n",
       "      <td>C_ID_2dbdc3b1f1</td>\n",
       "      <td>-0.689048</td>\n",
       "      <td>-0.689091</td>\n",
       "      <td>0.000043</td>\n",
       "      <td>0.000043</td>\n",
       "    </tr>\n",
       "    <tr>\n",
       "      <th>48029</th>\n",
       "      <td>C_ID_44a27cac9a</td>\n",
       "      <td>-2.106851</td>\n",
       "      <td>-2.106811</td>\n",
       "      <td>-0.000040</td>\n",
       "      <td>0.000040</td>\n",
       "    </tr>\n",
       "    <tr>\n",
       "      <th>81328</th>\n",
       "      <td>C_ID_fbfb61fd12</td>\n",
       "      <td>-0.059187</td>\n",
       "      <td>-0.059227</td>\n",
       "      <td>0.000040</td>\n",
       "      <td>0.000040</td>\n",
       "    </tr>\n",
       "    <tr>\n",
       "      <th>101783</th>\n",
       "      <td>C_ID_b64eb70b63</td>\n",
       "      <td>-0.465038</td>\n",
       "      <td>-0.465077</td>\n",
       "      <td>0.000039</td>\n",
       "      <td>0.000039</td>\n",
       "    </tr>\n",
       "    <tr>\n",
       "      <th>99375</th>\n",
       "      <td>C_ID_d39537493e</td>\n",
       "      <td>-0.288798</td>\n",
       "      <td>-0.288835</td>\n",
       "      <td>0.000037</td>\n",
       "      <td>0.000037</td>\n",
       "    </tr>\n",
       "    <tr>\n",
       "      <th>77768</th>\n",
       "      <td>C_ID_1fb11162d4</td>\n",
       "      <td>-0.053867</td>\n",
       "      <td>-0.053831</td>\n",
       "      <td>-0.000036</td>\n",
       "      <td>0.000036</td>\n",
       "    </tr>\n",
       "    <tr>\n",
       "      <th>108735</th>\n",
       "      <td>C_ID_5d9d881405</td>\n",
       "      <td>-0.141654</td>\n",
       "      <td>-0.141620</td>\n",
       "      <td>-0.000034</td>\n",
       "      <td>0.000034</td>\n",
       "    </tr>\n",
       "    <tr>\n",
       "      <th>81516</th>\n",
       "      <td>C_ID_2d328352f4</td>\n",
       "      <td>0.126855</td>\n",
       "      <td>0.126884</td>\n",
       "      <td>-0.000029</td>\n",
       "      <td>0.000029</td>\n",
       "    </tr>\n",
       "    <tr>\n",
       "      <th>101188</th>\n",
       "      <td>C_ID_ebafe39fbe</td>\n",
       "      <td>0.117213</td>\n",
       "      <td>0.117188</td>\n",
       "      <td>0.000025</td>\n",
       "      <td>0.000025</td>\n",
       "    </tr>\n",
       "    <tr>\n",
       "      <th>79954</th>\n",
       "      <td>C_ID_bfca82341a</td>\n",
       "      <td>-2.463866</td>\n",
       "      <td>-2.463841</td>\n",
       "      <td>-0.000025</td>\n",
       "      <td>0.000025</td>\n",
       "    </tr>\n",
       "    <tr>\n",
       "      <th>79370</th>\n",
       "      <td>C_ID_53166c62c5</td>\n",
       "      <td>0.051921</td>\n",
       "      <td>0.051901</td>\n",
       "      <td>0.000020</td>\n",
       "      <td>0.000020</td>\n",
       "    </tr>\n",
       "    <tr>\n",
       "      <th>95427</th>\n",
       "      <td>C_ID_916789f6c1</td>\n",
       "      <td>-0.314531</td>\n",
       "      <td>-0.314549</td>\n",
       "      <td>0.000018</td>\n",
       "      <td>0.000018</td>\n",
       "    </tr>\n",
       "    <tr>\n",
       "      <th>8967</th>\n",
       "      <td>C_ID_19edc7a24a</td>\n",
       "      <td>-0.461242</td>\n",
       "      <td>-0.461259</td>\n",
       "      <td>0.000018</td>\n",
       "      <td>0.000018</td>\n",
       "    </tr>\n",
       "    <tr>\n",
       "      <th>38174</th>\n",
       "      <td>C_ID_5ecad57e22</td>\n",
       "      <td>-0.717799</td>\n",
       "      <td>-0.717782</td>\n",
       "      <td>-0.000017</td>\n",
       "      <td>0.000017</td>\n",
       "    </tr>\n",
       "    <tr>\n",
       "      <th>79969</th>\n",
       "      <td>C_ID_bf41501b24</td>\n",
       "      <td>-0.276269</td>\n",
       "      <td>-0.276252</td>\n",
       "      <td>-0.000017</td>\n",
       "      <td>0.000017</td>\n",
       "    </tr>\n",
       "    <tr>\n",
       "      <th>46968</th>\n",
       "      <td>C_ID_91d93ee3a8</td>\n",
       "      <td>0.007016</td>\n",
       "      <td>0.007000</td>\n",
       "      <td>0.000016</td>\n",
       "      <td>0.000016</td>\n",
       "    </tr>\n",
       "    <tr>\n",
       "      <th>50446</th>\n",
       "      <td>C_ID_6a43f8fa0d</td>\n",
       "      <td>-0.004795</td>\n",
       "      <td>-0.004781</td>\n",
       "      <td>-0.000015</td>\n",
       "      <td>0.000015</td>\n",
       "    </tr>\n",
       "    <tr>\n",
       "      <th>12430</th>\n",
       "      <td>C_ID_f910b5601b</td>\n",
       "      <td>-0.161426</td>\n",
       "      <td>-0.161440</td>\n",
       "      <td>0.000014</td>\n",
       "      <td>0.000014</td>\n",
       "    </tr>\n",
       "    <tr>\n",
       "      <th>19513</th>\n",
       "      <td>C_ID_e2e1179649</td>\n",
       "      <td>0.685218</td>\n",
       "      <td>0.685227</td>\n",
       "      <td>-0.000009</td>\n",
       "      <td>0.000009</td>\n",
       "    </tr>\n",
       "    <tr>\n",
       "      <th>58292</th>\n",
       "      <td>C_ID_0a423f7112</td>\n",
       "      <td>-0.447710</td>\n",
       "      <td>-0.447702</td>\n",
       "      <td>-0.000008</td>\n",
       "      <td>0.000008</td>\n",
       "    </tr>\n",
       "    <tr>\n",
       "      <th>103851</th>\n",
       "      <td>C_ID_3e996cc138</td>\n",
       "      <td>-0.305273</td>\n",
       "      <td>-0.305281</td>\n",
       "      <td>0.000007</td>\n",
       "      <td>0.000007</td>\n",
       "    </tr>\n",
       "    <tr>\n",
       "      <th>32396</th>\n",
       "      <td>C_ID_453fcb76dd</td>\n",
       "      <td>-0.395539</td>\n",
       "      <td>-0.395534</td>\n",
       "      <td>-0.000005</td>\n",
       "      <td>0.000005</td>\n",
       "    </tr>\n",
       "    <tr>\n",
       "      <th>92269</th>\n",
       "      <td>C_ID_cca8891559</td>\n",
       "      <td>0.143425</td>\n",
       "      <td>0.143421</td>\n",
       "      <td>0.000004</td>\n",
       "      <td>0.000004</td>\n",
       "    </tr>\n",
       "  </tbody>\n",
       "</table>\n",
       "<p>110015 rows × 5 columns</p>\n",
       "</div>"
      ],
      "text/plain": [
       "                card_id     target  bestlb_target       diff   abs_diff\n",
       "101128  C_ID_dc932bbd89 -12.584950     -33.219281  20.634331  20.634331\n",
       "93819   C_ID_c27856d211 -12.974988     -33.219281  20.244293  20.244293\n",
       "3041    C_ID_47a06004a5 -13.487496     -33.219281  19.731785  19.731785\n",
       "106661  C_ID_4cdcd7bbb1 -13.998568     -33.219281  19.220713  19.220713\n",
       "24486   C_ID_493de71141 -14.166151     -33.219281  19.053130  19.053130\n",
       "38533   C_ID_dc60219f6c -15.150049     -33.219281  18.069232  18.069232\n",
       "22046   C_ID_151cb0ccbd -15.985468     -33.219281  17.233813  17.233813\n",
       "63113   C_ID_833aa2f7af -16.944280     -33.219281  16.275001  16.275001\n",
       "60326   C_ID_3b5972c942 -16.945252     -33.219281  16.274029  16.274029\n",
       "17088   C_ID_0be3fb41d2 -17.125164     -33.219281  16.094117  16.094117\n",
       "71999   C_ID_bced41d837 -17.372979     -33.219281  15.846302  15.846302\n",
       "101578  C_ID_e54aeb08f7 -17.440697     -33.219281  15.778584  15.778584\n",
       "39685   C_ID_75519a6d74 -18.310810     -33.219281  14.908471  14.908471\n",
       "24964   C_ID_e7f772dfc0 -19.847163     -33.219281  13.372118  13.372118\n",
       "18354   C_ID_aae50409e7 -20.227504     -33.219281  12.991777  12.991777\n",
       "28946   C_ID_ac114ef831 -21.683691     -33.219281  11.535590  11.535590\n",
       "93460   C_ID_86ddafb51c -22.181030     -33.219281  11.038251  11.038251\n",
       "6938    C_ID_a74b12dcf8 -22.189595     -33.219281  11.029686  11.029686\n",
       "55069   C_ID_7590c5ff99  -3.626883     -10.148168   6.521285   6.521285\n",
       "64929   C_ID_75c2316ae3 -12.774028     -18.022005   5.247977   5.247977\n",
       "101794  C_ID_377003c3ad  -6.932319     -12.028684   5.096366   5.096366\n",
       "72680   C_ID_3ba4759657  -7.209157     -11.916744   4.707587   4.707587\n",
       "86500   C_ID_64f4df14d5 -14.354640      -9.800627  -4.554012   4.554012\n",
       "99303   C_ID_da3b8bd9b2  -7.406995     -11.881528   4.474533   4.474533\n",
       "36684   C_ID_d706b6696a -15.511371     -19.956021   4.444650   4.444650\n",
       "102908  C_ID_afbab1ba44  -8.277780     -12.654675   4.376896   4.376896\n",
       "24383   C_ID_7f5f950342 -13.060463     -17.339875   4.279412   4.279412\n",
       "28666   C_ID_6c988a9d0a -14.085227      -9.843604  -4.241623   4.241623\n",
       "33680   C_ID_61faff41fb  -6.105937     -10.346065   4.240128   4.240128\n",
       "24903   C_ID_14989f1bef -10.375711      -6.396090  -3.979622   3.979622\n",
       "...                 ...        ...            ...        ...        ...\n",
       "4724    C_ID_2855ec6b65  -0.198712      -0.198656  -0.000056   0.000056\n",
       "96018   C_ID_afa305ed97   0.245381       0.245438  -0.000056   0.000056\n",
       "39014   C_ID_ba9fee9018  -0.048125      -0.048180   0.000055   0.000055\n",
       "6611    C_ID_4a86e07d0e  -0.247639      -0.247691   0.000053   0.000053\n",
       "33384   C_ID_324672fe50  -0.583335      -0.583286  -0.000049   0.000049\n",
       "85629   C_ID_d38703e11b   0.117956       0.118003  -0.000046   0.000046\n",
       "44643   C_ID_795bc23dda  -0.488673      -0.488717   0.000045   0.000045\n",
       "61246   C_ID_2dbdc3b1f1  -0.689048      -0.689091   0.000043   0.000043\n",
       "48029   C_ID_44a27cac9a  -2.106851      -2.106811  -0.000040   0.000040\n",
       "81328   C_ID_fbfb61fd12  -0.059187      -0.059227   0.000040   0.000040\n",
       "101783  C_ID_b64eb70b63  -0.465038      -0.465077   0.000039   0.000039\n",
       "99375   C_ID_d39537493e  -0.288798      -0.288835   0.000037   0.000037\n",
       "77768   C_ID_1fb11162d4  -0.053867      -0.053831  -0.000036   0.000036\n",
       "108735  C_ID_5d9d881405  -0.141654      -0.141620  -0.000034   0.000034\n",
       "81516   C_ID_2d328352f4   0.126855       0.126884  -0.000029   0.000029\n",
       "101188  C_ID_ebafe39fbe   0.117213       0.117188   0.000025   0.000025\n",
       "79954   C_ID_bfca82341a  -2.463866      -2.463841  -0.000025   0.000025\n",
       "79370   C_ID_53166c62c5   0.051921       0.051901   0.000020   0.000020\n",
       "95427   C_ID_916789f6c1  -0.314531      -0.314549   0.000018   0.000018\n",
       "8967    C_ID_19edc7a24a  -0.461242      -0.461259   0.000018   0.000018\n",
       "38174   C_ID_5ecad57e22  -0.717799      -0.717782  -0.000017   0.000017\n",
       "79969   C_ID_bf41501b24  -0.276269      -0.276252  -0.000017   0.000017\n",
       "46968   C_ID_91d93ee3a8   0.007016       0.007000   0.000016   0.000016\n",
       "50446   C_ID_6a43f8fa0d  -0.004795      -0.004781  -0.000015   0.000015\n",
       "12430   C_ID_f910b5601b  -0.161426      -0.161440   0.000014   0.000014\n",
       "19513   C_ID_e2e1179649   0.685218       0.685227  -0.000009   0.000009\n",
       "58292   C_ID_0a423f7112  -0.447710      -0.447702  -0.000008   0.000008\n",
       "103851  C_ID_3e996cc138  -0.305273      -0.305281   0.000007   0.000007\n",
       "32396   C_ID_453fcb76dd  -0.395539      -0.395534  -0.000005   0.000005\n",
       "92269   C_ID_cca8891559   0.143425       0.143421   0.000004   0.000004\n",
       "\n",
       "[110015 rows x 5 columns]"
      ]
     },
     "execution_count": 30,
     "metadata": {},
     "output_type": "execute_result"
    }
   ],
   "source": [
    "wow_isleak.sort_values('abs_diff',ascending=False)"
   ]
  },
  {
   "cell_type": "code",
   "execution_count": 22,
   "metadata": {},
   "outputs": [],
   "source": [
    "wow_isleak['diff'] = wow_isleak['target'] - my_best['target']"
   ]
  },
  {
   "cell_type": "code",
   "execution_count": 23,
   "metadata": {
    "scrolled": true
   },
   "outputs": [
    {
     "data": {
      "text/html": [
       "<div>\n",
       "<style scoped>\n",
       "    .dataframe tbody tr th:only-of-type {\n",
       "        vertical-align: middle;\n",
       "    }\n",
       "\n",
       "    .dataframe tbody tr th {\n",
       "        vertical-align: top;\n",
       "    }\n",
       "\n",
       "    .dataframe thead th {\n",
       "        text-align: right;\n",
       "    }\n",
       "</style>\n",
       "<table border=\"1\" class=\"dataframe\">\n",
       "  <thead>\n",
       "    <tr style=\"text-align: right;\">\n",
       "      <th></th>\n",
       "      <th>card_id</th>\n",
       "      <th>target</th>\n",
       "      <th>diff</th>\n",
       "    </tr>\n",
       "  </thead>\n",
       "  <tbody>\n",
       "    <tr>\n",
       "      <th>93460</th>\n",
       "      <td>C_ID_86ddafb51c</td>\n",
       "      <td>-22.181030</td>\n",
       "      <td>-22.085152</td>\n",
       "    </tr>\n",
       "    <tr>\n",
       "      <th>18354</th>\n",
       "      <td>C_ID_aae50409e7</td>\n",
       "      <td>-20.227504</td>\n",
       "      <td>-21.558903</td>\n",
       "    </tr>\n",
       "    <tr>\n",
       "      <th>28946</th>\n",
       "      <td>C_ID_ac114ef831</td>\n",
       "      <td>-21.683691</td>\n",
       "      <td>-21.497695</td>\n",
       "    </tr>\n",
       "    <tr>\n",
       "      <th>6938</th>\n",
       "      <td>C_ID_a74b12dcf8</td>\n",
       "      <td>-22.189595</td>\n",
       "      <td>-21.345262</td>\n",
       "    </tr>\n",
       "    <tr>\n",
       "      <th>69448</th>\n",
       "      <td>C_ID_6ab591cf62</td>\n",
       "      <td>-20.877324</td>\n",
       "      <td>-20.727181</td>\n",
       "    </tr>\n",
       "    <tr>\n",
       "      <th>24964</th>\n",
       "      <td>C_ID_e7f772dfc0</td>\n",
       "      <td>-19.847163</td>\n",
       "      <td>-19.370834</td>\n",
       "    </tr>\n",
       "    <tr>\n",
       "      <th>63113</th>\n",
       "      <td>C_ID_833aa2f7af</td>\n",
       "      <td>-16.944280</td>\n",
       "      <td>-17.972609</td>\n",
       "    </tr>\n",
       "    <tr>\n",
       "      <th>60326</th>\n",
       "      <td>C_ID_3b5972c942</td>\n",
       "      <td>-16.945252</td>\n",
       "      <td>-17.626083</td>\n",
       "    </tr>\n",
       "    <tr>\n",
       "      <th>71999</th>\n",
       "      <td>C_ID_bced41d837</td>\n",
       "      <td>-17.372979</td>\n",
       "      <td>-17.307571</td>\n",
       "    </tr>\n",
       "    <tr>\n",
       "      <th>31960</th>\n",
       "      <td>C_ID_5ee52cf9f6</td>\n",
       "      <td>-17.120474</td>\n",
       "      <td>-17.167040</td>\n",
       "    </tr>\n",
       "    <tr>\n",
       "      <th>101578</th>\n",
       "      <td>C_ID_e54aeb08f7</td>\n",
       "      <td>-17.440697</td>\n",
       "      <td>-17.138727</td>\n",
       "    </tr>\n",
       "    <tr>\n",
       "      <th>17088</th>\n",
       "      <td>C_ID_0be3fb41d2</td>\n",
       "      <td>-17.125164</td>\n",
       "      <td>-17.022019</td>\n",
       "    </tr>\n",
       "    <tr>\n",
       "      <th>95908</th>\n",
       "      <td>C_ID_0c22eb865e</td>\n",
       "      <td>-17.059057</td>\n",
       "      <td>-16.770116</td>\n",
       "    </tr>\n",
       "    <tr>\n",
       "      <th>75715</th>\n",
       "      <td>C_ID_00bf566320</td>\n",
       "      <td>-16.470451</td>\n",
       "      <td>-16.687057</td>\n",
       "    </tr>\n",
       "    <tr>\n",
       "      <th>38533</th>\n",
       "      <td>C_ID_dc60219f6c</td>\n",
       "      <td>-15.150049</td>\n",
       "      <td>-16.515337</td>\n",
       "    </tr>\n",
       "    <tr>\n",
       "      <th>58756</th>\n",
       "      <td>C_ID_7d3b40444e</td>\n",
       "      <td>-16.933686</td>\n",
       "      <td>-16.283703</td>\n",
       "    </tr>\n",
       "    <tr>\n",
       "      <th>48884</th>\n",
       "      <td>C_ID_761c27a0f2</td>\n",
       "      <td>-15.447642</td>\n",
       "      <td>-16.241888</td>\n",
       "    </tr>\n",
       "    <tr>\n",
       "      <th>36684</th>\n",
       "      <td>C_ID_d706b6696a</td>\n",
       "      <td>-15.511371</td>\n",
       "      <td>-16.111970</td>\n",
       "    </tr>\n",
       "    <tr>\n",
       "      <th>22046</th>\n",
       "      <td>C_ID_151cb0ccbd</td>\n",
       "      <td>-15.985468</td>\n",
       "      <td>-16.109459</td>\n",
       "    </tr>\n",
       "    <tr>\n",
       "      <th>42475</th>\n",
       "      <td>C_ID_eccc654bc9</td>\n",
       "      <td>-16.403018</td>\n",
       "      <td>-15.852274</td>\n",
       "    </tr>\n",
       "    <tr>\n",
       "      <th>39685</th>\n",
       "      <td>C_ID_75519a6d74</td>\n",
       "      <td>-18.310810</td>\n",
       "      <td>-15.635325</td>\n",
       "    </tr>\n",
       "    <tr>\n",
       "      <th>85576</th>\n",
       "      <td>C_ID_03210f83f6</td>\n",
       "      <td>-14.590240</td>\n",
       "      <td>-15.543983</td>\n",
       "    </tr>\n",
       "    <tr>\n",
       "      <th>26578</th>\n",
       "      <td>C_ID_aae5d02fad</td>\n",
       "      <td>-15.386623</td>\n",
       "      <td>-15.244182</td>\n",
       "    </tr>\n",
       "    <tr>\n",
       "      <th>28031</th>\n",
       "      <td>C_ID_f09b0628b7</td>\n",
       "      <td>-15.446647</td>\n",
       "      <td>-15.215930</td>\n",
       "    </tr>\n",
       "    <tr>\n",
       "      <th>2439</th>\n",
       "      <td>C_ID_1edbae8171</td>\n",
       "      <td>-15.751742</td>\n",
       "      <td>-15.193416</td>\n",
       "    </tr>\n",
       "    <tr>\n",
       "      <th>15693</th>\n",
       "      <td>C_ID_d2fb662751</td>\n",
       "      <td>-15.129670</td>\n",
       "      <td>-15.066328</td>\n",
       "    </tr>\n",
       "    <tr>\n",
       "      <th>26151</th>\n",
       "      <td>C_ID_9a9bc5b779</td>\n",
       "      <td>-14.875965</td>\n",
       "      <td>-15.049206</td>\n",
       "    </tr>\n",
       "    <tr>\n",
       "      <th>106315</th>\n",
       "      <td>C_ID_3d40705001</td>\n",
       "      <td>-14.873396</td>\n",
       "      <td>-14.822923</td>\n",
       "    </tr>\n",
       "    <tr>\n",
       "      <th>50654</th>\n",
       "      <td>C_ID_9771b57a38</td>\n",
       "      <td>-15.711081</td>\n",
       "      <td>-14.650016</td>\n",
       "    </tr>\n",
       "    <tr>\n",
       "      <th>86500</th>\n",
       "      <td>C_ID_64f4df14d5</td>\n",
       "      <td>-14.354640</td>\n",
       "      <td>-14.647899</td>\n",
       "    </tr>\n",
       "    <tr>\n",
       "      <th>...</th>\n",
       "      <td>...</td>\n",
       "      <td>...</td>\n",
       "      <td>...</td>\n",
       "    </tr>\n",
       "    <tr>\n",
       "      <th>61601</th>\n",
       "      <td>C_ID_3ed551c875</td>\n",
       "      <td>0.556048</td>\n",
       "      <td>15.820278</td>\n",
       "    </tr>\n",
       "    <tr>\n",
       "      <th>83378</th>\n",
       "      <td>C_ID_a51d56c434</td>\n",
       "      <td>-0.091247</td>\n",
       "      <td>15.982929</td>\n",
       "    </tr>\n",
       "    <tr>\n",
       "      <th>41756</th>\n",
       "      <td>C_ID_29704a99ad</td>\n",
       "      <td>0.010673</td>\n",
       "      <td>16.029898</td>\n",
       "    </tr>\n",
       "    <tr>\n",
       "      <th>45119</th>\n",
       "      <td>C_ID_88699718d8</td>\n",
       "      <td>0.466802</td>\n",
       "      <td>16.094853</td>\n",
       "    </tr>\n",
       "    <tr>\n",
       "      <th>43763</th>\n",
       "      <td>C_ID_b0b1a3329a</td>\n",
       "      <td>0.795875</td>\n",
       "      <td>16.577525</td>\n",
       "    </tr>\n",
       "    <tr>\n",
       "      <th>67665</th>\n",
       "      <td>C_ID_bafd624bc2</td>\n",
       "      <td>-0.226437</td>\n",
       "      <td>16.609725</td>\n",
       "    </tr>\n",
       "    <tr>\n",
       "      <th>35851</th>\n",
       "      <td>C_ID_b62b67b77b</td>\n",
       "      <td>-0.860795</td>\n",
       "      <td>16.611563</td>\n",
       "    </tr>\n",
       "    <tr>\n",
       "      <th>29773</th>\n",
       "      <td>C_ID_23a92d855f</td>\n",
       "      <td>0.646354</td>\n",
       "      <td>16.616933</td>\n",
       "    </tr>\n",
       "    <tr>\n",
       "      <th>67890</th>\n",
       "      <td>C_ID_f57ea837ba</td>\n",
       "      <td>-1.835872</td>\n",
       "      <td>16.679736</td>\n",
       "    </tr>\n",
       "    <tr>\n",
       "      <th>31421</th>\n",
       "      <td>C_ID_876f1ae745</td>\n",
       "      <td>0.042992</td>\n",
       "      <td>16.794144</td>\n",
       "    </tr>\n",
       "    <tr>\n",
       "      <th>26864</th>\n",
       "      <td>C_ID_72abfcab00</td>\n",
       "      <td>-0.184620</td>\n",
       "      <td>17.034017</td>\n",
       "    </tr>\n",
       "    <tr>\n",
       "      <th>1772</th>\n",
       "      <td>C_ID_17544b33e4</td>\n",
       "      <td>-0.199327</td>\n",
       "      <td>17.222517</td>\n",
       "    </tr>\n",
       "    <tr>\n",
       "      <th>88371</th>\n",
       "      <td>C_ID_f1b4cc8f0a</td>\n",
       "      <td>-0.660438</td>\n",
       "      <td>17.488331</td>\n",
       "    </tr>\n",
       "    <tr>\n",
       "      <th>20556</th>\n",
       "      <td>C_ID_79362d7fd8</td>\n",
       "      <td>-3.023169</td>\n",
       "      <td>17.763885</td>\n",
       "    </tr>\n",
       "    <tr>\n",
       "      <th>108111</th>\n",
       "      <td>C_ID_993b326571</td>\n",
       "      <td>-0.800960</td>\n",
       "      <td>17.822505</td>\n",
       "    </tr>\n",
       "    <tr>\n",
       "      <th>107752</th>\n",
       "      <td>C_ID_266f0e7333</td>\n",
       "      <td>-1.066873</td>\n",
       "      <td>17.921390</td>\n",
       "    </tr>\n",
       "    <tr>\n",
       "      <th>25568</th>\n",
       "      <td>C_ID_a0a4a62ad3</td>\n",
       "      <td>-0.492048</td>\n",
       "      <td>17.956390</td>\n",
       "    </tr>\n",
       "    <tr>\n",
       "      <th>80840</th>\n",
       "      <td>C_ID_c4ca76c9e6</td>\n",
       "      <td>-0.352750</td>\n",
       "      <td>18.052601</td>\n",
       "    </tr>\n",
       "    <tr>\n",
       "      <th>103851</th>\n",
       "      <td>C_ID_3e996cc138</td>\n",
       "      <td>-0.305273</td>\n",
       "      <td>18.796775</td>\n",
       "    </tr>\n",
       "    <tr>\n",
       "      <th>17720</th>\n",
       "      <td>C_ID_34709f743b</td>\n",
       "      <td>-0.111084</td>\n",
       "      <td>18.797415</td>\n",
       "    </tr>\n",
       "    <tr>\n",
       "      <th>44491</th>\n",
       "      <td>C_ID_0c73c1fe41</td>\n",
       "      <td>-0.227635</td>\n",
       "      <td>18.822314</td>\n",
       "    </tr>\n",
       "    <tr>\n",
       "      <th>41138</th>\n",
       "      <td>C_ID_86191ee8a5</td>\n",
       "      <td>0.367740</td>\n",
       "      <td>18.901928</td>\n",
       "    </tr>\n",
       "    <tr>\n",
       "      <th>78078</th>\n",
       "      <td>C_ID_2b2fd18cb4</td>\n",
       "      <td>-0.213101</td>\n",
       "      <td>19.434124</td>\n",
       "    </tr>\n",
       "    <tr>\n",
       "      <th>96354</th>\n",
       "      <td>C_ID_8480d54aef</td>\n",
       "      <td>-0.076548</td>\n",
       "      <td>19.935518</td>\n",
       "    </tr>\n",
       "    <tr>\n",
       "      <th>77945</th>\n",
       "      <td>C_ID_b8921c1f16</td>\n",
       "      <td>-0.281353</td>\n",
       "      <td>20.905476</td>\n",
       "    </tr>\n",
       "    <tr>\n",
       "      <th>27982</th>\n",
       "      <td>C_ID_da17bc0849</td>\n",
       "      <td>0.190281</td>\n",
       "      <td>20.914896</td>\n",
       "    </tr>\n",
       "    <tr>\n",
       "      <th>7750</th>\n",
       "      <td>C_ID_4c4654440e</td>\n",
       "      <td>0.002904</td>\n",
       "      <td>21.190620</td>\n",
       "    </tr>\n",
       "    <tr>\n",
       "      <th>32446</th>\n",
       "      <td>C_ID_45188b080b</td>\n",
       "      <td>-1.756769</td>\n",
       "      <td>21.266905</td>\n",
       "    </tr>\n",
       "    <tr>\n",
       "      <th>5008</th>\n",
       "      <td>C_ID_1666d058ad</td>\n",
       "      <td>-0.277419</td>\n",
       "      <td>21.661964</td>\n",
       "    </tr>\n",
       "    <tr>\n",
       "      <th>104991</th>\n",
       "      <td>C_ID_6404289bef</td>\n",
       "      <td>0.642027</td>\n",
       "      <td>23.492061</td>\n",
       "    </tr>\n",
       "  </tbody>\n",
       "</table>\n",
       "<p>110015 rows × 3 columns</p>\n",
       "</div>"
      ],
      "text/plain": [
       "                card_id     target       diff\n",
       "93460   C_ID_86ddafb51c -22.181030 -22.085152\n",
       "18354   C_ID_aae50409e7 -20.227504 -21.558903\n",
       "28946   C_ID_ac114ef831 -21.683691 -21.497695\n",
       "6938    C_ID_a74b12dcf8 -22.189595 -21.345262\n",
       "69448   C_ID_6ab591cf62 -20.877324 -20.727181\n",
       "24964   C_ID_e7f772dfc0 -19.847163 -19.370834\n",
       "63113   C_ID_833aa2f7af -16.944280 -17.972609\n",
       "60326   C_ID_3b5972c942 -16.945252 -17.626083\n",
       "71999   C_ID_bced41d837 -17.372979 -17.307571\n",
       "31960   C_ID_5ee52cf9f6 -17.120474 -17.167040\n",
       "101578  C_ID_e54aeb08f7 -17.440697 -17.138727\n",
       "17088   C_ID_0be3fb41d2 -17.125164 -17.022019\n",
       "95908   C_ID_0c22eb865e -17.059057 -16.770116\n",
       "75715   C_ID_00bf566320 -16.470451 -16.687057\n",
       "38533   C_ID_dc60219f6c -15.150049 -16.515337\n",
       "58756   C_ID_7d3b40444e -16.933686 -16.283703\n",
       "48884   C_ID_761c27a0f2 -15.447642 -16.241888\n",
       "36684   C_ID_d706b6696a -15.511371 -16.111970\n",
       "22046   C_ID_151cb0ccbd -15.985468 -16.109459\n",
       "42475   C_ID_eccc654bc9 -16.403018 -15.852274\n",
       "39685   C_ID_75519a6d74 -18.310810 -15.635325\n",
       "85576   C_ID_03210f83f6 -14.590240 -15.543983\n",
       "26578   C_ID_aae5d02fad -15.386623 -15.244182\n",
       "28031   C_ID_f09b0628b7 -15.446647 -15.215930\n",
       "2439    C_ID_1edbae8171 -15.751742 -15.193416\n",
       "15693   C_ID_d2fb662751 -15.129670 -15.066328\n",
       "26151   C_ID_9a9bc5b779 -14.875965 -15.049206\n",
       "106315  C_ID_3d40705001 -14.873396 -14.822923\n",
       "50654   C_ID_9771b57a38 -15.711081 -14.650016\n",
       "86500   C_ID_64f4df14d5 -14.354640 -14.647899\n",
       "...                 ...        ...        ...\n",
       "61601   C_ID_3ed551c875   0.556048  15.820278\n",
       "83378   C_ID_a51d56c434  -0.091247  15.982929\n",
       "41756   C_ID_29704a99ad   0.010673  16.029898\n",
       "45119   C_ID_88699718d8   0.466802  16.094853\n",
       "43763   C_ID_b0b1a3329a   0.795875  16.577525\n",
       "67665   C_ID_bafd624bc2  -0.226437  16.609725\n",
       "35851   C_ID_b62b67b77b  -0.860795  16.611563\n",
       "29773   C_ID_23a92d855f   0.646354  16.616933\n",
       "67890   C_ID_f57ea837ba  -1.835872  16.679736\n",
       "31421   C_ID_876f1ae745   0.042992  16.794144\n",
       "26864   C_ID_72abfcab00  -0.184620  17.034017\n",
       "1772    C_ID_17544b33e4  -0.199327  17.222517\n",
       "88371   C_ID_f1b4cc8f0a  -0.660438  17.488331\n",
       "20556   C_ID_79362d7fd8  -3.023169  17.763885\n",
       "108111  C_ID_993b326571  -0.800960  17.822505\n",
       "107752  C_ID_266f0e7333  -1.066873  17.921390\n",
       "25568   C_ID_a0a4a62ad3  -0.492048  17.956390\n",
       "80840   C_ID_c4ca76c9e6  -0.352750  18.052601\n",
       "103851  C_ID_3e996cc138  -0.305273  18.796775\n",
       "17720   C_ID_34709f743b  -0.111084  18.797415\n",
       "44491   C_ID_0c73c1fe41  -0.227635  18.822314\n",
       "41138   C_ID_86191ee8a5   0.367740  18.901928\n",
       "78078   C_ID_2b2fd18cb4  -0.213101  19.434124\n",
       "96354   C_ID_8480d54aef  -0.076548  19.935518\n",
       "77945   C_ID_b8921c1f16  -0.281353  20.905476\n",
       "27982   C_ID_da17bc0849   0.190281  20.914896\n",
       "7750    C_ID_4c4654440e   0.002904  21.190620\n",
       "32446   C_ID_45188b080b  -1.756769  21.266905\n",
       "5008    C_ID_1666d058ad  -0.277419  21.661964\n",
       "104991  C_ID_6404289bef   0.642027  23.492061\n",
       "\n",
       "[110015 rows x 3 columns]"
      ]
     },
     "execution_count": 23,
     "metadata": {},
     "output_type": "execute_result"
    }
   ],
   "source": [
    "wow_isleak.sort_values('diff')"
   ]
  },
  {
   "cell_type": "code",
   "execution_count": 17,
   "metadata": {
    "scrolled": true
   },
   "outputs": [
    {
     "data": {
      "text/plain": [
       "<matplotlib.axes._subplots.AxesSubplot at 0xd307e10>"
      ]
     },
     "execution_count": 17,
     "metadata": {},
     "output_type": "execute_result"
    },
    {
     "data": {
      "image/png": "[encoded data removed]",
      "text/plain": [
       "<Figure size 432x288 with 1 Axes>"
      ]
     },
     "metadata": {
      "needs_background": "light"
     },
     "output_type": "display_data"
    }
   ],
   "source": [
    "sns.distplot(wow_isleak['target'])"
   ]
  },
  {
   "cell_type": "code",
   "execution_count": 21,
   "metadata": {},
   "outputs": [
    {
     "name": "stdout",
     "output_type": "stream",
     "text": [
      "107521.8392757299\n",
      "108589.77839666425\n",
      "107837.63279369769\n",
      "112560.8436474798\n"
     ]
    }
   ],
   "source": [
    "print(np.sum(np.abs(my_best['target'] - wow_isleak['target'])))\n",
    "print(np.sum(np.abs(my_best2['target'] - wow_isleak['target'])))\n",
    "print(np.sum(np.abs(my_best3['target'] - wow_isleak['target'])))\n",
    "print(np.sum(np.abs(something_diff3['target'] - wow_isleak['target'])))"
   ]
  },
  {
   "cell_type": "code",
   "execution_count": 15,
   "metadata": {},
   "outputs": [
    {
     "name": "stdout",
     "output_type": "stream",
     "text": [
      "109315.42416102049\n",
      "117442.60544842435\n"
     ]
    }
   ],
   "source": [
    "print(np.sum(np.abs(overfitting['target'] - something_diff3['target'])))\n",
    "print(np.sum(np.abs(overfitting['target'] - wow_isleak['target'])))"
   ]
  },
  {
   "cell_type": "code",
   "execution_count": 10,
   "metadata": {},
   "outputs": [
    {
     "name": "stdout",
     "output_type": "stream",
     "text": [
      "502.5984509435836\n",
      "650.1069461435834\n",
      "147.50849519999997\n",
      "112560.8436474798\n"
     ]
    }
   ],
   "source": [
    "print(np.sum(np.abs(something_diff2['target'] - something_diff3['target'])))\n",
    "print(np.sum(np.abs(something_diff2['target'] - something_diff4['target'])))\n",
    "print(np.sum(np.abs(something_diff3['target'] - something_diff4['target'])))\n"
   ]
  },
  {
   "cell_type": "code",
   "execution_count": 27,
   "metadata": {},
   "outputs": [
    {
     "data": {
      "text/plain": [
       "1625.0854073493745"
      ]
     },
     "execution_count": 27,
     "metadata": {},
     "output_type": "execute_result"
    }
   ],
   "source": [
    "np.sum(np.abs(something_diff2['target'] - something_diff3['target']))"
   ]
  },
  {
   "cell_type": "code",
   "execution_count": 29,
   "metadata": {},
   "outputs": [
    {
     "data": {
      "text/plain": [
       "0.9960295547717589"
      ]
     },
     "execution_count": 29,
     "metadata": {},
     "output_type": "execute_result"
    }
   ],
   "source": [
    "something_diff2['target'].corr(something_diff3['target'])"
   ]
  },
  {
   "cell_type": "code",
   "execution_count": 37,
   "metadata": {},
   "outputs": [
    {
     "data": {
      "text/plain": [
       "0.9963173326164035"
      ]
     },
     "execution_count": 37,
     "metadata": {},
     "output_type": "execute_result"
    }
   ],
   "source": [
    "something_diff2['target'].corr(something_diff3['target'])"
   ]
  },
  {
   "cell_type": "code",
   "execution_count": 6,
   "metadata": {},
   "outputs": [
    {
     "data": {
      "text/plain": [
       "9456.90663046056"
      ]
     },
     "execution_count": 6,
     "metadata": {},
     "output_type": "execute_result"
    }
   ],
   "source": [
    "np.sum(np.abs(my_best['target']-my_best2['target']))"
   ]
  },
  {
   "cell_type": "code",
   "execution_count": 20,
   "metadata": {},
   "outputs": [
    {
     "data": {
      "text/plain": [
       "8739.071004161533"
      ]
     },
     "execution_count": 20,
     "metadata": {},
     "output_type": "execute_result"
    }
   ],
   "source": [
    "np.sum(np.abs(my_best['target']-my_best3['target']))"
   ]
  },
  {
   "cell_type": "code",
   "execution_count": 8,
   "metadata": {},
   "outputs": [
    {
     "data": {
      "text/plain": [
       "23631.401353425223"
      ]
     },
     "execution_count": 8,
     "metadata": {},
     "output_type": "execute_result"
    }
   ],
   "source": [
    "np.sum(np.abs(something_diff2['target'] - my_best['target']))"
   ]
  },
  {
   "cell_type": "code",
   "execution_count": 10,
   "metadata": {},
   "outputs": [
    {
     "data": {
      "text/plain": [
       "23945.915748352243"
      ]
     },
     "execution_count": 10,
     "metadata": {},
     "output_type": "execute_result"
    }
   ],
   "source": [
    "np.sum(np.abs(something_diff2['target'] - my_best2['target']))"
   ]
  },
  {
   "cell_type": "code",
   "execution_count": 13,
   "metadata": {},
   "outputs": [
    {
     "data": {
      "text/plain": [
       "23978.966699560493"
      ]
     },
     "execution_count": 13,
     "metadata": {},
     "output_type": "execute_result"
    }
   ],
   "source": [
    "np.sum(np.abs(something_diff2['target'] - my_best3['target']))"
   ]
  },
  {
   "cell_type": "code",
   "execution_count": 22,
   "metadata": {},
   "outputs": [
    {
     "data": {
      "text/plain": [
       "0.9669816917131832"
      ]
     },
     "execution_count": 22,
     "metadata": {},
     "output_type": "execute_result"
    }
   ],
   "source": [
    "hyeonwoo_best['target'].corr(my_best['target'])"
   ]
  },
  {
   "cell_type": "code",
   "execution_count": 23,
   "metadata": {
    "scrolled": true
   },
   "outputs": [
    {
     "data": {
      "text/plain": [
       "0.966320182986105"
      ]
     },
     "execution_count": 23,
     "metadata": {},
     "output_type": "execute_result"
    }
   ],
   "source": [
    "hyeonwoo_best['target'].corr(my_best2['target'])"
   ]
  },
  {
   "cell_type": "code",
   "execution_count": 24,
   "metadata": {
    "scrolled": true
   },
   "outputs": [
    {
     "data": {
      "text/plain": [
       "0.9670974828793822"
      ]
     },
     "execution_count": 24,
     "metadata": {},
     "output_type": "execute_result"
    }
   ],
   "source": [
    "hyeonwoo_best['target'].corr(my_best3['target'])"
   ]
  },
  {
   "cell_type": "code",
   "execution_count": 21,
   "metadata": {},
   "outputs": [],
   "source": [
    "my_best = pd.read_csv('ensemble/test4/combine_submission_20190205_182031_cv3.642718.csv')\n",
    "hyeonwoo_best = pd.read_csv('ensemble/test4/v7_3.6444676717171722.csv')"
   ]
  },
  {
   "cell_type": "code",
   "execution_count": 3,
   "metadata": {},
   "outputs": [
    {
     "data": {
      "text/plain": [
       "0.9669816917131832"
      ]
     },
     "execution_count": 3,
     "metadata": {},
     "output_type": "execute_result"
    }
   ],
   "source": [
    "my_best['target'].corr(hyeonwoo_best['target'])"
   ]
  },
  {
   "cell_type": "code",
   "execution_count": 4,
   "metadata": {},
   "outputs": [],
   "source": [
    "my_best['target'] = my_best['target']*0.3 + hyeonwoo_best['target']*0.7\n",
    "my_best.to_csv('submission_hyeonwoo681_my684_0.7_0.3.csv',index=False)"
   ]
  },
  {
   "cell_type": "code",
   "execution_count": 104,
   "metadata": {},
   "outputs": [],
   "source": [
    "lbbest = pd.read_csv('ensemble/test5/ensemble_bestlb_with_best_single.csv')\n",
    "why = pd.read_csv('ensemble/test5/submission_blend_blend.csv')\n",
    "iscorrect = pd.read_csv('ensemble/test5/submission_blend_blend2.csv')\n",
    "something_diff = pd.read_csv('ensemble/test5/submission_blend_blend3.csv')\n",
    "something_diff2 = pd.read_csv('ensemble/test5/submission_blend_blend4.csv')"
   ]
  },
  {
   "cell_type": "code",
   "execution_count": 31,
   "metadata": {},
   "outputs": [
    {
     "data": {
      "text/plain": [
       "20"
      ]
     },
     "execution_count": 31,
     "metadata": {},
     "output_type": "execute_result"
    }
   ],
   "source": [
    "len(set(lbbest.loc[lbbest['target']<-30,'card_id'].values).intersection(set(something_diff.loc[something_diff['target']<-30,'card_id'].values)))"
   ]
  },
  {
   "cell_type": "code",
   "execution_count": null,
   "metadata": {},
   "outputs": [],
   "source": [
    "iscorrect"
   ]
  },
  {
   "cell_type": "code",
   "execution_count": 84,
   "metadata": {
    "scrolled": true
   },
   "outputs": [
    {
     "data": {
      "text/plain": [
       "0.029"
      ]
     },
     "execution_count": 84,
     "metadata": {},
     "output_type": "execute_result"
    }
   ],
   "source": [
    "np.sqrt(0.029**2)"
   ]
  },
  {
   "cell_type": "code",
   "execution_count": 82,
   "metadata": {
    "scrolled": true
   },
   "outputs": [
    {
     "data": {
      "text/plain": [
       "0.0"
      ]
     },
     "execution_count": 82,
     "metadata": {},
     "output_type": "execute_result"
    }
   ],
   "source": [
    "np.sum(why.loc[~why['card_id'].isin(iscorrect.loc[iscorrect['target']<-30,'card_id'].values),'target'] - iscorrect.loc[iscorrect['target']>-30,'target'])"
   ]
  },
  {
   "cell_type": "code",
   "execution_count": 121,
   "metadata": {},
   "outputs": [
    {
     "data": {
      "text/plain": [
       "3398     -1.365644\n",
       "5008      0.483608\n",
       "20556    -0.354106\n",
       "24677    -1.463619\n",
       "25739     0.919536\n",
       "27384     1.300800\n",
       "32446    -0.280895\n",
       "43215     0.488349\n",
       "43763     0.848221\n",
       "44491    -0.786997\n",
       "61765     1.245753\n",
       "67665     0.674761\n",
       "77658     1.127283\n",
       "79345     1.179830\n",
       "83378     1.196844\n",
       "104991   -1.006395\n",
       "105394   -0.843022\n",
       "113597    1.256447\n",
       "114106   -0.813720\n",
       "119851   -0.495242\n",
       "Name: target, dtype: float64"
      ]
     },
     "execution_count": 121,
     "metadata": {},
     "output_type": "execute_result"
    }
   ],
   "source": [
    "why.loc[why['card_id'].isin(iscorrect.loc[iscorrect['target']<-30,'card_id'].values),'target']"
   ]
  },
  {
   "cell_type": "code",
   "execution_count": 71,
   "metadata": {
    "scrolled": true
   },
   "outputs": [
    {
     "data": {
      "text/plain": [
       "0        -0.040623\n",
       "1         0.062780\n",
       "2         0.017250\n",
       "3         0.031262\n",
       "4         0.071227\n",
       "5        -0.092002\n",
       "6         0.055383\n",
       "7         0.018923\n",
       "8        -0.047844\n",
       "9         0.045258\n",
       "10        0.167557\n",
       "11       -0.043244\n",
       "12        0.023825\n",
       "13        0.117321\n",
       "14       -0.154941\n",
       "15       -0.013899\n",
       "16       -0.112848\n",
       "17       -0.017794\n",
       "18       -0.008031\n",
       "19        0.022394\n",
       "20       -0.096135\n",
       "21       -0.001481\n",
       "22        0.067861\n",
       "23       -0.031799\n",
       "24       -0.045992\n",
       "25       -0.052392\n",
       "26        0.125532\n",
       "27        0.015152\n",
       "28       -0.052254\n",
       "29        0.001462\n",
       "            ...   \n",
       "123593    0.021341\n",
       "123594    0.073414\n",
       "123595    0.024774\n",
       "123596    0.090034\n",
       "123597    0.021500\n",
       "123598    0.000651\n",
       "123599    0.133293\n",
       "123600    0.026994\n",
       "123601    0.094849\n",
       "123602    0.181432\n",
       "123603    0.007594\n",
       "123604    0.047981\n",
       "123605   -0.086172\n",
       "123606    0.032397\n",
       "123607    0.054929\n",
       "123608    0.124120\n",
       "123609    0.025416\n",
       "123610   -0.003670\n",
       "123611    0.076567\n",
       "123612    0.080626\n",
       "123613    0.103634\n",
       "123614    0.056240\n",
       "123615    0.046429\n",
       "123616    0.054260\n",
       "123617   -0.012067\n",
       "123618   -0.117690\n",
       "123619   -0.063195\n",
       "123620   -0.074002\n",
       "123621    0.184898\n",
       "123622    0.036535\n",
       "Name: target, Length: 123603, dtype: float64"
      ]
     },
     "execution_count": 71,
     "metadata": {},
     "output_type": "execute_result"
    }
   ],
   "source": [
    "why.loc[~why['card_id'].isin(iscorrect.loc[iscorrect['target']<-30,'card_id'].values),'target'] - lbbest.loc[~(lbbest['target']<-30),'target']"
   ]
  },
  {
   "cell_type": "code",
   "execution_count": 90,
   "metadata": {},
   "outputs": [
    {
     "data": {
      "text/plain": [
       "3.671379341084254"
      ]
     },
     "execution_count": 90,
     "metadata": {},
     "output_type": "execute_result"
    }
   ],
   "source": [
    "outlier_err = 33\n",
    "x_mean_err = np.sqrt((3.695**2*123624-(outlier_err**2*20))/123604)\n",
    "x_mean_err"
   ]
  },
  {
   "cell_type": "code",
   "execution_count": 91,
   "metadata": {},
   "outputs": [
    {
     "data": {
      "text/plain": [
       "3.695"
      ]
     },
     "execution_count": 91,
     "metadata": {},
     "output_type": "execute_result"
    }
   ],
   "source": [
    "np.sqrt((x_mean_err**2*123604+outlier_err**2*20)/123624)"
   ]
  },
  {
   "cell_type": "code",
   "execution_count": 97,
   "metadata": {},
   "outputs": [
    {
     "data": {
      "text/plain": [
       "-4609.891655999934"
      ]
     },
     "execution_count": 97,
     "metadata": {},
     "output_type": "execute_result"
    }
   ],
   "source": [
    "(3.666**2*123624-(x_mean_err**2*123604))"
   ]
  },
  {
   "cell_type": "code",
   "execution_count": 118,
   "metadata": {},
   "outputs": [
    {
     "data": {
      "text/plain": [
       "-4609.891655999934"
      ]
     },
     "execution_count": 118,
     "metadata": {},
     "output_type": "execute_result"
    }
   ],
   "source": [
    "(3.666**2*123624-(x_mean_err**2*123604))"
   ]
  },
  {
   "cell_type": "code",
   "execution_count": 120,
   "metadata": {},
   "outputs": [
    {
     "data": {
      "text/plain": [
       "15.182048043659877"
      ]
     },
     "execution_count": 120,
     "metadata": {},
     "output_type": "execute_result"
    }
   ],
   "source": [
    "np.sqrt(abs((3.666**2*123624-(x_mean_err**2*123604))/20))"
   ]
  },
  {
   "cell_type": "code",
   "execution_count": 50,
   "metadata": {},
   "outputs": [
    {
     "data": {
      "text/plain": [
       "33.06754774079416"
      ]
     },
     "execution_count": 50,
     "metadata": {},
     "output_type": "execute_result"
    }
   ],
   "source": [
    "np.sqrt(np.sum((why.loc[why['card_id'].isin(lbbest.loc[lbbest['target']<-30,'card_id'].values),'target']-33.21928095)**2)/20)"
   ]
  },
  {
   "cell_type": "code",
   "execution_count": 105,
   "metadata": {},
   "outputs": [
    {
     "data": {
      "text/plain": [
       "0.9958637625722945"
      ]
     },
     "execution_count": 105,
     "metadata": {},
     "output_type": "execute_result"
    }
   ],
   "source": [
    "lbbest['target'].corr(something_diff['target'])"
   ]
  },
  {
   "cell_type": "code",
   "execution_count": 106,
   "metadata": {},
   "outputs": [
    {
     "data": {
      "text/plain": [
       "0.9958416369403156"
      ]
     },
     "execution_count": 106,
     "metadata": {},
     "output_type": "execute_result"
    }
   ],
   "source": [
    "lbbest['target'].corr(something_diff2['target'])"
   ]
  },
  {
   "cell_type": "code",
   "execution_count": 110,
   "metadata": {},
   "outputs": [
    {
     "data": {
      "text/plain": [
       "0.9993362043399351"
      ]
     },
     "execution_count": 110,
     "metadata": {},
     "output_type": "execute_result"
    }
   ],
   "source": [
    "something_diff['target'].corr(something_diff2['target'])"
   ]
  },
  {
   "cell_type": "code",
   "execution_count": 113,
   "metadata": {
    "scrolled": true
   },
   "outputs": [
    {
     "data": {
      "text/plain": [
       "1704.9815143861683"
      ]
     },
     "execution_count": 113,
     "metadata": {},
     "output_type": "execute_result"
    }
   ],
   "source": [
    "np.sum(np.abs(something_diff['target'] - something_diff2['target']))"
   ]
  },
  {
   "cell_type": "code",
   "execution_count": 107,
   "metadata": {},
   "outputs": [
    {
     "data": {
      "text/plain": [
       "0.9982300989831512"
      ]
     },
     "execution_count": 107,
     "metadata": {},
     "output_type": "execute_result"
    }
   ],
   "source": [
    "iscorrect['target'].corr(something_diff2['target'])"
   ]
  },
  {
   "cell_type": "code",
   "execution_count": 108,
   "metadata": {},
   "outputs": [
    {
     "data": {
      "text/plain": [
       "0.9969667054185023"
      ]
     },
     "execution_count": 108,
     "metadata": {},
     "output_type": "execute_result"
    }
   ],
   "source": [
    "lbbest['target'].corr(iscorrect['target'])"
   ]
  },
  {
   "cell_type": "code",
   "execution_count": 25,
   "metadata": {},
   "outputs": [
    {
     "data": {
      "text/plain": [
       "(20, 2)"
      ]
     },
     "execution_count": 25,
     "metadata": {},
     "output_type": "execute_result"
    }
   ],
   "source": [
    "something_diff.loc[something_diff['card_id'].isin(lbbest.loc[lbbest['target']<-33,'card_id'].values)].shape"
   ]
  }
 ],
 "metadata": {
  "kernelspec": {
   "display_name": "Python 3",
   "language": "python",
   "name": "python3"
  },
  "language_info": {
   "codemirror_mode": {
    "name": "ipython",
    "version": 3
   },
   "file_extension": ".py",
   "mimetype": "text/x-python",
   "name": "python",
   "nbconvert_exporter": "python",
   "pygments_lexer": "ipython3",
   "version": "3.7.0"
  }
 },
 "nbformat": 4,
 "nbformat_minor": 2
}
