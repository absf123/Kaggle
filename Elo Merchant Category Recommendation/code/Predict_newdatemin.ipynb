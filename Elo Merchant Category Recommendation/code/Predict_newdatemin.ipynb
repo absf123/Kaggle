{
 "cells": [
  {
   "cell_type": "code",
   "execution_count": 1,
   "metadata": {},
   "outputs": [],
   "source": [
    "import gc\n",
    "from datetime import datetime, timedelta,date\n",
    "import warnings\n",
    "import itertools\n",
    "import numpy as np # linear algebra\n",
    "import pandas as pd # data processing, CSV file I/O (e.g. pd.read_csv)\n",
    "from sklearn.random_projection import GaussianRandomProjection\n",
    "from sklearn.random_projection import SparseRandomProjection,johnson_lindenstrauss_min_dim\n",
    "from sklearn.decomposition import PCA, FastICA,NMF,LatentDirichletAllocation,IncrementalPCA,MiniBatchSparsePCA\n",
    "from sklearn.decomposition import TruncatedSVD,FactorAnalysis,KernelPCA\n",
    "\n",
    "import seaborn as sns\n",
    "import lightgbm as lgb\n",
    "import matplotlib.pyplot as plt\n",
    "from sklearn.metrics import mean_squared_error, log_loss, mean_absolute_error\n",
    "from sklearn.model_selection import StratifiedKFold, KFold\n",
    "\n",
    "from scipy.stats import ks_2samp\n",
    "import tqdm\n",
    "\n",
    "#settings\n",
    "warnings.filterwarnings('ignore')\n",
    "np.random.seed(2018)\n",
    "pd.set_option(\"display.max_columns\", None)\n",
    "pd.set_option('display.max_rows',130)"
   ]
  },
  {
   "cell_type": "code",
   "execution_count": 2,
   "metadata": {},
   "outputs": [],
   "source": [
    "def get_prefix(group_col, target_col, prefix=None):\n",
    "    if isinstance(group_col, list) is True:\n",
    "        g = '_'.join(group_col)\n",
    "    else:\n",
    "        g = group_col\n",
    "    if isinstance(target_col, list) is True:\n",
    "        t = '_'.join(target_col)\n",
    "    else:\n",
    "        t = target_col\n",
    "    if prefix is not None:\n",
    "        return prefix + '_' + g + '_' + t\n",
    "    return g + '_' + t\n",
    "    \n",
    "def groupby_helper(df, group_col, target_col, agg_method, prefix_param=None):\n",
    "    try:\n",
    "        prefix = get_prefix(group_col, target_col, prefix_param)\n",
    "        print(group_col, target_col, agg_method)\n",
    "        group_df = df.groupby(group_col)[target_col].agg(agg_method)\n",
    "        group_df.columns = ['{}_{}'.format(prefix, m) for m in agg_method]\n",
    "    except BaseException as e:\n",
    "        print(e)\n",
    "    return group_df.reset_index()"
   ]
  },
  {
   "cell_type": "code",
   "execution_count": 3,
   "metadata": {},
   "outputs": [],
   "source": [
    "def create_new_columns(name,aggs):\n",
    "    return [name + '_' + k + '_' + agg for k in aggs.keys() for agg in aggs[k]]"
   ]
  },
  {
   "cell_type": "code",
   "execution_count": null,
   "metadata": {},
   "outputs": [],
   "source": [
    "historical_trans_df = pd.read_csv('input/historical_transactions.csv')\n",
    "new_merchant_trans_df = pd.read_csv('input/new_merchant_transactions.csv')\n",
    "merchant_df = pd.read_csv('input/merchants.csv')\n",
    "train_df = pd.read_csv('input/train.csv')\n",
    "test_df = pd.read_csv('input/test.csv')"
   ]
  },
  {
   "cell_type": "code",
   "execution_count": null,
   "metadata": {},
   "outputs": [],
   "source": [
    "def get_hist_default_prorcessing(df):\n",
    "    df['purchase_date'] = pd.to_datetime(df['purchase_date'])\n",
    "    df['year'] = df['purchase_date'].dt.year\n",
    "    df['weekofyear'] = df['purchase_date'].dt.weekofyear\n",
    "    df['month'] = df['purchase_date'].dt.month\n",
    "    df['dayofweek'] = df['purchase_date'].dt.dayofweek\n",
    "    df['weekend'] = (df.purchase_date.dt.weekday >=5).astype(int)\n",
    "    df['hour'] = df['purchase_date'].dt.hour\n",
    "    df['authorized_flag'] = df['authorized_flag'].map({'Y':1, 'N':0})\n",
    "    df['category_1'] = df['category_1'].map({'Y':1, 'N':0}) \n",
    "    df['category_3'] = df['category_3'].map({'A':0, 'B':1, 'C':2}) \n",
    "    df['month_diff'] = ((datetime(2012,4,1) - df['purchase_date']).dt.days)//30\n",
    "    df['month_diff'] += df['month_lag']\n",
    "    df['reference_date'] = (df['year']+(df['month'] - df['month_lag'])//12)*100 + (((df['month'] - df['month_lag'])%12) + 1)*1\n",
    "    return df"
   ]
  },
  {
   "cell_type": "code",
   "execution_count": null,
   "metadata": {},
   "outputs": [],
   "source": [
    "historical_trans_df = get_hist_default_prorcessing(historical_trans_df)\n",
    "new_merchant_trans_df = get_hist_default_prorcessing(new_merchant_trans_df)"
   ]
  },
  {
   "cell_type": "code",
   "execution_count": null,
   "metadata": {},
   "outputs": [],
   "source": [
    "historical_trans_df = historical_trans_df.sort_values('purchase_date')\n",
    "new_merchant_trans_df = new_merchant_trans_df.sort_values('purchase_date')"
   ]
  },
  {
   "cell_type": "code",
   "execution_count": null,
   "metadata": {},
   "outputs": [],
   "source": [
    "historical_trans_df.loc[historical_trans_df['installments']==999,'installments_999'] = 1\n",
    "new_merchant_trans_df.loc[new_merchant_trans_df['installments']==999,'installments_999'] = 1\n",
    "\n",
    "historical_trans_df.loc[historical_trans_df['installments']==999,'installments'] = -1\n",
    "new_merchant_trans_df.loc[new_merchant_trans_df['installments']==999,'installments_999'] = -1"
   ]
  },
  {
   "cell_type": "markdown",
   "metadata": {},
   "source": [
    "### Feature Engineering"
   ]
  },
  {
   "cell_type": "code",
   "execution_count": null,
   "metadata": {},
   "outputs": [],
   "source": [
    "all_df = pd.concat([train_df,test_df])"
   ]
  },
  {
   "cell_type": "code",
   "execution_count": null,
   "metadata": {},
   "outputs": [],
   "source": [
    "group_df = groupby_helper(historical_trans_df,['card_id','month_lag'], 'purchase_amount',['count','mean'])\n",
    "group_df['card_id_month_lag_purchase_amount_count'] = group_df['card_id_month_lag_purchase_amount_count']/(1-group_df['month_lag'])\n",
    "group_df['card_id_month_lag_purchase_amount_mean'] = group_df['card_id_month_lag_purchase_amount_mean']/(1-group_df['month_lag'])\n",
    "del group_df['month_lag']\n",
    "\n",
    "count_df = groupby_helper(group_df,['card_id'], 'card_id_month_lag_purchase_amount_count',['sum','mean','std'])\n",
    "mean_df = groupby_helper(group_df,['card_id'], 'card_id_month_lag_purchase_amount_mean',['sum','mean','std'])\n",
    "\n",
    "all_df = all_df.merge(count_df, on=['card_id'], how='left')\n",
    "all_df = all_df.merge(mean_df, on=['card_id'], how='left')"
   ]
  },
  {
   "cell_type": "code",
   "execution_count": null,
   "metadata": {},
   "outputs": [],
   "source": [
    "group_df = groupby_helper(historical_trans_df,['card_id'], 'month',['nunique','max','min','mean','std'])\n",
    "all_df = all_df.merge(group_df, on=['card_id'], how='left')"
   ]
  },
  {
   "cell_type": "code",
   "execution_count": null,
   "metadata": {},
   "outputs": [],
   "source": [
    "group_df = groupby_helper(historical_trans_df,['card_id'], 'merchant_id',['nunique'])\n",
    "all_df = all_df.merge(group_df, on=['card_id'], how='left')\n",
    "\n",
    "group_df = groupby_helper(historical_trans_df,['card_id'], 'merchant_category_id',['nunique'])\n",
    "all_df = all_df.merge(group_df, on=['card_id'], how='left')\n",
    "\n",
    "group_df = groupby_helper(historical_trans_df,['card_id'], 'subsector_id',['nunique'])\n",
    "all_df = all_df.merge(group_df, on=['card_id'], how='left')\n",
    "\n",
    "group_df = groupby_helper(historical_trans_df,['card_id'], 'state_id',['nunique'])\n",
    "all_df = all_df.merge(group_df, on=['card_id'], how='left')\n",
    "\n",
    "group_df = groupby_helper(historical_trans_df,['card_id'], 'city_id',['nunique'])\n",
    "all_df = all_df.merge(group_df, on=['card_id'], how='left')"
   ]
  },
  {
   "cell_type": "code",
   "execution_count": null,
   "metadata": {},
   "outputs": [],
   "source": [
    "aggs = {}\n",
    "\n",
    "for col in ['hour', 'weekofyear', 'dayofweek', 'year']:\n",
    "    aggs[col] = ['nunique', 'mean', 'min', 'max']\n",
    "    \n",
    "aggs['purchase_amount'] = ['sum','max','min','mean','var']\n",
    "aggs['installments'] = ['sum','max','min','mean','var']\n",
    "aggs['purchase_date'] = ['max','min']\n",
    "aggs['month_lag'] = ['max','min','mean','var']\n",
    "aggs['month_diff'] = ['mean', 'max', 'min', 'var']\n",
    "aggs['weekend'] = ['sum', 'mean', 'min', 'max']\n",
    "aggs['category_1'] = ['sum', 'mean', 'min', 'max']\n",
    "aggs['authorized_flag'] = ['sum', 'mean', 'min', 'max']\n",
    "#aggs['category_2'] = ['sum', 'mean', 'min', 'max']\n",
    "#aggs['category_3'] = ['sum', 'mean', 'min', 'max']\n",
    "aggs['card_id'] = ['size']\n",
    "aggs['reference_date'] = ['median']"
   ]
  },
  {
   "cell_type": "code",
   "execution_count": null,
   "metadata": {},
   "outputs": [],
   "source": [
    "new_columns = create_new_columns('hist',aggs)\n",
    "historical_trans_group_df = historical_trans_df.groupby('card_id').agg(aggs)\n",
    "historical_trans_group_df.columns = new_columns\n",
    "historical_trans_group_df.reset_index(drop=False,inplace=True)\n",
    "historical_trans_group_df['hist_purchase_date_diff'] = (historical_trans_group_df['hist_purchase_date_max'] - historical_trans_group_df['hist_purchase_date_min']).dt.days\n",
    "historical_trans_group_df['hist_purchase_date_average'] = historical_trans_group_df['hist_purchase_date_diff']/historical_trans_group_df['hist_card_id_size']\n",
    "historical_trans_group_df['hist_purchase_date_uptonow'] = (datetime(2012,4,1) - historical_trans_group_df['hist_purchase_date_max']).dt.days\n",
    "historical_trans_group_df['hist_purchase_date_uptomin'] = (datetime(2012,4,1) - historical_trans_group_df['hist_purchase_date_min']).dt.days\n",
    "all_df = all_df.merge(historical_trans_group_df, on=['card_id'], how='left')"
   ]
  },
  {
   "cell_type": "code",
   "execution_count": null,
   "metadata": {},
   "outputs": [],
   "source": [
    "def get_train_default_prorcessing(df):\n",
    "    df['first_active_month'] = pd.to_datetime(df['first_active_month'])\n",
    "    df['dayofweek'] = df['first_active_month'].dt.dayofweek\n",
    "    df['weekofyear'] = df['first_active_month'].dt.weekofyear\n",
    "    df['dayofyear'] = df['first_active_month'].dt.dayofyear\n",
    "    df['quarter'] = df['first_active_month'].dt.quarter\n",
    "    #df['is_month_start'] = df['first_active_month'].dt.is_month_start\n",
    "    df['month'] = df['first_active_month'].dt.month\n",
    "    df['year'] = df['first_active_month'].dt.year\n",
    "    \n",
    "    #df['elapsed_time'] = (datetime(2018, 2, 1).date() - df['first_active_month'].dt.date).dt.days\n",
    "    df['elapsed_time'] = (datetime(2019,1, 20) - df['first_active_month']).dt.days\n",
    "    #df['after_big_event'] = (datetime(2012,4, 1) - df['first_active_month']).dt.days\n",
    "    df['hist_first_buy'] = (df['hist_purchase_date_min'] - df['first_active_month']).dt.days\n",
    "    df['hist_last_buy'] = (df['hist_purchase_date_max'] - df['first_active_month']).dt.days\n",
    "    \n",
    "    df['year_month'] = df['year']*100 + df['month']\n",
    "    df['hist_diff_reference_date_first'] = 12*(df['hist_reference_date_median']//100 - df['year_month']//100) + (df['hist_reference_date_median']%100 - df['year_month']%100)\n",
    "    df['hist_diff_reference_date_last'] = 12*(df['hist_purchase_date_max'].dt.year - df['year_month']//100) + (df['hist_purchase_date_max'].dt.month - df['year_month']%100)\n",
    "\n",
    "    df['hist_diff_first_last'] = df['hist_diff_reference_date_first'] - df['hist_diff_reference_date_last']   \n",
    "    \n",
    "    df['hist_flag_ratio'] = df['hist_authorized_flag_sum'] / df['hist_card_id_size']\n",
    "    #df['new_flag_ratio'] = df['new_hist_authorized_flag_sum'] / df['new_hist_card_id_size']\n",
    "    #df['new_hist_flag_ratio'] = 1/(1+df['hist_flag_ratio'])\n",
    "    \n",
    "    for f in ['hist_purchase_date_max','hist_purchase_date_min']:\n",
    "        df[f] = df[f].astype(np.int64) * 1e-9   \n",
    "\n",
    "    df['hist_CLV'] = df['hist_card_id_size'] * df['hist_purchase_amount_sum'] / df['hist_month_diff_mean']\n",
    "    \n",
    "    del df['year']\n",
    "    del df['year_month']\n",
    "    return df"
   ]
  },
  {
   "cell_type": "code",
   "execution_count": 17,
   "metadata": {},
   "outputs": [],
   "source": [
    "all_df = get_train_default_prorcessing(all_df)"
   ]
  },
  {
   "cell_type": "code",
   "execution_count": 18,
   "metadata": {},
   "outputs": [],
   "source": [
    "all_df['feature123'] = all_df['feature_1'].astype(str) +'_'+all_df['feature_2'].astype(str)+'_'+all_df['feature_3'].astype(str)\n",
    "all_df['feature123'] = pd.factorize(all_df['feature123'])[0]"
   ]
  },
  {
   "cell_type": "code",
   "execution_count": 19,
   "metadata": {},
   "outputs": [
    {
     "name": "stdout",
     "output_type": "stream",
     "text": [
      "['card_id', 'month_lag'] subsector_id ['nunique']\n",
      "['card_id'] card_id_month_lag_subsector_id_nunique ['sum', 'mean', 'std']\n"
     ]
    }
   ],
   "source": [
    "group_df = groupby_helper(historical_trans_df,['card_id','month_lag'], 'subsector_id',['nunique'])\n",
    "group_df['card_id_month_lag_subsector_id_nunique'] = group_df['card_id_month_lag_subsector_id_nunique']/(1-group_df['month_lag'])\n",
    "del group_df['month_lag']\n",
    "\n",
    "count_df = groupby_helper(group_df,['card_id'], 'card_id_month_lag_subsector_id_nunique',['sum','mean','std'])\n",
    "\n",
    "all_df = all_df.merge(count_df, on=['card_id'], how='left')"
   ]
  },
  {
   "cell_type": "code",
   "execution_count": 27,
   "metadata": {},
   "outputs": [
    {
     "name": "stdout",
     "output_type": "stream",
     "text": [
      "card_id is_smaller_firstactive ['sum']\n",
      "card_id card_id ['size']\n"
     ]
    }
   ],
   "source": [
    "historical_trans_df =historical_trans_df.merge(all_df[['card_id','first_active_month','target','feature123']], on='card_id',how='left')\n",
    "historical_trans_df['ym'] = historical_trans_df['purchase_date'].dt.year*100 + historical_trans_df['purchase_date'].dt.month\n",
    "historical_trans_df['first_active_month_ym'] = historical_trans_df['first_active_month'].dt.year*100 + historical_trans_df['first_active_month'].dt.month\n",
    "historical_trans_df['is_smaller_firstactive'] = 0\n",
    "historical_trans_df.loc[historical_trans_df['ym']<=historical_trans_df['first_active_month_ym'],'is_smaller_firstactive'] = 1\n",
    "group_df = groupby_helper(historical_trans_df,'card_id', 'is_smaller_firstactive',['sum'])\n",
    "temp = groupby_helper(historical_trans_df,'card_id', 'card_id',['size'])\n",
    "group_df = group_df.merge(temp, on='card_id', how='left')\n",
    "group_df['before_firstactive_purchase_ratio']=group_df['card_id_is_smaller_firstactive_sum'] /group_df['card_id_card_id_size']\n",
    "all_df = all_df.merge(group_df[['card_id','before_firstactive_purchase_ratio']], on=['card_id'], how='left')"
   ]
  },
  {
   "cell_type": "code",
   "execution_count": 20,
   "metadata": {},
   "outputs": [],
   "source": [
    "all_df['feature123_frequency_encoding']= all_df['feature123'].map(all_df['feature123'].value_counts()/all_df.shape[0])"
   ]
  },
  {
   "cell_type": "markdown",
   "metadata": {},
   "source": [
    "마지막 1달, 마지막 3달, 마지막 6달 masking"
   ]
  },
  {
   "cell_type": "code",
   "execution_count": 86,
   "metadata": {},
   "outputs": [
    {
     "name": "stdout",
     "output_type": "stream",
     "text": [
      "['card_id'] month_lag ['min']\n"
     ]
    }
   ],
   "source": [
    "group_df = groupby_helper(historical_trans_df,['card_id'], 'month_lag',['min'])\n",
    "historical_trans_df = historical_trans_df.merge(group_df, on='card_id', how='left')"
   ]
  },
  {
   "cell_type": "code",
   "execution_count": 31,
   "metadata": {},
   "outputs": [],
   "source": [
    "group_df = historical_trans_df.groupby(['card_id'])['month_lag'].unique().reset_index()\n",
    "group_df['month_lag_last'] = group_df['month_lag'].apply(lambda x: x[-1])\n",
    "group_df['month_lag_last3month'] =group_df['month_lag'].apply(lambda x: x[-3:])\n",
    "group_df['month_lag_last3month'] = group_df['month_lag_last3month'].apply(lambda x: x[0])\n",
    "group_df['month_lag_last6month'] =group_df['month_lag'].apply(lambda x: x[-6:])\n",
    "group_df['month_lag_last6month'] = group_df['month_lag_last6month'].apply(lambda x: x[0])\n",
    "historical_trans_df = historical_trans_df.merge(group_df, on='card_id', how='left')\n",
    "del historical_trans_df['month_lag_y']\n",
    "historical_trans_df.rename(columns={'month_lag_x':'month_lag'},inplace=True)"
   ]
  },
  {
   "cell_type": "code",
   "execution_count": null,
   "metadata": {},
   "outputs": [],
   "source": [
    "last_month = historical_trans_df.loc[historical_trans_df['month_lag']==historical_trans_df['month_lag_last']]\n",
    "last_3month = historical_trans_df.loc[historical_trans_df['month_lag']>=historical_trans_df['month_lag_last3month']]\n",
    "last_6month = historical_trans_df.loc[historical_trans_df['month_lag']>=historical_trans_df['month_lag_last6month']]"
   ]
  },
  {
   "cell_type": "code",
   "execution_count": 48,
   "metadata": {},
   "outputs": [
    {
     "name": "stdout",
     "output_type": "stream",
     "text": [
      "['card_id'] merchant_id ['nunique']\n"
     ]
    }
   ],
   "source": [
    "group_df = groupby_helper(last_month,['card_id'], 'merchant_id',['nunique'],'last_month')\n",
    "all_df = all_df.merge(group_df, on=['card_id'], how='left')\n",
    "\n",
    "group_df = groupby_helper(last_month,['card_id'], 'subsector_id',['nunique'],'last_month')\n",
    "all_df = all_df.merge(group_df, on=['card_id'], how='left')\n",
    "\n",
    "group_df = groupby_helper(last_month,['card_id'], 'city_id',['nunique'],'last_month')\n",
    "all_df = all_df.merge(group_df, on=['card_id'], how='left')"
   ]
  },
  {
   "cell_type": "code",
   "execution_count": 107,
   "metadata": {
    "scrolled": true
   },
   "outputs": [
    {
     "name": "stdout",
     "output_type": "stream",
     "text": [
      "['card_id'] card_id ['size']\n",
      "['card_id'] purchase_amount ['sum', 'min', 'mean', 'max', 'std']\n"
     ]
    }
   ],
   "source": [
    "group_df = groupby_helper(last_month,['card_id'], 'card_id',['size'],'last_month')\n",
    "all_df = all_df.merge(group_df, on=['card_id'], how='left')\n",
    "\n",
    "group_df = groupby_helper(last_month,['card_id'], 'purchase_amount',['sum','min','mean','max','std'],'last_month')\n",
    "all_df = all_df.merge(group_df, on=['card_id'], how='left')"
   ]
  },
  {
   "cell_type": "code",
   "execution_count": 132,
   "metadata": {},
   "outputs": [
    {
     "name": "stdout",
     "output_type": "stream",
     "text": [
      "['card_id'] card_id ['size']\n",
      "['card_id'] card_id ['size']\n"
     ]
    }
   ],
   "source": [
    "group_df = groupby_helper(last_3month,['card_id'], 'card_id',['size'],'last_3month')\n",
    "all_df = all_df.merge(group_df, on=['card_id'], how='left')\n",
    "group_df = groupby_helper(last_6month,['card_id'], 'card_id',['size'],'last_6month')\n",
    "all_df = all_df.merge(group_df, on=['card_id'], how='left')"
   ]
  },
  {
   "cell_type": "code",
   "execution_count": 136,
   "metadata": {},
   "outputs": [],
   "source": [
    "historical_trans_df_merchant = historical_trans_df.merge(merchant_df[['merchant_id', 'merchant_group_id','numerical_1', 'numerical_2',\n",
    "       'most_recent_sales_range', 'most_recent_purchases_range',\n",
    "       'avg_sales_lag3', 'avg_purchases_lag3', 'active_months_lag3',\n",
    "       'avg_sales_lag6', 'avg_purchases_lag6', 'active_months_lag6',\n",
    "       'avg_sales_lag12', 'avg_purchases_lag12', 'active_months_lag12',\n",
    "       'category_4']], on='merchant_id', how='left')"
   ]
  },
  {
   "cell_type": "code",
   "execution_count": 137,
   "metadata": {},
   "outputs": [],
   "source": [
    "historical_trans_df_merchant['most_sales_purchases_range'] = historical_trans_df_merchant['most_recent_sales_range'] +historical_trans_df_merchant['most_recent_purchases_range']"
   ]
  },
  {
   "cell_type": "code",
   "execution_count": 138,
   "metadata": {},
   "outputs": [],
   "source": [
    "historical_trans_df_merchant['avg_lag3_aov'] = historical_trans_df_merchant['avg_sales_lag3']/historical_trans_df_merchant['avg_purchases_lag3']\n",
    "historical_trans_df_merchant['avg_lag3_conv'] = historical_trans_df_merchant['avg_purchases_lag3']/historical_trans_df_merchant['active_months_lag3']\n",
    "historical_trans_df_merchant['avg_lag3_rps'] = historical_trans_df_merchant['avg_sales_lag3']/historical_trans_df_merchant['active_months_lag3']\n",
    "historical_trans_df_merchant['avg_lag6_aov'] = historical_trans_df_merchant['avg_sales_lag6']/historical_trans_df_merchant['avg_purchases_lag6']\n",
    "historical_trans_df_merchant['avg_lag6_conv'] = historical_trans_df_merchant['avg_purchases_lag6']/historical_trans_df_merchant['active_months_lag6']\n",
    "historical_trans_df_merchant['avg_lag6_rps'] = historical_trans_df_merchant['avg_sales_lag6']/historical_trans_df_merchant['active_months_lag6']\n",
    "historical_trans_df_merchant['avg_lag12_aov'] = historical_trans_df_merchant['avg_sales_lag12']/historical_trans_df_merchant['avg_purchases_lag12']\n",
    "historical_trans_df_merchant['avg_lag12_conv'] = historical_trans_df_merchant['avg_purchases_lag12']/historical_trans_df_merchant['active_months_lag12']\n",
    "historical_trans_df_merchant['avg_lag12_rps'] = historical_trans_df_merchant['avg_sales_lag12']/historical_trans_df_merchant['active_months_lag12']"
   ]
  },
  {
   "cell_type": "code",
   "execution_count": 140,
   "metadata": {},
   "outputs": [
    {
     "name": "stdout",
     "output_type": "stream",
     "text": [
      "['card_id'] avg_lag3_rps ['min', 'max', 'sum', 'mean', 'std']\n"
     ]
    }
   ],
   "source": [
    "group_df = groupby_helper(historical_trans_df_merchant,['card_id'], 'avg_lag3_rps',['min','max','sum','mean','std'])\n",
    "all_df = all_df.merge(group_df, on=['card_id'], how='left')"
   ]
  },
  {
   "cell_type": "code",
   "execution_count": 155,
   "metadata": {},
   "outputs": [
    {
     "data": {
      "text/plain": [
       "Index(['authorized_flag', 'card_id', 'city_id', 'category_1', 'installments',\n",
       "       'category_3', 'merchant_category_id', 'merchant_id', 'month_lag',\n",
       "       'purchase_amount', 'purchase_date', 'category_2', 'state_id',\n",
       "       'subsector_id', 'year', 'weekofyear', 'month', 'dayofweek', 'weekend',\n",
       "       'hour', 'month_diff', 'reference_date', 'installments_999',\n",
       "       'month_lag_last', 'month_lag_last3month', 'month_lag_last6month',\n",
       "       'month_lag_last3month_first', 'month_lag_last6month_first',\n",
       "       'merchant_group_id', 'numerical_1', 'numerical_2',\n",
       "       'most_recent_sales_range', 'most_recent_purchases_range',\n",
       "       'avg_sales_lag3', 'avg_purchases_lag3', 'active_months_lag3',\n",
       "       'avg_sales_lag6', 'avg_purchases_lag6', 'active_months_lag6',\n",
       "       'avg_sales_lag12', 'avg_purchases_lag12', 'active_months_lag12',\n",
       "       'category_4', 'most_sales_purchases_range', 'avg_lag3_aov',\n",
       "       'avg_lag3_conv', 'avg_lag3_rps', 'avg_lag6_aov', 'avg_lag6_conv',\n",
       "       'avg_lag6_rps', 'avg_lag12_aov', 'avg_lag12_conv', 'avg_lag12_rps'],\n",
       "      dtype='object')"
      ]
     },
     "execution_count": 155,
     "metadata": {},
     "output_type": "execute_result"
    }
   ],
   "source": [
    "historical_trans_df_merchant.columns"
   ]
  },
  {
   "cell_type": "code",
   "execution_count": 157,
   "metadata": {},
   "outputs": [],
   "source": [
    "historical_trans_df_merchant['category_4'] = historical_trans_df_merchant['category_4'].map({'Y':1,'N':0})"
   ]
  },
  {
   "cell_type": "code",
   "execution_count": 162,
   "metadata": {
    "scrolled": true
   },
   "outputs": [
    {
     "name": "stdout",
     "output_type": "stream",
     "text": [
      "['card_id'] category_4 ['sum', 'mean']\n"
     ]
    }
   ],
   "source": [
    "group_df = groupby_helper(historical_trans_df_merchant,['card_id'], 'category_4',['sum','mean'])\n",
    "all_df = all_df.merge(group_df, on=['card_id'], how='left')"
   ]
  },
  {
   "cell_type": "code",
   "execution_count": 166,
   "metadata": {
    "scrolled": true
   },
   "outputs": [
    {
     "name": "stdout",
     "output_type": "stream",
     "text": [
      "['card_id'] category_4 ['sum', 'mean']\n"
     ]
    }
   ],
   "source": [
    "group_df = groupby_helper(historical_trans_df_merchant.loc[historical_trans_df_merchant['month_lag']==historical_trans_df_merchant['month_lag_last']],['card_id'], 'category_4',['sum','mean'],'last_month')\n",
    "all_df = all_df.merge(group_df, on=['card_id'], how='left')"
   ]
  },
  {
   "cell_type": "markdown",
   "metadata": {},
   "source": [
    "### 실패 피쳐"
   ]
  },
  {
   "cell_type": "code",
   "execution_count": 121,
   "metadata": {
    "scrolled": true
   },
   "outputs": [
    {
     "name": "stdout",
     "output_type": "stream",
     "text": [
      "['card_id'] merchant_id ['nunique']\n",
      "['card_id'] subsector_id ['nunique']\n",
      "['card_id'] city_id ['nunique']\n"
     ]
    }
   ],
   "source": [
    "last_month_auth1 = last_month.loc[last_month['authorized_flag']==1]\n",
    "group_df = groupby_helper(last_month_auth1,['card_id'], 'merchant_id',['nunique'],'last_month_auth1')\n",
    "all_df = all_df.merge(group_df, on=['card_id'], how='left')\n",
    "\n",
    "group_df = groupby_helper(last_month_auth1,['card_id'], 'subsector_id',['nunique'],'last_month_auth1')\n",
    "all_df = all_df.merge(group_df, on=['card_id'], how='left')\n",
    "\n",
    "group_df = groupby_helper(last_month_auth1,['card_id'], 'city_id',['nunique'],'last_month_auth1')\n",
    "all_df = all_df.merge(group_df, on=['card_id'], how='left')"
   ]
  },
  {
   "cell_type": "code",
   "execution_count": 97,
   "metadata": {},
   "outputs": [
    {
     "name": "stdout",
     "output_type": "stream",
     "text": [
      "['card_id'] city_id ['nunique']\n"
     ]
    }
   ],
   "source": [
    "group_df = groupby_helper(last_3month,['card_id'], 'city_id',['nunique'],'last_3month')\n",
    "all_df = all_df.merge(group_df, on=['card_id'], how='left')"
   ]
  },
  {
   "cell_type": "code",
   "execution_count": 102,
   "metadata": {},
   "outputs": [
    {
     "name": "stdout",
     "output_type": "stream",
     "text": [
      "['card_id'] merchant_id ['nunique']\n"
     ]
    }
   ],
   "source": [
    "group_df = groupby_helper(last_6month,['card_id'], 'merchant_id',['nunique'],'last_6month')\n",
    "all_df = all_df.merge(group_df, on=['card_id'], how='left')"
   ]
  },
  {
   "cell_type": "code",
   "execution_count": 80,
   "metadata": {
    "scrolled": true
   },
   "outputs": [],
   "source": [
    "group_df = groupby_helper(historical_trans_df,['card_id','ym'], 'merchant_id',['nunique'])\n",
    "group_df_pivot = group_df.pivot('card_id','ym','card_id_ym_merchant_id_nunique').reset_index()\n",
    "group_df_pivot.columns = ['card_id'] + ['ym_{}_card_id_ym_merchant_id_nunique'.format(m) for m in [201701,    201702,    201703,    201704,    201705,\n",
    "          201706,    201707,    201708,    201709,    201710,    201711,\n",
    "          201712,    201801,    201802]]\n",
    "all_df = all_df.merge(group_df_pivot, on=['card_id'], how='left')"
   ]
  },
  {
   "cell_type": "code",
   "execution_count": null,
   "metadata": {},
   "outputs": [
    {
     "name": "stdout",
     "output_type": "stream",
     "text": [
      "['card_id', 'month_lag'] merchant_id ['nunique']\n"
     ]
    }
   ],
   "source": [
    "group_df = groupby_helper(historical_trans_df,['card_id','month_lag'], 'merchant_id',['nunique'])\n",
    "group_df['card_id_month_lag_merchant_id_nunique'] = group_df['card_id_month_lag_merchant_id_nunique']/(1-group_df['month_lag'])\n",
    "del group_df['month_lag']\n",
    "\n",
    "count_df = groupby_helper(group_df,['card_id'], 'card_id_month_lag_merchant_id_nunique',['sum','mean','std'])\n",
    "\n",
    "all_df = all_df.merge(count_df, on=['card_id'], how='left')"
   ]
  },
  {
   "cell_type": "code",
   "execution_count": 45,
   "metadata": {},
   "outputs": [
    {
     "name": "stdout",
     "output_type": "stream",
     "text": [
      "card_id subsector_id ['nunique']\n"
     ]
    }
   ],
   "source": [
    "group_df_mode = pd.read_csv('input/subsector_id_mode.csv')\n",
    "group_df = groupby_helper(group_df_mode.reset_index(),'card_id', 'subsector_id',['nunique'],'mode')\n",
    "all_df = all_df.merge(group_df, on=['card_id'], how='left')"
   ]
  },
  {
   "cell_type": "code",
   "execution_count": 46,
   "metadata": {},
   "outputs": [
    {
     "name": "stdout",
     "output_type": "stream",
     "text": [
      "card_id merchant_category_id ['nunique']\n"
     ]
    }
   ],
   "source": [
    "group_df_mode_mci = pd.read_csv('input/merchant_category_id_mode.csv')\n",
    "group_df = groupby_helper(group_df_mode_mci.reset_index(),'card_id', 'merchant_category_id',['nunique'],'mode')\n",
    "all_df = all_df.merge(group_df, on=['card_id'], how='left')"
   ]
  },
  {
   "cell_type": "markdown",
   "metadata": {},
   "source": [
    "### Modeling"
   ]
  },
  {
   "cell_type": "markdown",
   "metadata": {},
   "source": [
    "target value 생성"
   ]
  },
  {
   "cell_type": "code",
   "execution_count": 221,
   "metadata": {},
   "outputs": [
    {
     "name": "stdout",
     "output_type": "stream",
     "text": [
      "['card_id'] purchase_date ['max']\n"
     ]
    }
   ],
   "source": [
    "group_df = groupby_helper(new_merchant_trans_df,['card_id'], 'purchase_date',['max'],'new_hist')\n",
    "group_df['new_hist_card_id_purchase_date_max'] = np.sqrt(group_df['new_hist_card_id_purchase_date_max'].astype(np.int64) * 1e-9)\n",
    "all_df = all_df.merge(group_df, on=['card_id'], how='left')"
   ]
  },
  {
   "cell_type": "code",
   "execution_count": 289,
   "metadata": {},
   "outputs": [
    {
     "name": "stdout",
     "output_type": "stream",
     "text": [
      "['card_id'] purchase_date ['min']\n"
     ]
    }
   ],
   "source": [
    "group_df = groupby_helper(new_merchant_trans_df,['card_id'], 'purchase_date',['min'],'new_hist')\n",
    "group_df['new_hist_card_id_purchase_date_min'] = np.sqrt(group_df['new_hist_card_id_purchase_date_min'].astype(np.int64) * 1e-9)\n",
    "all_df = all_df.merge(group_df, on=['card_id'], how='left')"
   ]
  },
  {
   "cell_type": "code",
   "execution_count": 154,
   "metadata": {},
   "outputs": [
    {
     "name": "stdout",
     "output_type": "stream",
     "text": [
      "card_id_avg_lag6_rps_min\n",
      "card_id_avg_lag6_rps_max\n",
      "card_id_avg_lag6_rps_sum\n",
      "card_id_avg_lag6_rps_mean\n",
      "card_id_avg_lag6_rps_std\n"
     ]
    }
   ],
   "source": [
    "for col in all_df.columns:\n",
    "    if col.find('card_id_avg_lag6_rps') !=-1:\n",
    "        print(col)\n",
    "        del all_df[col]"
   ]
  },
  {
   "cell_type": "code",
   "execution_count": 22,
   "metadata": {},
   "outputs": [
    {
     "name": "stdout",
     "output_type": "stream",
     "text": [
      "hist_year_min\n",
      "hist_authorized_flag_max\n"
     ]
    }
   ],
   "source": [
    "for col in all_df.columns:\n",
    "    if all_df[col].nunique() == 1:\n",
    "        print(col)\n",
    "        del all_df[col]"
   ]
  },
  {
   "cell_type": "markdown",
   "metadata": {},
   "source": [
    "(325540, 104)\n",
    "(290001, 104)\n",
    "(35539, 104)"
   ]
  },
  {
   "cell_type": "code",
   "execution_count": 290,
   "metadata": {},
   "outputs": [
    {
     "name": "stdout",
     "output_type": "stream",
     "text": [
      "(325540, 115)\n",
      "(290001, 115)\n",
      "(35539, 115)\n",
      "feature_1\n",
      "feature_2\n",
      "feature_3\n",
      "card_id_card_id_month_lag_purchase_amount_count_sum\n",
      "card_id_card_id_month_lag_purchase_amount_count_mean\n",
      "card_id_card_id_month_lag_purchase_amount_count_std\n",
      "card_id_card_id_month_lag_purchase_amount_mean_sum\n",
      "card_id_card_id_month_lag_purchase_amount_mean_mean\n",
      "card_id_card_id_month_lag_purchase_amount_mean_std\n",
      "card_id_month_nunique\n",
      "card_id_month_max\n",
      "card_id_month_min\n",
      "card_id_month_mean\n",
      "card_id_month_std\n",
      "card_id_merchant_id_nunique\n",
      "card_id_merchant_category_id_nunique\n",
      "card_id_subsector_id_nunique\n",
      "card_id_state_id_nunique\n",
      "card_id_city_id_nunique\n",
      "hist_hour_nunique\n",
      "hist_hour_mean\n",
      "hist_hour_min\n",
      "hist_hour_max\n",
      "hist_weekofyear_nunique\n",
      "hist_weekofyear_mean\n",
      "hist_weekofyear_min\n",
      "hist_weekofyear_max\n",
      "hist_dayofweek_nunique\n",
      "hist_dayofweek_mean\n",
      "hist_dayofweek_min\n",
      "hist_dayofweek_max\n",
      "hist_year_mean\n",
      "hist_purchase_amount_sum\n",
      "hist_purchase_amount_max\n",
      "hist_purchase_amount_min\n",
      "hist_purchase_amount_mean\n",
      "hist_purchase_amount_var\n",
      "hist_installments_sum\n",
      "hist_installments_max\n",
      "hist_installments_min\n",
      "hist_installments_mean\n",
      "hist_installments_var\n",
      "hist_purchase_date_max\n",
      "hist_purchase_date_min\n",
      "hist_month_lag_max\n",
      "hist_month_lag_min\n",
      "hist_month_lag_mean\n",
      "hist_month_lag_var\n",
      "hist_month_diff_mean\n",
      "hist_month_diff_max\n",
      "hist_month_diff_min\n",
      "hist_month_diff_var\n",
      "hist_weekend_sum\n",
      "hist_weekend_mean\n",
      "hist_category_1_sum\n",
      "hist_category_1_mean\n",
      "hist_category_1_min\n",
      "hist_category_1_max\n",
      "hist_authorized_flag_sum\n",
      "hist_authorized_flag_mean\n",
      "hist_authorized_flag_min\n",
      "hist_card_id_size\n",
      "hist_reference_date_median\n",
      "hist_purchase_date_diff\n",
      "hist_purchase_date_average\n",
      "hist_purchase_date_uptonow\n",
      "hist_purchase_date_uptomin\n",
      "dayofweek\n",
      "weekofyear\n",
      "dayofyear\n",
      "quarter\n",
      "month\n",
      "elapsed_time\n",
      "hist_first_buy\n",
      "hist_last_buy\n",
      "hist_diff_reference_date_first\n",
      "hist_diff_reference_date_last\n",
      "hist_diff_first_last\n",
      "hist_flag_ratio\n",
      "hist_CLV\n",
      "feature123\n",
      "card_id_card_id_month_lag_subsector_id_nunique_sum\n",
      "card_id_card_id_month_lag_subsector_id_nunique_mean\n",
      "card_id_card_id_month_lag_subsector_id_nunique_std\n",
      "feature123_frequency_encoding\n",
      "last_month_card_id_merchant_id_nunique\n",
      "last_month_card_id_subsector_id_nunique\n",
      "last_month_card_id_city_id_nunique\n",
      "last_month_card_id_card_id_size\n",
      "last_month_card_id_purchase_amount_sum\n",
      "last_month_card_id_purchase_amount_min\n",
      "last_month_card_id_purchase_amount_mean\n",
      "last_month_card_id_purchase_amount_max\n",
      "last_month_card_id_purchase_amount_std\n",
      "last_3month_card_id_card_id_size\n",
      "last_6month_card_id_card_id_size\n",
      "card_id_avg_lag3_rps_min\n",
      "card_id_avg_lag3_rps_max\n",
      "card_id_avg_lag3_rps_sum\n",
      "card_id_avg_lag3_rps_mean\n",
      "card_id_avg_lag3_rps_std\n",
      "card_id_category_4_sum\n",
      "card_id_category_4_mean\n",
      "last_month_card_id_category_4_sum\n",
      "last_month_card_id_category_4_mean\n"
     ]
    },
    {
     "data": {
      "text/plain": [
       "['feature_1',\n",
       " 'feature_2',\n",
       " 'feature_3',\n",
       " 'card_id_card_id_month_lag_purchase_amount_count_sum',\n",
       " 'card_id_card_id_month_lag_purchase_amount_count_mean',\n",
       " 'card_id_card_id_month_lag_purchase_amount_count_std',\n",
       " 'card_id_card_id_month_lag_purchase_amount_mean_sum',\n",
       " 'card_id_card_id_month_lag_purchase_amount_mean_mean',\n",
       " 'card_id_card_id_month_lag_purchase_amount_mean_std',\n",
       " 'card_id_month_nunique',\n",
       " 'card_id_month_max',\n",
       " 'card_id_month_min',\n",
       " 'card_id_month_mean',\n",
       " 'card_id_month_std',\n",
       " 'card_id_merchant_id_nunique',\n",
       " 'card_id_merchant_category_id_nunique',\n",
       " 'card_id_subsector_id_nunique',\n",
       " 'card_id_state_id_nunique',\n",
       " 'card_id_city_id_nunique',\n",
       " 'hist_hour_nunique',\n",
       " 'hist_hour_mean',\n",
       " 'hist_hour_min',\n",
       " 'hist_hour_max',\n",
       " 'hist_weekofyear_nunique',\n",
       " 'hist_weekofyear_mean',\n",
       " 'hist_weekofyear_min',\n",
       " 'hist_weekofyear_max',\n",
       " 'hist_dayofweek_nunique',\n",
       " 'hist_dayofweek_mean',\n",
       " 'hist_dayofweek_min',\n",
       " 'hist_dayofweek_max',\n",
       " 'hist_year_mean',\n",
       " 'hist_purchase_amount_sum',\n",
       " 'hist_purchase_amount_max',\n",
       " 'hist_purchase_amount_min',\n",
       " 'hist_purchase_amount_mean',\n",
       " 'hist_purchase_amount_var',\n",
       " 'hist_installments_sum',\n",
       " 'hist_installments_max',\n",
       " 'hist_installments_min',\n",
       " 'hist_installments_mean',\n",
       " 'hist_installments_var',\n",
       " 'hist_purchase_date_max',\n",
       " 'hist_purchase_date_min',\n",
       " 'hist_month_lag_max',\n",
       " 'hist_month_lag_min',\n",
       " 'hist_month_lag_mean',\n",
       " 'hist_month_lag_var',\n",
       " 'hist_month_diff_mean',\n",
       " 'hist_month_diff_max',\n",
       " 'hist_month_diff_min',\n",
       " 'hist_month_diff_var',\n",
       " 'hist_weekend_sum',\n",
       " 'hist_weekend_mean',\n",
       " 'hist_category_1_sum',\n",
       " 'hist_category_1_mean',\n",
       " 'hist_category_1_min',\n",
       " 'hist_category_1_max',\n",
       " 'hist_authorized_flag_sum',\n",
       " 'hist_authorized_flag_mean',\n",
       " 'hist_authorized_flag_min',\n",
       " 'hist_card_id_size',\n",
       " 'hist_reference_date_median',\n",
       " 'hist_purchase_date_diff',\n",
       " 'hist_purchase_date_average',\n",
       " 'hist_purchase_date_uptonow',\n",
       " 'hist_purchase_date_uptomin',\n",
       " 'dayofweek',\n",
       " 'weekofyear',\n",
       " 'dayofyear',\n",
       " 'quarter',\n",
       " 'month',\n",
       " 'elapsed_time',\n",
       " 'hist_first_buy',\n",
       " 'hist_last_buy',\n",
       " 'hist_diff_reference_date_first',\n",
       " 'hist_diff_reference_date_last',\n",
       " 'hist_diff_first_last',\n",
       " 'hist_flag_ratio',\n",
       " 'hist_CLV',\n",
       " 'feature123',\n",
       " 'card_id_card_id_month_lag_subsector_id_nunique_sum',\n",
       " 'card_id_card_id_month_lag_subsector_id_nunique_mean',\n",
       " 'card_id_card_id_month_lag_subsector_id_nunique_std',\n",
       " 'feature123_frequency_encoding',\n",
       " 'last_month_card_id_merchant_id_nunique',\n",
       " 'last_month_card_id_subsector_id_nunique',\n",
       " 'last_month_card_id_city_id_nunique',\n",
       " 'last_month_card_id_card_id_size',\n",
       " 'last_month_card_id_purchase_amount_sum',\n",
       " 'last_month_card_id_purchase_amount_min',\n",
       " 'last_month_card_id_purchase_amount_mean',\n",
       " 'last_month_card_id_purchase_amount_max',\n",
       " 'last_month_card_id_purchase_amount_std',\n",
       " 'last_3month_card_id_card_id_size',\n",
       " 'last_6month_card_id_card_id_size',\n",
       " 'card_id_avg_lag3_rps_min',\n",
       " 'card_id_avg_lag3_rps_max',\n",
       " 'card_id_avg_lag3_rps_sum',\n",
       " 'card_id_avg_lag3_rps_mean',\n",
       " 'card_id_avg_lag3_rps_std',\n",
       " 'card_id_category_4_sum',\n",
       " 'card_id_category_4_mean',\n",
       " 'last_month_card_id_category_4_sum',\n",
       " 'last_month_card_id_category_4_mean']"
      ]
     },
     "execution_count": 290,
     "metadata": {},
     "output_type": "execute_result"
    }
   ],
   "source": [
    "print(all_df.shape)\n",
    "train_df = all_df.loc[all_df['new_hist_card_id_purchase_date_min'].notnull()]\n",
    "test_df = all_df.loc[all_df['new_hist_card_id_purchase_date_min'].isnull()]\n",
    "\n",
    "print(train_df.shape)\n",
    "print(test_df.shape)\n",
    "\n",
    "train_columns = [c for c in train_df.columns if c not in ['card_id','first_active_month','new_hist_card_id_size','target','outliers'\n",
    "                                                         ,'hist_weekend_max','hist_year_max','before_firstactive_purchase_ratio',\n",
    "                                                          'hist_weekend_min','hist_year_nunique','new_hist_card_id_purchase_date_max',\n",
    "                                                         'new_hist_card_id_purchase_date_min']]\n",
    "\n",
    "new_col = []\n",
    "\n",
    "for col in train_columns:\n",
    "    if col.find('new_')==-1:\n",
    "        print(col)\n",
    "        new_col.append(col)\n",
    "\n",
    "train_columns = new_col.copy()\n",
    "train_columns"
   ]
  },
  {
   "cell_type": "code",
   "execution_count": 291,
   "metadata": {
    "scrolled": true
   },
   "outputs": [],
   "source": [
    "train = train_df.copy()\n",
    "target = train['new_hist_card_id_purchase_date_min']\n",
    "del train['new_hist_card_id_purchase_date_min']"
   ]
  },
  {
   "cell_type": "code",
   "execution_count": 293,
   "metadata": {
    "scrolled": true
   },
   "outputs": [
    {
     "name": "stdout",
     "output_type": "stream",
     "text": [
      "fold 1\n",
      "Training until validation scores don't improve for 100 rounds.\n",
      "[100]\ttraining's l1: 13.7335\tvalid_1's l1: 13.8104\n",
      "[200]\ttraining's l1: 11.9607\tvalid_1's l1: 12.0398\n",
      "[300]\ttraining's l1: 11.8193\tvalid_1's l1: 11.9127\n",
      "[400]\ttraining's l1: 11.7589\tvalid_1's l1: 11.871\n",
      "[500]\ttraining's l1: 11.7195\tvalid_1's l1: 11.8496\n",
      "[600]\ttraining's l1: 11.6881\tvalid_1's l1: 11.8359\n",
      "[700]\ttraining's l1: 11.6622\tvalid_1's l1: 11.8262\n",
      "[800]\ttraining's l1: 11.6393\tvalid_1's l1: 11.8209\n",
      "[900]\ttraining's l1: 11.6181\tvalid_1's l1: 11.8157\n",
      "[1000]\ttraining's l1: 11.5984\tvalid_1's l1: 11.8118\n",
      "[1100]\ttraining's l1: 11.5791\tvalid_1's l1: 11.8098\n",
      "[1200]\ttraining's l1: 11.5599\tvalid_1's l1: 11.8072\n",
      "[1300]\ttraining's l1: 11.5413\tvalid_1's l1: 11.8046\n",
      "[1400]\ttraining's l1: 11.5245\tvalid_1's l1: 11.8033\n",
      "[1500]\ttraining's l1: 11.5083\tvalid_1's l1: 11.8019\n",
      "[1600]\ttraining's l1: 11.4909\tvalid_1's l1: 11.8\n",
      "[1700]\ttraining's l1: 11.4746\tvalid_1's l1: 11.7979\n",
      "[1800]\ttraining's l1: 11.4585\tvalid_1's l1: 11.7965\n",
      "[1900]\ttraining's l1: 11.4419\tvalid_1's l1: 11.7958\n",
      "[2000]\ttraining's l1: 11.4266\tvalid_1's l1: 11.7947\n",
      "[2100]\ttraining's l1: 11.4107\tvalid_1's l1: 11.7937\n",
      "[2200]\ttraining's l1: 11.3953\tvalid_1's l1: 11.7931\n",
      "[2300]\ttraining's l1: 11.3801\tvalid_1's l1: 11.7924\n",
      "[2400]\ttraining's l1: 11.3635\tvalid_1's l1: 11.7923\n",
      "[2500]\ttraining's l1: 11.3477\tvalid_1's l1: 11.7921\n",
      "[2600]\ttraining's l1: 11.3315\tvalid_1's l1: 11.7908\n",
      "Early stopping, best iteration is:\n",
      "[2592]\ttraining's l1: 11.3329\tvalid_1's l1: 11.7907\n",
      "fold 2\n",
      "Training until validation scores don't improve for 100 rounds.\n",
      "[100]\ttraining's l1: 13.7435\tvalid_1's l1: 13.6736\n",
      "[200]\ttraining's l1: 11.9638\tvalid_1's l1: 12.0113\n",
      "[300]\ttraining's l1: 11.8195\tvalid_1's l1: 11.906\n",
      "[400]\ttraining's l1: 11.7604\tvalid_1's l1: 11.8688\n",
      "[500]\ttraining's l1: 11.7211\tvalid_1's l1: 11.8492\n",
      "[600]\ttraining's l1: 11.689\tvalid_1's l1: 11.8373\n",
      "[700]\ttraining's l1: 11.6627\tvalid_1's l1: 11.8294\n",
      "[800]\ttraining's l1: 11.6388\tvalid_1's l1: 11.8241\n",
      "[900]\ttraining's l1: 11.6167\tvalid_1's l1: 11.8198\n",
      "[1000]\ttraining's l1: 11.5958\tvalid_1's l1: 11.8162\n",
      "[1100]\ttraining's l1: 11.5765\tvalid_1's l1: 11.8138\n",
      "[1200]\ttraining's l1: 11.5576\tvalid_1's l1: 11.8118\n",
      "[1300]\ttraining's l1: 11.5386\tvalid_1's l1: 11.8095\n",
      "[1400]\ttraining's l1: 11.5215\tvalid_1's l1: 11.808\n",
      "[1500]\ttraining's l1: 11.504\tvalid_1's l1: 11.8062\n",
      "[1600]\ttraining's l1: 11.4873\tvalid_1's l1: 11.8059\n",
      "Early stopping, best iteration is:\n",
      "[1511]\ttraining's l1: 11.5021\tvalid_1's l1: 11.8057\n",
      "fold 3\n",
      "Training until validation scores don't improve for 100 rounds.\n",
      "[100]\ttraining's l1: 13.7508\tvalid_1's l1: 13.6931\n",
      "[200]\ttraining's l1: 11.9783\tvalid_1's l1: 11.9428\n",
      "[300]\ttraining's l1: 11.8367\tvalid_1's l1: 11.82\n",
      "[400]\ttraining's l1: 11.7769\tvalid_1's l1: 11.7792\n",
      "[500]\ttraining's l1: 11.7359\tvalid_1's l1: 11.7582\n",
      "[600]\ttraining's l1: 11.7044\tvalid_1's l1: 11.7454\n",
      "[700]\ttraining's l1: 11.6777\tvalid_1's l1: 11.7363\n",
      "[800]\ttraining's l1: 11.6545\tvalid_1's l1: 11.7302\n",
      "[900]\ttraining's l1: 11.6324\tvalid_1's l1: 11.7257\n",
      "[1000]\ttraining's l1: 11.6131\tvalid_1's l1: 11.7229\n",
      "[1100]\ttraining's l1: 11.5938\tvalid_1's l1: 11.7205\n",
      "[1200]\ttraining's l1: 11.5754\tvalid_1's l1: 11.7189\n",
      "[1300]\ttraining's l1: 11.5579\tvalid_1's l1: 11.7182\n",
      "[1400]\ttraining's l1: 11.5405\tvalid_1's l1: 11.7177\n",
      "[1500]\ttraining's l1: 11.5244\tvalid_1's l1: 11.7167\n",
      "[1600]\ttraining's l1: 11.507\tvalid_1's l1: 11.716\n",
      "[1700]\ttraining's l1: 11.4904\tvalid_1's l1: 11.7152\n",
      "[1800]\ttraining's l1: 11.4739\tvalid_1's l1: 11.7141\n",
      "[1900]\ttraining's l1: 11.458\tvalid_1's l1: 11.7134\n",
      "[2000]\ttraining's l1: 11.4416\tvalid_1's l1: 11.7122\n",
      "[2100]\ttraining's l1: 11.426\tvalid_1's l1: 11.7121\n",
      "[2200]\ttraining's l1: 11.4102\tvalid_1's l1: 11.7111\n",
      "Early stopping, best iteration is:\n",
      "[2195]\ttraining's l1: 11.4109\tvalid_1's l1: 11.711\n",
      "fold 4\n",
      "Training until validation scores don't improve for 100 rounds.\n",
      "[100]\ttraining's l1: 13.7358\tvalid_1's l1: 13.7869\n",
      "[200]\ttraining's l1: 11.9659\tvalid_1's l1: 12.0213\n",
      "[300]\ttraining's l1: 11.8243\tvalid_1's l1: 11.8999\n",
      "[400]\ttraining's l1: 11.764\tvalid_1's l1: 11.8622\n",
      "[500]\ttraining's l1: 11.7247\tvalid_1's l1: 11.8426\n",
      "[600]\ttraining's l1: 11.6926\tvalid_1's l1: 11.8295\n",
      "[700]\ttraining's l1: 11.6669\tvalid_1's l1: 11.8218\n",
      "[800]\ttraining's l1: 11.6439\tvalid_1's l1: 11.8156\n",
      "[900]\ttraining's l1: 11.6231\tvalid_1's l1: 11.8115\n",
      "[1000]\ttraining's l1: 11.6033\tvalid_1's l1: 11.8083\n",
      "[1100]\ttraining's l1: 11.5843\tvalid_1's l1: 11.8057\n",
      "[1200]\ttraining's l1: 11.5663\tvalid_1's l1: 11.8042\n",
      "[1300]\ttraining's l1: 11.5487\tvalid_1's l1: 11.8025\n",
      "[1400]\ttraining's l1: 11.5309\tvalid_1's l1: 11.8018\n",
      "[1500]\ttraining's l1: 11.5124\tvalid_1's l1: 11.8011\n",
      "[1600]\ttraining's l1: 11.4952\tvalid_1's l1: 11.8008\n",
      "Early stopping, best iteration is:\n",
      "[1563]\ttraining's l1: 11.5014\tvalid_1's l1: 11.8004\n",
      "fold 5\n",
      "Training until validation scores don't improve for 100 rounds.\n",
      "[100]\ttraining's l1: 13.7502\tvalid_1's l1: 13.723\n",
      "[200]\ttraining's l1: 11.9799\tvalid_1's l1: 11.9398\n",
      "[300]\ttraining's l1: 11.8394\tvalid_1's l1: 11.8074\n",
      "[400]\ttraining's l1: 11.7796\tvalid_1's l1: 11.7669\n",
      "[500]\ttraining's l1: 11.7389\tvalid_1's l1: 11.7463\n",
      "[600]\ttraining's l1: 11.7077\tvalid_1's l1: 11.7343\n",
      "[700]\ttraining's l1: 11.6805\tvalid_1's l1: 11.7256\n",
      "[800]\ttraining's l1: 11.6577\tvalid_1's l1: 11.7201\n",
      "[900]\ttraining's l1: 11.6358\tvalid_1's l1: 11.7145\n",
      "[1000]\ttraining's l1: 11.6153\tvalid_1's l1: 11.7111\n",
      "[1100]\ttraining's l1: 11.5965\tvalid_1's l1: 11.7084\n",
      "[1200]\ttraining's l1: 11.578\tvalid_1's l1: 11.706\n",
      "[1300]\ttraining's l1: 11.5606\tvalid_1's l1: 11.705\n",
      "[1400]\ttraining's l1: 11.5426\tvalid_1's l1: 11.703\n",
      "[1500]\ttraining's l1: 11.5252\tvalid_1's l1: 11.7021\n",
      "[1600]\ttraining's l1: 11.5081\tvalid_1's l1: 11.7007\n",
      "[1700]\ttraining's l1: 11.4905\tvalid_1's l1: 11.6993\n",
      "Early stopping, best iteration is:\n",
      "[1669]\ttraining's l1: 11.4957\tvalid_1's l1: 11.6991\n",
      "fold 6\n",
      "Training until validation scores don't improve for 100 rounds.\n",
      "[100]\ttraining's l1: 13.7489\tvalid_1's l1: 13.7188\n",
      "[200]\ttraining's l1: 11.9834\tvalid_1's l1: 11.9127\n",
      "[300]\ttraining's l1: 11.8428\tvalid_1's l1: 11.7848\n",
      "[400]\ttraining's l1: 11.7827\tvalid_1's l1: 11.7437\n",
      "[500]\ttraining's l1: 11.7425\tvalid_1's l1: 11.7246\n",
      "[600]\ttraining's l1: 11.7111\tvalid_1's l1: 11.713\n",
      "[700]\ttraining's l1: 11.6848\tvalid_1's l1: 11.7043\n",
      "[800]\ttraining's l1: 11.661\tvalid_1's l1: 11.6987\n",
      "[900]\ttraining's l1: 11.6396\tvalid_1's l1: 11.6935\n",
      "[1000]\ttraining's l1: 11.6198\tvalid_1's l1: 11.6909\n",
      "[1100]\ttraining's l1: 11.6\tvalid_1's l1: 11.6871\n",
      "[1200]\ttraining's l1: 11.5809\tvalid_1's l1: 11.6853\n",
      "[1300]\ttraining's l1: 11.5631\tvalid_1's l1: 11.6843\n",
      "[1400]\ttraining's l1: 11.5453\tvalid_1's l1: 11.6834\n",
      "[1500]\ttraining's l1: 11.5284\tvalid_1's l1: 11.6828\n",
      "[1600]\ttraining's l1: 11.512\tvalid_1's l1: 11.6824\n",
      "[1700]\ttraining's l1: 11.4949\tvalid_1's l1: 11.6815\n",
      "[1800]\ttraining's l1: 11.4783\tvalid_1's l1: 11.6812\n",
      "[1900]\ttraining's l1: 11.462\tvalid_1's l1: 11.6799\n",
      "[2000]\ttraining's l1: 11.4457\tvalid_1's l1: 11.6797\n",
      "Early stopping, best iteration is:\n",
      "[1981]\ttraining's l1: 11.4488\tvalid_1's l1: 11.6792\n",
      "fold 7\n",
      "Training until validation scores don't improve for 100 rounds.\n",
      "[100]\ttraining's l1: 13.741\tvalid_1's l1: 13.7038\n",
      "[200]\ttraining's l1: 11.9638\tvalid_1's l1: 12.0055\n",
      "[300]\ttraining's l1: 11.8228\tvalid_1's l1: 11.8887\n",
      "[400]\ttraining's l1: 11.7625\tvalid_1's l1: 11.847\n",
      "[500]\ttraining's l1: 11.7222\tvalid_1's l1: 11.827\n",
      "[600]\ttraining's l1: 11.6895\tvalid_1's l1: 11.8132\n",
      "[700]\ttraining's l1: 11.6632\tvalid_1's l1: 11.8049\n",
      "[800]\ttraining's l1: 11.6399\tvalid_1's l1: 11.799\n",
      "[900]\ttraining's l1: 11.6183\tvalid_1's l1: 11.7953\n",
      "[1000]\ttraining's l1: 11.5992\tvalid_1's l1: 11.792\n",
      "[1100]\ttraining's l1: 11.5802\tvalid_1's l1: 11.7897\n",
      "[1200]\ttraining's l1: 11.5615\tvalid_1's l1: 11.7883\n",
      "[1300]\ttraining's l1: 11.5432\tvalid_1's l1: 11.7867\n",
      "[1400]\ttraining's l1: 11.5256\tvalid_1's l1: 11.7858\n",
      "[1500]\ttraining's l1: 11.5083\tvalid_1's l1: 11.7852\n",
      "[1600]\ttraining's l1: 11.4912\tvalid_1's l1: 11.7844\n",
      "[1700]\ttraining's l1: 11.4747\tvalid_1's l1: 11.7839\n",
      "Early stopping, best iteration is:\n",
      "[1677]\ttraining's l1: 11.4785\tvalid_1's l1: 11.7838\n",
      "fold 8\n",
      "Training until validation scores don't improve for 100 rounds.\n",
      "[100]\ttraining's l1: 13.7247\tvalid_1's l1: 13.8662\n",
      "[200]\ttraining's l1: 11.96\tvalid_1's l1: 12.0388\n",
      "[300]\ttraining's l1: 11.818\tvalid_1's l1: 11.9093\n",
      "[400]\ttraining's l1: 11.7581\tvalid_1's l1: 11.8677\n"
     ]
    },
    {
     "name": "stdout",
     "output_type": "stream",
     "text": [
      "[500]\ttraining's l1: 11.7196\tvalid_1's l1: 11.8473\n",
      "[600]\ttraining's l1: 11.6881\tvalid_1's l1: 11.8332\n",
      "[700]\ttraining's l1: 11.6616\tvalid_1's l1: 11.823\n",
      "[800]\ttraining's l1: 11.6378\tvalid_1's l1: 11.8168\n",
      "[900]\ttraining's l1: 11.6156\tvalid_1's l1: 11.8113\n",
      "[1000]\ttraining's l1: 11.5955\tvalid_1's l1: 11.8078\n",
      "[1100]\ttraining's l1: 11.5767\tvalid_1's l1: 11.8053\n",
      "[1200]\ttraining's l1: 11.5578\tvalid_1's l1: 11.8034\n",
      "[1300]\ttraining's l1: 11.5396\tvalid_1's l1: 11.8011\n",
      "[1400]\ttraining's l1: 11.522\tvalid_1's l1: 11.7994\n",
      "[1500]\ttraining's l1: 11.5044\tvalid_1's l1: 11.7982\n",
      "[1600]\ttraining's l1: 11.4879\tvalid_1's l1: 11.7965\n",
      "[1700]\ttraining's l1: 11.4707\tvalid_1's l1: 11.7958\n",
      "[1800]\ttraining's l1: 11.4542\tvalid_1's l1: 11.7951\n",
      "[1900]\ttraining's l1: 11.4374\tvalid_1's l1: 11.7942\n",
      "[2000]\ttraining's l1: 11.4212\tvalid_1's l1: 11.7939\n",
      "[2100]\ttraining's l1: 11.4058\tvalid_1's l1: 11.7936\n",
      "[2200]\ttraining's l1: 11.39\tvalid_1's l1: 11.7928\n",
      "[2300]\ttraining's l1: 11.3741\tvalid_1's l1: 11.7917\n",
      "[2400]\ttraining's l1: 11.359\tvalid_1's l1: 11.7911\n",
      "[2500]\ttraining's l1: 11.3435\tvalid_1's l1: 11.7911\n",
      "[2600]\ttraining's l1: 11.3281\tvalid_1's l1: 11.7909\n",
      "[2700]\ttraining's l1: 11.313\tvalid_1's l1: 11.7903\n",
      "[2800]\ttraining's l1: 11.298\tvalid_1's l1: 11.79\n",
      "Early stopping, best iteration is:\n",
      "[2734]\ttraining's l1: 11.3077\tvalid_1's l1: 11.7898\n",
      "fold 9\n",
      "Training until validation scores don't improve for 100 rounds.\n",
      "[100]\ttraining's l1: 13.7341\tvalid_1's l1: 13.7883\n",
      "[200]\ttraining's l1: 11.9578\tvalid_1's l1: 12.0479\n",
      "[300]\ttraining's l1: 11.8147\tvalid_1's l1: 11.9284\n",
      "[400]\ttraining's l1: 11.755\tvalid_1's l1: 11.888\n",
      "[500]\ttraining's l1: 11.7158\tvalid_1's l1: 11.8692\n",
      "[600]\ttraining's l1: 11.6844\tvalid_1's l1: 11.8565\n",
      "[700]\ttraining's l1: 11.6594\tvalid_1's l1: 11.8485\n",
      "[800]\ttraining's l1: 11.6371\tvalid_1's l1: 11.8436\n",
      "[900]\ttraining's l1: 11.6167\tvalid_1's l1: 11.8394\n",
      "[1000]\ttraining's l1: 11.5962\tvalid_1's l1: 11.8356\n",
      "[1100]\ttraining's l1: 11.5773\tvalid_1's l1: 11.8331\n",
      "[1200]\ttraining's l1: 11.5578\tvalid_1's l1: 11.8312\n",
      "[1300]\ttraining's l1: 11.5404\tvalid_1's l1: 11.8298\n",
      "[1400]\ttraining's l1: 11.5222\tvalid_1's l1: 11.8281\n",
      "[1500]\ttraining's l1: 11.5045\tvalid_1's l1: 11.8271\n",
      "[1600]\ttraining's l1: 11.4872\tvalid_1's l1: 11.8262\n",
      "[1700]\ttraining's l1: 11.4705\tvalid_1's l1: 11.8249\n",
      "[1800]\ttraining's l1: 11.4541\tvalid_1's l1: 11.8238\n",
      "[1900]\ttraining's l1: 11.4374\tvalid_1's l1: 11.8231\n",
      "[2000]\ttraining's l1: 11.4215\tvalid_1's l1: 11.8222\n",
      "[2100]\ttraining's l1: 11.4053\tvalid_1's l1: 11.8214\n",
      "[2200]\ttraining's l1: 11.3898\tvalid_1's l1: 11.8203\n",
      "[2300]\ttraining's l1: 11.3745\tvalid_1's l1: 11.8201\n",
      "[2400]\ttraining's l1: 11.3586\tvalid_1's l1: 11.82\n",
      "Early stopping, best iteration is:\n",
      "[2356]\ttraining's l1: 11.3655\tvalid_1's l1: 11.8194\n",
      "11.764345262928469\n",
      "[11.79067946620659, 11.805743334967676, 11.710990975455093, 11.800355729478525, 11.699124368028782, 11.679217443229835, 11.783817721381286, 11.7897601560637, 11.819417725328233]\n",
      "0.0495639930773939\n"
     ]
    }
   ],
   "source": [
    "param = {'num_leaves': 24,\n",
    "         'min_data_in_leaf': 30, \n",
    "         'objective':'regression',\n",
    "         'max_depth': 5,\n",
    "         'learning_rate': 0.02,\n",
    "         \"min_child_samples\": 50,\n",
    "         \"boosting\": \"gbdt\",\n",
    "         \"feature_fraction\": 0.6,\n",
    "         \"bagging_fraction\": 0.7 ,\n",
    "         \"metric\": 'mae',\n",
    "         \"lambda_l1\": 0.1,\n",
    "         \"verbosity\": -1,\n",
    "         \"nthread\": 24,\n",
    "         \"seed\": 6}\n",
    "\n",
    "#prepare fit model with cross-validation\n",
    "np.random.seed(2019)\n",
    "\n",
    "feature_importance_df = pd.DataFrame()\n",
    "folds = KFold(n_splits=9, shuffle=True, random_state=4950)\n",
    "oof = np.zeros(len(train))\n",
    "predictions = np.zeros(len(test_df))\n",
    "cv_score_list = []\n",
    "for fold_, (trn_idx, val_idx) in enumerate(folds.split(train)):\n",
    "    strLog = \"fold {}\".format(fold_+1)\n",
    "    print(strLog)\n",
    "    trn_data = lgb.Dataset(train.iloc[trn_idx][train_columns], label=target.iloc[trn_idx])#, categorical_feature=categorical_feats)\n",
    "    val_data = lgb.Dataset(train.iloc[val_idx][train_columns], label=target.iloc[val_idx])#, categorical_feature=categorical_feats)\n",
    "\n",
    "    num_round = 10000\n",
    "    clf = lgb.train(param, trn_data, num_round, valid_sets = [trn_data, val_data], verbose_eval=100, early_stopping_rounds = 100)\n",
    "    oof[val_idx] = clf.predict(train.iloc[val_idx][train_columns], num_iteration=clf.best_iteration)\n",
    "    \n",
    "    cv_score = mean_absolute_error(oof[val_idx], target.iloc[val_idx])\n",
    "    cv_score_list.append(cv_score)\n",
    "    #feature importance\n",
    "    fold_importance_df = pd.DataFrame()\n",
    "    fold_importance_df[\"Feature\"] = train_columns\n",
    "    fold_importance_df[\"importance\"] = clf.feature_importance()\n",
    "    fold_importance_df[\"fold\"] = fold_ + 1\n",
    "    feature_importance_df = pd.concat([feature_importance_df, fold_importance_df], axis=0)\n",
    "    #predictions\n",
    "    predictions += clf.predict(test_df[train_columns], num_iteration=clf.best_iteration) / folds.n_splits\n",
    "\n",
    "cv_score = mean_absolute_error(oof, target)\n",
    "print(cv_score)\n",
    "print(cv_score_list)\n",
    "print(np.std(cv_score_list))\n",
    "withoutoutlier_predictions = predictions.copy()"
   ]
  },
  {
   "cell_type": "markdown",
   "metadata": {},
   "source": [
    "3.3979265177382523\n",
    "[3.410920807322843, 3.3781160121042837, 3.390035302847772, 3.3980637829332077, 3.41249645944368]\n",
    "0.012929663651872132"
   ]
  },
  {
   "cell_type": "code",
   "execution_count": 294,
   "metadata": {},
   "outputs": [
    {
     "data": {
      "image/png": "[encoded data removed]",
      "text/plain": [
       "<Figure size 1008x1872 with 1 Axes>"
      ]
     },
     "metadata": {},
     "output_type": "display_data"
    }
   ],
   "source": [
    "filename = '{}_cv{:.6f}'.format(datetime.now().strftime('%Y%m%d_%H%M%S'), cv_score)\n",
    "\n",
    "cols = (feature_importance_df[[\"Feature\", \"importance\"]]\n",
    "        .groupby(\"Feature\")\n",
    "        .mean()\n",
    "        .sort_values(by=\"importance\", ascending=False)[:1000].index)\n",
    "best_features = feature_importance_df.loc[feature_importance_df.Feature.isin(cols)]\n",
    "\n",
    "plt.figure(figsize=(14,26))\n",
    "sns.barplot(x=\"importance\", y=\"Feature\", data=best_features.sort_values(by=\"importance\",ascending=False))\n",
    "plt.title('LightGBM Features (averaged over folds)')\n",
    "plt.tight_layout()\n",
    "plt.savefig('fi/{}_lgbm_importances.png'.format(filename))"
   ]
  },
  {
   "cell_type": "code",
   "execution_count": 226,
   "metadata": {},
   "outputs": [
    {
     "data": {
      "text/html": [
       "<div>\n",
       "<style scoped>\n",
       "    .dataframe tbody tr th:only-of-type {\n",
       "        vertical-align: middle;\n",
       "    }\n",
       "\n",
       "    .dataframe tbody tr th {\n",
       "        vertical-align: top;\n",
       "    }\n",
       "\n",
       "    .dataframe thead th {\n",
       "        text-align: right;\n",
       "    }\n",
       "</style>\n",
       "<table border=\"1\" class=\"dataframe\">\n",
       "  <thead>\n",
       "    <tr style=\"text-align: right;\">\n",
       "      <th></th>\n",
       "      <th>Feature</th>\n",
       "      <th>importance</th>\n",
       "    </tr>\n",
       "  </thead>\n",
       "  <tbody>\n",
       "    <tr>\n",
       "      <th>39</th>\n",
       "      <td>hist_category_1_max</td>\n",
       "      <td>15</td>\n",
       "    </tr>\n",
       "    <tr>\n",
       "      <th>36</th>\n",
       "      <td>hist_authorized_flag_min</td>\n",
       "      <td>18</td>\n",
       "    </tr>\n",
       "    <tr>\n",
       "      <th>103</th>\n",
       "      <td>quarter</td>\n",
       "      <td>66</td>\n",
       "    </tr>\n",
       "    <tr>\n",
       "      <th>21</th>\n",
       "      <td>card_id_month_min</td>\n",
       "      <td>114</td>\n",
       "    </tr>\n",
       "    <tr>\n",
       "      <th>41</th>\n",
       "      <td>hist_category_1_min</td>\n",
       "      <td>160</td>\n",
       "    </tr>\n",
       "    <tr>\n",
       "      <th>102</th>\n",
       "      <td>month</td>\n",
       "      <td>174</td>\n",
       "    </tr>\n",
       "    <tr>\n",
       "      <th>43</th>\n",
       "      <td>hist_dayofweek_max</td>\n",
       "      <td>228</td>\n",
       "    </tr>\n",
       "    <tr>\n",
       "      <th>46</th>\n",
       "      <td>hist_dayofweek_nunique</td>\n",
       "      <td>253</td>\n",
       "    </tr>\n",
       "    <tr>\n",
       "      <th>33</th>\n",
       "      <td>feature_3</td>\n",
       "      <td>294</td>\n",
       "    </tr>\n",
       "    <tr>\n",
       "      <th>19</th>\n",
       "      <td>card_id_month_max</td>\n",
       "      <td>298</td>\n",
       "    </tr>\n",
       "    <tr>\n",
       "      <th>68</th>\n",
       "      <td>hist_month_lag_min</td>\n",
       "      <td>305</td>\n",
       "    </tr>\n",
       "    <tr>\n",
       "      <th>45</th>\n",
       "      <td>hist_dayofweek_min</td>\n",
       "      <td>319</td>\n",
       "    </tr>\n",
       "    <tr>\n",
       "      <th>47</th>\n",
       "      <td>hist_diff_first_last</td>\n",
       "      <td>322</td>\n",
       "    </tr>\n",
       "    <tr>\n",
       "      <th>94</th>\n",
       "      <td>last_month_card_id_city_id_nunique</td>\n",
       "      <td>399</td>\n",
       "    </tr>\n",
       "    <tr>\n",
       "      <th>62</th>\n",
       "      <td>hist_month_diff_max</td>\n",
       "      <td>415</td>\n",
       "    </tr>\n",
       "    <tr>\n",
       "      <th>58</th>\n",
       "      <td>hist_installments_min</td>\n",
       "      <td>440</td>\n",
       "    </tr>\n",
       "    <tr>\n",
       "      <th>31</th>\n",
       "      <td>feature_1</td>\n",
       "      <td>447</td>\n",
       "    </tr>\n",
       "    <tr>\n",
       "      <th>56</th>\n",
       "      <td>hist_installments_max</td>\n",
       "      <td>448</td>\n",
       "    </tr>\n",
       "    <tr>\n",
       "      <th>101</th>\n",
       "      <td>last_month_card_id_subsector_id_nunique</td>\n",
       "      <td>454</td>\n",
       "    </tr>\n",
       "    <tr>\n",
       "      <th>32</th>\n",
       "      <td>feature_2</td>\n",
       "      <td>564</td>\n",
       "    </tr>\n",
       "    <tr>\n",
       "      <th>48</th>\n",
       "      <td>hist_diff_reference_date_first</td>\n",
       "      <td>572</td>\n",
       "    </tr>\n",
       "    <tr>\n",
       "      <th>93</th>\n",
       "      <td>last_month_card_id_category_4_sum</td>\n",
       "      <td>638</td>\n",
       "    </tr>\n",
       "    <tr>\n",
       "      <th>49</th>\n",
       "      <td>hist_diff_reference_date_last</td>\n",
       "      <td>640</td>\n",
       "    </tr>\n",
       "    <tr>\n",
       "      <th>26</th>\n",
       "      <td>dayofweek</td>\n",
       "      <td>645</td>\n",
       "    </tr>\n",
       "    <tr>\n",
       "      <th>91</th>\n",
       "      <td>last_month_card_id_card_id_size</td>\n",
       "      <td>664</td>\n",
       "    </tr>\n",
       "    <tr>\n",
       "      <th>66</th>\n",
       "      <td>hist_month_lag_max</td>\n",
       "      <td>760</td>\n",
       "    </tr>\n",
       "    <tr>\n",
       "      <th>27</th>\n",
       "      <td>dayofyear</td>\n",
       "      <td>763</td>\n",
       "    </tr>\n",
       "    <tr>\n",
       "      <th>55</th>\n",
       "      <td>hist_hour_nunique</td>\n",
       "      <td>777</td>\n",
       "    </tr>\n",
       "    <tr>\n",
       "      <th>104</th>\n",
       "      <td>weekofyear</td>\n",
       "      <td>830</td>\n",
       "    </tr>\n",
       "    <tr>\n",
       "      <th>28</th>\n",
       "      <td>elapsed_time</td>\n",
       "      <td>905</td>\n",
       "    </tr>\n",
       "    <tr>\n",
       "      <th>92</th>\n",
       "      <td>last_month_card_id_category_4_mean</td>\n",
       "      <td>907</td>\n",
       "    </tr>\n",
       "    <tr>\n",
       "      <th>79</th>\n",
       "      <td>hist_purchase_date_uptomin</td>\n",
       "      <td>974</td>\n",
       "    </tr>\n",
       "    <tr>\n",
       "      <th>24</th>\n",
       "      <td>card_id_state_id_nunique</td>\n",
       "      <td>1025</td>\n",
       "    </tr>\n",
       "    <tr>\n",
       "      <th>84</th>\n",
       "      <td>hist_weekofyear_max</td>\n",
       "      <td>1078</td>\n",
       "    </tr>\n",
       "    <tr>\n",
       "      <th>86</th>\n",
       "      <td>hist_weekofyear_min</td>\n",
       "      <td>1139</td>\n",
       "    </tr>\n",
       "    <tr>\n",
       "      <th>25</th>\n",
       "      <td>card_id_subsector_id_nunique</td>\n",
       "      <td>1185</td>\n",
       "    </tr>\n",
       "    <tr>\n",
       "      <th>29</th>\n",
       "      <td>feature123</td>\n",
       "      <td>1255</td>\n",
       "    </tr>\n",
       "    <tr>\n",
       "      <th>54</th>\n",
       "      <td>hist_hour_min</td>\n",
       "      <td>1265</td>\n",
       "    </tr>\n",
       "    <tr>\n",
       "      <th>90</th>\n",
       "      <td>last_6month_card_id_card_id_size</td>\n",
       "      <td>1435</td>\n",
       "    </tr>\n",
       "    <tr>\n",
       "      <th>83</th>\n",
       "      <td>hist_weekend_sum</td>\n",
       "      <td>1454</td>\n",
       "    </tr>\n",
       "    <tr>\n",
       "      <th>100</th>\n",
       "      <td>last_month_card_id_purchase_amount_sum</td>\n",
       "      <td>1454</td>\n",
       "    </tr>\n",
       "    <tr>\n",
       "      <th>73</th>\n",
       "      <td>hist_purchase_amount_sum</td>\n",
       "      <td>1465</td>\n",
       "    </tr>\n",
       "    <tr>\n",
       "      <th>15</th>\n",
       "      <td>card_id_category_4_sum</td>\n",
       "      <td>1478</td>\n",
       "    </tr>\n",
       "    <tr>\n",
       "      <th>34</th>\n",
       "      <td>hist_CLV</td>\n",
       "      <td>1499</td>\n",
       "    </tr>\n",
       "    <tr>\n",
       "      <th>52</th>\n",
       "      <td>hist_hour_max</td>\n",
       "      <td>1506</td>\n",
       "    </tr>\n",
       "    <tr>\n",
       "      <th>42</th>\n",
       "      <td>hist_category_1_sum</td>\n",
       "      <td>1540</td>\n",
       "    </tr>\n",
       "    <tr>\n",
       "      <th>59</th>\n",
       "      <td>hist_installments_sum</td>\n",
       "      <td>1592</td>\n",
       "    </tr>\n",
       "    <tr>\n",
       "      <th>51</th>\n",
       "      <td>hist_flag_ratio</td>\n",
       "      <td>1597</td>\n",
       "    </tr>\n",
       "    <tr>\n",
       "      <th>95</th>\n",
       "      <td>last_month_card_id_merchant_id_nunique</td>\n",
       "      <td>1659</td>\n",
       "    </tr>\n",
       "    <tr>\n",
       "      <th>89</th>\n",
       "      <td>last_3month_card_id_card_id_size</td>\n",
       "      <td>1677</td>\n",
       "    </tr>\n",
       "    <tr>\n",
       "      <th>8</th>\n",
       "      <td>card_id_card_id_month_lag_purchase_amount_mean...</td>\n",
       "      <td>1723</td>\n",
       "    </tr>\n",
       "    <tr>\n",
       "      <th>88</th>\n",
       "      <td>hist_year_mean</td>\n",
       "      <td>1790</td>\n",
       "    </tr>\n",
       "    <tr>\n",
       "      <th>80</th>\n",
       "      <td>hist_purchase_date_uptonow</td>\n",
       "      <td>1791</td>\n",
       "    </tr>\n",
       "    <tr>\n",
       "      <th>16</th>\n",
       "      <td>card_id_city_id_nunique</td>\n",
       "      <td>1804</td>\n",
       "    </tr>\n",
       "    <tr>\n",
       "      <th>22</th>\n",
       "      <td>card_id_month_nunique</td>\n",
       "      <td>1837</td>\n",
       "    </tr>\n",
       "    <tr>\n",
       "      <th>30</th>\n",
       "      <td>feature123_frequency_encoding</td>\n",
       "      <td>1898</td>\n",
       "    </tr>\n",
       "    <tr>\n",
       "      <th>60</th>\n",
       "      <td>hist_installments_var</td>\n",
       "      <td>2004</td>\n",
       "    </tr>\n",
       "    <tr>\n",
       "      <th>7</th>\n",
       "      <td>card_id_card_id_month_lag_purchase_amount_coun...</td>\n",
       "      <td>2011</td>\n",
       "    </tr>\n",
       "    <tr>\n",
       "      <th>76</th>\n",
       "      <td>hist_purchase_date_diff</td>\n",
       "      <td>2018</td>\n",
       "    </tr>\n",
       "    <tr>\n",
       "      <th>3</th>\n",
       "      <td>card_id_avg_lag3_rps_std</td>\n",
       "      <td>2035</td>\n",
       "    </tr>\n",
       "    <tr>\n",
       "      <th>78</th>\n",
       "      <td>hist_purchase_date_min</td>\n",
       "      <td>2067</td>\n",
       "    </tr>\n",
       "    <tr>\n",
       "      <th>61</th>\n",
       "      <td>hist_last_buy</td>\n",
       "      <td>2077</td>\n",
       "    </tr>\n",
       "    <tr>\n",
       "      <th>74</th>\n",
       "      <td>hist_purchase_amount_var</td>\n",
       "      <td>2106</td>\n",
       "    </tr>\n",
       "    <tr>\n",
       "      <th>57</th>\n",
       "      <td>hist_installments_mean</td>\n",
       "      <td>2107</td>\n",
       "    </tr>\n",
       "    <tr>\n",
       "      <th>96</th>\n",
       "      <td>last_month_card_id_purchase_amount_max</td>\n",
       "      <td>2145</td>\n",
       "    </tr>\n",
       "    <tr>\n",
       "      <th>70</th>\n",
       "      <td>hist_purchase_amount_max</td>\n",
       "      <td>2174</td>\n",
       "    </tr>\n",
       "    <tr>\n",
       "      <th>20</th>\n",
       "      <td>card_id_month_mean</td>\n",
       "      <td>2206</td>\n",
       "    </tr>\n",
       "    <tr>\n",
       "      <th>38</th>\n",
       "      <td>hist_card_id_size</td>\n",
       "      <td>2214</td>\n",
       "    </tr>\n",
       "    <tr>\n",
       "      <th>4</th>\n",
       "      <td>card_id_avg_lag3_rps_sum</td>\n",
       "      <td>2281</td>\n",
       "    </tr>\n",
       "    <tr>\n",
       "      <th>37</th>\n",
       "      <td>hist_authorized_flag_sum</td>\n",
       "      <td>2285</td>\n",
       "    </tr>\n",
       "    <tr>\n",
       "      <th>0</th>\n",
       "      <td>card_id_avg_lag3_rps_max</td>\n",
       "      <td>2312</td>\n",
       "    </tr>\n",
       "    <tr>\n",
       "      <th>6</th>\n",
       "      <td>card_id_card_id_month_lag_purchase_amount_coun...</td>\n",
       "      <td>2341</td>\n",
       "    </tr>\n",
       "    <tr>\n",
       "      <th>17</th>\n",
       "      <td>card_id_merchant_category_id_nunique</td>\n",
       "      <td>2350</td>\n",
       "    </tr>\n",
       "    <tr>\n",
       "      <th>23</th>\n",
       "      <td>card_id_month_std</td>\n",
       "      <td>2359</td>\n",
       "    </tr>\n",
       "    <tr>\n",
       "      <th>71</th>\n",
       "      <td>hist_purchase_amount_mean</td>\n",
       "      <td>2362</td>\n",
       "    </tr>\n",
       "    <tr>\n",
       "      <th>82</th>\n",
       "      <td>hist_weekend_mean</td>\n",
       "      <td>2388</td>\n",
       "    </tr>\n",
       "    <tr>\n",
       "      <th>97</th>\n",
       "      <td>last_month_card_id_purchase_amount_mean</td>\n",
       "      <td>2392</td>\n",
       "    </tr>\n",
       "    <tr>\n",
       "      <th>2</th>\n",
       "      <td>card_id_avg_lag3_rps_min</td>\n",
       "      <td>2422</td>\n",
       "    </tr>\n",
       "    <tr>\n",
       "      <th>9</th>\n",
       "      <td>card_id_card_id_month_lag_purchase_amount_mean...</td>\n",
       "      <td>2445</td>\n",
       "    </tr>\n",
       "    <tr>\n",
       "      <th>14</th>\n",
       "      <td>card_id_category_4_mean</td>\n",
       "      <td>2446</td>\n",
       "    </tr>\n",
       "    <tr>\n",
       "      <th>5</th>\n",
       "      <td>card_id_card_id_month_lag_purchase_amount_coun...</td>\n",
       "      <td>2467</td>\n",
       "    </tr>\n",
       "    <tr>\n",
       "      <th>72</th>\n",
       "      <td>hist_purchase_amount_min</td>\n",
       "      <td>2508</td>\n",
       "    </tr>\n",
       "    <tr>\n",
       "      <th>12</th>\n",
       "      <td>card_id_card_id_month_lag_subsector_id_nunique...</td>\n",
       "      <td>2565</td>\n",
       "    </tr>\n",
       "    <tr>\n",
       "      <th>75</th>\n",
       "      <td>hist_purchase_date_average</td>\n",
       "      <td>2565</td>\n",
       "    </tr>\n",
       "    <tr>\n",
       "      <th>98</th>\n",
       "      <td>last_month_card_id_purchase_amount_min</td>\n",
       "      <td>2642</td>\n",
       "    </tr>\n",
       "    <tr>\n",
       "      <th>1</th>\n",
       "      <td>card_id_avg_lag3_rps_mean</td>\n",
       "      <td>2711</td>\n",
       "    </tr>\n",
       "    <tr>\n",
       "      <th>44</th>\n",
       "      <td>hist_dayofweek_mean</td>\n",
       "      <td>2715</td>\n",
       "    </tr>\n",
       "    <tr>\n",
       "      <th>40</th>\n",
       "      <td>hist_category_1_mean</td>\n",
       "      <td>2720</td>\n",
       "    </tr>\n",
       "    <tr>\n",
       "      <th>85</th>\n",
       "      <td>hist_weekofyear_mean</td>\n",
       "      <td>2739</td>\n",
       "    </tr>\n",
       "    <tr>\n",
       "      <th>69</th>\n",
       "      <td>hist_month_lag_var</td>\n",
       "      <td>2827</td>\n",
       "    </tr>\n",
       "    <tr>\n",
       "      <th>77</th>\n",
       "      <td>hist_purchase_date_max</td>\n",
       "      <td>2847</td>\n",
       "    </tr>\n",
       "    <tr>\n",
       "      <th>65</th>\n",
       "      <td>hist_month_diff_var</td>\n",
       "      <td>2849</td>\n",
       "    </tr>\n",
       "    <tr>\n",
       "      <th>13</th>\n",
       "      <td>card_id_card_id_month_lag_subsector_id_nunique...</td>\n",
       "      <td>2987</td>\n",
       "    </tr>\n",
       "    <tr>\n",
       "      <th>99</th>\n",
       "      <td>last_month_card_id_purchase_amount_std</td>\n",
       "      <td>3019</td>\n",
       "    </tr>\n",
       "    <tr>\n",
       "      <th>81</th>\n",
       "      <td>hist_reference_date_median</td>\n",
       "      <td>3042</td>\n",
       "    </tr>\n",
       "    <tr>\n",
       "      <th>50</th>\n",
       "      <td>hist_first_buy</td>\n",
       "      <td>3069</td>\n",
       "    </tr>\n",
       "    <tr>\n",
       "      <th>53</th>\n",
       "      <td>hist_hour_mean</td>\n",
       "      <td>3222</td>\n",
       "    </tr>\n",
       "    <tr>\n",
       "      <th>10</th>\n",
       "      <td>card_id_card_id_month_lag_purchase_amount_mean...</td>\n",
       "      <td>3242</td>\n",
       "    </tr>\n",
       "    <tr>\n",
       "      <th>67</th>\n",
       "      <td>hist_month_lag_mean</td>\n",
       "      <td>3519</td>\n",
       "    </tr>\n",
       "    <tr>\n",
       "      <th>64</th>\n",
       "      <td>hist_month_diff_min</td>\n",
       "      <td>3630</td>\n",
       "    </tr>\n",
       "    <tr>\n",
       "      <th>35</th>\n",
       "      <td>hist_authorized_flag_mean</td>\n",
       "      <td>3677</td>\n",
       "    </tr>\n",
       "    <tr>\n",
       "      <th>87</th>\n",
       "      <td>hist_weekofyear_nunique</td>\n",
       "      <td>3949</td>\n",
       "    </tr>\n",
       "    <tr>\n",
       "      <th>63</th>\n",
       "      <td>hist_month_diff_mean</td>\n",
       "      <td>4744</td>\n",
       "    </tr>\n",
       "    <tr>\n",
       "      <th>11</th>\n",
       "      <td>card_id_card_id_month_lag_subsector_id_nunique...</td>\n",
       "      <td>4963</td>\n",
       "    </tr>\n",
       "    <tr>\n",
       "      <th>18</th>\n",
       "      <td>card_id_merchant_id_nunique</td>\n",
       "      <td>8066</td>\n",
       "    </tr>\n",
       "  </tbody>\n",
       "</table>\n",
       "</div>"
      ],
      "text/plain": [
       "                                               Feature  importance\n",
       "39                                 hist_category_1_max          15\n",
       "36                            hist_authorized_flag_min          18\n",
       "103                                            quarter          66\n",
       "21                                   card_id_month_min         114\n",
       "41                                 hist_category_1_min         160\n",
       "102                                              month         174\n",
       "43                                  hist_dayofweek_max         228\n",
       "46                              hist_dayofweek_nunique         253\n",
       "33                                           feature_3         294\n",
       "19                                   card_id_month_max         298\n",
       "68                                  hist_month_lag_min         305\n",
       "45                                  hist_dayofweek_min         319\n",
       "47                                hist_diff_first_last         322\n",
       "94                  last_month_card_id_city_id_nunique         399\n",
       "62                                 hist_month_diff_max         415\n",
       "58                               hist_installments_min         440\n",
       "31                                           feature_1         447\n",
       "56                               hist_installments_max         448\n",
       "101            last_month_card_id_subsector_id_nunique         454\n",
       "32                                           feature_2         564\n",
       "48                      hist_diff_reference_date_first         572\n",
       "93                   last_month_card_id_category_4_sum         638\n",
       "49                       hist_diff_reference_date_last         640\n",
       "26                                           dayofweek         645\n",
       "91                     last_month_card_id_card_id_size         664\n",
       "66                                  hist_month_lag_max         760\n",
       "27                                           dayofyear         763\n",
       "55                                   hist_hour_nunique         777\n",
       "104                                         weekofyear         830\n",
       "28                                        elapsed_time         905\n",
       "92                  last_month_card_id_category_4_mean         907\n",
       "79                          hist_purchase_date_uptomin         974\n",
       "24                            card_id_state_id_nunique        1025\n",
       "84                                 hist_weekofyear_max        1078\n",
       "86                                 hist_weekofyear_min        1139\n",
       "25                        card_id_subsector_id_nunique        1185\n",
       "29                                          feature123        1255\n",
       "54                                       hist_hour_min        1265\n",
       "90                    last_6month_card_id_card_id_size        1435\n",
       "83                                    hist_weekend_sum        1454\n",
       "100             last_month_card_id_purchase_amount_sum        1454\n",
       "73                            hist_purchase_amount_sum        1465\n",
       "15                              card_id_category_4_sum        1478\n",
       "34                                            hist_CLV        1499\n",
       "52                                       hist_hour_max        1506\n",
       "42                                 hist_category_1_sum        1540\n",
       "59                               hist_installments_sum        1592\n",
       "51                                     hist_flag_ratio        1597\n",
       "95              last_month_card_id_merchant_id_nunique        1659\n",
       "89                    last_3month_card_id_card_id_size        1677\n",
       "8    card_id_card_id_month_lag_purchase_amount_mean...        1723\n",
       "88                                      hist_year_mean        1790\n",
       "80                          hist_purchase_date_uptonow        1791\n",
       "16                             card_id_city_id_nunique        1804\n",
       "22                               card_id_month_nunique        1837\n",
       "30                       feature123_frequency_encoding        1898\n",
       "60                               hist_installments_var        2004\n",
       "7    card_id_card_id_month_lag_purchase_amount_coun...        2011\n",
       "76                             hist_purchase_date_diff        2018\n",
       "3                             card_id_avg_lag3_rps_std        2035\n",
       "78                              hist_purchase_date_min        2067\n",
       "61                                       hist_last_buy        2077\n",
       "74                            hist_purchase_amount_var        2106\n",
       "57                              hist_installments_mean        2107\n",
       "96              last_month_card_id_purchase_amount_max        2145\n",
       "70                            hist_purchase_amount_max        2174\n",
       "20                                  card_id_month_mean        2206\n",
       "38                                   hist_card_id_size        2214\n",
       "4                             card_id_avg_lag3_rps_sum        2281\n",
       "37                            hist_authorized_flag_sum        2285\n",
       "0                             card_id_avg_lag3_rps_max        2312\n",
       "6    card_id_card_id_month_lag_purchase_amount_coun...        2341\n",
       "17                card_id_merchant_category_id_nunique        2350\n",
       "23                                   card_id_month_std        2359\n",
       "71                           hist_purchase_amount_mean        2362\n",
       "82                                   hist_weekend_mean        2388\n",
       "97             last_month_card_id_purchase_amount_mean        2392\n",
       "2                             card_id_avg_lag3_rps_min        2422\n",
       "9    card_id_card_id_month_lag_purchase_amount_mean...        2445\n",
       "14                             card_id_category_4_mean        2446\n",
       "5    card_id_card_id_month_lag_purchase_amount_coun...        2467\n",
       "72                            hist_purchase_amount_min        2508\n",
       "12   card_id_card_id_month_lag_subsector_id_nunique...        2565\n",
       "75                          hist_purchase_date_average        2565\n",
       "98              last_month_card_id_purchase_amount_min        2642\n",
       "1                            card_id_avg_lag3_rps_mean        2711\n",
       "44                                 hist_dayofweek_mean        2715\n",
       "40                                hist_category_1_mean        2720\n",
       "85                                hist_weekofyear_mean        2739\n",
       "69                                  hist_month_lag_var        2827\n",
       "77                              hist_purchase_date_max        2847\n",
       "65                                 hist_month_diff_var        2849\n",
       "13   card_id_card_id_month_lag_subsector_id_nunique...        2987\n",
       "99              last_month_card_id_purchase_amount_std        3019\n",
       "81                          hist_reference_date_median        3042\n",
       "50                                      hist_first_buy        3069\n",
       "53                                      hist_hour_mean        3222\n",
       "10   card_id_card_id_month_lag_purchase_amount_mean...        3242\n",
       "67                                 hist_month_lag_mean        3519\n",
       "64                                 hist_month_diff_min        3630\n",
       "35                           hist_authorized_flag_mean        3677\n",
       "87                             hist_weekofyear_nunique        3949\n",
       "63                                hist_month_diff_mean        4744\n",
       "11   card_id_card_id_month_lag_subsector_id_nunique...        4963\n",
       "18                         card_id_merchant_id_nunique        8066"
      ]
     },
     "execution_count": 226,
     "metadata": {},
     "output_type": "execute_result"
    }
   ],
   "source": [
    "feature_importance_df.groupby('Feature')['importance'].sum().reset_index().sort_values('importance')"
   ]
  },
  {
   "cell_type": "code",
   "execution_count": 295,
   "metadata": {},
   "outputs": [
    {
     "data": {
      "text/plain": [
       "11.655298374490084"
      ]
     },
     "execution_count": 295,
     "metadata": {},
     "output_type": "execute_result"
    }
   ],
   "source": [
    "mean_absolute_error(np.floor(oof), target)"
   ]
  },
  {
   "cell_type": "code",
   "execution_count": 296,
   "metadata": {},
   "outputs": [],
   "source": [
    "result = pd.concat([pd.DataFrame(np.power(oof,2),columns=['oof']),pd.DataFrame(np.power(target,2)).reset_index(drop=True)],axis=1)"
   ]
  },
  {
   "cell_type": "code",
   "execution_count": 298,
   "metadata": {},
   "outputs": [
    {
     "data": {
      "text/plain": [
       "<matplotlib.axes._subplots.AxesSubplot at 0x7fbcf33c9128>"
      ]
     },
     "execution_count": 298,
     "metadata": {},
     "output_type": "execute_result"
    },
    {
     "data": {
      "image/png": "[encoded data removed]",
      "text/plain": [
       "<Figure size 432x288 with 1 Axes>"
      ]
     },
     "metadata": {},
     "output_type": "display_data"
    }
   ],
   "source": [
    "sns.distplot(result['oof'])\n",
    "sns.distplot(result['new_hist_card_id_purchase_date_min'])"
   ]
  },
  {
   "cell_type": "code",
   "execution_count": 299,
   "metadata": {},
   "outputs": [],
   "source": [
    "result['oof'] = result['oof'].apply(lambda x: datetime.fromtimestamp(x))\n",
    "result['new_hist_card_id_purchase_date_min'] = result['new_hist_card_id_purchase_date_min'].apply(lambda x: datetime.fromtimestamp(x))"
   ]
  },
  {
   "cell_type": "code",
   "execution_count": 301,
   "metadata": {},
   "outputs": [],
   "source": [
    "convert_prediction = [datetime.fromtimestamp(x) for x in np.power(predictions,2)]"
   ]
  },
  {
   "cell_type": "code",
   "execution_count": 285,
   "metadata": {},
   "outputs": [],
   "source": [
    "sub_df = pd.DataFrame({\"card_id\":test_df[\"card_id\"].values})\n",
    "sub_df['new_hist_card_id_purchase_date_max'] = convert_prediction"
   ]
  },
  {
   "cell_type": "code",
   "execution_count": 302,
   "metadata": {},
   "outputs": [],
   "source": [
    "sub_df = pd.DataFrame({\"card_id\":test_df[\"card_id\"].values})\n",
    "sub_df['new_hist_purchase_date_min'] = convert_prediction\n",
    "#sub_df.loc[sub_df['target']<-9,'target'] = -33.21928095\n",
    "sub_df.to_csv(\"input/fill_new_hist_card_id_purchase_date_min_{}.csv\".format(filename), index=False)"
   ]
  }
 ],
 "metadata": {
  "kernelspec": {
   "display_name": "Python 3",
   "language": "python",
   "name": "python3"
  },
  "language_info": {
   "codemirror_mode": {
    "name": "ipython",
    "version": 3
   },
   "file_extension": ".py",
   "mimetype": "text/x-python",
   "name": "python",
   "nbconvert_exporter": "python",
   "pygments_lexer": "ipython3",
   "version": "3.6.5"
  }
 },
 "nbformat": 4,
 "nbformat_minor": 2
}
