{
 "cells": [
  {
   "cell_type": "markdown",
   "metadata": {},
   "source": [
    "# 사전 작업"
   ]
  },
  {
   "cell_type": "markdown",
   "metadata": {},
   "source": [
    "## 모듈 로드"
   ]
  },
  {
   "cell_type": "code",
   "execution_count": 1,
   "metadata": {
    "ExecuteTime": {
     "end_time": "2019-03-16T17:27:59.700489Z",
     "start_time": "2019-03-16T17:27:55.950790Z"
    }
   },
   "outputs": [],
   "source": [
    "import numpy as np\n",
    "import pandas as pd\n",
    "import matplotlib.pyplot as plt\n",
    "import datetime\n",
    "import seaborn as sns\n",
    "import gc"
   ]
  },
  {
   "cell_type": "code",
   "execution_count": 8,
   "metadata": {
    "ExecuteTime": {
     "end_time": "2019-03-16T17:29:21.700880Z",
     "start_time": "2019-03-16T17:29:21.696931Z"
    }
   },
   "outputs": [],
   "source": [
    "import lightgbm as lgb\n",
    "from sklearn.model_selection import KFold, StratifiedKFold\n",
    "from sklearn.model_selection import train_test_split\n",
    "from sklearn.metrics import roc_auc_score, roc_curve"
   ]
  },
  {
   "cell_type": "code",
   "execution_count": 3,
   "metadata": {
    "ExecuteTime": {
     "end_time": "2019-03-16T17:28:04.289753Z",
     "start_time": "2019-03-16T17:28:04.285730Z"
    }
   },
   "outputs": [],
   "source": [
    "pd.set_option('display.max_columns', 400)"
   ]
  },
  {
   "cell_type": "markdown",
   "metadata": {},
   "source": [
    "# 데이터 로드"
   ]
  },
  {
   "cell_type": "code",
   "execution_count": 5,
   "metadata": {
    "ExecuteTime": {
     "end_time": "2019-03-16T17:29:03.563957Z",
     "start_time": "2019-03-16T17:28:51.688724Z"
    }
   },
   "outputs": [
    {
     "data": {
      "text/plain": [
       "((200000, 202), (200000, 201))"
      ]
     },
     "execution_count": 5,
     "metadata": {},
     "output_type": "execute_result"
    }
   ],
   "source": [
    "train = pd.read_csv('./data/train.csv')\n",
    "test = pd.read_csv('./data/test.csv')\n",
    "train.shape, test.shape"
   ]
  },
  {
   "cell_type": "code",
   "execution_count": 9,
   "metadata": {
    "ExecuteTime": {
     "end_time": "2019-03-16T17:29:23.223029Z",
     "start_time": "2019-03-16T17:29:22.907840Z"
    }
   },
   "outputs": [
    {
     "data": {
      "text/plain": [
       "((180000, 202), (200000, 201))"
      ]
     },
     "execution_count": 9,
     "metadata": {},
     "output_type": "execute_result"
    }
   ],
   "source": [
    "train, test_cv = train_test_split(train, test_size=0.1)\n",
    "train.shape, test.shape"
   ]
  },
  {
   "cell_type": "code",
   "execution_count": 10,
   "metadata": {
    "ExecuteTime": {
     "end_time": "2019-03-16T17:29:43.093572Z",
     "start_time": "2019-03-16T17:29:43.089583Z"
    }
   },
   "outputs": [],
   "source": [
    "features = [c for c in train.columns if c not in ['ID_code', 'target']]\n",
    "target = train['target']"
   ]
  },
  {
   "cell_type": "markdown",
   "metadata": {},
   "source": [
    "# LGB"
   ]
  },
  {
   "cell_type": "code",
   "execution_count": 11,
   "metadata": {
    "ExecuteTime": {
     "end_time": "2019-03-16T17:30:05.050980Z",
     "start_time": "2019-03-16T17:30:05.044997Z"
    }
   },
   "outputs": [],
   "source": [
    "param = {\n",
    "    'bagging_freq': 5,\n",
    "    'bagging_fraction': 0.335,\n",
    "    'boost_from_average': False,\n",
    "    'boost': 'gbdt',\n",
    "    'feature_fraction_seed': 47,\n",
    "    'feature_fraction': 0.041,\n",
    "    'learning_rate': 0.01,\n",
    "    'max_depth': -1,\n",
    "    'metric':'auc',\n",
    "    'min_data_in_leaf': 80,\n",
    "    'min_sum_hessian_in_leaf': 10.0,\n",
    "    'num_leaves': 13,\n",
    "    'num_threads': 8,\n",
    "    'tree_learner': 'serial',\n",
    "    'objective': 'binary', \n",
    "    'verbosity': -1,\n",
    "    'num_threads': 8\n",
    "}"
   ]
  },
  {
   "cell_type": "code",
   "execution_count": 12,
   "metadata": {
    "ExecuteTime": {
     "end_time": "2019-03-16T17:40:26.020899Z",
     "start_time": "2019-03-16T17:30:13.888769Z"
    },
    "scrolled": false
   },
   "outputs": [
    {
     "name": "stdout",
     "output_type": "stream",
     "text": [
      "fold n°0\n",
      "Training until validation scores don't improve for 200 rounds.\n",
      "[3000]\ttraining's auc: 0.924493\tvalid_1's auc: 0.894003\n",
      "[6000]\ttraining's auc: 0.93943\tvalid_1's auc: 0.896886\n",
      "Early stopping, best iteration is:\n",
      "[6093]\ttraining's auc: 0.93984\tvalid_1's auc: 0.896934\n",
      "CV score: 0.89693 \n",
      "fold n°1\n",
      "Training until validation scores don't improve for 200 rounds.\n",
      "[3000]\ttraining's auc: 0.923886\tvalid_1's auc: 0.893228\n",
      "[6000]\ttraining's auc: 0.93905\tvalid_1's auc: 0.897046\n",
      "Early stopping, best iteration is:\n",
      "[6044]\ttraining's auc: 0.939254\tvalid_1's auc: 0.897081\n",
      "CV score: 0.89708 \n",
      "fold n°2\n",
      "Training until validation scores don't improve for 200 rounds.\n",
      "[3000]\ttraining's auc: 0.92265\tvalid_1's auc: 0.901253\n",
      "[6000]\ttraining's auc: 0.938138\tvalid_1's auc: 0.904668\n",
      "Early stopping, best iteration is:\n",
      "[6182]\ttraining's auc: 0.938918\tvalid_1's auc: 0.904716\n",
      "CV score: 0.90472 \n",
      "fold n°3\n",
      "Training until validation scores don't improve for 200 rounds.\n",
      "[3000]\ttraining's auc: 0.922817\tvalid_1's auc: 0.900745\n",
      "Early stopping, best iteration is:\n",
      "[5400]\ttraining's auc: 0.935594\tvalid_1's auc: 0.903412\n",
      "CV score: 0.90341 \n",
      "fold n°4\n",
      "Training until validation scores don't improve for 200 rounds.\n",
      "[3000]\ttraining's auc: 0.924844\tvalid_1's auc: 0.89131\n",
      "Early stopping, best iteration is:\n",
      "[5784]\ttraining's auc: 0.938905\tvalid_1's auc: 0.894465\n",
      "CV score: 0.89446 \n",
      "CV score: 0.89928 \n",
      "Wall time: 10min 12s\n"
     ]
    }
   ],
   "source": [
    "%%time\n",
    "folds = StratifiedKFold(n_splits=5, shuffle=True, random_state=42)\n",
    "\n",
    "oof_lgb = np.zeros(len(train))\n",
    "predictions_lgb = np.zeros(len(test))\n",
    "feature_importance = pd.DataFrame()\n",
    "\n",
    "train_columns = [c for c in train.columns if c not in ['ID_code', 'target']]\n",
    "\n",
    "for fold_, (trn_idx, val_idx) in enumerate(folds.split(train, target.values)):    \n",
    "    print(\"fold n°{}\".format(fold_))\n",
    "    trn_data = lgb.Dataset(train.iloc[trn_idx][train_columns], label=target.iloc[trn_idx])\n",
    "    val_data = lgb.Dataset(train.iloc[val_idx][train_columns], label=target.iloc[val_idx])\n",
    "\n",
    "    num_round = 60000\n",
    "    clf = lgb.train(param, trn_data, num_round, valid_sets = [trn_data, val_data], verbose_eval=3000, early_stopping_rounds = 200)\n",
    "    oof_lgb[val_idx] = clf.predict(train.iloc[val_idx][train_columns], num_iteration=clf.best_iteration)\n",
    "    \n",
    "    predictions_lgb += clf.predict(test[train_columns], num_iteration=clf.best_iteration) / folds.n_splits\n",
    "    \n",
    "    fold_importance = pd.DataFrame()\n",
    "    fold_importance[\"Feature\"] = train_columns\n",
    "    fold_importance[\"importance\"] = clf.feature_importance()\n",
    "    fold_importance[\"fold\"] = fold_ + 1\n",
    "    feature_importance = pd.concat([feature_importance, fold_importance], axis=0)\n",
    "    \n",
    "    print(\"CV score: {:<8.5f}\".format(roc_auc_score(target.values[val_idx], oof_lgb[val_idx])))\n",
    "    \n",
    "print(\"CV score: {:<8.5f}\".format(roc_auc_score(target.values, oof_lgb)))"
   ]
  },
  {
   "cell_type": "code",
   "execution_count": 13,
   "metadata": {
    "ExecuteTime": {
     "end_time": "2019-03-16T17:40:26.049091Z",
     "start_time": "2019-03-16T17:40:26.022893Z"
    }
   },
   "outputs": [],
   "source": [
    "temp = train.target.to_frame()\n",
    "temp['predict'] = oof_lgb\n",
    "temp = temp.loc[(temp.predict <= 0.1)].reset_index()\n",
    "temp['new_target']  = 0\n",
    "temp.loc[temp.target == 1, 'new_target'] = 1"
   ]
  },
  {
   "cell_type": "code",
   "execution_count": 14,
   "metadata": {
    "ExecuteTime": {
     "end_time": "2019-03-16T17:40:26.792892Z",
     "start_time": "2019-03-16T17:40:26.050857Z"
    }
   },
   "outputs": [],
   "source": [
    "train = temp[['index', 'new_target']].merge(train.reset_index(), on='index', how='left').drop(['index', 'ID_code', 'target'], axis=1)"
   ]
  },
  {
   "cell_type": "code",
   "execution_count": 15,
   "metadata": {
    "ExecuteTime": {
     "end_time": "2019-03-16T17:40:26.800813Z",
     "start_time": "2019-03-16T17:40:26.795864Z"
    }
   },
   "outputs": [],
   "source": [
    "param = {\n",
    "    'bagging_freq': 5,\n",
    "    'bagging_fraction': 0.335,\n",
    "    'boost_from_average': False,\n",
    "    'boost': 'gbdt',\n",
    "    'feature_fraction_seed': 47,\n",
    "    'feature_fraction': 0.041,\n",
    "    'learning_rate': 0.01,\n",
    "    'max_depth': -1,\n",
    "    'metric':'binary_logloss',\n",
    "    'min_data_in_leaf': 80,\n",
    "    'min_sum_hessian_in_leaf': 10.0,\n",
    "    'num_leaves': 13,\n",
    "    'num_threads': 8,\n",
    "    'tree_learner': 'serial',\n",
    "    'objective': 'binary', \n",
    "    'verbosity': -1,\n",
    "    'num_threads': 8\n",
    "}"
   ]
  },
  {
   "cell_type": "code",
   "execution_count": 16,
   "metadata": {
    "ExecuteTime": {
     "end_time": "2019-03-16T17:40:26.806798Z",
     "start_time": "2019-03-16T17:40:26.802807Z"
    }
   },
   "outputs": [],
   "source": [
    "target = train['new_target']"
   ]
  },
  {
   "cell_type": "code",
   "execution_count": 17,
   "metadata": {
    "ExecuteTime": {
     "end_time": "2019-03-16T17:42:43.468216Z",
     "start_time": "2019-03-16T17:40:26.808793Z"
    }
   },
   "outputs": [
    {
     "name": "stdout",
     "output_type": "stream",
     "text": [
      "fold n°0\n",
      "Training until validation scores don't improve for 200 rounds.\n",
      "[3000]\ttraining's binary_logloss: 0.0815627\tvalid_1's binary_logloss: 0.104835\n",
      "Early stopping, best iteration is:\n",
      "[4049]\ttraining's binary_logloss: 0.0737085\tvalid_1's binary_logloss: 0.104428\n",
      "CV score: 0.67189 \n",
      "fold n°1\n",
      "Training until validation scores don't improve for 200 rounds.\n",
      "[3000]\ttraining's binary_logloss: 0.0816445\tvalid_1's binary_logloss: 0.105261\n",
      "Early stopping, best iteration is:\n",
      "[4190]\ttraining's binary_logloss: 0.0727463\tvalid_1's binary_logloss: 0.10483\n",
      "CV score: 0.66393 \n",
      "fold n°2\n",
      "Training until validation scores don't improve for 200 rounds.\n",
      "[3000]\ttraining's binary_logloss: 0.0816934\tvalid_1's binary_logloss: 0.104573\n",
      "Early stopping, best iteration is:\n",
      "[5786]\ttraining's binary_logloss: 0.0628464\tvalid_1's binary_logloss: 0.103502\n",
      "CV score: 0.69158 \n",
      "fold n°3\n",
      "Training until validation scores don't improve for 200 rounds.\n",
      "[3000]\ttraining's binary_logloss: 0.0816808\tvalid_1's binary_logloss: 0.104753\n",
      "Early stopping, best iteration is:\n",
      "[4804]\ttraining's binary_logloss: 0.0687097\tvalid_1's binary_logloss: 0.104023\n",
      "CV score: 0.68045 \n",
      "fold n°4\n",
      "Training until validation scores don't improve for 200 rounds.\n",
      "[3000]\ttraining's binary_logloss: 0.081781\tvalid_1's binary_logloss: 0.104563\n",
      "Early stopping, best iteration is:\n",
      "[4605]\ttraining's binary_logloss: 0.0701582\tvalid_1's binary_logloss: 0.103773\n",
      "CV score: 0.68421 \n",
      "CV score: 0.67834 \n"
     ]
    }
   ],
   "source": [
    "folds = StratifiedKFold(n_splits=5, shuffle=True, random_state=42)\n",
    "\n",
    "oof_lgb = np.zeros(len(train))\n",
    "# predictions_lgb = np.zeros(len(test))\n",
    "feature_importance = pd.DataFrame()\n",
    "\n",
    "train_columns = [c for c in train.columns if c not in ['ID_code', 'target', 'new_target']]\n",
    "\n",
    "for fold_, (trn_idx, val_idx) in enumerate(folds.split(train, target.values)):    \n",
    "    print(\"fold n°{}\".format(fold_))\n",
    "    trn_data = lgb.Dataset(train.iloc[trn_idx][train_columns], label=target.iloc[trn_idx])\n",
    "    val_data = lgb.Dataset(train.iloc[val_idx][train_columns], label=target.iloc[val_idx])\n",
    "\n",
    "    num_round = 60000\n",
    "    clf = lgb.train(param, trn_data, num_round, valid_sets = [trn_data, val_data], verbose_eval=3000, early_stopping_rounds = 200)\n",
    "    oof_lgb[val_idx] = clf.predict(train.iloc[val_idx][train_columns], num_iteration=clf.best_iteration)\n",
    "    \n",
    "#     predictions_lgb += clf.predict(test[train_columns], num_iteration=clf.best_iteration) / folds.n_splits\n",
    "    \n",
    "    fold_importance = pd.DataFrame()\n",
    "    fold_importance[\"Feature\"] = train_columns\n",
    "    fold_importance[\"importance\"] = clf.feature_importance()\n",
    "    fold_importance[\"fold\"] = fold_ + 1\n",
    "    feature_importance = pd.concat([feature_importance, fold_importance], axis=0)\n",
    "    \n",
    "    print(\"CV score: {:<8.5f}\".format(roc_auc_score(target.values[val_idx], oof_lgb[val_idx])))\n",
    "    \n",
    "print(\"CV score: {:<8.5f}\".format(roc_auc_score(target.values, oof_lgb)))"
   ]
  },
  {
   "cell_type": "code",
   "execution_count": 21,
   "metadata": {
    "ExecuteTime": {
     "end_time": "2019-03-16T17:49:10.716224Z",
     "start_time": "2019-03-16T17:49:10.711237Z"
    }
   },
   "outputs": [],
   "source": [
    "temp = train.new_target.to_frame()"
   ]
  },
  {
   "cell_type": "code",
   "execution_count": 22,
   "metadata": {
    "ExecuteTime": {
     "end_time": "2019-03-16T17:49:17.087442Z",
     "start_time": "2019-03-16T17:49:17.083407Z"
    }
   },
   "outputs": [],
   "source": [
    "temp['pred'] = oof_lgb"
   ]
  },
  {
   "cell_type": "code",
   "execution_count": 25,
   "metadata": {
    "ExecuteTime": {
     "end_time": "2019-03-16T17:49:54.836799Z",
     "start_time": "2019-03-16T17:49:54.811866Z"
    }
   },
   "outputs": [
    {
     "data": {
      "text/html": [
       "<div>\n",
       "<style scoped>\n",
       "    .dataframe tbody tr th:only-of-type {\n",
       "        vertical-align: middle;\n",
       "    }\n",
       "\n",
       "    .dataframe tbody tr th {\n",
       "        vertical-align: top;\n",
       "    }\n",
       "\n",
       "    .dataframe thead th {\n",
       "        text-align: right;\n",
       "    }\n",
       "</style>\n",
       "<table border=\"1\" class=\"dataframe\">\n",
       "  <thead>\n",
       "    <tr style=\"text-align: right;\">\n",
       "      <th></th>\n",
       "      <th>new_target</th>\n",
       "      <th>pred</th>\n",
       "    </tr>\n",
       "  </thead>\n",
       "  <tbody>\n",
       "    <tr>\n",
       "      <th>11</th>\n",
       "      <td>1</td>\n",
       "      <td>0.083312</td>\n",
       "    </tr>\n",
       "    <tr>\n",
       "      <th>14</th>\n",
       "      <td>1</td>\n",
       "      <td>0.056873</td>\n",
       "    </tr>\n",
       "    <tr>\n",
       "      <th>43</th>\n",
       "      <td>1</td>\n",
       "      <td>0.035674</td>\n",
       "    </tr>\n",
       "    <tr>\n",
       "      <th>97</th>\n",
       "      <td>1</td>\n",
       "      <td>0.034539</td>\n",
       "    </tr>\n",
       "    <tr>\n",
       "      <th>107</th>\n",
       "      <td>1</td>\n",
       "      <td>0.018266</td>\n",
       "    </tr>\n",
       "    <tr>\n",
       "      <th>145</th>\n",
       "      <td>1</td>\n",
       "      <td>0.027268</td>\n",
       "    </tr>\n",
       "    <tr>\n",
       "      <th>154</th>\n",
       "      <td>1</td>\n",
       "      <td>0.031506</td>\n",
       "    </tr>\n",
       "    <tr>\n",
       "      <th>166</th>\n",
       "      <td>1</td>\n",
       "      <td>0.030995</td>\n",
       "    </tr>\n",
       "    <tr>\n",
       "      <th>190</th>\n",
       "      <td>1</td>\n",
       "      <td>0.008879</td>\n",
       "    </tr>\n",
       "    <tr>\n",
       "      <th>229</th>\n",
       "      <td>1</td>\n",
       "      <td>0.012091</td>\n",
       "    </tr>\n",
       "    <tr>\n",
       "      <th>311</th>\n",
       "      <td>1</td>\n",
       "      <td>0.018165</td>\n",
       "    </tr>\n",
       "    <tr>\n",
       "      <th>367</th>\n",
       "      <td>1</td>\n",
       "      <td>0.026814</td>\n",
       "    </tr>\n",
       "    <tr>\n",
       "      <th>455</th>\n",
       "      <td>1</td>\n",
       "      <td>0.038492</td>\n",
       "    </tr>\n",
       "    <tr>\n",
       "      <th>546</th>\n",
       "      <td>1</td>\n",
       "      <td>0.048073</td>\n",
       "    </tr>\n",
       "    <tr>\n",
       "      <th>547</th>\n",
       "      <td>1</td>\n",
       "      <td>0.011553</td>\n",
       "    </tr>\n",
       "    <tr>\n",
       "      <th>570</th>\n",
       "      <td>1</td>\n",
       "      <td>0.010814</td>\n",
       "    </tr>\n",
       "    <tr>\n",
       "      <th>591</th>\n",
       "      <td>1</td>\n",
       "      <td>0.017658</td>\n",
       "    </tr>\n",
       "    <tr>\n",
       "      <th>643</th>\n",
       "      <td>1</td>\n",
       "      <td>0.029435</td>\n",
       "    </tr>\n",
       "    <tr>\n",
       "      <th>659</th>\n",
       "      <td>1</td>\n",
       "      <td>0.031975</td>\n",
       "    </tr>\n",
       "    <tr>\n",
       "      <th>715</th>\n",
       "      <td>1</td>\n",
       "      <td>0.029616</td>\n",
       "    </tr>\n",
       "    <tr>\n",
       "      <th>723</th>\n",
       "      <td>1</td>\n",
       "      <td>0.019216</td>\n",
       "    </tr>\n",
       "    <tr>\n",
       "      <th>891</th>\n",
       "      <td>1</td>\n",
       "      <td>0.019235</td>\n",
       "    </tr>\n",
       "    <tr>\n",
       "      <th>893</th>\n",
       "      <td>1</td>\n",
       "      <td>0.045094</td>\n",
       "    </tr>\n",
       "    <tr>\n",
       "      <th>922</th>\n",
       "      <td>1</td>\n",
       "      <td>0.025261</td>\n",
       "    </tr>\n",
       "    <tr>\n",
       "      <th>927</th>\n",
       "      <td>1</td>\n",
       "      <td>0.009474</td>\n",
       "    </tr>\n",
       "    <tr>\n",
       "      <th>948</th>\n",
       "      <td>1</td>\n",
       "      <td>0.041544</td>\n",
       "    </tr>\n",
       "    <tr>\n",
       "      <th>960</th>\n",
       "      <td>1</td>\n",
       "      <td>0.018920</td>\n",
       "    </tr>\n",
       "    <tr>\n",
       "      <th>976</th>\n",
       "      <td>1</td>\n",
       "      <td>0.045860</td>\n",
       "    </tr>\n",
       "    <tr>\n",
       "      <th>980</th>\n",
       "      <td>1</td>\n",
       "      <td>0.019454</td>\n",
       "    </tr>\n",
       "    <tr>\n",
       "      <th>1073</th>\n",
       "      <td>1</td>\n",
       "      <td>0.044628</td>\n",
       "    </tr>\n",
       "    <tr>\n",
       "      <th>...</th>\n",
       "      <td>...</td>\n",
       "      <td>...</td>\n",
       "    </tr>\n",
       "    <tr>\n",
       "      <th>131343</th>\n",
       "      <td>1</td>\n",
       "      <td>0.018111</td>\n",
       "    </tr>\n",
       "    <tr>\n",
       "      <th>131366</th>\n",
       "      <td>1</td>\n",
       "      <td>0.021843</td>\n",
       "    </tr>\n",
       "    <tr>\n",
       "      <th>131427</th>\n",
       "      <td>1</td>\n",
       "      <td>0.038613</td>\n",
       "    </tr>\n",
       "    <tr>\n",
       "      <th>131444</th>\n",
       "      <td>1</td>\n",
       "      <td>0.042443</td>\n",
       "    </tr>\n",
       "    <tr>\n",
       "      <th>131448</th>\n",
       "      <td>1</td>\n",
       "      <td>0.024587</td>\n",
       "    </tr>\n",
       "    <tr>\n",
       "      <th>131471</th>\n",
       "      <td>1</td>\n",
       "      <td>0.021410</td>\n",
       "    </tr>\n",
       "    <tr>\n",
       "      <th>131501</th>\n",
       "      <td>1</td>\n",
       "      <td>0.017854</td>\n",
       "    </tr>\n",
       "    <tr>\n",
       "      <th>131578</th>\n",
       "      <td>1</td>\n",
       "      <td>0.012355</td>\n",
       "    </tr>\n",
       "    <tr>\n",
       "      <th>131599</th>\n",
       "      <td>1</td>\n",
       "      <td>0.017959</td>\n",
       "    </tr>\n",
       "    <tr>\n",
       "      <th>131634</th>\n",
       "      <td>1</td>\n",
       "      <td>0.026181</td>\n",
       "    </tr>\n",
       "    <tr>\n",
       "      <th>131700</th>\n",
       "      <td>1</td>\n",
       "      <td>0.032881</td>\n",
       "    </tr>\n",
       "    <tr>\n",
       "      <th>131755</th>\n",
       "      <td>1</td>\n",
       "      <td>0.054819</td>\n",
       "    </tr>\n",
       "    <tr>\n",
       "      <th>131775</th>\n",
       "      <td>1</td>\n",
       "      <td>0.015578</td>\n",
       "    </tr>\n",
       "    <tr>\n",
       "      <th>131796</th>\n",
       "      <td>1</td>\n",
       "      <td>0.040633</td>\n",
       "    </tr>\n",
       "    <tr>\n",
       "      <th>131808</th>\n",
       "      <td>1</td>\n",
       "      <td>0.045866</td>\n",
       "    </tr>\n",
       "    <tr>\n",
       "      <th>131833</th>\n",
       "      <td>1</td>\n",
       "      <td>0.013194</td>\n",
       "    </tr>\n",
       "    <tr>\n",
       "      <th>131835</th>\n",
       "      <td>1</td>\n",
       "      <td>0.020478</td>\n",
       "    </tr>\n",
       "    <tr>\n",
       "      <th>131853</th>\n",
       "      <td>1</td>\n",
       "      <td>0.020498</td>\n",
       "    </tr>\n",
       "    <tr>\n",
       "      <th>131887</th>\n",
       "      <td>1</td>\n",
       "      <td>0.019022</td>\n",
       "    </tr>\n",
       "    <tr>\n",
       "      <th>131930</th>\n",
       "      <td>1</td>\n",
       "      <td>0.044335</td>\n",
       "    </tr>\n",
       "    <tr>\n",
       "      <th>131980</th>\n",
       "      <td>1</td>\n",
       "      <td>0.016597</td>\n",
       "    </tr>\n",
       "    <tr>\n",
       "      <th>132092</th>\n",
       "      <td>1</td>\n",
       "      <td>0.027914</td>\n",
       "    </tr>\n",
       "    <tr>\n",
       "      <th>132125</th>\n",
       "      <td>1</td>\n",
       "      <td>0.036912</td>\n",
       "    </tr>\n",
       "    <tr>\n",
       "      <th>132158</th>\n",
       "      <td>1</td>\n",
       "      <td>0.010200</td>\n",
       "    </tr>\n",
       "    <tr>\n",
       "      <th>132239</th>\n",
       "      <td>1</td>\n",
       "      <td>0.024804</td>\n",
       "    </tr>\n",
       "    <tr>\n",
       "      <th>132245</th>\n",
       "      <td>1</td>\n",
       "      <td>0.032971</td>\n",
       "    </tr>\n",
       "    <tr>\n",
       "      <th>132264</th>\n",
       "      <td>1</td>\n",
       "      <td>0.021792</td>\n",
       "    </tr>\n",
       "    <tr>\n",
       "      <th>132273</th>\n",
       "      <td>1</td>\n",
       "      <td>0.030929</td>\n",
       "    </tr>\n",
       "    <tr>\n",
       "      <th>132368</th>\n",
       "      <td>1</td>\n",
       "      <td>0.051486</td>\n",
       "    </tr>\n",
       "    <tr>\n",
       "      <th>132428</th>\n",
       "      <td>1</td>\n",
       "      <td>0.017960</td>\n",
       "    </tr>\n",
       "  </tbody>\n",
       "</table>\n",
       "<p>3010 rows × 2 columns</p>\n",
       "</div>"
      ],
      "text/plain": [
       "        new_target      pred\n",
       "11               1  0.083312\n",
       "14               1  0.056873\n",
       "43               1  0.035674\n",
       "97               1  0.034539\n",
       "107              1  0.018266\n",
       "145              1  0.027268\n",
       "154              1  0.031506\n",
       "166              1  0.030995\n",
       "190              1  0.008879\n",
       "229              1  0.012091\n",
       "311              1  0.018165\n",
       "367              1  0.026814\n",
       "455              1  0.038492\n",
       "546              1  0.048073\n",
       "547              1  0.011553\n",
       "570              1  0.010814\n",
       "591              1  0.017658\n",
       "643              1  0.029435\n",
       "659              1  0.031975\n",
       "715              1  0.029616\n",
       "723              1  0.019216\n",
       "891              1  0.019235\n",
       "893              1  0.045094\n",
       "922              1  0.025261\n",
       "927              1  0.009474\n",
       "948              1  0.041544\n",
       "960              1  0.018920\n",
       "976              1  0.045860\n",
       "980              1  0.019454\n",
       "1073             1  0.044628\n",
       "...            ...       ...\n",
       "131343           1  0.018111\n",
       "131366           1  0.021843\n",
       "131427           1  0.038613\n",
       "131444           1  0.042443\n",
       "131448           1  0.024587\n",
       "131471           1  0.021410\n",
       "131501           1  0.017854\n",
       "131578           1  0.012355\n",
       "131599           1  0.017959\n",
       "131634           1  0.026181\n",
       "131700           1  0.032881\n",
       "131755           1  0.054819\n",
       "131775           1  0.015578\n",
       "131796           1  0.040633\n",
       "131808           1  0.045866\n",
       "131833           1  0.013194\n",
       "131835           1  0.020478\n",
       "131853           1  0.020498\n",
       "131887           1  0.019022\n",
       "131930           1  0.044335\n",
       "131980           1  0.016597\n",
       "132092           1  0.027914\n",
       "132125           1  0.036912\n",
       "132158           1  0.010200\n",
       "132239           1  0.024804\n",
       "132245           1  0.032971\n",
       "132264           1  0.021792\n",
       "132273           1  0.030929\n",
       "132368           1  0.051486\n",
       "132428           1  0.017960\n",
       "\n",
       "[3010 rows x 2 columns]"
      ]
     },
     "execution_count": 25,
     "metadata": {},
     "output_type": "execute_result"
    }
   ],
   "source": [
    "temp[temp.new_target == 1]"
   ]
  },
  {
   "cell_type": "code",
   "execution_count": 18,
   "metadata": {
    "ExecuteTime": {
     "end_time": "2019-03-16T17:48:52.856783Z",
     "start_time": "2019-03-16T17:48:52.843819Z"
    }
   },
   "outputs": [
    {
     "data": {
      "text/plain": [
       "array([0.01285009, 0.00725737, 0.04558558, ..., 0.02580201, 0.01274669,\n",
       "       0.01937167])"
      ]
     },
     "execution_count": 18,
     "metadata": {},
     "output_type": "execute_result"
    }
   ],
   "source": [
    "oof_lgb"
   ]
  },
  {
   "cell_type": "code",
   "execution_count": null,
   "metadata": {},
   "outputs": [],
   "source": []
  }
 ],
 "metadata": {
  "kernelspec": {
   "display_name": "Python 3",
   "language": "python",
   "name": "python3"
  },
  "language_info": {
   "codemirror_mode": {
    "name": "ipython",
    "version": 3
   },
   "file_extension": ".py",
   "mimetype": "text/x-python",
   "name": "python",
   "nbconvert_exporter": "python",
   "pygments_lexer": "ipython3",
   "version": "3.6.7"
  },
  "toc": {
   "base_numbering": 1,
   "nav_menu": {},
   "number_sections": true,
   "sideBar": true,
   "skip_h1_title": false,
   "title_cell": "Table of Contents",
   "title_sidebar": "Contents",
   "toc_cell": false,
   "toc_position": {
    "height": "757px",
    "left": "27px",
    "top": "110px",
    "width": "191.58px"
   },
   "toc_section_display": true,
   "toc_window_display": true
  }
 },
 "nbformat": 4,
 "nbformat_minor": 2
}
