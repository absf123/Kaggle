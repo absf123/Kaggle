{
 "cells": [
  {
   "cell_type": "markdown",
   "metadata": {},
   "source": [
    "# 커널 필사\n",
    "* https://www.kaggle.com/yag320/list-of-fake-samples-and-public-private-lb-split"
   ]
  },
  {
   "cell_type": "code",
   "execution_count": 1,
   "metadata": {
    "ExecuteTime": {
     "end_time": "2019-03-22T07:05:40.303883Z",
     "start_time": "2019-03-22T07:05:34.635828Z"
    }
   },
   "outputs": [],
   "source": [
    "import numpy as np # linear algebra\n",
    "import pandas as pd # data processing, CSV file I/O (e.g. pd.read_csv)\n",
    "from tqdm import tqdm_notebook as tqdm"
   ]
  },
  {
   "cell_type": "code",
   "execution_count": 78,
   "metadata": {
    "ExecuteTime": {
     "end_time": "2019-03-22T08:54:23.280273Z",
     "start_time": "2019-03-22T08:54:23.277282Z"
    }
   },
   "outputs": [],
   "source": [
    "train_path = './data/train.csv'\n",
    "test_path = './data/test.csv'"
   ]
  },
  {
   "cell_type": "code",
   "execution_count": 79,
   "metadata": {
    "ExecuteTime": {
     "end_time": "2019-03-22T08:54:36.476688Z",
     "start_time": "2019-03-22T08:54:23.593162Z"
    }
   },
   "outputs": [],
   "source": [
    "df_train = pd.read_csv(train_path)\n",
    "df_train.drop(['ID_code', 'target'], axis=1, inplace=True)\n",
    "df_train = df_train.values\n",
    "\n",
    "df_test = pd.read_csv(test_path)\n",
    "df_test.drop(['ID_code'], axis=1, inplace=True)\n",
    "df_test = df_test.values"
   ]
  },
  {
   "cell_type": "code",
   "execution_count": 84,
   "metadata": {
    "ExecuteTime": {
     "end_time": "2019-03-22T08:55:12.772212Z",
     "start_time": "2019-03-22T08:55:12.755251Z"
    }
   },
   "outputs": [],
   "source": [
    "unique_samples = []\n",
    "unique_count = np.zeros(df_train.shape)"
   ]
  },
  {
   "cell_type": "code",
   "execution_count": 85,
   "metadata": {
    "ExecuteTime": {
     "end_time": "2019-03-22T08:55:19.330815Z",
     "start_time": "2019-03-22T08:55:13.765697Z"
    }
   },
   "outputs": [
    {
     "data": {
      "application/vnd.jupyter.widget-view+json": {
       "model_id": "3e75f0f42e7542bca133832166d28d2b",
       "version_major": 2,
       "version_minor": 0
      },
      "text/plain": [
       "HBox(children=(IntProgress(value=0, max=200), HTML(value='')))"
      ]
     },
     "metadata": {},
     "output_type": "display_data"
    },
    {
     "name": "stdout",
     "output_type": "stream",
     "text": [
      "\n"
     ]
    }
   ],
   "source": [
    "for feature in tqdm(range(df_train.shape[1])):\n",
    "    _, index_, count_ = np.unique(df_train[:, feature], return_counts=True, return_index=True)\n",
    "    unique_count[index_[count_ == 1], feature] += 1"
   ]
  },
  {
   "cell_type": "code",
   "execution_count": 86,
   "metadata": {
    "ExecuteTime": {
     "end_time": "2019-03-22T08:55:20.094424Z",
     "start_time": "2019-03-22T08:55:20.035585Z"
    }
   },
   "outputs": [
    {
     "name": "stdout",
     "output_type": "stream",
     "text": [
      "200000\n",
      "0\n"
     ]
    }
   ],
   "source": [
    "# Samples which have unique values are real the others are fake\n",
    "real_samples_indexes = np.argwhere(np.sum(unique_count, axis=1) > 0)[:, 0]\n",
    "synthetic_samples_indexes = np.argwhere(np.sum(unique_count, axis=1) == 0)[:, 0]\n",
    "\n",
    "print(len(real_samples_indexes))\n",
    "print(len(synthetic_samples_indexes))"
   ]
  },
  {
   "cell_type": "code",
   "execution_count": 80,
   "metadata": {
    "ExecuteTime": {
     "end_time": "2019-03-22T08:54:44.908452Z",
     "start_time": "2019-03-22T08:54:44.902467Z"
    }
   },
   "outputs": [],
   "source": [
    "unique_samples = []\n",
    "unique_count = np.zeros(df_test.shape)"
   ]
  },
  {
   "cell_type": "code",
   "execution_count": 81,
   "metadata": {
    "ExecuteTime": {
     "end_time": "2019-03-22T08:54:52.832183Z",
     "start_time": "2019-03-22T08:54:47.633073Z"
    }
   },
   "outputs": [
    {
     "data": {
      "application/vnd.jupyter.widget-view+json": {
       "model_id": "",
       "version_major": 2,
       "version_minor": 0
      },
      "text/plain": [
       "HBox(children=(IntProgress(value=0, max=200), HTML(value='')))"
      ]
     },
     "metadata": {},
     "output_type": "display_data"
    },
    {
     "name": "stdout",
     "output_type": "stream",
     "text": [
      "\n"
     ]
    }
   ],
   "source": [
    "for feature in tqdm(range(df_test.shape[1])):\n",
    "    _, index_, count_ = np.unique(df_test[:, feature], return_counts=True, return_index=True)\n",
    "    unique_count[index_[count_ == 1], feature] += 1"
   ]
  },
  {
   "cell_type": "code",
   "execution_count": 82,
   "metadata": {
    "ExecuteTime": {
     "end_time": "2019-03-22T08:54:52.910995Z",
     "start_time": "2019-03-22T08:54:52.834164Z"
    }
   },
   "outputs": [
    {
     "name": "stdout",
     "output_type": "stream",
     "text": [
      "100000\n",
      "100000\n"
     ]
    }
   ],
   "source": [
    "# Samples which have unique values are real the others are fake\n",
    "real_samples_indexes = np.argwhere(np.sum(unique_count, axis=1) > 0)[:, 0]\n",
    "synthetic_samples_indexes = np.argwhere(np.sum(unique_count, axis=1) == 0)[:, 0]\n",
    "\n",
    "print(len(real_samples_indexes))\n",
    "print(len(synthetic_samples_indexes))"
   ]
  },
  {
   "cell_type": "code",
   "execution_count": 61,
   "metadata": {
    "ExecuteTime": {
     "end_time": "2019-03-22T08:01:50.630848Z",
     "start_time": "2019-03-22T08:01:50.449978Z"
    }
   },
   "outputs": [],
   "source": [
    "df_test_real = df_test[real_samples_indexes].copy()"
   ]
  },
  {
   "cell_type": "code",
   "execution_count": 73,
   "metadata": {
    "ExecuteTime": {
     "end_time": "2019-03-22T08:44:23.211555Z",
     "start_time": "2019-03-22T08:06:37.371226Z"
    }
   },
   "outputs": [
    {
     "data": {
      "application/vnd.jupyter.widget-view+json": {
       "model_id": "4fba724869d641b1bbe2b88831ddc34e",
       "version_major": 2,
       "version_minor": 0
      },
      "text/plain": [
       "HBox(children=(IntProgress(value=0, max=20000), HTML(value='')))"
      ]
     },
     "metadata": {},
     "output_type": "display_data"
    },
    {
     "name": "stdout",
     "output_type": "stream",
     "text": [
      "\n"
     ]
    }
   ],
   "source": [
    "generator_for_each_synthetic_sample = []\n",
    "\n",
    "for cur_sample_index in tqdm(synthetic_samples_indexes[:20000]):\n",
    "    cur_synthetic_sample = df_test[cur_sample_index]\n",
    "    potential_generators = df_test_real == cur_synthetic_sample\n",
    "\n",
    "    # A verified generator for a synthetic sample is achieved\n",
    "    # only if the value of a feature appears only once in the\n",
    "    # entire real samples set\n",
    "    features_mask = np.sum(potential_generators, axis=0) == 1\n",
    "    verified_generators_mask = np.any(potential_generators[:, features_mask], axis=1)\n",
    "    verified_generators_for_sample = real_samples_indexes[np.argwhere(verified_generators_mask)[:, 0]]\n",
    "    generator_for_each_synthetic_sample.append(set(verified_generators_for_sample))"
   ]
  },
  {
   "cell_type": "code",
   "execution_count": 71,
   "metadata": {
    "ExecuteTime": {
     "end_time": "2019-03-22T08:05:29.609655Z",
     "start_time": "2019-03-22T08:05:29.579736Z"
    }
   },
   "outputs": [
    {
     "data": {
      "text/plain": [
       "array([  1,   1,   2,   2,   1,   1,   2,   1,   1,   7,   1,   2,  13,\n",
       "         1,   2,  10,   2,   1,   1,   2,   1,   1,   2,   8,   1,   4,\n",
       "         3,   3,   7,   1,   2,   1,   2,   2,   8,   2,   4,   2,   2,\n",
       "         1,   2,   1,   7,  14,   1,   1,   3,   1,   1,   1,   5,   2,\n",
       "         2,   1,   1,   1,   1,   8,   1,   4,   4,   1,   2,   1,   3,\n",
       "         1,   3,   2, 367,   3,   1,  17,   3,   1,   1,   1,   2,   2,\n",
       "         1,   1,   2,   3,   1,   2,   1,   1,   1,   2,   1,   2,   1,\n",
       "        23,   2,   5,   1,   3,   1,   1,  10,   1,   1,   1,   1,  19,\n",
       "         1,   3,   8,   1,   8,   2,   1,   6,   4,   2,   3,   3,   5,\n",
       "         1,   1,   2,   1,   4,   1,   1,   2,   7,   2,   2,   2,   2,\n",
       "         7,  11,   2,   1,   3,   3,   2,   1,   1,   2,   1,   1,   1,\n",
       "         3,   6,   1,   3,   1,  22,   2,   1,   1,   2,   3,   1,   3,\n",
       "         3,   2,   1,   2,   1,  16,   1,   2,   1,   1,  16,   2,   1,\n",
       "         5,   2,   3,   2,   1,   1,   2,   1,   2,   1,   3,   1,   4,\n",
       "         1,   1,   1,   1,   5,   1,   1,   5,   1,   1,   1,   4,   2,\n",
       "         2,   3,   2,   2,   3])"
      ]
     },
     "execution_count": 71,
     "metadata": {},
     "output_type": "execute_result"
    }
   ],
   "source": [
    "np.sum(potential_generators, axis=0)"
   ]
  },
  {
   "cell_type": "code",
   "execution_count": null,
   "metadata": {},
   "outputs": [],
   "source": []
  }
 ],
 "metadata": {
  "kernelspec": {
   "display_name": "Python 3",
   "language": "python",
   "name": "python3"
  },
  "language_info": {
   "codemirror_mode": {
    "name": "ipython",
    "version": 3
   },
   "file_extension": ".py",
   "mimetype": "text/x-python",
   "name": "python",
   "nbconvert_exporter": "python",
   "pygments_lexer": "ipython3",
   "version": "3.6.7"
  },
  "toc": {
   "base_numbering": 1,
   "nav_menu": {},
   "number_sections": true,
   "sideBar": true,
   "skip_h1_title": false,
   "title_cell": "Table of Contents",
   "title_sidebar": "Contents",
   "toc_cell": false,
   "toc_position": {
    "height": "calc(100% - 180px)",
    "left": "10px",
    "top": "150px",
    "width": "191.594px"
   },
   "toc_section_display": true,
   "toc_window_display": true
  }
 },
 "nbformat": 4,
 "nbformat_minor": 2
}
