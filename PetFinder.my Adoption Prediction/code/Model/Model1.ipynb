{
 "cells": [
  {
   "cell_type": "code",
   "execution_count": 1,
   "metadata": {
    "_uuid": "8a1ec3fce0e837c566e886066e15a83807f002cb"
   },
   "outputs": [],
   "source": [
    "from tensorflow import set_random_seed\n",
    "set_random_seed(2019)"
   ]
  },
  {
   "cell_type": "code",
   "execution_count": 2,
   "metadata": {
    "_cell_guid": "b1076dfc-b9ad-4769-8c92-a6c4dae69d19",
    "_uuid": "8f2839f25d086af736a60e9eeb907d3b93b6e0e5"
   },
   "outputs": [],
   "source": [
    "import gc\n",
    "import glob\n",
    "import os\n",
    "import json\n",
    "import matplotlib.pyplot as plt\n",
    "import seaborn as sns\n",
    "import pprint\n",
    "import warnings\n",
    "\n",
    "import numpy as np\n",
    "import pandas as pd\n",
    "\n",
    "from sklearn.feature_extraction.text import TfidfVectorizer\n",
    "from sklearn.decomposition import TruncatedSVD\n",
    "from joblib import Parallel, delayed\n",
    "from tqdm import tqdm, tqdm_notebook\n",
    "\n",
    "%matplotlib inline\n",
    "\n",
    "np.random.seed(seed=1337)\n",
    "warnings.filterwarnings('ignore')\n",
    "\n",
    "split_char = '/'"
   ]
  },
  {
   "cell_type": "code",
   "execution_count": 3,
   "metadata": {
    "_cell_guid": "79c7e3d0-c299-4dcb-8224-4455121ee9b0",
    "_uuid": "d629ff2d2480ee46fbb7e2d37f6b5fab8052498a"
   },
   "outputs": [
    {
     "data": {
      "text/plain": [
       "['petfinder-external-data', 'densenet-keras', 'petfinder-adoption-prediction']"
      ]
     },
     "execution_count": 3,
     "metadata": {},
     "output_type": "execute_result"
    }
   ],
   "source": [
    "os.listdir('../input')"
   ]
  },
  {
   "cell_type": "code",
   "execution_count": 4,
   "metadata": {
    "_uuid": "24a6811e5b612c3d2aef6639f577dd10f2564be4"
   },
   "outputs": [],
   "source": [
    "train = pd.read_csv('../input/petfinder-adoption-prediction/train/train.csv')\n",
    "test = pd.read_csv('../input/petfinder-adoption-prediction/test/test.csv')\n",
    "sample_submission = pd.read_csv('../input/petfinder-adoption-prediction/test/sample_submission.csv')"
   ]
  },
  {
   "cell_type": "markdown",
   "metadata": {
    "_uuid": "052af9faacdccaa34191d06da2f13f73417dd628"
   },
   "source": [
    "## Image features"
   ]
  },
  {
   "cell_type": "code",
   "execution_count": 5,
   "metadata": {
    "_uuid": "af167755c88bb47c01b01982b71391bc39238d6d"
   },
   "outputs": [
    {
     "name": "stderr",
     "output_type": "stream",
     "text": [
      "Using TensorFlow backend.\n"
     ]
    }
   ],
   "source": [
    "import cv2\n",
    "import os\n",
    "from keras.applications.densenet import preprocess_input, DenseNet121"
   ]
  },
  {
   "cell_type": "code",
   "execution_count": 6,
   "metadata": {
    "_uuid": "71def76c69445cd7d42cb8450483220e63438dee"
   },
   "outputs": [],
   "source": [
    "def resize_to_square(im):\n",
    "    old_size = im.shape[:2]\n",
    "    ratio = float(img_size)/max(old_size)\n",
    "    new_size = tuple([int(x*ratio) for x in old_size])\n",
    "    im = cv2.resize(im, (new_size[1], new_size[0]))\n",
    "    delta_w = img_size - new_size[1]\n",
    "    delta_h = img_size - new_size[0]\n",
    "    top, bottom = delta_h//2, delta_h-(delta_h//2)\n",
    "    left, right = delta_w//2, delta_w-(delta_w//2)\n",
    "    color = [0, 0, 0]\n",
    "    new_im = cv2.copyMakeBorder(im, top, bottom, left, right, cv2.BORDER_CONSTANT,value=color)\n",
    "    return new_im\n",
    "\n",
    "def load_image(path, pet_id):\n",
    "    image = cv2.imread(f'{path}{pet_id}-1.jpg')\n",
    "    new_image = resize_to_square(image)\n",
    "    new_image = preprocess_input(new_image)\n",
    "    return new_image"
   ]
  },
  {
   "cell_type": "code",
   "execution_count": 7,
   "metadata": {
    "_uuid": "8505c12860cf4a4ca4f74a04b9fe0c8db8b2222e"
   },
   "outputs": [],
   "source": [
    "img_size = 256\n",
    "batch_size = 256"
   ]
  },
  {
   "cell_type": "code",
   "execution_count": 8,
   "metadata": {
    "_uuid": "73b44c6c68421de8fb39f91342660c57e6ef4c2c"
   },
   "outputs": [
    {
     "name": "stdout",
     "output_type": "stream",
     "text": [
      "WARNING:tensorflow:From /opt/conda/lib/python3.6/site-packages/tensorflow/python/framework/op_def_library.py:263: colocate_with (from tensorflow.python.framework.ops) is deprecated and will be removed in a future version.\n",
      "Instructions for updating:\n",
      "Colocations handled automatically by placer.\n"
     ]
    }
   ],
   "source": [
    "from keras.models import Model\n",
    "from keras.layers import GlobalAveragePooling2D, Input, Lambda, AveragePooling1D\n",
    "import keras.backend as K\n",
    "inp = Input((256,256,3))\n",
    "backbone = DenseNet121(input_tensor = inp, \n",
    "                       weights=\"../input/densenet-keras/DenseNet-BC-121-32-no-top.h5\",\n",
    "                       include_top = False)\n",
    "x = backbone.output\n",
    "x = GlobalAveragePooling2D()(x)\n",
    "x = Lambda(lambda x: K.expand_dims(x,axis = -1))(x)\n",
    "x = AveragePooling1D(4)(x)\n",
    "out = Lambda(lambda x: x[:,:,0])(x)\n",
    "\n",
    "m = Model(inp,out)"
   ]
  },
  {
   "cell_type": "code",
   "execution_count": 9,
   "metadata": {
    "_uuid": "d4163367a508d90961c9ba19b96be82217cd7686"
   },
   "outputs": [
    {
     "name": "stderr",
     "output_type": "stream",
     "text": [
      "100%|██████████| 59/59 [02:30<00:00,  2.23s/it]\n"
     ]
    }
   ],
   "source": [
    "pet_ids = train['PetID'].values\n",
    "n_batches = len(pet_ids) // batch_size + (len(pet_ids) % batch_size != 0)\n",
    "\n",
    "features = {}\n",
    "for b in tqdm(range(n_batches)):\n",
    "    start = b*batch_size\n",
    "    end = (b+1)*batch_size\n",
    "    batch_pets = pet_ids[start:end]\n",
    "    batch_images = np.zeros((len(batch_pets),img_size,img_size,3))\n",
    "    for i,pet_id in enumerate(batch_pets):\n",
    "        try:\n",
    "            batch_images[i] = load_image(\"../input/petfinder-adoption-prediction/train_images/\", pet_id)\n",
    "        except:\n",
    "            pass\n",
    "    batch_preds = m.predict(batch_images)\n",
    "    for i,pet_id in enumerate(batch_pets):\n",
    "        features[pet_id] = batch_preds[i]"
   ]
  },
  {
   "cell_type": "code",
   "execution_count": 10,
   "metadata": {
    "_uuid": "fed0e12d69d7c43beb2de2af9c177165398b23a1"
   },
   "outputs": [],
   "source": [
    "train_feats = pd.DataFrame.from_dict(features, orient='index')\n",
    "train_feats.columns = [f'pic_{i}' for i in range(train_feats.shape[1])]"
   ]
  },
  {
   "cell_type": "code",
   "execution_count": 11,
   "metadata": {
    "_uuid": "8b0400ec76abaee7258adc6c6f5ac6c38294571f"
   },
   "outputs": [
    {
     "name": "stderr",
     "output_type": "stream",
     "text": [
      "100%|██████████| 16/16 [00:38<00:00,  2.08s/it]\n"
     ]
    }
   ],
   "source": [
    "pet_ids = test['PetID'].values\n",
    "n_batches = len(pet_ids) // batch_size + (len(pet_ids) % batch_size != 0)\n",
    "\n",
    "features = {}\n",
    "for b in tqdm(range(n_batches)):\n",
    "    start = b*batch_size\n",
    "    end = (b+1)*batch_size\n",
    "    batch_pets = pet_ids[start:end]\n",
    "    batch_images = np.zeros((len(batch_pets),img_size,img_size,3))\n",
    "    for i,pet_id in enumerate(batch_pets):\n",
    "        try:\n",
    "            batch_images[i] = load_image(\"../input/petfinder-adoption-prediction/test_images/\", pet_id)\n",
    "        except:\n",
    "            pass\n",
    "    batch_preds = m.predict(batch_images)\n",
    "    for i,pet_id in enumerate(batch_pets):\n",
    "        features[pet_id] = batch_preds[i]"
   ]
  },
  {
   "cell_type": "code",
   "execution_count": 12,
   "metadata": {
    "_uuid": "002477addeb74f3eda0ac6f0f52cea7450176417"
   },
   "outputs": [],
   "source": [
    "test_feats = pd.DataFrame.from_dict(features, orient='index')\n",
    "test_feats.columns = [f'pic_{i}' for i in range(test_feats.shape[1])]"
   ]
  },
  {
   "cell_type": "code",
   "execution_count": 13,
   "metadata": {
    "_uuid": "6f013e7e34e3f95519750f1c6fdb88bca9fa5058"
   },
   "outputs": [],
   "source": [
    "train_feats = train_feats.reset_index()\n",
    "train_feats.rename({'index': 'PetID'}, axis='columns', inplace=True)\n",
    "\n",
    "test_feats = test_feats.reset_index()\n",
    "test_feats.rename({'index': 'PetID'}, axis='columns', inplace=True)"
   ]
  },
  {
   "cell_type": "code",
   "execution_count": 14,
   "metadata": {
    "_uuid": "5e122ef29bc118e58bdeb9a577150f9369c0598a"
   },
   "outputs": [
    {
     "data": {
      "text/plain": [
       "(18941, 1)"
      ]
     },
     "execution_count": 14,
     "metadata": {},
     "output_type": "execute_result"
    }
   ],
   "source": [
    "all_ids = pd.concat([train, test], axis=0, ignore_index=True, sort=False)[['PetID']]\n",
    "all_ids.shape"
   ]
  },
  {
   "cell_type": "code",
   "execution_count": 15,
   "metadata": {
    "_uuid": "f11923a7e2fb6078d8b36b8cc8a2432d94130710"
   },
   "outputs": [],
   "source": [
    "n_components = 24\n",
    "svd_ = TruncatedSVD(n_components=n_components, random_state=1337)\n",
    "\n",
    "features_df = pd.concat([train_feats, test_feats], axis=0)\n",
    "features = features_df[[f'pic_{i}' for i in range(256)]].values\n",
    "\n",
    "svd_col = svd_.fit_transform(features)\n",
    "svd_col = pd.DataFrame(svd_col)\n",
    "svd_col = svd_col.add_prefix('IMG_SVD_')"
   ]
  },
  {
   "cell_type": "markdown",
   "metadata": {
    "_uuid": "bec6308242f7e83b1e73a426f772820f677b6963"
   },
   "source": [
    "# Version10\n",
    "from sklearn.decomposition import PCA, KernelPCA\n",
    "from sklearn.preprocessing import MinMaxScaler\n",
    "from sklearn.decomposition import PCA, FastICA,NMF,LatentDirichletAllocation,IncrementalPCA,MiniBatchSparsePCA\n",
    "from sklearn.decomposition import TruncatedSVD,FactorAnalysis,KernelPCA\n",
    "\n",
    "train_columns = [c for c in train_feats.columns if c not in ['PetID']]\n",
    "\n",
    "\n",
    "# PCA\n",
    "n_comp = 12\n",
    "\n",
    "# ICA\n",
    "ica = FastICA(n_components=n_comp, random_state=2019)\n",
    "ica2_results_train = pd.DataFrame(ica.fit_transform(train_feats[train_columns].fillna(-1)))\n",
    "ica2_results_test = pd.DataFrame(ica.transform(test_feats[train_columns].fillna(-1)))\n",
    "ica2_results = pd.concat([ica2_results_train,ica2_results_test]).reset_index(drop=True)\n",
    "ica2_results = ica2_results.add_prefix('IMG_PCA_')"
   ]
  },
  {
   "cell_type": "code",
   "execution_count": 16,
   "metadata": {
    "_uuid": "895d7285a37d85c1815aab5985a83bb45ac1e2f7"
   },
   "outputs": [],
   "source": [
    "img_features = pd.concat([all_ids, svd_col], axis=1)\n",
    "\n",
    "#Version10\n",
    "#img_features = pd.concat([img_features, ica2_results], axis=1)"
   ]
  },
  {
   "cell_type": "markdown",
   "metadata": {
    "_uuid": "a0826a13e23571c6685c568d4f99b3fa5512282a"
   },
   "source": [
    "## About metadata and sentiment"
   ]
  },
  {
   "cell_type": "code",
   "execution_count": 17,
   "metadata": {
    "_uuid": "4f9b7e7448cf529274068977bb309435ab605889"
   },
   "outputs": [],
   "source": [
    "labels_breed = pd.read_csv('../input/petfinder-adoption-prediction/breed_labels.csv')\n",
    "labels_state = pd.read_csv('../input/petfinder-adoption-prediction/color_labels.csv')\n",
    "labels_color = pd.read_csv('../input/petfinder-adoption-prediction/state_labels.csv')"
   ]
  },
  {
   "cell_type": "code",
   "execution_count": 18,
   "metadata": {
    "_uuid": "c3399c9ff73a9dd37cecb657cc26e90b934f67df"
   },
   "outputs": [
    {
     "name": "stdout",
     "output_type": "stream",
     "text": [
      "num of train images files: 58311\n",
      "num of train metadata files: 58311\n",
      "num of train sentiment files: 14442\n",
      "num of test images files: 15040\n",
      "num of test metadata files: 15040\n",
      "num of test sentiment files: 3815\n"
     ]
    }
   ],
   "source": [
    "train_image_files = sorted(glob.glob('../input/petfinder-adoption-prediction/train_images/*.jpg'))\n",
    "train_metadata_files = sorted(glob.glob('../input/petfinder-adoption-prediction/train_metadata/*.json'))\n",
    "train_sentiment_files = sorted(glob.glob('../input/petfinder-adoption-prediction/train_sentiment/*.json'))\n",
    "\n",
    "print(f'num of train images files: {len(train_image_files)}')\n",
    "print(f'num of train metadata files: {len(train_metadata_files)}')\n",
    "print(f'num of train sentiment files: {len(train_sentiment_files)}')\n",
    "\n",
    "\n",
    "test_image_files = sorted(glob.glob('../input/petfinder-adoption-prediction/test_images/*.jpg'))\n",
    "test_metadata_files = sorted(glob.glob('../input/petfinder-adoption-prediction/test_metadata/*.json'))\n",
    "test_sentiment_files = sorted(glob.glob('../input/petfinder-adoption-prediction/test_sentiment/*.json'))\n",
    "\n",
    "print(f'num of test images files: {len(test_image_files)}')\n",
    "print(f'num of test metadata files: {len(test_metadata_files)}')\n",
    "print(f'num of test sentiment files: {len(test_sentiment_files)}')"
   ]
  },
  {
   "cell_type": "markdown",
   "metadata": {
    "_uuid": "5a74b43503752f801202ba62495d47836f8704c9"
   },
   "source": [
    "### Train"
   ]
  },
  {
   "cell_type": "code",
   "execution_count": 19,
   "metadata": {
    "_uuid": "bc13e1b9227cc808bcba7204e7fd499c597b1796"
   },
   "outputs": [
    {
     "name": "stdout",
     "output_type": "stream",
     "text": [
      "(14993, 1)\n",
      "14652\n",
      "fraction of pets with metadata: 0.977\n",
      "14442\n",
      "fraction of pets with sentiment: 0.963\n"
     ]
    }
   ],
   "source": [
    "# Images:\n",
    "train_df_ids = train[['PetID']]\n",
    "print(train_df_ids.shape)\n",
    "\n",
    "# Metadata:\n",
    "train_df_ids = train[['PetID']]\n",
    "train_df_metadata = pd.DataFrame(train_metadata_files)\n",
    "train_df_metadata.columns = ['metadata_filename']\n",
    "train_metadata_pets = train_df_metadata['metadata_filename'].apply(lambda x: x.split(split_char)[-1].split('-')[0])\n",
    "train_df_metadata = train_df_metadata.assign(PetID=train_metadata_pets)\n",
    "print(len(train_metadata_pets.unique()))\n",
    "\n",
    "pets_with_metadatas = len(np.intersect1d(train_metadata_pets.unique(), train_df_ids['PetID'].unique()))\n",
    "print(f'fraction of pets with metadata: {pets_with_metadatas / train_df_ids.shape[0]:.3f}')\n",
    "\n",
    "# Sentiment:\n",
    "train_df_ids = train[['PetID']]\n",
    "train_df_sentiment = pd.DataFrame(train_sentiment_files)\n",
    "train_df_sentiment.columns = ['sentiment_filename']\n",
    "train_sentiment_pets = train_df_sentiment['sentiment_filename'].apply(lambda x: x.split(split_char)[-1].split('.')[0])\n",
    "train_df_sentiment = train_df_sentiment.assign(PetID=train_sentiment_pets)\n",
    "print(len(train_sentiment_pets.unique()))\n",
    "\n",
    "pets_with_sentiments = len(np.intersect1d(train_sentiment_pets.unique(), train_df_ids['PetID'].unique()))\n",
    "print(f'fraction of pets with sentiment: {pets_with_sentiments / train_df_ids.shape[0]:.3f}')"
   ]
  },
  {
   "cell_type": "markdown",
   "metadata": {
    "_uuid": "828ef0c92408c1b67a0f3c80efe608792a43837d"
   },
   "source": [
    "### Test"
   ]
  },
  {
   "cell_type": "code",
   "execution_count": 20,
   "metadata": {
    "_uuid": "514c3f5a3d8bf6b396425d1693f5491e874f4cc0"
   },
   "outputs": [
    {
     "name": "stdout",
     "output_type": "stream",
     "text": [
      "(3948, 1)\n",
      "3821\n",
      "fraction of pets with metadata: 0.968\n",
      "3815\n",
      "fraction of pets with sentiment: 0.966\n"
     ]
    }
   ],
   "source": [
    "# Images:\n",
    "test_df_ids = test[['PetID']]\n",
    "print(test_df_ids.shape)\n",
    "\n",
    "# Metadata:\n",
    "test_df_metadata = pd.DataFrame(test_metadata_files)\n",
    "test_df_metadata.columns = ['metadata_filename']\n",
    "test_metadata_pets = test_df_metadata['metadata_filename'].apply(lambda x: x.split(split_char)[-1].split('-')[0])\n",
    "test_df_metadata = test_df_metadata.assign(PetID=test_metadata_pets)\n",
    "print(len(test_metadata_pets.unique()))\n",
    "\n",
    "pets_with_metadatas = len(np.intersect1d(test_metadata_pets.unique(), test_df_ids['PetID'].unique()))\n",
    "print(f'fraction of pets with metadata: {pets_with_metadatas / test_df_ids.shape[0]:.3f}')\n",
    "\n",
    "# Sentiment:\n",
    "test_df_sentiment = pd.DataFrame(test_sentiment_files)\n",
    "test_df_sentiment.columns = ['sentiment_filename']\n",
    "test_sentiment_pets = test_df_sentiment['sentiment_filename'].apply(lambda x: x.split(split_char)[-1].split('.')[0])\n",
    "test_df_sentiment = test_df_sentiment.assign(PetID=test_sentiment_pets)\n",
    "print(len(test_sentiment_pets.unique()))\n",
    "\n",
    "pets_with_sentiments = len(np.intersect1d(test_sentiment_pets.unique(), test_df_ids['PetID'].unique()))\n",
    "print(f'fraction of pets with sentiment: {pets_with_sentiments / test_df_ids.shape[0]:.3f}')"
   ]
  },
  {
   "cell_type": "markdown",
   "metadata": {
    "_uuid": "d643202fbad8b9d04409c296148ae533eba2235e"
   },
   "source": [
    "## Extract features from json"
   ]
  },
  {
   "cell_type": "code",
   "execution_count": 21,
   "metadata": {
    "_uuid": "f2c3c16c681f5729dd737659346dc1ece81f1490"
   },
   "outputs": [],
   "source": [
    "class PetFinderParser(object):\n",
    "    \n",
    "    def __init__(self, debug=False):\n",
    "        \n",
    "        self.debug = debug\n",
    "        self.sentence_sep = ' '\n",
    "        \n",
    "        self.extract_sentiment_text = False\n",
    "    \n",
    "    def open_json_file(self, filename):\n",
    "        with open(filename, 'r', encoding='utf-8') as f:\n",
    "            json_file = json.load(f)\n",
    "        return json_file\n",
    "        \n",
    "    def parse_sentiment_file(self, file):\n",
    "        \"\"\"\n",
    "        Parse sentiment file. Output DF with sentiment features.\n",
    "        \"\"\"\n",
    "        \n",
    "        file_sentiment = file['documentSentiment']\n",
    "        file_entities = [x['name'] for x in file['entities']]\n",
    "        file_entities = self.sentence_sep.join(file_entities)\n",
    "        \n",
    "        file_sentences_sentiment = [x['sentiment'] for x in file['sentences']]\n",
    "        \n",
    "        file_sentences_sentiment = pd.DataFrame.from_dict(\n",
    "            file_sentences_sentiment, orient='columns')\n",
    "        file_sentences_sentiment_df = pd.DataFrame(\n",
    "            {\n",
    "                'magnitude_sum': file_sentences_sentiment['magnitude'].sum(axis=0),\n",
    "                'score_sum': file_sentences_sentiment['score'].sum(axis=0),\n",
    "                'magnitude_median': file_sentences_sentiment['magnitude'].median(axis=0),\n",
    "                'score_median': file_sentences_sentiment['score'].median(axis=0),\n",
    "                #'magnitude_mean': file_sentences_sentiment['magnitude'].mean(axis=0),\n",
    "                #'score_mean': file_sentences_sentiment['score'].mean(axis=0),\n",
    "                'magnitude_var': file_sentences_sentiment['magnitude'].var(axis=0),\n",
    "                'score_var': file_sentences_sentiment['score'].var(axis=0),\n",
    "                'score_min': file_sentences_sentiment['score'].min(axis=0),\n",
    "                'score_max': file_sentences_sentiment['score'].max(axis=0),\n",
    "                'magnitude_min': file_sentences_sentiment['magnitude'].min(axis=0),\n",
    "                'magnitude_max': file_sentences_sentiment['magnitude'].max(axis=0)\n",
    "            }, index=[0]\n",
    "        )\n",
    "        \n",
    "        df_sentiment = pd.DataFrame.from_dict(file_sentiment, orient='index').T\n",
    "        df_sentiment = pd.concat([df_sentiment, file_sentences_sentiment_df], axis=1)\n",
    "            \n",
    "        df_sentiment['entities'] = file_entities\n",
    "        df_sentiment = df_sentiment.add_prefix('sentiment_')\n",
    "        \n",
    "        return df_sentiment\n",
    "    \n",
    "    def parse_metadata_file(self, file):\n",
    "        \"\"\"\n",
    "        Parse metadata file. Output DF with metadata features.\n",
    "        \"\"\"\n",
    "        \n",
    "        file_keys = list(file.keys())\n",
    "        \n",
    "        if 'labelAnnotations' in file_keys:\n",
    "            file_annots = file['labelAnnotations']\n",
    "            file_top_score = np.asarray([x['score'] for x in file_annots]).mean()\n",
    "            file_top_desc = [x['description'] for x in file_annots]\n",
    "        else:\n",
    "            file_top_score = np.nan\n",
    "            file_top_desc = ['']\n",
    "        \n",
    "        file_colors = file['imagePropertiesAnnotation']['dominantColors']['colors']\n",
    "        file_crops = file['cropHintsAnnotation']['cropHints']\n",
    "\n",
    "        file_color_score = np.asarray([x['score'] for x in file_colors]).mean()\n",
    "        file_color_pixelfrac = np.asarray([x['pixelFraction'] for x in file_colors]).mean()\n",
    "\n",
    "        file_crop_conf = np.asarray([x['confidence'] for x in file_crops]).mean()\n",
    "        \n",
    "        if 'importanceFraction' in file_crops[0].keys():\n",
    "            file_crop_importance = np.asarray([x['importanceFraction'] for x in file_crops]).mean()\n",
    "        else:\n",
    "            file_crop_importance = np.nan\n",
    "\n",
    "        df_metadata = {\n",
    "            'annots_score': file_top_score,\n",
    "            'color_score': file_color_score,\n",
    "            'color_pixelfrac': file_color_pixelfrac,\n",
    "            'crop_conf': file_crop_conf,\n",
    "            'crop_importance': file_crop_importance,\n",
    "            'annots_top_desc': self.sentence_sep.join(file_top_desc)\n",
    "        }\n",
    "        \n",
    "        df_metadata = pd.DataFrame.from_dict(df_metadata, orient='index').T\n",
    "        df_metadata = df_metadata.add_prefix('metadata_')\n",
    "        \n",
    "        return df_metadata\n",
    "    \n",
    "\n",
    "def extract_additional_features(pet_id, mode='train'):\n",
    "    \n",
    "    sentiment_filename = f'../input/petfinder-adoption-prediction/{mode}_sentiment/{pet_id}.json'\n",
    "    try:\n",
    "        sentiment_file = pet_parser.open_json_file(sentiment_filename)\n",
    "        df_sentiment = pet_parser.parse_sentiment_file(sentiment_file)\n",
    "        df_sentiment['PetID'] = pet_id\n",
    "    except FileNotFoundError:\n",
    "        df_sentiment = []\n",
    "\n",
    "    dfs_metadata = []\n",
    "    metadata_filenames = sorted(glob.glob(f'../input/petfinder-adoption-prediction/{mode}_metadata/{pet_id}*.json'))\n",
    "    if len(metadata_filenames) > 0:\n",
    "        for f in metadata_filenames:\n",
    "            metadata_file = pet_parser.open_json_file(f)\n",
    "            df_metadata = pet_parser.parse_metadata_file(metadata_file)\n",
    "            df_metadata['PetID'] = pet_id\n",
    "            dfs_metadata.append(df_metadata)\n",
    "        dfs_metadata = pd.concat(dfs_metadata, ignore_index=True, sort=False)\n",
    "    dfs = [df_sentiment, dfs_metadata]\n",
    "    \n",
    "    return dfs\n",
    "\n",
    "\n",
    "pet_parser = PetFinderParser()"
   ]
  },
  {
   "cell_type": "code",
   "execution_count": 22,
   "metadata": {
    "_uuid": "787925a3ae3ab2f91189729d177d57ffc938b74a"
   },
   "outputs": [
    {
     "name": "stderr",
     "output_type": "stream",
     "text": [
      "[Parallel(n_jobs=-1)]: Using backend LokyBackend with 2 concurrent workers.\n",
      "[Parallel(n_jobs=-1)]: Done  46 tasks      | elapsed:    7.7s\n",
      "[Parallel(n_jobs=-1)]: Done 196 tasks      | elapsed:   19.2s\n",
      "[Parallel(n_jobs=-1)]: Done 446 tasks      | elapsed:   38.3s\n",
      "[Parallel(n_jobs=-1)]: Done 796 tasks      | elapsed:  1.1min\n",
      "[Parallel(n_jobs=-1)]: Done 1246 tasks      | elapsed:  1.7min\n",
      "[Parallel(n_jobs=-1)]: Done 1796 tasks      | elapsed:  2.4min\n",
      "[Parallel(n_jobs=-1)]: Done 2446 tasks      | elapsed:  3.3min\n",
      "[Parallel(n_jobs=-1)]: Done 3196 tasks      | elapsed:  4.3min\n",
      "[Parallel(n_jobs=-1)]: Done 4046 tasks      | elapsed:  5.4min\n",
      "[Parallel(n_jobs=-1)]: Done 4996 tasks      | elapsed:  6.6min\n",
      "[Parallel(n_jobs=-1)]: Done 6046 tasks      | elapsed:  8.0min\n",
      "[Parallel(n_jobs=-1)]: Done 7196 tasks      | elapsed:  9.5min\n",
      "[Parallel(n_jobs=-1)]: Done 8446 tasks      | elapsed: 11.2min\n",
      "[Parallel(n_jobs=-1)]: Done 9796 tasks      | elapsed: 13.0min\n",
      "[Parallel(n_jobs=-1)]: Done 11246 tasks      | elapsed: 14.9min\n",
      "[Parallel(n_jobs=-1)]: Done 12796 tasks      | elapsed: 16.9min\n",
      "[Parallel(n_jobs=-1)]: Done 14446 tasks      | elapsed: 19.1min\n",
      "[Parallel(n_jobs=-1)]: Done 14993 out of 14993 | elapsed: 19.8min finished\n"
     ]
    },
    {
     "name": "stdout",
     "output_type": "stream",
     "text": [
      "(14442, 14) (58311, 7)\n"
     ]
    },
    {
     "name": "stderr",
     "output_type": "stream",
     "text": [
      "[Parallel(n_jobs=-1)]: Using backend LokyBackend with 2 concurrent workers.\n",
      "[Parallel(n_jobs=-1)]: Done 172 tasks      | elapsed:    4.2s\n",
      "[Parallel(n_jobs=-1)]: Done 772 tasks      | elapsed:   20.9s\n",
      "[Parallel(n_jobs=-1)]: Done 1772 tasks      | elapsed:   48.8s\n",
      "[Parallel(n_jobs=-1)]: Done 3172 tasks      | elapsed:  1.4min\n",
      "[Parallel(n_jobs=-1)]: Done 3948 out of 3948 | elapsed:  1.8min finished\n"
     ]
    },
    {
     "name": "stdout",
     "output_type": "stream",
     "text": [
      "(3815, 14) (15040, 7)\n"
     ]
    }
   ],
   "source": [
    "debug = False\n",
    "train_pet_ids = train.PetID.unique()\n",
    "test_pet_ids = test.PetID.unique()\n",
    "\n",
    "if debug:\n",
    "    train_pet_ids = train_pet_ids[:1000]\n",
    "    test_pet_ids = test_pet_ids[:500]\n",
    "\n",
    "\n",
    "dfs_train = Parallel(n_jobs=-1, verbose=1)(\n",
    "    delayed(extract_additional_features)(i, mode='train') for i in train_pet_ids)\n",
    "\n",
    "train_dfs_sentiment = [x[0] for x in dfs_train if isinstance(x[0], pd.DataFrame)]\n",
    "train_dfs_metadata = [x[1] for x in dfs_train if isinstance(x[1], pd.DataFrame)]\n",
    "\n",
    "train_dfs_sentiment = pd.concat(train_dfs_sentiment, ignore_index=True, sort=False)\n",
    "train_dfs_metadata = pd.concat(train_dfs_metadata, ignore_index=True, sort=False)\n",
    "\n",
    "print(train_dfs_sentiment.shape, train_dfs_metadata.shape)\n",
    "\n",
    "\n",
    "dfs_test = Parallel(n_jobs=-1, verbose=1)(\n",
    "    delayed(extract_additional_features)(i, mode='test') for i in test_pet_ids)\n",
    "\n",
    "test_dfs_sentiment = [x[0] for x in dfs_test if isinstance(x[0], pd.DataFrame)]\n",
    "test_dfs_metadata = [x[1] for x in dfs_test if isinstance(x[1], pd.DataFrame)]\n",
    "\n",
    "test_dfs_sentiment = pd.concat(test_dfs_sentiment, ignore_index=True, sort=False)\n",
    "test_dfs_metadata = pd.concat(test_dfs_metadata, ignore_index=True, sort=False)\n",
    "\n",
    "print(test_dfs_sentiment.shape, test_dfs_metadata.shape)"
   ]
  },
  {
   "cell_type": "markdown",
   "metadata": {
    "_uuid": "60d0a0df563b4fabd29a96159492eb69d5854b94"
   },
   "source": [
    "### group extracted features by PetID:"
   ]
  },
  {
   "cell_type": "code",
   "execution_count": 23,
   "metadata": {
    "_uuid": "6fcf1858f550d128ff076ed1d3c32efb9810ef23"
   },
   "outputs": [],
   "source": [
    "aggregates = ['mean', 'var']\n",
    "sent_agg = ['sum']\n",
    "\n",
    "\n",
    "# Train\n",
    "train_metadata_desc = train_dfs_metadata.groupby(['PetID'])['metadata_annots_top_desc'].unique()\n",
    "train_metadata_desc = train_metadata_desc.reset_index()\n",
    "train_metadata_desc[\n",
    "    'metadata_annots_top_desc'] = train_metadata_desc[\n",
    "    'metadata_annots_top_desc'].apply(lambda x: ' '.join(x))\n",
    "\n",
    "prefix = 'metadata'\n",
    "train_metadata_gr = train_dfs_metadata.drop(['metadata_annots_top_desc'], axis=1)\n",
    "for i in train_metadata_gr.columns:\n",
    "    if 'PetID' not in i:\n",
    "        train_metadata_gr[i] = train_metadata_gr[i].astype(float)\n",
    "train_metadata_gr = train_metadata_gr.groupby(['PetID']).agg(aggregates)\n",
    "train_metadata_gr.columns = pd.Index([f'{c[0]}_{c[1].upper()}' for c in train_metadata_gr.columns.tolist()])\n",
    "train_metadata_gr = train_metadata_gr.reset_index()\n",
    "\n",
    "\n",
    "train_sentiment_desc = train_dfs_sentiment.groupby(['PetID'])['sentiment_entities'].unique()\n",
    "train_sentiment_desc = train_sentiment_desc.reset_index()\n",
    "train_sentiment_desc[\n",
    "    'sentiment_entities'] = train_sentiment_desc[\n",
    "    'sentiment_entities'].apply(lambda x: ' '.join(x))\n",
    "\n",
    "prefix = 'sentiment'\n",
    "train_sentiment_gr = train_dfs_sentiment.drop(['sentiment_entities'], axis=1)\n",
    "for i in train_sentiment_gr.columns:\n",
    "    if 'PetID' not in i:\n",
    "        train_sentiment_gr[i] = train_sentiment_gr[i].astype(float)\n",
    "train_sentiment_gr = train_sentiment_gr.groupby(['PetID']).agg(sent_agg)\n",
    "train_sentiment_gr.columns = pd.Index([f'{c[0]}' for c in train_sentiment_gr.columns.tolist()])\n",
    "train_sentiment_gr = train_sentiment_gr.reset_index()\n",
    "\n",
    "\n",
    "# Test\n",
    "test_metadata_desc = test_dfs_metadata.groupby(['PetID'])['metadata_annots_top_desc'].unique()\n",
    "test_metadata_desc = test_metadata_desc.reset_index()\n",
    "test_metadata_desc[\n",
    "    'metadata_annots_top_desc'] = test_metadata_desc[\n",
    "    'metadata_annots_top_desc'].apply(lambda x: ' '.join(x))\n",
    "\n",
    "prefix = 'metadata'\n",
    "test_metadata_gr = test_dfs_metadata.drop(['metadata_annots_top_desc'], axis=1)\n",
    "for i in test_metadata_gr.columns:\n",
    "    if 'PetID' not in i:\n",
    "        test_metadata_gr[i] = test_metadata_gr[i].astype(float)\n",
    "test_metadata_gr = test_metadata_gr.groupby(['PetID']).agg(aggregates)\n",
    "test_metadata_gr.columns = pd.Index([f'{c[0]}_{c[1].upper()}' for c in test_metadata_gr.columns.tolist()])\n",
    "test_metadata_gr = test_metadata_gr.reset_index()\n",
    "\n",
    "\n",
    "test_sentiment_desc = test_dfs_sentiment.groupby(['PetID'])['sentiment_entities'].unique()\n",
    "test_sentiment_desc = test_sentiment_desc.reset_index()\n",
    "test_sentiment_desc[\n",
    "    'sentiment_entities'] = test_sentiment_desc[\n",
    "    'sentiment_entities'].apply(lambda x: ' '.join(x))\n",
    "\n",
    "prefix = 'sentiment'\n",
    "test_sentiment_gr = test_dfs_sentiment.drop(['sentiment_entities'], axis=1)\n",
    "for i in test_sentiment_gr.columns:\n",
    "    if 'PetID' not in i:\n",
    "        test_sentiment_gr[i] = test_sentiment_gr[i].astype(float)\n",
    "test_sentiment_gr = test_sentiment_gr.groupby(['PetID']).agg(sent_agg)\n",
    "test_sentiment_gr.columns = pd.Index([f'{c[0]}' for c in test_sentiment_gr.columns.tolist()])\n",
    "test_sentiment_gr = test_sentiment_gr.reset_index()"
   ]
  },
  {
   "cell_type": "markdown",
   "metadata": {
    "_uuid": "0e4fa08ae5c47926cffb2202fc4fe5ba83a088cc"
   },
   "source": [
    "### merge processed DFs with base train/test DF:"
   ]
  },
  {
   "cell_type": "code",
   "execution_count": 24,
   "metadata": {
    "_uuid": "adba560254a6221ac0ca717581a748f984d1b9f7"
   },
   "outputs": [
    {
     "name": "stdout",
     "output_type": "stream",
     "text": [
      "(14993, 48) (3948, 47)\n"
     ]
    }
   ],
   "source": [
    "# Train merges:\n",
    "train_proc = train.copy()\n",
    "train_proc = train_proc.merge(\n",
    "    train_sentiment_gr, how='left', on='PetID')\n",
    "train_proc = train_proc.merge(\n",
    "    train_metadata_gr, how='left', on='PetID')\n",
    "train_proc = train_proc.merge(\n",
    "    train_metadata_desc, how='left', on='PetID')\n",
    "train_proc = train_proc.merge(\n",
    "    train_sentiment_desc, how='left', on='PetID')\n",
    "\n",
    "# Test merges:\n",
    "test_proc = test.copy()\n",
    "test_proc = test_proc.merge(\n",
    "    test_sentiment_gr, how='left', on='PetID')\n",
    "test_proc = test_proc.merge(\n",
    "    test_metadata_gr, how='left', on='PetID')\n",
    "test_proc = test_proc.merge(\n",
    "    test_metadata_desc, how='left', on='PetID')\n",
    "test_proc = test_proc.merge(\n",
    "    test_sentiment_desc, how='left', on='PetID')\n",
    "\n",
    "print(train_proc.shape, test_proc.shape)\n",
    "assert train_proc.shape[0] == train.shape[0]\n",
    "assert test_proc.shape[0] == test.shape[0]"
   ]
  },
  {
   "cell_type": "code",
   "execution_count": 25,
   "metadata": {
    "_uuid": "f379a8eafbba1bdeae37d6e7fbf8ce271fdccf65"
   },
   "outputs": [
    {
     "name": "stdout",
     "output_type": "stream",
     "text": [
      "(14993, 52) (3948, 51)\n"
     ]
    }
   ],
   "source": [
    "train_breed_main = train_proc[['Breed1']].merge(\n",
    "    labels_breed, how='left',\n",
    "    left_on='Breed1', right_on='BreedID',\n",
    "    suffixes=('', '_main_breed'))\n",
    "\n",
    "train_breed_main = train_breed_main.iloc[:, 2:]\n",
    "train_breed_main = train_breed_main.add_prefix('main_breed_')\n",
    "\n",
    "train_breed_second = train_proc[['Breed2']].merge(\n",
    "    labels_breed, how='left',\n",
    "    left_on='Breed2', right_on='BreedID',\n",
    "    suffixes=('', '_second_breed'))\n",
    "\n",
    "train_breed_second = train_breed_second.iloc[:, 2:]\n",
    "train_breed_second = train_breed_second.add_prefix('second_breed_')\n",
    "\n",
    "\n",
    "train_proc = pd.concat(\n",
    "    [train_proc, train_breed_main, train_breed_second], axis=1)\n",
    "\n",
    "\n",
    "test_breed_main = test_proc[['Breed1']].merge(\n",
    "    labels_breed, how='left',\n",
    "    left_on='Breed1', right_on='BreedID',\n",
    "    suffixes=('', '_main_breed'))\n",
    "\n",
    "test_breed_main = test_breed_main.iloc[:, 2:]\n",
    "test_breed_main = test_breed_main.add_prefix('main_breed_')\n",
    "\n",
    "test_breed_second = test_proc[['Breed2']].merge(\n",
    "    labels_breed, how='left',\n",
    "    left_on='Breed2', right_on='BreedID',\n",
    "    suffixes=('', '_second_breed'))\n",
    "\n",
    "test_breed_second = test_breed_second.iloc[:, 2:]\n",
    "test_breed_second = test_breed_second.add_prefix('second_breed_')\n",
    "\n",
    "\n",
    "test_proc = pd.concat(\n",
    "    [test_proc, test_breed_main, test_breed_second], axis=1)\n",
    "\n",
    "print(train_proc.shape, test_proc.shape)"
   ]
  },
  {
   "cell_type": "code",
   "execution_count": 26,
   "metadata": {
    "_uuid": "cf129fa48290bd51a75aa8093d6e964942437f31"
   },
   "outputs": [],
   "source": [
    "X = pd.concat([train_proc, test_proc], ignore_index=True, sort=False)"
   ]
  },
  {
   "cell_type": "code",
   "execution_count": 27,
   "metadata": {
    "_uuid": "b7dace2bbcf7eceedfa72e1d9af39506846e7782"
   },
   "outputs": [],
   "source": [
    "X_temp = X.copy()\n",
    "\n",
    "text_columns = ['Description', 'metadata_annots_top_desc', 'sentiment_entities']\n",
    "categorical_columns = ['main_breed_BreedName', 'second_breed_BreedName']\n",
    "\n",
    "to_drop_columns = ['PetID', 'Name', 'RescuerID']"
   ]
  },
  {
   "cell_type": "code",
   "execution_count": 28,
   "metadata": {
    "_uuid": "8787888c4ea8bf38bf95557fe62900aef6a1c60f"
   },
   "outputs": [],
   "source": [
    "rescuer_count = X.groupby(['RescuerID'])['PetID'].count().reset_index()\n",
    "rescuer_count.columns = ['RescuerID', 'RescuerID_COUNT']\n",
    "\n",
    "X_temp = X_temp.merge(rescuer_count, how='left', on='RescuerID')"
   ]
  },
  {
   "cell_type": "code",
   "execution_count": 29,
   "metadata": {
    "_uuid": "af969f7dcac615ba78a82474d914c5e25ce67ecb"
   },
   "outputs": [],
   "source": [
    "for i in categorical_columns:\n",
    "    X_temp.loc[:, i] = pd.factorize(X_temp.loc[:, i])[0]"
   ]
  },
  {
   "cell_type": "code",
   "execution_count": 30,
   "metadata": {
    "_uuid": "44b50fa65d691a27399f1232203b2249fc1d8c70"
   },
   "outputs": [],
   "source": [
    "X_text = X_temp[text_columns]\n",
    "\n",
    "for i in X_text.columns:\n",
    "    X_text.loc[:, i] = X_text.loc[:, i].fillna('none')"
   ]
  },
  {
   "cell_type": "code",
   "execution_count": 31,
   "metadata": {
    "_uuid": "24170b22e97131ad802f643cf3ec1a9b292e4060"
   },
   "outputs": [],
   "source": [
    "X_temp['Length_Description'] = X_text['Description'].map(len)\n",
    "X_temp['Length_metadata_annots_top_desc'] = X_text['metadata_annots_top_desc'].map(len)\n",
    "X_temp['Lengths_sentiment_entities'] = X_text['sentiment_entities'].map(len)"
   ]
  },
  {
   "cell_type": "markdown",
   "metadata": {
    "_uuid": "32a31a517e2834ffa31f0f592ad7d4240ae5c1ea"
   },
   "source": [
    "### TFIDF"
   ]
  },
  {
   "cell_type": "code",
   "execution_count": 32,
   "metadata": {
    "_uuid": "09116632baadf6842804dedc15023ffda928f7c5"
   },
   "outputs": [
    {
     "name": "stdout",
     "output_type": "stream",
     "text": [
      "generating features from: Description\n",
      "generating features from: metadata_annots_top_desc\n",
      "generating features from: sentiment_entities\n"
     ]
    }
   ],
   "source": [
    "n_components = 16\n",
    "text_features = []\n",
    "\n",
    "# Generate text features:\n",
    "for i in X_text.columns:\n",
    "    \n",
    "    # Initialize decomposition methods:\n",
    "    print(f'generating features from: {i}')\n",
    "    tfv = TfidfVectorizer(min_df=2,  max_features=None,\n",
    "                          strip_accents='unicode', analyzer='word', token_pattern=r'(?u)\\b\\w+\\b',\n",
    "                          ngram_range=(1, 3), use_idf=1, smooth_idf=1, sublinear_tf=1)\n",
    "    svd_ = TruncatedSVD(\n",
    "        n_components=n_components, random_state=1337)\n",
    "    \n",
    "    tfidf_col = tfv.fit_transform(X_text.loc[:, i].values)\n",
    "    \n",
    "    svd_col = svd_.fit_transform(tfidf_col)\n",
    "    svd_col = pd.DataFrame(svd_col)\n",
    "    svd_col = svd_col.add_prefix('TFIDF_{}_'.format(i))\n",
    "    \n",
    "    text_features.append(svd_col)\n",
    "    \n",
    "text_features = pd.concat(text_features, axis=1)\n",
    "\n",
    "X_temp = pd.concat([X_temp, text_features], axis=1)\n",
    "\n",
    "for i in X_text.columns:\n",
    "    X_temp = X_temp.drop(i, axis=1)"
   ]
  },
  {
   "cell_type": "markdown",
   "metadata": {
    "_uuid": "dba66709bbd961656400c5c654cb3d2619710d5f"
   },
   "source": [
    "### Merge image features"
   ]
  },
  {
   "cell_type": "code",
   "execution_count": 33,
   "metadata": {
    "_uuid": "b5f17382a1089b126323da4ce91211d29971f26c"
   },
   "outputs": [],
   "source": [
    "X_temp = X_temp.merge(img_features, how='left', on='PetID')"
   ]
  },
  {
   "cell_type": "markdown",
   "metadata": {
    "_uuid": "0c5e240b66fbf79c2c89a1097e39588faf97a119"
   },
   "source": [
    "### Add image_size features"
   ]
  },
  {
   "cell_type": "code",
   "execution_count": 34,
   "metadata": {
    "_uuid": "90422f43e8181ca624f2e7959542b9d1cde865e7"
   },
   "outputs": [],
   "source": [
    "from PIL import Image\n",
    "train_df_ids = train[['PetID']]\n",
    "test_df_ids = test[['PetID']]\n",
    "\n",
    "train_df_imgs = pd.DataFrame(train_image_files)\n",
    "train_df_imgs.columns = ['image_filename']\n",
    "train_imgs_pets = train_df_imgs['image_filename'].apply(lambda x: x.split(split_char)[-1].split('-')[0])\n",
    "\n",
    "test_df_imgs = pd.DataFrame(test_image_files)\n",
    "test_df_imgs.columns = ['image_filename']\n",
    "test_imgs_pets = test_df_imgs['image_filename'].apply(lambda x: x.split(split_char)[-1].split('-')[0])\n",
    "\n",
    "train_df_imgs = train_df_imgs.assign(PetID=train_imgs_pets)\n",
    "test_df_imgs = test_df_imgs.assign(PetID=test_imgs_pets)\n",
    "\n",
    "def getSize(filename):\n",
    "    st = os.stat(filename)\n",
    "    return st.st_size\n",
    "\n",
    "def getDimensions(filename):\n",
    "    img_size = Image.open(filename).size\n",
    "    return img_size \n",
    "\n",
    "train_df_imgs['image_size'] = train_df_imgs['image_filename'].apply(getSize)\n",
    "train_df_imgs['temp_size'] = train_df_imgs['image_filename'].apply(getDimensions)\n",
    "train_df_imgs['width'] = train_df_imgs['temp_size'].apply(lambda x : x[0])\n",
    "train_df_imgs['height'] = train_df_imgs['temp_size'].apply(lambda x : x[1])\n",
    "train_df_imgs = train_df_imgs.drop(['temp_size'], axis=1)\n",
    "\n",
    "test_df_imgs['image_size'] = test_df_imgs['image_filename'].apply(getSize)\n",
    "test_df_imgs['temp_size'] = test_df_imgs['image_filename'].apply(getDimensions)\n",
    "test_df_imgs['width'] = test_df_imgs['temp_size'].apply(lambda x : x[0])\n",
    "test_df_imgs['height'] = test_df_imgs['temp_size'].apply(lambda x : x[1])\n",
    "test_df_imgs = test_df_imgs.drop(['temp_size'], axis=1)\n",
    "\n",
    "aggs = {\n",
    "    'image_size': ['sum', 'mean', 'var'],\n",
    "    'width': ['sum', 'mean', 'var'],\n",
    "    'height': ['sum', 'mean', 'var'],\n",
    "}\n",
    "\n",
    "agg_train_imgs = train_df_imgs.groupby('PetID').agg(aggs)\n",
    "new_columns = [\n",
    "    k + '_' + agg for k in aggs.keys() for agg in aggs[k]\n",
    "]\n",
    "agg_train_imgs.columns = new_columns\n",
    "agg_train_imgs = agg_train_imgs.reset_index()\n",
    "\n",
    "agg_test_imgs = test_df_imgs.groupby('PetID').agg(aggs)\n",
    "new_columns = [\n",
    "    k + '_' + agg for k in aggs.keys() for agg in aggs[k]\n",
    "]\n",
    "agg_test_imgs.columns = new_columns\n",
    "agg_test_imgs = agg_test_imgs.reset_index()\n",
    "\n",
    "agg_imgs = pd.concat([agg_train_imgs, agg_test_imgs], axis=0).reset_index(drop=True)"
   ]
  },
  {
   "cell_type": "code",
   "execution_count": 35,
   "metadata": {
    "_uuid": "7fb61e81ee7e060cc4e2ee8f1f8c9a8671d87c40"
   },
   "outputs": [],
   "source": [
    "X_temp = X_temp.merge(agg_imgs, how='left', on='PetID')"
   ]
  },
  {
   "cell_type": "markdown",
   "metadata": {
    "_uuid": "f9425dd6c4f5f045fcf3b96d42b06c9f8c5e21a7"
   },
   "source": [
    "### Drop ID, name and rescuerID"
   ]
  },
  {
   "cell_type": "code",
   "execution_count": 36,
   "metadata": {
    "_uuid": "054ca8cddec421f219099c63b710f5a21bdcedba"
   },
   "outputs": [],
   "source": [
    "X_temp = X_temp.drop(to_drop_columns, axis=1)"
   ]
  },
  {
   "cell_type": "markdown",
   "metadata": {
    "_uuid": "87516411ecf32c0a744c9eeeaa432d5f48628497"
   },
   "source": [
    "### External Data\n",
    "- state_id_count / external state_population"
   ]
  },
  {
   "cell_type": "code",
   "execution_count": 37,
   "metadata": {
    "_uuid": "c07123c033816099d248b56daff222f7f20f33fa"
   },
   "outputs": [],
   "source": [
    "state = pd.read_csv(\"../input/petfinder-external-data/petfinder_external_state.csv\")\n",
    "state = state[['StateID','Population']]\n",
    "state.columns = ['State','Population']"
   ]
  },
  {
   "cell_type": "code",
   "execution_count": 38,
   "metadata": {
    "_uuid": "deb60ba80c4e54f252171aceeccccbafc46a183b"
   },
   "outputs": [],
   "source": [
    "x_count = X_temp[['State','Type']]\n",
    "x_count = x_count.groupby(['State','Type'])['State'].agg({'count'}).reset_index()\n",
    "x_count = x_count.merge(state,on='State',how='left')\n",
    "x_count['demand_rate'] = 100*x_count['count']/x_count['Population']\n",
    "x_count = x_count[['State','Type','demand_rate']]"
   ]
  },
  {
   "cell_type": "code",
   "execution_count": 39,
   "metadata": {
    "_uuid": "5657331c2d46d83639d0d49bd286d664123fff98"
   },
   "outputs": [],
   "source": [
    "X_temp = pd.merge(X_temp,x_count,how='left',on=['State','Type'])\n",
    "X_train = X_temp.loc[np.isfinite(X_temp.AdoptionSpeed), :]\n",
    "X_test = X_temp.loc[~np.isfinite(X_temp.AdoptionSpeed), :]\n",
    "\n",
    "X_test = X_test.drop(['AdoptionSpeed'], axis=1)\n",
    "\n",
    "assert X_train.shape[0] == train.shape[0]\n",
    "assert X_test.shape[0] == test.shape[0]\n",
    "\n",
    "train_cols = X_train.columns.tolist()\n",
    "train_cols.remove('AdoptionSpeed')\n",
    "\n",
    "test_cols = X_test.columns.tolist()\n",
    "\n",
    "assert np.all(train_cols == test_cols)"
   ]
  },
  {
   "cell_type": "code",
   "execution_count": 40,
   "metadata": {
    "_uuid": "33113d9abab481b5273bf023f139af5ad85e4f90"
   },
   "outputs": [],
   "source": [
    "X_train_non_null = X_train.fillna(-1)\n",
    "X_test_non_null = X_test.fillna(-1)"
   ]
  },
  {
   "cell_type": "code",
   "execution_count": 41,
   "metadata": {
    "_uuid": "ed3a4a5b78d8fa6552c9954c7b8c2e8bbefe0cc3"
   },
   "outputs": [],
   "source": [
    "X_train_dog = X_train[X_train['Type'] == 1].drop('Type', axis=1)\n",
    "X_train_cat = X_train[X_train['Type'] == 2].drop('Type', axis=1)\n",
    "X_test_dog = X_test[X_test['Type'] == 1].drop('Type', axis=1)\n",
    "X_test_cat = X_test[X_test['Type'] == 2].drop('Type', axis=1)"
   ]
  },
  {
   "cell_type": "code",
   "execution_count": 42,
   "metadata": {
    "_uuid": "18158d87855d8ad289edc6fff7aa442177ab0a68"
   },
   "outputs": [
    {
     "data": {
      "text/plain": [
       "(False, False)"
      ]
     },
     "execution_count": 42,
     "metadata": {},
     "output_type": "execute_result"
    }
   ],
   "source": [
    "X_train_non_null.isnull().any().any(), X_test_non_null.isnull().any().any()"
   ]
  },
  {
   "cell_type": "code",
   "execution_count": 43,
   "metadata": {
    "_uuid": "140d7ccb13fc5b7390a08eb73fb57377c94e15f4"
   },
   "outputs": [
    {
     "data": {
      "text/plain": [
       "((14993, 132), (3948, 131))"
      ]
     },
     "execution_count": 43,
     "metadata": {},
     "output_type": "execute_result"
    }
   ],
   "source": [
    "X_train_non_null.shape, X_test_non_null.shape"
   ]
  },
  {
   "cell_type": "code",
   "execution_count": 44,
   "metadata": {
    "_uuid": "3498274ff28da746aafee11a3edd2888787fda9b"
   },
   "outputs": [],
   "source": [
    "import scipy as sp\n",
    "\n",
    "from collections import Counter\n",
    "from functools import partial\n",
    "from math import sqrt\n",
    "\n",
    "from sklearn.metrics import cohen_kappa_score, mean_squared_error\n",
    "from sklearn.metrics import confusion_matrix as sk_cmatrix\n",
    "\n",
    "\n",
    "# FROM: https://www.kaggle.com/myltykritik/simple-lgbm-image-features\n",
    "\n",
    "# The following 3 functions have been taken from Ben Hamner's github repository\n",
    "# https://github.com/benhamner/Metrics\n",
    "def confusion_matrix(rater_a, rater_b, min_rating=None, max_rating=None):\n",
    "    \"\"\"\n",
    "    Returns the confusion matrix between rater's ratings\n",
    "    \"\"\"\n",
    "    assert(len(rater_a) == len(rater_b))\n",
    "    if min_rating is None:\n",
    "        min_rating = min(rater_a + rater_b)\n",
    "    if max_rating is None:\n",
    "        max_rating = max(rater_a + rater_b)\n",
    "    num_ratings = int(max_rating - min_rating + 1)\n",
    "    conf_mat = [[0 for i in range(num_ratings)]\n",
    "                for j in range(num_ratings)]\n",
    "    for a, b in zip(rater_a, rater_b):\n",
    "        conf_mat[a - min_rating][b - min_rating] += 1\n",
    "    return conf_mat\n",
    "\n",
    "\n",
    "def histogram(ratings, min_rating=None, max_rating=None):\n",
    "    \"\"\"\n",
    "    Returns the counts of each type of rating that a rater made\n",
    "    \"\"\"\n",
    "    if min_rating is None:\n",
    "        min_rating = min(ratings)\n",
    "    if max_rating is None:\n",
    "        max_rating = max(ratings)\n",
    "    num_ratings = int(max_rating - min_rating + 1)\n",
    "    hist_ratings = [0 for x in range(num_ratings)]\n",
    "    for r in ratings:\n",
    "        hist_ratings[r - min_rating] += 1\n",
    "    return hist_ratings\n",
    "\n",
    "\n",
    "def quadratic_weighted_kappa(y, y_pred):\n",
    "    \"\"\"\n",
    "    Calculates the quadratic weighted kappa\n",
    "    axquadratic_weighted_kappa calculates the quadratic weighted kappa\n",
    "    value, which is a measure of inter-rater agreement between two raters\n",
    "    that provide discrete numeric ratings.  Potential values range from -1\n",
    "    (representing complete disagreement) to 1 (representing complete\n",
    "    agreement).  A kappa value of 0 is expected if all agreement is due to\n",
    "    chance.\n",
    "    quadratic_weighted_kappa(rater_a, rater_b), where rater_a and rater_b\n",
    "    each correspond to a list of integer ratings.  These lists must have the\n",
    "    same length.\n",
    "    The ratings should be integers, and it is assumed that they contain\n",
    "    the complete range of possible ratings.\n",
    "    quadratic_weighted_kappa(X, min_rating, max_rating), where min_rating\n",
    "    is the minimum possible rating, and max_rating is the maximum possible\n",
    "    rating\n",
    "    \"\"\"\n",
    "    rater_a = y\n",
    "    rater_b = y_pred\n",
    "    min_rating=None\n",
    "    max_rating=None\n",
    "    rater_a = np.array(rater_a, dtype=int)\n",
    "    rater_b = np.array(rater_b, dtype=int)\n",
    "    assert(len(rater_a) == len(rater_b))\n",
    "    if min_rating is None:\n",
    "        min_rating = min(min(rater_a), min(rater_b))\n",
    "    if max_rating is None:\n",
    "        max_rating = max(max(rater_a), max(rater_b))\n",
    "    conf_mat = confusion_matrix(rater_a, rater_b,\n",
    "                                min_rating, max_rating)\n",
    "    num_ratings = len(conf_mat)\n",
    "    num_scored_items = float(len(rater_a))\n",
    "\n",
    "    hist_rater_a = histogram(rater_a, min_rating, max_rating)\n",
    "    hist_rater_b = histogram(rater_b, min_rating, max_rating)\n",
    "\n",
    "    numerator = 0.0\n",
    "    denominator = 0.0\n",
    "\n",
    "    for i in range(num_ratings):\n",
    "        for j in range(num_ratings):\n",
    "            expected_count = (hist_rater_a[i] * hist_rater_b[j]\n",
    "                              / num_scored_items)\n",
    "            d = pow(i - j, 2.0) / pow(num_ratings - 1, 2.0)\n",
    "            numerator += d * conf_mat[i][j] / num_scored_items\n",
    "            denominator += d * expected_count / num_scored_items\n",
    "\n",
    "    return (1.0 - numerator / denominator)"
   ]
  },
  {
   "cell_type": "markdown",
   "metadata": {
    "_uuid": "d8a40b9aefaa6935302789be723a29403ed988bd"
   },
   "source": [
    "### OptimizeRounder from [OptimizedRounder() - Improved](https://www.kaggle.com/naveenasaithambi/optimizedrounder-improved)"
   ]
  },
  {
   "cell_type": "markdown",
   "metadata": {
    "_uuid": "10ddb2ef661d2c1a61e01c2a6d48908bdf858bae"
   },
   "source": [
    "class OptimizedRounder(object):\n",
    "    def __init__(self):\n",
    "        self.coef_ = 0\n",
    "    \n",
    "    def _kappa_loss(self, coef, X, y):\n",
    "        preds = pd.cut(X, [-np.inf] + list(np.sort(coef)) + [np.inf], labels = [0, 1, 2, 3, 4])\n",
    "        return -cohen_kappa_score(y, preds, weights='quadratic')\n",
    "    \n",
    "    def fit(self, X, y):\n",
    "        loss_partial = partial(self._kappa_loss, X = X, y = y)\n",
    "        initial_coef = [0.5, 1.5, 2.5, 3.5]\n",
    "        self.coef_ = sp.optimize.minimize(loss_partial, initial_coef, method='nelder-mead')\n",
    "    \n",
    "    def predict(self, X, coef):\n",
    "        preds = pd.cut(X, [-np.inf] + list(np.sort(coef)) + [np.inf], labels = [0, 1, 2, 3, 4])\n",
    "        return preds\n",
    "    \n",
    "    def coefficients(self):\n",
    "        return self.coef_['x']"
   ]
  },
  {
   "cell_type": "code",
   "execution_count": 45,
   "metadata": {
    "_uuid": "435f594c35fdf394bfc5c4d819c8b906952abb6e"
   },
   "outputs": [],
   "source": [
    "# put numerical value to one of bins\n",
    "def to_bins(x, borders):\n",
    "    for i in range(len(borders)):\n",
    "        if x <= borders[i]:\n",
    "            return i\n",
    "    return len(borders)\n",
    "\n",
    "class OptimizedRounder(object):\n",
    "    def __init__(self):\n",
    "        self.coef_ = 0\n",
    "\n",
    "    def _loss(self, coef, X, y, idx):\n",
    "        X_p = np.array([to_bins(pred, coef) for pred in X])\n",
    "        ll = -quadratic_weighted_kappa(y, X_p)\n",
    "        return ll\n",
    "\n",
    "    def fit(self, X, y):\n",
    "        coef = [1.5, 2.0, 2.5, 3.0]\n",
    "        golden1 = 0.618\n",
    "        golden2 = 1 - golden1\n",
    "        ab_start = [(1, 2), (1.5, 2.5), (2, 3), (2.5, 3.5)]\n",
    "        for it1 in range(10):\n",
    "            for idx in range(4):\n",
    "                # golden section search\n",
    "                a, b = ab_start[idx]\n",
    "                # calc losses\n",
    "                coef[idx] = a\n",
    "                la = self._loss(coef, X, y, idx)\n",
    "                coef[idx] = b\n",
    "                lb = self._loss(coef, X, y, idx)\n",
    "                for it in range(20):\n",
    "                    # choose value\n",
    "                    if la > lb:\n",
    "                        a = b - (b - a) * golden1\n",
    "                        coef[idx] = a\n",
    "                        la = self._loss(coef, X, y, idx)\n",
    "                    else:\n",
    "                        b = b - (b - a) * golden2\n",
    "                        coef[idx] = b\n",
    "                        lb = self._loss(coef, X, y, idx)\n",
    "        self.coef_ = {'x': coef}\n",
    "\n",
    "    def predict(self, X, coef):\n",
    "        X_p = np.array([to_bins(pred, coef) for pred in X])\n",
    "        return X_p\n",
    "\n",
    "    def coefficients(self):\n",
    "        return self.coef_['x']"
   ]
  },
  {
   "cell_type": "markdown",
   "metadata": {
    "_uuid": "34c67df75d9ed9e01021426216164c7875956ac8"
   },
   "source": [
    "## Train model"
   ]
  },
  {
   "cell_type": "code",
   "execution_count": 46,
   "metadata": {
    "_uuid": "d3293c458698e229cad2c6b06cbb2c4b1899002b"
   },
   "outputs": [],
   "source": [
    "import xgboost as xgb\n",
    "import lightgbm as lgb\n",
    "from catboost import CatBoostRegressor\n",
    "from sklearn.model_selection import StratifiedKFold\n",
    "\n",
    "xgb_params = {\n",
    "    'eval_metric': 'rmse',\n",
    "    'seed': 1337,\n",
    "    'eta': 0.0123,\n",
    "    'subsample': 0.8,\n",
    "    'colsample_bytree': 0.85,\n",
    "    'tree_method': 'gpu_hist',\n",
    "    'device': 'gpu',\n",
    "    'silent': 1,\n",
    "}\n",
    "\n",
    "lgb_params = {'application': 'regression',\n",
    "              'boosting': 'gbdt',\n",
    "              'metric': 'rmse',\n",
    "              'num_leaves': 70,\n",
    "#               'max_depth': 9,\n",
    "              'learning_rate': 0.0123,\n",
    "              'bagging_fraction': 0.8,\n",
    "              'feature_fraction': 0.85,\n",
    "    #           'min_split_gain': 0.02,\n",
    "    #           'min_child_samples': 150,\n",
    "    #           'min_child_weight': 0.02,\n",
    "              'lambda_l2': 0.0475,\n",
    "              'verbosity': -1,\n",
    "              'data_random_seed': 1337}\n",
    "\n",
    "cat_params = {\n",
    "          'depth': 8,\n",
    "          'eta': 0.03,\n",
    "          'task_type' :\"GPU\",\n",
    "          'random_strength': 1.5,\n",
    "          'loss_function': 'RMSE',\n",
    "#           'one_hot_max_size': 2,\n",
    "          'reg_lambda': 6,\n",
    "          'od_type': 'Iter',\n",
    "#           'fold_len_multiplier': 2,\n",
    "          'border_count': 128,\n",
    "#           # 'od_type': 'IncToDec',\n",
    "#           # 'od_pval': 10e-5, \n",
    "          'bootstrap_type' : \"Bayesian\",\n",
    "#           'bagging_temperature': 1,\n",
    "          'random_seed': 1337,\n",
    "          'early_stopping_rounds': 100, \n",
    "          'num_boost_round': 2500}"
   ]
  },
  {
   "cell_type": "code",
   "execution_count": 47,
   "metadata": {
    "_uuid": "6ce6060ef879fd0d9a8a483b593b195926e6ef7f"
   },
   "outputs": [],
   "source": [
    "def run_lgb(params, X_train, X_test):\n",
    "    n_splits = 10\n",
    "    verbose_eval = 1000\n",
    "    num_rounds = 60000\n",
    "    early_stop = 500\n",
    "\n",
    "    kf = StratifiedKFold(n_splits=n_splits, shuffle=True, random_state=1337)\n",
    "\n",
    "    oof_train = np.zeros((X_train.shape[0]))\n",
    "    oof_test = np.zeros((X_test.shape[0]))\n",
    "\n",
    "    for train_idx, valid_idx in kf.split(X_train, X_train['AdoptionSpeed'].values):\n",
    "\n",
    "        X_tr = X_train.iloc[train_idx, :]\n",
    "        X_val = X_train.iloc[valid_idx, :]\n",
    "\n",
    "        y_tr = X_tr['AdoptionSpeed'].values\n",
    "        X_tr = X_tr.drop(['AdoptionSpeed'], axis=1)\n",
    "\n",
    "        y_val = X_val['AdoptionSpeed'].values\n",
    "        X_val = X_val.drop(['AdoptionSpeed'], axis=1)\n",
    "\n",
    "        d_train = lgb.Dataset(X_tr, label=y_tr)\n",
    "        d_valid = lgb.Dataset(X_val, label=y_val)\n",
    "        watchlist = [d_train, d_valid]\n",
    "\n",
    "        model = lgb.train(params,\n",
    "                      train_set=d_train,\n",
    "                      num_boost_round=num_rounds,\n",
    "                      valid_sets=watchlist,\n",
    "                      verbose_eval=verbose_eval,\n",
    "                      early_stopping_rounds=early_stop)\n",
    "    \n",
    "        valid_pred = model.predict(X_val, num_iteration=model.best_iteration)\n",
    "        test_pred = model.predict(X_test, num_iteration=model.best_iteration)\n",
    "\n",
    "        oof_train[valid_idx] = valid_pred\n",
    "        oof_test += test_pred / n_splits\n",
    "\n",
    "    return model, oof_train, oof_test\n",
    "\n",
    "def run_xgb(params, X_train, X_test):\n",
    "    n_splits = 10\n",
    "    verbose_eval = 1000\n",
    "    num_rounds = 60000\n",
    "    early_stop = 500\n",
    "\n",
    "    kf = StratifiedKFold(n_splits=n_splits, shuffle=True, random_state=1337)\n",
    "\n",
    "    oof_train = np.zeros((X_train.shape[0]))\n",
    "    oof_test = np.zeros((X_test.shape[0]))\n",
    "\n",
    "    for train_idx, valid_idx in kf.split(X_train, X_train['AdoptionSpeed'].values):\n",
    "\n",
    "        X_tr = X_train.iloc[train_idx, :]\n",
    "        X_val = X_train.iloc[valid_idx, :]\n",
    "\n",
    "        y_tr = X_tr['AdoptionSpeed'].values\n",
    "        X_tr = X_tr.drop(['AdoptionSpeed'], axis=1)\n",
    "\n",
    "        y_val = X_val['AdoptionSpeed'].values\n",
    "        X_val = X_val.drop(['AdoptionSpeed'], axis=1)\n",
    "\n",
    "        d_train = xgb.DMatrix(data=X_tr, label=y_tr, feature_names=X_tr.columns)\n",
    "        d_valid = xgb.DMatrix(data=X_val, label=y_val, feature_names=X_val.columns)\n",
    "\n",
    "        watchlist = [(d_train, 'train'), (d_valid, 'valid')]\n",
    "        model = xgb.train(dtrain=d_train, num_boost_round=num_rounds, evals=watchlist,\n",
    "                         early_stopping_rounds=early_stop, verbose_eval=verbose_eval, params=params)\n",
    "\n",
    "        valid_pred = model.predict(xgb.DMatrix(X_val, feature_names=X_val.columns), ntree_limit=model.best_ntree_limit)\n",
    "        test_pred = model.predict(xgb.DMatrix(X_test, feature_names=X_test.columns), ntree_limit=model.best_ntree_limit)\n",
    "\n",
    "        oof_train[valid_idx] = valid_pred\n",
    "        oof_test += test_pred / n_splits\n",
    "\n",
    "    return model, oof_train, oof_test\n",
    "\n",
    "def run_cat(params, X_train, X_test):\n",
    "    n_splits = 5\n",
    "    verbose_eval = 1000\n",
    "    num_rounds = 2500\n",
    "    early_stop = 500\n",
    "\n",
    "    kf = StratifiedKFold(n_splits=n_splits, shuffle=True, random_state=1337)\n",
    "\n",
    "    oof_train = np.zeros((X_train.shape[0]))\n",
    "    oof_test = np.zeros((X_test.shape[0]))\n",
    "\n",
    "    for train_idx, valid_idx in kf.split(X_train, X_train['AdoptionSpeed'].values):\n",
    "\n",
    "        X_tr = X_train.iloc[train_idx, :]\n",
    "        X_val = X_train.iloc[valid_idx, :]\n",
    "\n",
    "        y_tr = X_tr['AdoptionSpeed'].values\n",
    "        X_tr = X_tr.drop(['AdoptionSpeed'], axis=1)\n",
    "\n",
    "        y_val = X_val['AdoptionSpeed'].values\n",
    "        X_val = X_val.drop(['AdoptionSpeed'], axis=1)\n",
    "\n",
    "        watchlist = (X_tr, y_tr)\n",
    "        model = CatBoostRegressor(**params)\n",
    "        model.fit(X_tr, y_tr, eval_set=watchlist, verbose=verbose_eval, use_best_model=True)\n",
    "    \n",
    "        valid_pred = model.predict(X_val)\n",
    "        test_pred = model.predict(X_test)\n",
    "\n",
    "        oof_train[valid_idx] = valid_pred\n",
    "        oof_test += test_pred / n_splits\n",
    "\n",
    "    return model, oof_train, oof_test"
   ]
  },
  {
   "cell_type": "code",
   "execution_count": 48,
   "metadata": {
    "_uuid": "aac8a52c4d4e8186664b22b885c6f28b5eedd5bb"
   },
   "outputs": [
    {
     "name": "stdout",
     "output_type": "stream",
     "text": [
      "Training until validation scores don't improve for 500 rounds.\n",
      "[1000]\ttraining's rmse: 0.536446\tvalid_1's rmse: 1.01185\n",
      "[2000]\ttraining's rmse: 0.315899\tvalid_1's rmse: 1.00969\n",
      "Early stopping, best iteration is:\n",
      "[2065]\ttraining's rmse: 0.305203\tvalid_1's rmse: 1.00933\n",
      "Training until validation scores don't improve for 500 rounds.\n",
      "[1000]\ttraining's rmse: 0.540136\tvalid_1's rmse: 1.03712\n",
      "[2000]\ttraining's rmse: 0.317503\tvalid_1's rmse: 1.03359\n",
      "Early stopping, best iteration is:\n",
      "[2484]\ttraining's rmse: 0.248068\tvalid_1's rmse: 1.03306\n",
      "Training until validation scores don't improve for 500 rounds.\n",
      "[1000]\ttraining's rmse: 0.54191\tvalid_1's rmse: 1.008\n",
      "[2000]\ttraining's rmse: 0.316772\tvalid_1's rmse: 1.0036\n",
      "[3000]\ttraining's rmse: 0.189501\tvalid_1's rmse: 1.00205\n",
      "[4000]\ttraining's rmse: 0.116645\tvalid_1's rmse: 1.00144\n",
      "Early stopping, best iteration is:\n",
      "[4030]\ttraining's rmse: 0.114889\tvalid_1's rmse: 1.00137\n",
      "Training until validation scores don't improve for 500 rounds.\n",
      "[1000]\ttraining's rmse: 0.540195\tvalid_1's rmse: 0.996969\n",
      "[2000]\ttraining's rmse: 0.317759\tvalid_1's rmse: 0.994442\n",
      "Early stopping, best iteration is:\n",
      "[1973]\ttraining's rmse: 0.322202\tvalid_1's rmse: 0.994346\n",
      "Training until validation scores don't improve for 500 rounds.\n",
      "[1000]\ttraining's rmse: 0.543037\tvalid_1's rmse: 1.02123\n",
      "[2000]\ttraining's rmse: 0.319706\tvalid_1's rmse: 1.01822\n",
      "Early stopping, best iteration is:\n",
      "[1692]\ttraining's rmse: 0.374749\tvalid_1's rmse: 1.01745\n",
      "Training until validation scores don't improve for 500 rounds.\n",
      "[1000]\ttraining's rmse: 0.545291\tvalid_1's rmse: 1.01012\n",
      "[2000]\ttraining's rmse: 0.321508\tvalid_1's rmse: 1.00507\n",
      "[3000]\ttraining's rmse: 0.193604\tvalid_1's rmse: 1.00478\n",
      "Early stopping, best iteration is:\n",
      "[2611]\ttraining's rmse: 0.236275\tvalid_1's rmse: 1.00449\n",
      "Training until validation scores don't improve for 500 rounds.\n",
      "[1000]\ttraining's rmse: 0.540857\tvalid_1's rmse: 1.04968\n",
      "[2000]\ttraining's rmse: 0.320326\tvalid_1's rmse: 1.04765\n",
      "Early stopping, best iteration is:\n",
      "[1518]\ttraining's rmse: 0.412068\tvalid_1's rmse: 1.04705\n",
      "Training until validation scores don't improve for 500 rounds.\n",
      "[1000]\ttraining's rmse: 0.540357\tvalid_1's rmse: 1.00825\n",
      "[2000]\ttraining's rmse: 0.317185\tvalid_1's rmse: 1.00664\n",
      "Early stopping, best iteration is:\n",
      "[1742]\ttraining's rmse: 0.361805\tvalid_1's rmse: 1.00603\n",
      "Training until validation scores don't improve for 500 rounds.\n",
      "[1000]\ttraining's rmse: 0.536425\tvalid_1's rmse: 1.02211\n",
      "[2000]\ttraining's rmse: 0.314951\tvalid_1's rmse: 1.02096\n",
      "[3000]\ttraining's rmse: 0.187475\tvalid_1's rmse: 1.02052\n",
      "Early stopping, best iteration is:\n",
      "[3221]\ttraining's rmse: 0.167849\tvalid_1's rmse: 1.02023\n",
      "Training until validation scores don't improve for 500 rounds.\n",
      "[1000]\ttraining's rmse: 0.541628\tvalid_1's rmse: 1.01883\n",
      "Early stopping, best iteration is:\n",
      "[1254]\ttraining's rmse: 0.473339\tvalid_1's rmse: 1.01807\n",
      "[0]\ttrain-rmse:2.31217\tvalid-rmse:2.31255\n",
      "Multiple eval metrics have been passed: 'valid-rmse' will be used for early stopping.\n",
      "\n",
      "Will train until valid-rmse hasn't improved in 500 rounds.\n",
      "[1000]\ttrain-rmse:0.682364\tvalid-rmse:1.01126\n",
      "[2000]\ttrain-rmse:0.480157\tvalid-rmse:1.00888\n",
      "Stopping. Best iteration:\n",
      "[1845]\ttrain-rmse:0.506652\tvalid-rmse:1.00832\n",
      "\n",
      "[0]\ttrain-rmse:2.31223\tvalid-rmse:2.31278\n",
      "Multiple eval metrics have been passed: 'valid-rmse' will be used for early stopping.\n",
      "\n",
      "Will train until valid-rmse hasn't improved in 500 rounds.\n",
      "[1000]\ttrain-rmse:0.683777\tvalid-rmse:1.03827\n",
      "[2000]\ttrain-rmse:0.484805\tvalid-rmse:1.03221\n",
      "Stopping. Best iteration:\n",
      "[1764]\ttrain-rmse:0.52648\tvalid-rmse:1.0313\n",
      "\n",
      "[0]\ttrain-rmse:2.31218\tvalid-rmse:2.31252\n",
      "Multiple eval metrics have been passed: 'valid-rmse' will be used for early stopping.\n",
      "\n",
      "Will train until valid-rmse hasn't improved in 500 rounds.\n",
      "[1000]\ttrain-rmse:0.683139\tvalid-rmse:1.01543\n",
      "[2000]\ttrain-rmse:0.481441\tvalid-rmse:1.01081\n",
      "[3000]\ttrain-rmse:0.341152\tvalid-rmse:1.00997\n",
      "Stopping. Best iteration:\n",
      "[2924]\ttrain-rmse:0.350158\tvalid-rmse:1.00974\n",
      "\n",
      "[0]\ttrain-rmse:2.31227\tvalid-rmse:2.31271\n",
      "Multiple eval metrics have been passed: 'valid-rmse' will be used for early stopping.\n",
      "\n",
      "Will train until valid-rmse hasn't improved in 500 rounds.\n",
      "[1000]\ttrain-rmse:0.682843\tvalid-rmse:0.999349\n",
      "Stopping. Best iteration:\n",
      "[1321]\ttrain-rmse:0.609675\tvalid-rmse:0.998244\n",
      "\n",
      "[0]\ttrain-rmse:2.31225\tvalid-rmse:2.31273\n",
      "Multiple eval metrics have been passed: 'valid-rmse' will be used for early stopping.\n",
      "\n",
      "Will train until valid-rmse hasn't improved in 500 rounds.\n",
      "[1000]\ttrain-rmse:0.685612\tvalid-rmse:1.02371\n",
      "[2000]\ttrain-rmse:0.485248\tvalid-rmse:1.01921\n",
      "Stopping. Best iteration:\n",
      "[2418]\ttrain-rmse:0.419626\tvalid-rmse:1.01729\n",
      "\n",
      "[0]\ttrain-rmse:2.31235\tvalid-rmse:2.31284\n",
      "Multiple eval metrics have been passed: 'valid-rmse' will be used for early stopping.\n",
      "\n",
      "Will train until valid-rmse hasn't improved in 500 rounds.\n",
      "[1000]\ttrain-rmse:0.685499\tvalid-rmse:1.00907\n",
      "[2000]\ttrain-rmse:0.483204\tvalid-rmse:1.00194\n",
      "Stopping. Best iteration:\n",
      "[1935]\ttrain-rmse:0.494254\tvalid-rmse:1.00129\n",
      "\n",
      "[0]\ttrain-rmse:2.31223\tvalid-rmse:2.31281\n",
      "Multiple eval metrics have been passed: 'valid-rmse' will be used for early stopping.\n",
      "\n",
      "Will train until valid-rmse hasn't improved in 500 rounds.\n",
      "[1000]\ttrain-rmse:0.681493\tvalid-rmse:1.05563\n",
      "[2000]\ttrain-rmse:0.481994\tvalid-rmse:1.05124\n",
      "[3000]\ttrain-rmse:0.342304\tvalid-rmse:1.05046\n",
      "Stopping. Best iteration:\n",
      "[3338]\ttrain-rmse:0.305179\tvalid-rmse:1.05028\n",
      "\n",
      "[0]\ttrain-rmse:2.31229\tvalid-rmse:2.31243\n",
      "Multiple eval metrics have been passed: 'valid-rmse' will be used for early stopping.\n",
      "\n",
      "Will train until valid-rmse hasn't improved in 500 rounds.\n",
      "[1000]\ttrain-rmse:0.687735\tvalid-rmse:1.01805\n",
      "[2000]\ttrain-rmse:0.485242\tvalid-rmse:1.01709\n",
      "Stopping. Best iteration:\n",
      "[1583]\ttrain-rmse:0.561058\tvalid-rmse:1.01678\n",
      "\n",
      "[0]\ttrain-rmse:2.31239\tvalid-rmse:2.31224\n",
      "Multiple eval metrics have been passed: 'valid-rmse' will be used for early stopping.\n",
      "\n",
      "Will train until valid-rmse hasn't improved in 500 rounds.\n",
      "[1000]\ttrain-rmse:0.680455\tvalid-rmse:1.0234\n",
      "[2000]\ttrain-rmse:0.479076\tvalid-rmse:1.02163\n",
      "Stopping. Best iteration:\n",
      "[2132]\ttrain-rmse:0.457577\tvalid-rmse:1.02103\n",
      "\n",
      "[0]\ttrain-rmse:2.31235\tvalid-rmse:2.31224\n",
      "Multiple eval metrics have been passed: 'valid-rmse' will be used for early stopping.\n",
      "\n",
      "Will train until valid-rmse hasn't improved in 500 rounds.\n",
      "[1000]\ttrain-rmse:0.681664\tvalid-rmse:1.02016\n",
      "Stopping. Best iteration:\n",
      "[1425]\ttrain-rmse:0.587156\tvalid-rmse:1.01789\n",
      "\n"
     ]
    },
    {
     "name": "stderr",
     "output_type": "stream",
     "text": [
      "Warning: less than 75% gpu memory available for training. Free: 537.875 Total: 537.875\n"
     ]
    },
    {
     "name": "stdout",
     "output_type": "stream",
     "text": [
      "0:\tlearn: 2.7103782\ttest: 2.7103782\tbest: 2.7103782 (0)\ttotal: 38.5ms\tremaining: 1m 36s\n",
      "1000:\tlearn: 0.8705682\ttest: 0.8705682\tbest: 0.8705682 (1000)\ttotal: 38.4s\tremaining: 57.6s\n",
      "2000:\tlearn: 0.7648366\ttest: 0.7648366\tbest: 0.7648366 (2000)\ttotal: 1m 17s\tremaining: 19.4s\n",
      "2499:\tlearn: 0.7247285\ttest: 0.7247285\tbest: 0.7247285 (2499)\ttotal: 1m 37s\tremaining: 0us\n",
      "bestTest = 0.7247285242\n",
      "bestIteration = 2499\n"
     ]
    },
    {
     "name": "stderr",
     "output_type": "stream",
     "text": [
      "Warning: less than 75% gpu memory available for training. Free: 537.875 Total: 537.875\n"
     ]
    },
    {
     "name": "stdout",
     "output_type": "stream",
     "text": [
      "0:\tlearn: 2.7106475\ttest: 2.7106475\tbest: 2.7106475 (0)\ttotal: 35.6ms\tremaining: 1m 29s\n",
      "1000:\tlearn: 0.8796152\ttest: 0.8796152\tbest: 0.8796152 (1000)\ttotal: 37.9s\tremaining: 56.8s\n",
      "2000:\tlearn: 0.7776210\ttest: 0.7776210\tbest: 0.7776210 (2000)\ttotal: 1m 16s\tremaining: 19.2s\n",
      "2499:\tlearn: 0.7411707\ttest: 0.7411707\tbest: 0.7411707 (2499)\ttotal: 1m 35s\tremaining: 0us\n",
      "bestTest = 0.7411707469\n",
      "bestIteration = 2499\n"
     ]
    },
    {
     "name": "stderr",
     "output_type": "stream",
     "text": [
      "Warning: less than 75% gpu memory available for training. Free: 537.875 Total: 537.875\n"
     ]
    },
    {
     "name": "stdout",
     "output_type": "stream",
     "text": [
      "0:\tlearn: 2.7107206\ttest: 2.7107206\tbest: 2.7107206 (0)\ttotal: 42.6ms\tremaining: 1m 46s\n",
      "1000:\tlearn: 0.8671816\ttest: 0.8671816\tbest: 0.8671816 (1000)\ttotal: 38.3s\tremaining: 57.4s\n",
      "2000:\tlearn: 0.7568291\ttest: 0.7568291\tbest: 0.7568291 (2000)\ttotal: 1m 18s\tremaining: 19.6s\n",
      "2499:\tlearn: 0.7159199\ttest: 0.7159199\tbest: 0.7159199 (2499)\ttotal: 1m 38s\tremaining: 0us\n",
      "bestTest = 0.7159198532\n",
      "bestIteration = 2499\n"
     ]
    },
    {
     "name": "stderr",
     "output_type": "stream",
     "text": [
      "Warning: less than 75% gpu memory available for training. Free: 537.875 Total: 537.875\n"
     ]
    },
    {
     "name": "stdout",
     "output_type": "stream",
     "text": [
      "0:\tlearn: 2.7108621\ttest: 2.7108621\tbest: 2.7108621 (0)\ttotal: 42.7ms\tremaining: 1m 46s\n",
      "1000:\tlearn: 0.8819077\ttest: 0.8819078\tbest: 0.8819078 (1000)\ttotal: 38.4s\tremaining: 57.5s\n",
      "2000:\tlearn: 0.7694418\ttest: 0.7694418\tbest: 0.7694418 (2000)\ttotal: 1m 17s\tremaining: 19.3s\n",
      "2499:\tlearn: 0.7301338\ttest: 0.7301338\tbest: 0.7301338 (2499)\ttotal: 1m 37s\tremaining: 0us\n",
      "bestTest = 0.730133833\n",
      "bestIteration = 2499\n"
     ]
    },
    {
     "name": "stderr",
     "output_type": "stream",
     "text": [
      "Warning: less than 75% gpu memory available for training. Free: 537.875 Total: 537.875\n"
     ]
    },
    {
     "name": "stdout",
     "output_type": "stream",
     "text": [
      "0:\tlearn: 2.7105460\ttest: 2.7105461\tbest: 2.7105461 (0)\ttotal: 43.6ms\tremaining: 1m 49s\n",
      "1000:\tlearn: 0.8784660\ttest: 0.8784660\tbest: 0.8784660 (1000)\ttotal: 38.3s\tremaining: 57.4s\n",
      "2000:\tlearn: 0.7615072\ttest: 0.7615072\tbest: 0.7615072 (2000)\ttotal: 1m 17s\tremaining: 19.3s\n",
      "2499:\tlearn: 0.7209462\ttest: 0.7209462\tbest: 0.7209462 (2499)\ttotal: 1m 37s\tremaining: 0us\n",
      "bestTest = 0.7209462285\n",
      "bestIteration = 2499\n"
     ]
    }
   ],
   "source": [
    "model, oof_train_0, oof_test_0 = run_lgb(lgb_params, X_train_non_null, X_test_non_null)\n",
    "model, oof_train_1, oof_test_1 = run_xgb(xgb_params, X_train_non_null, X_test_non_null)\n",
    "model, oof_train_2, oof_test_2 = run_cat(cat_params, X_train_non_null, X_test_non_null)"
   ]
  },
  {
   "cell_type": "code",
   "execution_count": 49,
   "metadata": {
    "_uuid": "01abaa44b1e370ed8b7e55a005074ea3f53885cf"
   },
   "outputs": [
    {
     "data": {
      "text/plain": [
       "array([0.57317479, 0.30507952, 0.17081552])"
      ]
     },
     "execution_count": 49,
     "metadata": {},
     "output_type": "execute_result"
    }
   ],
   "source": [
    "from sklearn.linear_model import LinearRegression\n",
    "\n",
    "oof_train_0 = oof_train_0[:, np.newaxis]\n",
    "oof_train_1 = oof_train_1[:, np.newaxis]\n",
    "oof_train_2 = oof_train_2[:, np.newaxis]\n",
    "oof_train0 = np.hstack((oof_train_0, oof_train_1, oof_train_2))\n",
    "y_train0 = X_train_non_null['AdoptionSpeed'].values\n",
    "\n",
    "oof_test_0 = oof_test_0[:, np.newaxis]\n",
    "oof_test_1 = oof_test_1[:, np.newaxis]\n",
    "oof_test_2 = oof_test_2[:, np.newaxis]\n",
    "oof_test0 = np.hstack((oof_test_0, oof_test_1, oof_test_2))\n",
    "\n",
    "linear_model = LinearRegression()\n",
    "linear_model.fit(oof_train0, y_train0)\n",
    "oof_train0 = linear_model.predict(oof_train0)\n",
    "oof_test0 = linear_model.predict(oof_test0)\n",
    "\n",
    "linear_model.coef_"
   ]
  },
  {
   "cell_type": "code",
   "execution_count": 50,
   "metadata": {
    "_uuid": "8a3872d656c5ad380857338aa0d15769917f224a"
   },
   "outputs": [],
   "source": [
    "train_data0 = pd.DataFrame({'PetID': train['PetID'].values, 'predict0': oof_train0})\n",
    "test_data0 = pd.DataFrame({'PetID': test['PetID'].values, 'predict0': oof_test0})"
   ]
  },
  {
   "cell_type": "code",
   "execution_count": 51,
   "metadata": {
    "_uuid": "efbf575ded7abb1e01b41cd16d09bbb217c4440e"
   },
   "outputs": [
    {
     "name": "stdout",
     "output_type": "stream",
     "text": [
      "Training until validation scores don't improve for 500 rounds.\n",
      "[1000]\ttraining's rmse: 0.323125\tvalid_1's rmse: 0.960546\n",
      "Early stopping, best iteration is:\n",
      "[746]\ttraining's rmse: 0.412353\tvalid_1's rmse: 0.95923\n",
      "Training until validation scores don't improve for 500 rounds.\n",
      "[1000]\ttraining's rmse: 0.319976\tvalid_1's rmse: 0.981149\n",
      "[2000]\ttraining's rmse: 0.128238\tvalid_1's rmse: 0.979968\n",
      "Early stopping, best iteration is:\n",
      "[1819]\ttraining's rmse: 0.150628\tvalid_1's rmse: 0.979566\n",
      "Training until validation scores don't improve for 500 rounds.\n",
      "[1000]\ttraining's rmse: 0.320838\tvalid_1's rmse: 1.01254\n",
      "Early stopping, best iteration is:\n",
      "[1061]\ttraining's rmse: 0.302953\tvalid_1's rmse: 1.01223\n",
      "Training until validation scores don't improve for 500 rounds.\n",
      "[1000]\ttraining's rmse: 0.320991\tvalid_1's rmse: 0.98605\n",
      "Early stopping, best iteration is:\n",
      "[1216]\ttraining's rmse: 0.261539\tvalid_1's rmse: 0.985428\n",
      "Training until validation scores don't improve for 500 rounds.\n",
      "[1000]\ttraining's rmse: 0.320696\tvalid_1's rmse: 0.966076\n",
      "[2000]\ttraining's rmse: 0.128856\tvalid_1's rmse: 0.965053\n",
      "Early stopping, best iteration is:\n",
      "[2422]\ttraining's rmse: 0.0883625\tvalid_1's rmse: 0.964715\n",
      "Training until validation scores don't improve for 500 rounds.\n",
      "[1000]\ttraining's rmse: 0.320431\tvalid_1's rmse: 0.979522\n",
      "Early stopping, best iteration is:\n",
      "[1007]\ttraining's rmse: 0.318435\tvalid_1's rmse: 0.979472\n",
      "Training until validation scores don't improve for 500 rounds.\n",
      "[1000]\ttraining's rmse: 0.322279\tvalid_1's rmse: 0.958741\n",
      "Early stopping, best iteration is:\n",
      "[1235]\ttraining's rmse: 0.257558\tvalid_1's rmse: 0.958241\n",
      "Training until validation scores don't improve for 500 rounds.\n",
      "[1000]\ttraining's rmse: 0.321788\tvalid_1's rmse: 0.968829\n",
      "[2000]\ttraining's rmse: 0.128327\tvalid_1's rmse: 0.966235\n",
      "[3000]\ttraining's rmse: 0.053871\tvalid_1's rmse: 0.965561\n",
      "Early stopping, best iteration is:\n",
      "[3291]\ttraining's rmse: 0.0422588\tvalid_1's rmse: 0.965416\n",
      "Training until validation scores don't improve for 500 rounds.\n",
      "[1000]\ttraining's rmse: 0.322578\tvalid_1's rmse: 0.979371\n",
      "Early stopping, best iteration is:\n",
      "[1417]\ttraining's rmse: 0.219187\tvalid_1's rmse: 0.979171\n",
      "Training until validation scores don't improve for 500 rounds.\n",
      "[1000]\ttraining's rmse: 0.32405\tvalid_1's rmse: 0.963215\n",
      "Early stopping, best iteration is:\n",
      "[1029]\ttraining's rmse: 0.315417\tvalid_1's rmse: 0.963096\n",
      "Training until validation scores don't improve for 500 rounds.\n",
      "[1000]\ttraining's rmse: 0.291498\tvalid_1's rmse: 1.10034\n",
      "Early stopping, best iteration is:\n",
      "[866]\ttraining's rmse: 0.338575\tvalid_1's rmse: 1.09851\n",
      "Training until validation scores don't improve for 500 rounds.\n",
      "[1000]\ttraining's rmse: 0.292093\tvalid_1's rmse: 1.07091\n",
      "Early stopping, best iteration is:\n",
      "[889]\ttraining's rmse: 0.330771\tvalid_1's rmse: 1.07011\n",
      "Training until validation scores don't improve for 500 rounds.\n",
      "[1000]\ttraining's rmse: 0.293036\tvalid_1's rmse: 1.07305\n",
      "Early stopping, best iteration is:\n",
      "[559]\ttraining's rmse: 0.490853\tvalid_1's rmse: 1.07\n",
      "Training until validation scores don't improve for 500 rounds.\n",
      "[1000]\ttraining's rmse: 0.293505\tvalid_1's rmse: 1.07389\n",
      "Early stopping, best iteration is:\n",
      "[714]\ttraining's rmse: 0.405403\tvalid_1's rmse: 1.07206\n",
      "Training until validation scores don't improve for 500 rounds.\n",
      "[1000]\ttraining's rmse: 0.295792\tvalid_1's rmse: 1.07138\n",
      "Early stopping, best iteration is:\n",
      "[788]\ttraining's rmse: 0.375976\tvalid_1's rmse: 1.07065\n",
      "Training until validation scores don't improve for 500 rounds.\n",
      "[1000]\ttraining's rmse: 0.291261\tvalid_1's rmse: 1.0546\n",
      "[2000]\ttraining's rmse: 0.0988253\tvalid_1's rmse: 1.05339\n",
      "Early stopping, best iteration is:\n",
      "[2077]\ttraining's rmse: 0.0914939\tvalid_1's rmse: 1.05335\n",
      "Training until validation scores don't improve for 500 rounds.\n",
      "[1000]\ttraining's rmse: 0.295276\tvalid_1's rmse: 1.07904\n",
      "Early stopping, best iteration is:\n",
      "[567]\ttraining's rmse: 0.485549\tvalid_1's rmse: 1.07592\n",
      "Training until validation scores don't improve for 500 rounds.\n",
      "[1000]\ttraining's rmse: 0.299982\tvalid_1's rmse: 1.06726\n",
      "[2000]\ttraining's rmse: 0.102194\tvalid_1's rmse: 1.06336\n",
      "[3000]\ttraining's rmse: 0.037824\tvalid_1's rmse: 1.06294\n",
      "[4000]\ttraining's rmse: 0.0151845\tvalid_1's rmse: 1.06277\n",
      "Early stopping, best iteration is:\n",
      "[3773]\ttraining's rmse: 0.0184353\tvalid_1's rmse: 1.06272\n",
      "Training until validation scores don't improve for 500 rounds.\n",
      "[1000]\ttraining's rmse: 0.292435\tvalid_1's rmse: 1.08685\n",
      "Early stopping, best iteration is:\n",
      "[614]\ttraining's rmse: 0.456488\tvalid_1's rmse: 1.08421\n",
      "Training until validation scores don't improve for 500 rounds.\n",
      "[1000]\ttraining's rmse: 0.295808\tvalid_1's rmse: 1.07197\n",
      "[2000]\ttraining's rmse: 0.099611\tvalid_1's rmse: 1.06792\n",
      "Early stopping, best iteration is:\n",
      "[2491]\ttraining's rmse: 0.0605268\tvalid_1's rmse: 1.06764\n",
      "[0]\ttrain-rmse:2.38038\tvalid-rmse:2.38046\n",
      "Multiple eval metrics have been passed: 'valid-rmse' will be used for early stopping.\n",
      "\n",
      "Will train until valid-rmse hasn't improved in 500 rounds.\n",
      "[1000]\ttrain-rmse:0.5142\tvalid-rmse:0.959483\n",
      "[2000]\ttrain-rmse:0.298021\tvalid-rmse:0.957047\n",
      "Stopping. Best iteration:\n",
      "[2020]\ttrain-rmse:0.29455\tvalid-rmse:0.956956\n",
      "\n",
      "[0]\ttrain-rmse:2.38046\tvalid-rmse:2.38086\n",
      "Multiple eval metrics have been passed: 'valid-rmse' will be used for early stopping.\n",
      "\n",
      "Will train until valid-rmse hasn't improved in 500 rounds.\n",
      "[1000]\ttrain-rmse:0.509536\tvalid-rmse:0.983595\n",
      "[2000]\ttrain-rmse:0.292371\tvalid-rmse:0.980776\n",
      "Stopping. Best iteration:\n",
      "[1836]\ttrain-rmse:0.320203\tvalid-rmse:0.980226\n",
      "\n",
      "[0]\ttrain-rmse:2.38042\tvalid-rmse:2.38104\n",
      "Multiple eval metrics have been passed: 'valid-rmse' will be used for early stopping.\n",
      "\n",
      "Will train until valid-rmse hasn't improved in 500 rounds.\n",
      "[1000]\ttrain-rmse:0.506393\tvalid-rmse:1.01776\n",
      "[2000]\ttrain-rmse:0.287114\tvalid-rmse:1.01693\n",
      "Stopping. Best iteration:\n",
      "[1520]\ttrain-rmse:0.379267\tvalid-rmse:1.01527\n",
      "\n",
      "[0]\ttrain-rmse:2.38048\tvalid-rmse:2.38052\n",
      "Multiple eval metrics have been passed: 'valid-rmse' will be used for early stopping.\n",
      "\n",
      "Will train until valid-rmse hasn't improved in 500 rounds.\n",
      "[1000]\ttrain-rmse:0.50897\tvalid-rmse:0.984909\n",
      "Stopping. Best iteration:\n",
      "[1468]\ttrain-rmse:0.390012\tvalid-rmse:0.982361\n",
      "\n",
      "[0]\ttrain-rmse:2.38056\tvalid-rmse:2.37988\n",
      "Multiple eval metrics have been passed: 'valid-rmse' will be used for early stopping.\n",
      "\n",
      "Will train until valid-rmse hasn't improved in 500 rounds.\n",
      "[1000]\ttrain-rmse:0.511725\tvalid-rmse:0.969144\n",
      "Stopping. Best iteration:\n",
      "[1446]\ttrain-rmse:0.396649\tvalid-rmse:0.967185\n",
      "\n",
      "[0]\ttrain-rmse:2.38025\tvalid-rmse:2.38108\n",
      "Multiple eval metrics have been passed: 'valid-rmse' will be used for early stopping.\n",
      "\n",
      "Will train until valid-rmse hasn't improved in 500 rounds.\n",
      "[1000]\ttrain-rmse:0.512424\tvalid-rmse:0.976424\n",
      "[2000]\ttrain-rmse:0.291378\tvalid-rmse:0.974653\n",
      "Stopping. Best iteration:\n",
      "[1966]\ttrain-rmse:0.297153\tvalid-rmse:0.974604\n",
      "\n",
      "[0]\ttrain-rmse:2.38029\tvalid-rmse:2.3814\n",
      "Multiple eval metrics have been passed: 'valid-rmse' will be used for early stopping.\n",
      "\n",
      "Will train until valid-rmse hasn't improved in 500 rounds.\n",
      "[1000]\ttrain-rmse:0.508401\tvalid-rmse:0.966751\n",
      "[2000]\ttrain-rmse:0.29006\tvalid-rmse:0.961614\n",
      "Stopping. Best iteration:\n",
      "[2123]\ttrain-rmse:0.270241\tvalid-rmse:0.961292\n",
      "\n",
      "[0]\ttrain-rmse:2.38044\tvalid-rmse:2.38149\n",
      "Multiple eval metrics have been passed: 'valid-rmse' will be used for early stopping.\n",
      "\n",
      "Will train until valid-rmse hasn't improved in 500 rounds.\n",
      "[1000]\ttrain-rmse:0.506916\tvalid-rmse:0.973213\n",
      "[2000]\ttrain-rmse:0.286746\tvalid-rmse:0.969499\n",
      "[3000]\ttrain-rmse:0.162866\tvalid-rmse:0.967304\n",
      "Stopping. Best iteration:\n",
      "[3082]\ttrain-rmse:0.155231\tvalid-rmse:0.967042\n",
      "\n",
      "[0]\ttrain-rmse:2.38043\tvalid-rmse:2.3817\n",
      "Multiple eval metrics have been passed: 'valid-rmse' will be used for early stopping.\n",
      "\n",
      "Will train until valid-rmse hasn't improved in 500 rounds.\n",
      "[1000]\ttrain-rmse:0.505357\tvalid-rmse:0.978216\n",
      "[2000]\ttrain-rmse:0.287674\tvalid-rmse:0.976571\n",
      "Stopping. Best iteration:\n",
      "[1817]\ttrain-rmse:0.31787\tvalid-rmse:0.975784\n",
      "\n",
      "[0]\ttrain-rmse:2.38034\tvalid-rmse:2.38113\n",
      "Multiple eval metrics have been passed: 'valid-rmse' will be used for early stopping.\n",
      "\n",
      "Will train until valid-rmse hasn't improved in 500 rounds.\n",
      "[1000]\ttrain-rmse:0.509644\tvalid-rmse:0.972086\n",
      "[2000]\ttrain-rmse:0.290752\tvalid-rmse:0.969284\n",
      "[3000]\ttrain-rmse:0.164898\tvalid-rmse:0.96876\n",
      "Stopping. Best iteration:\n",
      "[3464]\ttrain-rmse:0.127286\tvalid-rmse:0.96825\n",
      "\n",
      "[0]\ttrain-rmse:2.22815\tvalid-rmse:2.22962\n",
      "Multiple eval metrics have been passed: 'valid-rmse' will be used for early stopping.\n",
      "\n",
      "Will train until valid-rmse hasn't improved in 500 rounds.\n",
      "[1000]\ttrain-rmse:0.502951\tvalid-rmse:1.08657\n",
      "Stopping. Best iteration:\n",
      "[860]\ttrain-rmse:0.551126\tvalid-rmse:1.0861\n",
      "\n",
      "[0]\ttrain-rmse:2.22822\tvalid-rmse:2.22928\n",
      "Multiple eval metrics have been passed: 'valid-rmse' will be used for early stopping.\n",
      "\n",
      "Will train until valid-rmse hasn't improved in 500 rounds.\n",
      "[1000]\ttrain-rmse:0.505518\tvalid-rmse:1.06721\n",
      "Stopping. Best iteration:\n",
      "[705]\ttrain-rmse:0.611882\tvalid-rmse:1.0659\n",
      "\n",
      "[0]\ttrain-rmse:2.22822\tvalid-rmse:2.22882\n",
      "Multiple eval metrics have been passed: 'valid-rmse' will be used for early stopping.\n",
      "\n",
      "Will train until valid-rmse hasn't improved in 500 rounds.\n",
      "[1000]\ttrain-rmse:0.509306\tvalid-rmse:1.07136\n",
      "Stopping. Best iteration:\n",
      "[741]\ttrain-rmse:0.599855\tvalid-rmse:1.07011\n",
      "\n",
      "[0]\ttrain-rmse:2.2284\tvalid-rmse:2.2278\n",
      "Multiple eval metrics have been passed: 'valid-rmse' will be used for early stopping.\n",
      "\n",
      "Will train until valid-rmse hasn't improved in 500 rounds.\n",
      "[1000]\ttrain-rmse:0.505055\tvalid-rmse:1.06409\n",
      "Stopping. Best iteration:\n",
      "[894]\ttrain-rmse:0.542437\tvalid-rmse:1.06351\n",
      "\n",
      "[0]\ttrain-rmse:2.2285\tvalid-rmse:2.22796\n",
      "Multiple eval metrics have been passed: 'valid-rmse' will be used for early stopping.\n",
      "\n",
      "Will train until valid-rmse hasn't improved in 500 rounds.\n",
      "[1000]\ttrain-rmse:0.508466\tvalid-rmse:1.06846\n",
      "[2000]\ttrain-rmse:0.267217\tvalid-rmse:1.06813\n",
      "Stopping. Best iteration:\n",
      "[1707]\ttrain-rmse:0.322523\tvalid-rmse:1.06752\n",
      "\n",
      "[0]\ttrain-rmse:2.22824\tvalid-rmse:2.22911\n",
      "Multiple eval metrics have been passed: 'valid-rmse' will be used for early stopping.\n",
      "\n",
      "Will train until valid-rmse hasn't improved in 500 rounds.\n",
      "[1000]\ttrain-rmse:0.503463\tvalid-rmse:1.0598\n",
      "[2000]\ttrain-rmse:0.262565\tvalid-rmse:1.05822\n",
      "Stopping. Best iteration:\n",
      "[2245]\ttrain-rmse:0.224225\tvalid-rmse:1.0573\n",
      "\n",
      "[0]\ttrain-rmse:2.22811\tvalid-rmse:2.2292\n",
      "Multiple eval metrics have been passed: 'valid-rmse' will be used for early stopping.\n",
      "\n",
      "Will train until valid-rmse hasn't improved in 500 rounds.\n",
      "[1000]\ttrain-rmse:0.516603\tvalid-rmse:1.07857\n",
      "[2000]\ttrain-rmse:0.274602\tvalid-rmse:1.07405\n",
      "Stopping. Best iteration:\n",
      "[2346]\ttrain-rmse:0.218956\tvalid-rmse:1.07365\n",
      "\n",
      "[0]\ttrain-rmse:2.22821\tvalid-rmse:2.22957\n",
      "Multiple eval metrics have been passed: 'valid-rmse' will be used for early stopping.\n",
      "\n",
      "Will train until valid-rmse hasn't improved in 500 rounds.\n",
      "[1000]\ttrain-rmse:0.515976\tvalid-rmse:1.07009\n",
      "[2000]\ttrain-rmse:0.272546\tvalid-rmse:1.06258\n",
      "[3000]\ttrain-rmse:0.14231\tvalid-rmse:1.06187\n",
      "Stopping. Best iteration:\n",
      "[3207]\ttrain-rmse:0.124534\tvalid-rmse:1.06161\n",
      "\n",
      "[0]\ttrain-rmse:2.22822\tvalid-rmse:2.22913\n",
      "Multiple eval metrics have been passed: 'valid-rmse' will be used for early stopping.\n",
      "\n",
      "Will train until valid-rmse hasn't improved in 500 rounds.\n",
      "[1000]\ttrain-rmse:0.511807\tvalid-rmse:1.08636\n",
      "Stopping. Best iteration:\n",
      "[1035]\ttrain-rmse:0.499614\tvalid-rmse:1.08568\n",
      "\n",
      "[0]\ttrain-rmse:2.2281\tvalid-rmse:2.22929\n",
      "Multiple eval metrics have been passed: 'valid-rmse' will be used for early stopping.\n",
      "\n",
      "Will train until valid-rmse hasn't improved in 500 rounds.\n",
      "[1000]\ttrain-rmse:0.513303\tvalid-rmse:1.07061\n",
      "[2000]\ttrain-rmse:0.269323\tvalid-rmse:1.06879\n",
      "Stopping. Best iteration:\n",
      "[2285]\ttrain-rmse:0.224333\tvalid-rmse:1.06792\n",
      "\n"
     ]
    },
    {
     "name": "stderr",
     "output_type": "stream",
     "text": [
      "Warning: less than 75% gpu memory available for training. Free: 459.875 Total: 459.875\n"
     ]
    },
    {
     "name": "stdout",
     "output_type": "stream",
     "text": [
      "0:\tlearn: 2.7843075\ttest: 2.7843074\tbest: 2.7843074 (0)\ttotal: 29.4ms\tremaining: 1m 13s\n",
      "1000:\tlearn: 0.7782778\ttest: 0.7782778\tbest: 0.7782778 (1000)\ttotal: 31.9s\tremaining: 47.8s\n",
      "2000:\tlearn: 0.6555355\ttest: 0.6555355\tbest: 0.6555355 (2000)\ttotal: 1m 3s\tremaining: 15.8s\n",
      "2499:\tlearn: 0.6092931\ttest: 0.6092931\tbest: 0.6092931 (2499)\ttotal: 1m 19s\tremaining: 0us\n",
      "bestTest = 0.609293111\n",
      "bestIteration = 2499\n"
     ]
    },
    {
     "name": "stderr",
     "output_type": "stream",
     "text": [
      "Warning: less than 75% gpu memory available for training. Free: 459.875 Total: 459.875\n"
     ]
    },
    {
     "name": "stdout",
     "output_type": "stream",
     "text": [
      "0:\tlearn: 2.7839692\ttest: 2.7839692\tbest: 2.7839692 (0)\ttotal: 35ms\tremaining: 1m 27s\n",
      "1000:\tlearn: 0.7738705\ttest: 0.7738705\tbest: 0.7738705 (1000)\ttotal: 32.7s\tremaining: 48.9s\n",
      "2000:\tlearn: 0.6305990\ttest: 0.6305989\tbest: 0.6305989 (2000)\ttotal: 1m 6s\tremaining: 16.6s\n",
      "2499:\tlearn: 0.5820222\ttest: 0.5820222\tbest: 0.5820222 (2499)\ttotal: 1m 23s\tremaining: 0us\n",
      "bestTest = 0.5820221558\n",
      "bestIteration = 2499\n"
     ]
    },
    {
     "name": "stderr",
     "output_type": "stream",
     "text": [
      "Warning: less than 75% gpu memory available for training. Free: 459.875 Total: 459.875\n"
     ]
    },
    {
     "name": "stdout",
     "output_type": "stream",
     "text": [
      "0:\tlearn: 2.7838195\ttest: 2.7838195\tbest: 2.7838195 (0)\ttotal: 29.4ms\tremaining: 1m 13s\n",
      "1000:\tlearn: 0.7606771\ttest: 0.7606771\tbest: 0.7606771 (1000)\ttotal: 32.6s\tremaining: 48.8s\n",
      "2000:\tlearn: 0.6169326\ttest: 0.6169325\tbest: 0.6169325 (2000)\ttotal: 1m 6s\tremaining: 16.5s\n",
      "2499:\tlearn: 0.5650276\ttest: 0.5650276\tbest: 0.5650276 (2499)\ttotal: 1m 23s\tremaining: 0us\n",
      "bestTest = 0.5650275623\n",
      "bestIteration = 2499\n"
     ]
    },
    {
     "name": "stderr",
     "output_type": "stream",
     "text": [
      "Warning: less than 75% gpu memory available for training. Free: 459.875 Total: 459.875\n"
     ]
    },
    {
     "name": "stdout",
     "output_type": "stream",
     "text": [
      "0:\tlearn: 2.7845262\ttest: 2.7845261\tbest: 2.7845261 (0)\ttotal: 30.5ms\tremaining: 1m 16s\n",
      "1000:\tlearn: 0.7535366\ttest: 0.7535365\tbest: 0.7535365 (1000)\ttotal: 33.4s\tremaining: 50s\n",
      "2000:\tlearn: 0.6118363\ttest: 0.6118363\tbest: 0.6118363 (2000)\ttotal: 1m 8s\tremaining: 17s\n",
      "2499:\tlearn: 0.5648572\ttest: 0.5648571\tbest: 0.5648571 (2499)\ttotal: 1m 25s\tremaining: 0us\n",
      "bestTest = 0.5648571265\n",
      "bestIteration = 2499\n"
     ]
    },
    {
     "name": "stderr",
     "output_type": "stream",
     "text": [
      "Warning: less than 75% gpu memory available for training. Free: 459.875 Total: 459.875\n"
     ]
    },
    {
     "name": "stdout",
     "output_type": "stream",
     "text": [
      "0:\tlearn: 2.7839772\ttest: 2.7839772\tbest: 2.7839772 (0)\ttotal: 30ms\tremaining: 1m 14s\n",
      "1000:\tlearn: 0.7599685\ttest: 0.7599684\tbest: 0.7599684 (1000)\ttotal: 33.1s\tremaining: 49.5s\n",
      "2000:\tlearn: 0.6145549\ttest: 0.6145549\tbest: 0.6145549 (2000)\ttotal: 1m 6s\tremaining: 16.7s\n",
      "2499:\tlearn: 0.5693798\ttest: 0.5693798\tbest: 0.5693798 (2499)\ttotal: 1m 23s\tremaining: 0us\n",
      "bestTest = 0.5693798298\n",
      "bestIteration = 2499\n"
     ]
    },
    {
     "name": "stderr",
     "output_type": "stream",
     "text": [
      "Warning: less than 75% gpu memory available for training. Free: 537.875 Total: 537.875\n"
     ]
    },
    {
     "name": "stdout",
     "output_type": "stream",
     "text": [
      "0:\tlearn: 2.6225053\ttest: 2.6225051\tbest: 2.6225051 (0)\ttotal: 34.8ms\tremaining: 1m 27s\n",
      "1000:\tlearn: 0.8076914\ttest: 0.8076914\tbest: 0.8076914 (1000)\ttotal: 32s\tremaining: 47.9s\n",
      "2000:\tlearn: 0.6367397\ttest: 0.6367397\tbest: 0.6367397 (2000)\ttotal: 1m 5s\tremaining: 16.3s\n",
      "2499:\tlearn: 0.5821296\ttest: 0.5821296\tbest: 0.5821296 (2499)\ttotal: 1m 21s\tremaining: 0us\n",
      "bestTest = 0.5821295916\n",
      "bestIteration = 2499\n"
     ]
    },
    {
     "name": "stderr",
     "output_type": "stream",
     "text": [
      "Warning: less than 75% gpu memory available for training. Free: 537.875 Total: 537.875\n"
     ]
    },
    {
     "name": "stdout",
     "output_type": "stream",
     "text": [
      "0:\tlearn: 2.6220846\ttest: 2.6220846\tbest: 2.6220846 (0)\ttotal: 34.9ms\tremaining: 1m 27s\n",
      "1000:\tlearn: 0.7953235\ttest: 0.7953235\tbest: 0.7953235 (1000)\ttotal: 32.1s\tremaining: 48s\n",
      "2000:\tlearn: 0.6310623\ttest: 0.6310623\tbest: 0.6310623 (2000)\ttotal: 1m 4s\tremaining: 16.2s\n",
      "2499:\tlearn: 0.5788051\ttest: 0.5788050\tbest: 0.5788050 (2499)\ttotal: 1m 21s\tremaining: 0us\n",
      "bestTest = 0.5788050427\n",
      "bestIteration = 2499\n"
     ]
    },
    {
     "name": "stderr",
     "output_type": "stream",
     "text": [
      "Warning: less than 75% gpu memory available for training. Free: 537.875 Total: 537.875\n"
     ]
    },
    {
     "name": "stdout",
     "output_type": "stream",
     "text": [
      "0:\tlearn: 2.6222519\ttest: 2.6222519\tbest: 2.6222519 (0)\ttotal: 28.5ms\tremaining: 1m 11s\n",
      "1000:\tlearn: 0.8083656\ttest: 0.8083656\tbest: 0.8083656 (1000)\ttotal: 31.7s\tremaining: 47.5s\n",
      "2000:\tlearn: 0.6511447\ttest: 0.6511447\tbest: 0.6511447 (2000)\ttotal: 1m 4s\tremaining: 16.2s\n",
      "2499:\tlearn: 0.5969341\ttest: 0.5969341\tbest: 0.5969341 (2499)\ttotal: 1m 21s\tremaining: 0us\n",
      "bestTest = 0.5969340964\n",
      "bestIteration = 2499\n"
     ]
    },
    {
     "name": "stderr",
     "output_type": "stream",
     "text": [
      "Warning: less than 75% gpu memory available for training. Free: 537.875 Total: 537.875\n"
     ]
    },
    {
     "name": "stdout",
     "output_type": "stream",
     "text": [
      "0:\tlearn: 2.6219014\ttest: 2.6219014\tbest: 2.6219014 (0)\ttotal: 29.5ms\tremaining: 1m 13s\n",
      "1000:\tlearn: 0.8328116\ttest: 0.8328116\tbest: 0.8328116 (1000)\ttotal: 32.2s\tremaining: 48.2s\n",
      "2000:\tlearn: 0.6793663\ttest: 0.6793663\tbest: 0.6793663 (2000)\ttotal: 1m 5s\tremaining: 16.4s\n",
      "2499:\tlearn: 0.6256183\ttest: 0.6256183\tbest: 0.6256183 (2499)\ttotal: 1m 22s\tremaining: 0us\n",
      "bestTest = 0.6256182905\n",
      "bestIteration = 2499\n"
     ]
    },
    {
     "name": "stderr",
     "output_type": "stream",
     "text": [
      "Warning: less than 75% gpu memory available for training. Free: 537.875 Total: 537.875\n"
     ]
    },
    {
     "name": "stdout",
     "output_type": "stream",
     "text": [
      "0:\tlearn: 2.6217075\ttest: 2.6217075\tbest: 2.6217075 (0)\ttotal: 34.1ms\tremaining: 1m 25s\n",
      "1000:\tlearn: 0.8152969\ttest: 0.8152969\tbest: 0.8152969 (1000)\ttotal: 32.8s\tremaining: 49.2s\n",
      "2000:\tlearn: 0.6621598\ttest: 0.6621598\tbest: 0.6621598 (2000)\ttotal: 1m 6s\tremaining: 16.5s\n",
      "2499:\tlearn: 0.6134679\ttest: 0.6134679\tbest: 0.6134679 (2499)\ttotal: 1m 22s\tremaining: 0us\n",
      "bestTest = 0.6134678622\n",
      "bestIteration = 2499\n"
     ]
    }
   ],
   "source": [
    "model_dog, oof_train_dog_0, oof_test_dog_0 = run_lgb(lgb_params, X_train_dog, X_test_dog)\n",
    "model_cat, oof_train_cat_0, oof_test_cat_0 = run_lgb(lgb_params, X_train_cat, X_test_cat)\n",
    "\n",
    "model_dog, oof_train_dog_1, oof_test_dog_1 = run_xgb(xgb_params, X_train_dog, X_test_dog)\n",
    "model_cat, oof_train_cat_1, oof_test_cat_1 = run_xgb(xgb_params, X_train_cat, X_test_cat)\n",
    "\n",
    "model_dog, oof_train_dog_2, oof_test_dog_2 = run_cat(cat_params, X_train_dog, X_test_dog)\n",
    "model_cat, oof_train_cat_2, oof_test_cat_2 = run_cat(cat_params, X_train_cat, X_test_cat)"
   ]
  },
  {
   "cell_type": "code",
   "execution_count": 52,
   "metadata": {
    "_uuid": "8f00036c0bc3db09cba975ee517cf6e909b30809"
   },
   "outputs": [],
   "source": [
    "oof_train_dog_0 = pd.DataFrame(oof_train_dog_0)\n",
    "oof_train_dog_1 = pd.DataFrame(oof_train_dog_1)\n",
    "oof_train_dog_2 = pd.DataFrame(oof_train_dog_2)\n",
    "oof_train_cat_0 = pd.DataFrame(oof_train_cat_0)\n",
    "oof_train_cat_1 = pd.DataFrame(oof_train_cat_1)\n",
    "oof_train_cat_2 = pd.DataFrame(oof_train_cat_2)\n",
    "\n",
    "oof_test_dog_0 = pd.DataFrame(oof_test_dog_0)\n",
    "oof_test_dog_1 = pd.DataFrame(oof_test_dog_1)\n",
    "oof_test_dog_2 = pd.DataFrame(oof_test_dog_2)\n",
    "oof_test_cat_0 = pd.DataFrame(oof_test_cat_0)\n",
    "oof_test_cat_1 = pd.DataFrame(oof_test_cat_1)\n",
    "oof_test_cat_2 = pd.DataFrame(oof_test_cat_2)\n",
    "\n",
    "oof_train_0 = pd.concat([oof_train_dog_0,oof_train_cat_0])\n",
    "oof_train_1 = pd.concat([oof_train_dog_1,oof_train_cat_1])\n",
    "oof_train_2 = pd.concat([oof_train_dog_2,oof_train_cat_2])\n",
    "\n",
    "oof_test_0 = pd.concat([oof_test_dog_0,oof_test_cat_0])\n",
    "oof_test_1 = pd.concat([oof_test_dog_1,oof_test_cat_1])\n",
    "oof_test_2 = pd.concat([oof_test_dog_2,oof_test_cat_2])"
   ]
  },
  {
   "cell_type": "code",
   "execution_count": 53,
   "metadata": {
    "_uuid": "6e1b0b559b56c83fe82e1c32dc0307775014a018"
   },
   "outputs": [
    {
     "data": {
      "text/plain": [
       "array([0.41475546, 0.38147882, 0.2577447 ])"
      ]
     },
     "execution_count": 53,
     "metadata": {},
     "output_type": "execute_result"
    }
   ],
   "source": [
    "from sklearn.linear_model import LinearRegression\n",
    "\n",
    "oof_train1 = np.hstack((oof_train_0, oof_train_1, oof_train_2))\n",
    "\n",
    "y_train_0 = X_train_dog['AdoptionSpeed']\n",
    "y_train_1 = X_train_cat['AdoptionSpeed']\n",
    "y_train1 = pd.concat([X_train_dog,X_train_cat])\n",
    "y_train1 = y_train1['AdoptionSpeed'].values\n",
    "\n",
    "oof_test1 = np.hstack((oof_test_0, oof_test_1, oof_test_2))\n",
    "\n",
    "linear_model = LinearRegression()\n",
    "linear_model.fit(oof_train1, y_train1)\n",
    "oof_train1 = linear_model.predict(oof_train1)\n",
    "oof_test1 = linear_model.predict(oof_test1)\n",
    "\n",
    "linear_model.coef_"
   ]
  },
  {
   "cell_type": "code",
   "execution_count": 54,
   "metadata": {
    "_uuid": "3a4c66ae38369e2bfd9f1248e66bbe05cf101991"
   },
   "outputs": [],
   "source": [
    "#oof_test_dog,cat2 is default values. it is changed in next row.\n",
    "sub_dog = pd.DataFrame({'PetID': test[test['Type'] == 1]['PetID'].values})\n",
    "sub_cat = pd.DataFrame({'PetID': test[test['Type'] == 2]['PetID'].values})\n",
    "\n",
    "test_data1 = pd.concat([sub_dog, sub_cat], ignore_index=True, sort=False)\n",
    "test_data1['predict1'] = oof_test1\n",
    "\n",
    "sub_dog = pd.DataFrame({'PetID': train[train['Type'] == 1]['PetID'].values})\n",
    "sub_cat = pd.DataFrame({'PetID': train[train['Type'] == 2]['PetID'].values})\n",
    "\n",
    "train_data1 = pd.concat([sub_dog, sub_cat], ignore_index=True, sort=False)\n",
    "train_data1['predict1'] = oof_train1"
   ]
  },
  {
   "cell_type": "code",
   "execution_count": 55,
   "metadata": {
    "_uuid": "a1788ce332d14e2bcd09684d00aea809822729a5"
   },
   "outputs": [],
   "source": [
    "train_data2 = pd.merge(train_data0,train_data1,how='left',on='PetID')\n",
    "test_data2 = pd.merge(test_data0,test_data1,how='left',on='PetID')"
   ]
  },
  {
   "cell_type": "code",
   "execution_count": 56,
   "metadata": {
    "_uuid": "cab1e431f8bcc58ede20feebe281fa3e796d6bc2"
   },
   "outputs": [
    {
     "name": "stdout",
     "output_type": "stream",
     "text": [
      "i =  1\n",
      "QWK =  0.4922427710588714\n",
      "i =  0.95\n",
      "QWK =  0.49253041266161224\n",
      "i =  0.9\n",
      "QWK =  0.4935889709882164\n",
      "i =  0.85\n",
      "QWK =  0.4935306583646355\n",
      "i =  0.8\n",
      "QWK =  0.4939128532442213\n",
      "i =  0.75\n",
      "QWK =  0.49516725159362807\n",
      "i =  0.7\n",
      "QWK =  0.4959755368190373\n",
      "i =  0.65\n",
      "QWK =  0.4963340740194796\n",
      "i =  0.6\n",
      "QWK =  0.49592925633723495\n",
      "i =  0.55\n",
      "QWK =  0.4966364565770379\n",
      "i =  0.5\n",
      "QWK =  0.49677761470920767\n",
      "i =  0.45\n",
      "QWK =  0.4957228197647565\n",
      "i =  0.4\n",
      "QWK =  0.49557339487077967\n"
     ]
    }
   ],
   "source": [
    "best_qwk2 = 0\n",
    "best_i = 0\n",
    "for i in [1,0.95,0.90,0.85,0.80,0.75,0.70,0.65,0.60,0.55,0.50,0.45,0.40]:\n",
    "    optR = OptimizedRounder()\n",
    "    oof_train2 = i*train_data2['predict0'].values + (1-i)*train_data2['predict1'].values\n",
    "    oof_test2 = i*test_data2['predict0'].values + (1-i)*test_data2['predict1'].values\n",
    "\n",
    "    optR.fit(oof_train2, y_train0)\n",
    "    coefficients = optR.coefficients()\n",
    "    valid_pred = optR.predict(oof_train2, coefficients)\n",
    "    qwk2 = quadratic_weighted_kappa(y_train0, valid_pred)\n",
    "    test_predictions = optR.predict(oof_test2, coefficients).astype(np.int8)\n",
    "    print(\"i = \", i)\n",
    "    print(\"QWK = \", qwk2)\n",
    "    if best_qwk2 <= qwk2:\n",
    "        best_qwk2 = qwk2\n",
    "        best_i = i"
   ]
  },
  {
   "cell_type": "code",
   "execution_count": 57,
   "metadata": {
    "_uuid": "0d6081d68e6658edbc0fef6b5613fe377ac87f48"
   },
   "outputs": [],
   "source": [
    "optR = OptimizedRounder()\n",
    "oof_train2 = best_i*train_data2['predict0'].values + (1-best_i)*train_data2['predict1'].values\n",
    "oof_test2 = best_i*test_data2['predict0'].values + (1-best_i)*test_data2['predict1'].values\n",
    "\n",
    "optR.fit(oof_train2, y_train0)\n",
    "coefficients = optR.coefficients()\n",
    "valid_pred = optR.predict(oof_train2, coefficients)\n",
    "qwk2 = quadratic_weighted_kappa(y_train0, valid_pred)\n",
    "test_predictions = optR.predict(oof_test2, coefficients).astype(np.int8)"
   ]
  },
  {
   "cell_type": "code",
   "execution_count": 58,
   "metadata": {
    "_uuid": "a676c8fb1dfb89b4c1a97974c3f572d53279fb9f"
   },
   "outputs": [
    {
     "data": {
      "text/html": [
       "<div>\n",
       "<style scoped>\n",
       "    .dataframe tbody tr th:only-of-type {\n",
       "        vertical-align: middle;\n",
       "    }\n",
       "\n",
       "    .dataframe tbody tr th {\n",
       "        vertical-align: top;\n",
       "    }\n",
       "\n",
       "    .dataframe thead th {\n",
       "        text-align: right;\n",
       "    }\n",
       "</style>\n",
       "<table border=\"1\" class=\"dataframe\">\n",
       "  <thead>\n",
       "    <tr style=\"text-align: right;\">\n",
       "      <th></th>\n",
       "      <th>PetID</th>\n",
       "      <th>AdoptionSpeed</th>\n",
       "    </tr>\n",
       "  </thead>\n",
       "  <tbody>\n",
       "    <tr>\n",
       "      <th>0</th>\n",
       "      <td>378fcc4fc</td>\n",
       "      <td>2</td>\n",
       "    </tr>\n",
       "    <tr>\n",
       "      <th>1</th>\n",
       "      <td>73c10e136</td>\n",
       "      <td>4</td>\n",
       "    </tr>\n",
       "    <tr>\n",
       "      <th>2</th>\n",
       "      <td>72000c4c5</td>\n",
       "      <td>3</td>\n",
       "    </tr>\n",
       "    <tr>\n",
       "      <th>3</th>\n",
       "      <td>e147a4b9f</td>\n",
       "      <td>3</td>\n",
       "    </tr>\n",
       "    <tr>\n",
       "      <th>4</th>\n",
       "      <td>43fbba852</td>\n",
       "      <td>3</td>\n",
       "    </tr>\n",
       "  </tbody>\n",
       "</table>\n",
       "</div>"
      ],
      "text/plain": [
       "       PetID  AdoptionSpeed\n",
       "0  378fcc4fc              2\n",
       "1  73c10e136              4\n",
       "2  72000c4c5              3\n",
       "3  e147a4b9f              3\n",
       "4  43fbba852              3"
      ]
     },
     "execution_count": 58,
     "metadata": {},
     "output_type": "execute_result"
    }
   ],
   "source": [
    "submission = pd.DataFrame({'PetID': test['PetID'].values, 'AdoptionSpeed': test_predictions})\n",
    "submission.to_csv('submission.csv', index=False)\n",
    "submission.head()"
   ]
  }
 ],
 "metadata": {
  "kernelspec": {
   "display_name": "Python 3",
   "language": "python",
   "name": "python3"
  },
  "language_info": {
   "codemirror_mode": {
    "name": "ipython",
    "version": 3
   },
   "file_extension": ".py",
   "mimetype": "text/x-python",
   "name": "python",
   "nbconvert_exporter": "python",
   "pygments_lexer": "ipython3",
   "version": "3.6.6"
  }
 },
 "nbformat": 4,
 "nbformat_minor": 1
}
