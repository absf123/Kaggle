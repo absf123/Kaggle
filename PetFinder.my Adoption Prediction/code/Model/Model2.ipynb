{
 "cells": [
  {
   "cell_type": "code",
   "execution_count": 1,
   "metadata": {
    "_cell_guid": "b1076dfc-b9ad-4769-8c92-a6c4dae69d19",
    "_uuid": "8f2839f25d086af736a60e9eeb907d3b93b6e0e5"
   },
   "outputs": [],
   "source": [
    "import gc\n",
    "import glob\n",
    "import os\n",
    "import json\n",
    "import matplotlib.pyplot as plt\n",
    "import seaborn as sns\n",
    "import pprint\n",
    "import warnings\n",
    "\n",
    "import operator\n",
    "from functools import reduce\n",
    "\n",
    "import numpy as np\n",
    "import pandas as pd\n",
    "\n",
    "from sklearn.feature_extraction.text import TfidfVectorizer\n",
    "from sklearn.decomposition import TruncatedSVD\n",
    "from joblib import Parallel, delayed\n",
    "from tqdm import tqdm, tqdm_notebook\n",
    "\n",
    "%matplotlib inline\n",
    "\n",
    "np.random.seed(seed=1337)\n",
    "warnings.filterwarnings('ignore')\n",
    "\n",
    "split_char = '/'"
   ]
  },
  {
   "cell_type": "code",
   "execution_count": 2,
   "metadata": {
    "_cell_guid": "79c7e3d0-c299-4dcb-8224-4455121ee9b0",
    "_uuid": "d629ff2d2480ee46fbb7e2d37f6b5fab8052498a"
   },
   "outputs": [
    {
     "data": {
      "text/plain": [
       "['petfinder-external-data',\n",
       " 'densenet-keras',\n",
       " 'petfinder-adoption-prediction',\n",
       " 'densenet121weights']"
      ]
     },
     "execution_count": 2,
     "metadata": {},
     "output_type": "execute_result"
    }
   ],
   "source": [
    "os.listdir('../input')"
   ]
  },
  {
   "cell_type": "code",
   "execution_count": 3,
   "metadata": {
    "_uuid": "24a6811e5b612c3d2aef6639f577dd10f2564be4"
   },
   "outputs": [],
   "source": [
    "train = pd.read_csv('../input/petfinder-adoption-prediction/train/train.csv')\n",
    "test = pd.read_csv('../input/petfinder-adoption-prediction/test/test.csv')\n",
    "sample_submission = pd.read_csv('../input/petfinder-adoption-prediction/test/sample_submission.csv')"
   ]
  },
  {
   "cell_type": "code",
   "execution_count": 4,
   "metadata": {},
   "outputs": [],
   "source": [
    "y_train = train['AdoptionSpeed'].values\n",
    "group = train['RescuerID'].values"
   ]
  },
  {
   "cell_type": "markdown",
   "metadata": {
    "_uuid": "052af9faacdccaa34191d06da2f13f73417dd628"
   },
   "source": [
    "## Image features"
   ]
  },
  {
   "cell_type": "code",
   "execution_count": 5,
   "metadata": {
    "_uuid": "af167755c88bb47c01b01982b71391bc39238d6d"
   },
   "outputs": [
    {
     "name": "stderr",
     "output_type": "stream",
     "text": [
      "Using TensorFlow backend.\n"
     ]
    }
   ],
   "source": [
    "import cv2\n",
    "import os\n",
    "from keras.applications.densenet import preprocess_input, DenseNet121"
   ]
  },
  {
   "cell_type": "code",
   "execution_count": 6,
   "metadata": {
    "_uuid": "71def76c69445cd7d42cb8450483220e63438dee"
   },
   "outputs": [],
   "source": [
    "def resize_to_square(im):\n",
    "    old_size = im.shape[:2]\n",
    "    ratio = float(img_size)/max(old_size)\n",
    "    new_size = tuple([int(x*ratio) for x in old_size])\n",
    "    im = cv2.resize(im, (new_size[1], new_size[0]))\n",
    "    delta_w = img_size - new_size[1]\n",
    "    delta_h = img_size - new_size[0]\n",
    "    top, bottom = delta_h//2, delta_h-(delta_h//2)\n",
    "    left, right = delta_w//2, delta_w-(delta_w//2)\n",
    "    color = [0, 0, 0]\n",
    "    new_im = cv2.copyMakeBorder(im, top, bottom, left, right, cv2.BORDER_CONSTANT,value=color)\n",
    "    return new_im\n",
    "\n",
    "def load_image(path, pet_id):\n",
    "    image = cv2.imread(f'{path}{pet_id}-1.jpg')\n",
    "    new_image = resize_to_square(image)\n",
    "    new_image = preprocess_input(new_image)\n",
    "    return new_image"
   ]
  },
  {
   "cell_type": "code",
   "execution_count": 7,
   "metadata": {
    "_uuid": "8505c12860cf4a4ca4f74a04b9fe0c8db8b2222e"
   },
   "outputs": [],
   "source": [
    "img_size = 256\n",
    "batch_size = 256"
   ]
  },
  {
   "cell_type": "code",
   "execution_count": 8,
   "metadata": {
    "_uuid": "73b44c6c68421de8fb39f91342660c57e6ef4c2c"
   },
   "outputs": [
    {
     "name": "stdout",
     "output_type": "stream",
     "text": [
      "WARNING:tensorflow:From /opt/conda/lib/python3.6/site-packages/tensorflow/python/framework/op_def_library.py:263: colocate_with (from tensorflow.python.framework.ops) is deprecated and will be removed in a future version.\n",
      "Instructions for updating:\n",
      "Colocations handled automatically by placer.\n"
     ]
    }
   ],
   "source": [
    "from keras.models import Model\n",
    "from keras.layers import GlobalAveragePooling2D, Input, Lambda, AveragePooling1D\n",
    "import keras.backend as K\n",
    "inp = Input((256,256,3))\n",
    "backbone = DenseNet121(input_tensor = inp, \n",
    "                       weights=\"../input/densenet-keras/DenseNet-BC-121-32-no-top.h5\",\n",
    "                       include_top = False)\n",
    "x = backbone.output\n",
    "x = GlobalAveragePooling2D()(x)\n",
    "x = Lambda(lambda x: K.expand_dims(x,axis = -1))(x)\n",
    "x = AveragePooling1D(4)(x)\n",
    "out = Lambda(lambda x: x[:,:,0])(x)\n",
    "\n",
    "m = Model(inp,out)"
   ]
  },
  {
   "cell_type": "code",
   "execution_count": 9,
   "metadata": {
    "_uuid": "d4163367a508d90961c9ba19b96be82217cd7686"
   },
   "outputs": [
    {
     "name": "stderr",
     "output_type": "stream",
     "text": [
      "100%|██████████| 59/59 [02:14<00:00,  2.03s/it]\n"
     ]
    }
   ],
   "source": [
    "pet_ids = train['PetID'].values\n",
    "n_batches = len(pet_ids) // batch_size + 1\n",
    "\n",
    "features = {}\n",
    "for b in tqdm(range(n_batches)):\n",
    "    start = b*batch_size\n",
    "    end = (b+1)*batch_size\n",
    "    batch_pets = pet_ids[start:end]\n",
    "    batch_images = np.zeros((len(batch_pets),img_size,img_size,3))\n",
    "    for i,pet_id in enumerate(batch_pets):\n",
    "        try:\n",
    "            batch_images[i] = load_image(\"../input/petfinder-adoption-prediction/train_images/\", pet_id)\n",
    "        except:\n",
    "            pass\n",
    "    batch_preds = m.predict(batch_images)\n",
    "    for i,pet_id in enumerate(batch_pets):\n",
    "        features[pet_id] = batch_preds[i]"
   ]
  },
  {
   "cell_type": "code",
   "execution_count": 10,
   "metadata": {
    "_uuid": "fed0e12d69d7c43beb2de2af9c177165398b23a1"
   },
   "outputs": [],
   "source": [
    "train_feats = pd.DataFrame.from_dict(features, orient='index')\n",
    "train_feats.columns = [f'pic_{i}' for i in range(train_feats.shape[1])]"
   ]
  },
  {
   "cell_type": "code",
   "execution_count": 11,
   "metadata": {
    "_uuid": "8b0400ec76abaee7258adc6c6f5ac6c38294571f"
   },
   "outputs": [
    {
     "name": "stderr",
     "output_type": "stream",
     "text": [
      "100%|██████████| 16/16 [00:33<00:00,  1.86s/it]\n"
     ]
    }
   ],
   "source": [
    "pet_ids = test['PetID'].values\n",
    "n_batches = len(pet_ids) // batch_size + 1\n",
    "\n",
    "features = {}\n",
    "for b in tqdm(range(n_batches)):\n",
    "    start = b*batch_size\n",
    "    end = (b+1)*batch_size\n",
    "    batch_pets = pet_ids[start:end]\n",
    "    batch_images = np.zeros((len(batch_pets),img_size,img_size,3))\n",
    "    for i,pet_id in enumerate(batch_pets):\n",
    "        try:\n",
    "            batch_images[i] = load_image(\"../input/petfinder-adoption-prediction/test_images/\", pet_id)\n",
    "        except:\n",
    "            pass\n",
    "    batch_preds = m.predict(batch_images)\n",
    "    for i,pet_id in enumerate(batch_pets):\n",
    "        features[pet_id] = batch_preds[i]"
   ]
  },
  {
   "cell_type": "code",
   "execution_count": 12,
   "metadata": {
    "_uuid": "002477addeb74f3eda0ac6f0f52cea7450176417"
   },
   "outputs": [],
   "source": [
    "test_feats = pd.DataFrame.from_dict(features, orient='index')\n",
    "test_feats.columns = [f'pic_{i}' for i in range(test_feats.shape[1])]"
   ]
  },
  {
   "cell_type": "code",
   "execution_count": 13,
   "metadata": {
    "_uuid": "6f013e7e34e3f95519750f1c6fdb88bca9fa5058"
   },
   "outputs": [],
   "source": [
    "train_feats = train_feats.reset_index()\n",
    "train_feats.rename({'index': 'PetID'}, axis='columns', inplace=True)\n",
    "\n",
    "test_feats = test_feats.reset_index()\n",
    "test_feats.rename({'index': 'PetID'}, axis='columns', inplace=True)"
   ]
  },
  {
   "cell_type": "code",
   "execution_count": 14,
   "metadata": {
    "_uuid": "5e122ef29bc118e58bdeb9a577150f9369c0598a"
   },
   "outputs": [
    {
     "data": {
      "text/plain": [
       "(18941, 1)"
      ]
     },
     "execution_count": 14,
     "metadata": {},
     "output_type": "execute_result"
    }
   ],
   "source": [
    "all_ids = pd.concat([train, test], axis=0, ignore_index=True, sort=False)[['PetID']]\n",
    "all_ids.shape"
   ]
  },
  {
   "cell_type": "code",
   "execution_count": 15,
   "metadata": {
    "_uuid": "f11923a7e2fb6078d8b36b8cc8a2432d94130710"
   },
   "outputs": [],
   "source": [
    "n_components = 24\n",
    "svd_ = TruncatedSVD(n_components=n_components, random_state=1337)\n",
    "\n",
    "features_df = pd.concat([train_feats, test_feats], axis=0)\n",
    "features = features_df[[f'pic_{i}' for i in range(256)]].values\n",
    "\n",
    "svd_col = svd_.fit_transform(features)\n",
    "svd_col = pd.DataFrame(svd_col)\n",
    "svd_col = svd_col.add_prefix('IMG_SVD_')\n",
    "\n",
    "img_features = pd.concat([all_ids, svd_col], axis=1)"
   ]
  },
  {
   "cell_type": "code",
   "execution_count": 16,
   "metadata": {
    "_uuid": "070cd682e0b0359bef515de88eb550aea7fd63fc"
   },
   "outputs": [],
   "source": [
    "img_features_ensemble = img_features.copy()"
   ]
  },
  {
   "cell_type": "markdown",
   "metadata": {
    "_uuid": "a0826a13e23571c6685c568d4f99b3fa5512282a"
   },
   "source": [
    "## About metadata and sentiment"
   ]
  },
  {
   "cell_type": "code",
   "execution_count": 17,
   "metadata": {
    "_uuid": "4f9b7e7448cf529274068977bb309435ab605889"
   },
   "outputs": [],
   "source": [
    "labels_breed = pd.read_csv('../input/petfinder-adoption-prediction/breed_labels.csv')\n",
    "labels_state = pd.read_csv('../input/petfinder-adoption-prediction/color_labels.csv')\n",
    "labels_color = pd.read_csv('../input/petfinder-adoption-prediction/state_labels.csv')"
   ]
  },
  {
   "cell_type": "code",
   "execution_count": 18,
   "metadata": {
    "_uuid": "c3399c9ff73a9dd37cecb657cc26e90b934f67df"
   },
   "outputs": [
    {
     "name": "stdout",
     "output_type": "stream",
     "text": [
      "num of train images files: 58311\n",
      "num of train metadata files: 58311\n",
      "num of train sentiment files: 14442\n",
      "num of test images files: 15040\n",
      "num of test metadata files: 15040\n",
      "num of test sentiment files: 3815\n"
     ]
    }
   ],
   "source": [
    "train_image_files = sorted(glob.glob('../input/petfinder-adoption-prediction/train_images/*.jpg'))\n",
    "train_metadata_files = sorted(glob.glob('../input/petfinder-adoption-prediction/train_metadata/*.json'))\n",
    "train_sentiment_files = sorted(glob.glob('../input/petfinder-adoption-prediction/train_sentiment/*.json'))\n",
    "\n",
    "print(f'num of train images files: {len(train_image_files)}')\n",
    "print(f'num of train metadata files: {len(train_metadata_files)}')\n",
    "print(f'num of train sentiment files: {len(train_sentiment_files)}')\n",
    "\n",
    "\n",
    "test_image_files = sorted(glob.glob('../input/petfinder-adoption-prediction/test_images/*.jpg'))\n",
    "test_metadata_files = sorted(glob.glob('../input/petfinder-adoption-prediction/test_metadata/*.json'))\n",
    "test_sentiment_files = sorted(glob.glob('../input/petfinder-adoption-prediction/test_sentiment/*.json'))\n",
    "\n",
    "print(f'num of test images files: {len(test_image_files)}')\n",
    "print(f'num of test metadata files: {len(test_metadata_files)}')\n",
    "print(f'num of test sentiment files: {len(test_sentiment_files)}')"
   ]
  },
  {
   "cell_type": "markdown",
   "metadata": {
    "_uuid": "5a74b43503752f801202ba62495d47836f8704c9"
   },
   "source": [
    "### Train"
   ]
  },
  {
   "cell_type": "code",
   "execution_count": 19,
   "metadata": {
    "_uuid": "bc13e1b9227cc808bcba7204e7fd499c597b1796"
   },
   "outputs": [
    {
     "name": "stdout",
     "output_type": "stream",
     "text": [
      "(14993, 1)\n",
      "14652\n",
      "fraction of pets with metadata: 0.977\n",
      "14442\n",
      "fraction of pets with sentiment: 0.963\n"
     ]
    }
   ],
   "source": [
    "# Images:\n",
    "train_df_ids = train[['PetID']]\n",
    "print(train_df_ids.shape)\n",
    "\n",
    "# Metadata:\n",
    "train_df_ids = train[['PetID']]\n",
    "train_df_metadata = pd.DataFrame(train_metadata_files)\n",
    "train_df_metadata.columns = ['metadata_filename']\n",
    "train_metadata_pets = train_df_metadata['metadata_filename'].apply(lambda x: x.split(split_char)[-1].split('-')[0])\n",
    "train_df_metadata = train_df_metadata.assign(PetID=train_metadata_pets)\n",
    "print(len(train_metadata_pets.unique()))\n",
    "\n",
    "pets_with_metadatas = len(np.intersect1d(train_metadata_pets.unique(), train_df_ids['PetID'].unique()))\n",
    "print(f'fraction of pets with metadata: {pets_with_metadatas / train_df_ids.shape[0]:.3f}')\n",
    "\n",
    "# Sentiment:\n",
    "train_df_ids = train[['PetID']]\n",
    "train_df_sentiment = pd.DataFrame(train_sentiment_files)\n",
    "train_df_sentiment.columns = ['sentiment_filename']\n",
    "train_sentiment_pets = train_df_sentiment['sentiment_filename'].apply(lambda x: x.split(split_char)[-1].split('.')[0])\n",
    "train_df_sentiment = train_df_sentiment.assign(PetID=train_sentiment_pets)\n",
    "print(len(train_sentiment_pets.unique()))\n",
    "\n",
    "pets_with_sentiments = len(np.intersect1d(train_sentiment_pets.unique(), train_df_ids['PetID'].unique()))\n",
    "print(f'fraction of pets with sentiment: {pets_with_sentiments / train_df_ids.shape[0]:.3f}')"
   ]
  },
  {
   "cell_type": "markdown",
   "metadata": {
    "_uuid": "828ef0c92408c1b67a0f3c80efe608792a43837d"
   },
   "source": [
    "### Test"
   ]
  },
  {
   "cell_type": "code",
   "execution_count": 20,
   "metadata": {
    "_uuid": "514c3f5a3d8bf6b396425d1693f5491e874f4cc0"
   },
   "outputs": [
    {
     "name": "stdout",
     "output_type": "stream",
     "text": [
      "(3948, 1)\n",
      "3821\n",
      "fraction of pets with metadata: 0.968\n",
      "3815\n",
      "fraction of pets with sentiment: 0.966\n"
     ]
    }
   ],
   "source": [
    "# Images:\n",
    "test_df_ids = test[['PetID']]\n",
    "print(test_df_ids.shape)\n",
    "\n",
    "# Metadata:\n",
    "test_df_metadata = pd.DataFrame(test_metadata_files)\n",
    "test_df_metadata.columns = ['metadata_filename']\n",
    "test_metadata_pets = test_df_metadata['metadata_filename'].apply(lambda x: x.split(split_char)[-1].split('-')[0])\n",
    "test_df_metadata = test_df_metadata.assign(PetID=test_metadata_pets)\n",
    "print(len(test_metadata_pets.unique()))\n",
    "\n",
    "pets_with_metadatas = len(np.intersect1d(test_metadata_pets.unique(), test_df_ids['PetID'].unique()))\n",
    "print(f'fraction of pets with metadata: {pets_with_metadatas / test_df_ids.shape[0]:.3f}')\n",
    "\n",
    "# Sentiment:\n",
    "test_df_sentiment = pd.DataFrame(test_sentiment_files)\n",
    "test_df_sentiment.columns = ['sentiment_filename']\n",
    "test_sentiment_pets = test_df_sentiment['sentiment_filename'].apply(lambda x: x.split(split_char)[-1].split('.')[0])\n",
    "test_df_sentiment = test_df_sentiment.assign(PetID=test_sentiment_pets)\n",
    "print(len(test_sentiment_pets.unique()))\n",
    "\n",
    "pets_with_sentiments = len(np.intersect1d(test_sentiment_pets.unique(), test_df_ids['PetID'].unique()))\n",
    "print(f'fraction of pets with sentiment: {pets_with_sentiments / test_df_ids.shape[0]:.3f}')"
   ]
  },
  {
   "cell_type": "markdown",
   "metadata": {
    "_uuid": "d643202fbad8b9d04409c296148ae533eba2235e"
   },
   "source": [
    "## Extract features from json"
   ]
  },
  {
   "cell_type": "code",
   "execution_count": 21,
   "metadata": {
    "_uuid": "f2c3c16c681f5729dd737659346dc1ece81f1490"
   },
   "outputs": [],
   "source": [
    "class PetFinderParser(object):\n",
    "    \n",
    "    def __init__(self, debug=False):\n",
    "        \n",
    "        self.debug = debug\n",
    "        self.sentence_sep = ' '\n",
    "        \n",
    "        self.extract_sentiment_text = False\n",
    "    \n",
    "    def open_json_file(self, filename):\n",
    "        with open(filename, 'r', encoding='utf-8') as f:\n",
    "            json_file = json.load(f)\n",
    "        return json_file\n",
    "        \n",
    "    def parse_sentiment_file(self, file):\n",
    "        \"\"\"\n",
    "        Parse sentiment file. Output DF with sentiment features.\n",
    "        \"\"\"\n",
    "        \n",
    "        file_sentiment = file['documentSentiment']\n",
    "        file_entities = [x['name'] for x in file['entities']]\n",
    "        file_entities = self.sentence_sep.join(file_entities)\n",
    "        \n",
    "        file_sentences_sentiment = [x['sentiment'] for x in file['sentences']]\n",
    "        \n",
    "        file_sentences_sentiment = pd.DataFrame.from_dict(\n",
    "            file_sentences_sentiment, orient='columns')\n",
    "        file_sentences_sentiment_df = pd.DataFrame(\n",
    "            {\n",
    "                'magnitude_sum': file_sentences_sentiment['magnitude'].sum(axis=0),\n",
    "                'score_sum': file_sentences_sentiment['score'].sum(axis=0),\n",
    "                'magnitude_mean': file_sentences_sentiment['magnitude'].mean(axis=0),\n",
    "                'score_mean': file_sentences_sentiment['score'].mean(axis=0),\n",
    "                'magnitude_var': file_sentences_sentiment['magnitude'].var(axis=0),\n",
    "                'score_var': file_sentences_sentiment['score'].var(axis=0),\n",
    "            }, index=[0]\n",
    "        )\n",
    "        \n",
    "        df_sentiment = pd.DataFrame.from_dict(file_sentiment, orient='index').T\n",
    "        df_sentiment = pd.concat([df_sentiment, file_sentences_sentiment_df], axis=1)\n",
    "            \n",
    "        df_sentiment['entities'] = file_entities\n",
    "        df_sentiment = df_sentiment.add_prefix('sentiment_')\n",
    "        \n",
    "        return df_sentiment\n",
    "    \n",
    "    def extract_area_from_vertices(self, vertices):\n",
    "        coordinates = {'x': set(), 'y': set()}\n",
    "        for vertex in vertices:\n",
    "            coordinates['x'].add(vertex.get('x', 0))\n",
    "            coordinates['y'].add(vertex.get('y', 0))\n",
    "        edge_len = [abs(np.diff(list(value))[0]) for value in coordinates.values()]\n",
    "        return reduce(operator.mul, edge_len)\n",
    "    \n",
    "    def parse_metadata_file(self, file):\n",
    "        \"\"\"\n",
    "        Parse metadata file. Output DF with metadata features.\n",
    "        \"\"\"\n",
    "        \n",
    "        file_keys = list(file.keys())\n",
    "        \n",
    "        if 'labelAnnotations' in file_keys:\n",
    "            file_annots = file['labelAnnotations']\n",
    "            file_top_score = np.asarray([x['score'] for x in file_annots]).mean()\n",
    "            file_top_desc = [x['description'] for x in file_annots]\n",
    "        else:\n",
    "            file_top_score = np.nan\n",
    "            file_top_desc = ['']\n",
    "        \n",
    "        file_colors = file['imagePropertiesAnnotation']['dominantColors']['colors']\n",
    "        file_crops = file['cropHintsAnnotation']['cropHints']\n",
    "\n",
    "        file_color_score = np.asarray([x['score'] for x in file_colors]).mean()\n",
    "        file_color_pixelfrac = np.asarray([x['pixelFraction'] for x in file_colors]).mean()\n",
    "\n",
    "        file_crop_conf = np.asarray([x['confidence'] for x in file_crops])\n",
    "        \n",
    "        if 'boundingPoly' in file_crops[0].keys() and 'vertices' in file_crops[0]['boundingPoly'].keys():\n",
    "            file_crop_area = np.asarray([\n",
    "                self.extract_area_from_vertices(x['boundingPoly']['vertices']) for x in file_crops\n",
    "            ])\n",
    "        else:\n",
    "            file_crop_area = np.nan\n",
    "        \n",
    "        if 'importanceFraction' in file_crops[0].keys():\n",
    "            file_crop_importance = np.asarray([x['importanceFraction'] for x in file_crops])\n",
    "        else:\n",
    "            file_crop_importance = np.nan\n",
    "\n",
    "        df_metadata = {\n",
    "            'annots_score': file_top_score,\n",
    "            'color_score': file_color_score,\n",
    "            'color_pixelfrac': file_color_pixelfrac,\n",
    "            'crop_area': file_crop_area.mean(),\n",
    "            'crop_area_conf': (file_crop_area * file_crop_conf).mean(),\n",
    "            'crop_area_importance': (file_crop_area * file_crop_importance).mean(),\n",
    "            'annots_top_desc': self.sentence_sep.join(file_top_desc)\n",
    "        }\n",
    "        \n",
    "        df_metadata = pd.DataFrame.from_dict(df_metadata, orient='index').T\n",
    "        df_metadata = df_metadata.add_prefix('metadata_')\n",
    "        \n",
    "        return df_metadata\n",
    "    \n",
    "\n",
    "def extract_additional_features(pet_id, mode='train'):\n",
    "    \n",
    "    sentiment_filename = f'../input/petfinder-adoption-prediction/{mode}_sentiment/{pet_id}.json'\n",
    "    try:\n",
    "        sentiment_file = pet_parser.open_json_file(sentiment_filename)\n",
    "        df_sentiment = pet_parser.parse_sentiment_file(sentiment_file)\n",
    "        df_sentiment['PetID'] = pet_id\n",
    "    except FileNotFoundError:\n",
    "        df_sentiment = []\n",
    "\n",
    "    dfs_metadata = []\n",
    "    metadata_filenames = sorted(glob.glob(f'../input/petfinder-adoption-prediction/{mode}_metadata/{pet_id}*.json'))\n",
    "    if len(metadata_filenames) > 0:\n",
    "        for f in metadata_filenames:\n",
    "            metadata_file = pet_parser.open_json_file(f)\n",
    "            df_metadata = pet_parser.parse_metadata_file(metadata_file)\n",
    "            df_metadata['PetID'] = pet_id\n",
    "            dfs_metadata.append(df_metadata)\n",
    "        dfs_metadata = pd.concat(dfs_metadata, ignore_index=True, sort=False)\n",
    "    dfs = [df_sentiment, dfs_metadata]\n",
    "    \n",
    "    return dfs\n",
    "\n",
    "\n",
    "pet_parser = PetFinderParser()"
   ]
  },
  {
   "cell_type": "code",
   "execution_count": 22,
   "metadata": {
    "_uuid": "787925a3ae3ab2f91189729d177d57ffc938b74a"
   },
   "outputs": [
    {
     "name": "stderr",
     "output_type": "stream",
     "text": [
      "[Parallel(n_jobs=-1)]: Using backend LokyBackend with 2 concurrent workers.\n",
      "[Parallel(n_jobs=-1)]: Done  46 tasks      | elapsed:    8.7s\n",
      "[Parallel(n_jobs=-1)]: Done 196 tasks      | elapsed:   20.2s\n",
      "[Parallel(n_jobs=-1)]: Done 446 tasks      | elapsed:   39.2s\n",
      "[Parallel(n_jobs=-1)]: Done 796 tasks      | elapsed:  1.1min\n",
      "[Parallel(n_jobs=-1)]: Done 1246 tasks      | elapsed:  1.6min\n",
      "[Parallel(n_jobs=-1)]: Done 1796 tasks      | elapsed:  2.3min\n",
      "[Parallel(n_jobs=-1)]: Done 2446 tasks      | elapsed:  3.0min\n",
      "[Parallel(n_jobs=-1)]: Done 3196 tasks      | elapsed:  3.9min\n",
      "[Parallel(n_jobs=-1)]: Done 4046 tasks      | elapsed:  4.9min\n",
      "[Parallel(n_jobs=-1)]: Done 4996 tasks      | elapsed:  6.0min\n",
      "[Parallel(n_jobs=-1)]: Done 6046 tasks      | elapsed:  7.2min\n",
      "[Parallel(n_jobs=-1)]: Done 7196 tasks      | elapsed:  8.5min\n",
      "[Parallel(n_jobs=-1)]: Done 8446 tasks      | elapsed:  9.9min\n",
      "[Parallel(n_jobs=-1)]: Done 9796 tasks      | elapsed: 11.4min\n",
      "[Parallel(n_jobs=-1)]: Done 11246 tasks      | elapsed: 13.0min\n",
      "[Parallel(n_jobs=-1)]: Done 12796 tasks      | elapsed: 14.7min\n",
      "[Parallel(n_jobs=-1)]: Done 14446 tasks      | elapsed: 16.5min\n",
      "[Parallel(n_jobs=-1)]: Done 14993 out of 14993 | elapsed: 17.1min finished\n"
     ]
    },
    {
     "name": "stdout",
     "output_type": "stream",
     "text": [
      "(14442, 10) (58311, 8)\n"
     ]
    },
    {
     "name": "stderr",
     "output_type": "stream",
     "text": [
      "[Parallel(n_jobs=-1)]: Using backend LokyBackend with 2 concurrent workers.\n",
      "[Parallel(n_jobs=-1)]: Done 324 tasks      | elapsed:    7.6s\n",
      "[Parallel(n_jobs=-1)]: Done 1524 tasks      | elapsed:   37.1s\n",
      "[Parallel(n_jobs=-1)]: Done 3524 tasks      | elapsed:  1.4min\n",
      "[Parallel(n_jobs=-1)]: Done 3948 out of 3948 | elapsed:  1.6min finished\n"
     ]
    },
    {
     "name": "stdout",
     "output_type": "stream",
     "text": [
      "(3815, 10) (15040, 8)\n"
     ]
    }
   ],
   "source": [
    "debug = False\n",
    "train_pet_ids = train.PetID.unique()\n",
    "test_pet_ids = test.PetID.unique()\n",
    "\n",
    "if debug:\n",
    "    train_pet_ids = train_pet_ids[:1000]\n",
    "    test_pet_ids = test_pet_ids[:500]\n",
    "\n",
    "\n",
    "dfs_train = Parallel(n_jobs=-1, verbose=1)(\n",
    "    delayed(extract_additional_features)(i, mode='train') for i in train_pet_ids)\n",
    "\n",
    "train_dfs_sentiment = [x[0] for x in dfs_train if isinstance(x[0], pd.DataFrame)]\n",
    "train_dfs_metadata = [x[1] for x in dfs_train if isinstance(x[1], pd.DataFrame)]\n",
    "\n",
    "train_dfs_sentiment = pd.concat(train_dfs_sentiment, ignore_index=True, sort=False)\n",
    "train_dfs_metadata = pd.concat(train_dfs_metadata, ignore_index=True, sort=False)\n",
    "\n",
    "print(train_dfs_sentiment.shape, train_dfs_metadata.shape)\n",
    "\n",
    "\n",
    "dfs_test = Parallel(n_jobs=-1, verbose=1)(\n",
    "    delayed(extract_additional_features)(i, mode='test') for i in test_pet_ids)\n",
    "\n",
    "test_dfs_sentiment = [x[0] for x in dfs_test if isinstance(x[0], pd.DataFrame)]\n",
    "test_dfs_metadata = [x[1] for x in dfs_test if isinstance(x[1], pd.DataFrame)]\n",
    "\n",
    "test_dfs_sentiment = pd.concat(test_dfs_sentiment, ignore_index=True, sort=False)\n",
    "test_dfs_metadata = pd.concat(test_dfs_metadata, ignore_index=True, sort=False)\n",
    "\n",
    "print(test_dfs_sentiment.shape, test_dfs_metadata.shape)"
   ]
  },
  {
   "cell_type": "markdown",
   "metadata": {
    "_uuid": "60d0a0df563b4fabd29a96159492eb69d5854b94"
   },
   "source": [
    "### group extracted features by PetID:"
   ]
  },
  {
   "cell_type": "code",
   "execution_count": 23,
   "metadata": {
    "_uuid": "6fcf1858f550d128ff076ed1d3c32efb9810ef23"
   },
   "outputs": [],
   "source": [
    "aggregates = ['sum', 'mean', 'var']\n",
    "sent_agg = ['sum']\n",
    "\n",
    "\n",
    "# Train\n",
    "train_metadata_desc = train_dfs_metadata.groupby(['PetID'])['metadata_annots_top_desc'].unique()\n",
    "train_metadata_desc = train_metadata_desc.reset_index()\n",
    "train_metadata_desc[\n",
    "    'metadata_annots_top_desc'] = train_metadata_desc[\n",
    "    'metadata_annots_top_desc'].apply(lambda x: ' '.join(x))\n",
    "\n",
    "prefix = 'metadata'\n",
    "train_metadata_gr = train_dfs_metadata.drop(['metadata_annots_top_desc'], axis=1)\n",
    "for i in train_metadata_gr.columns:\n",
    "    if 'PetID' not in i:\n",
    "        train_metadata_gr[i] = train_metadata_gr[i].astype(float)\n",
    "train_metadata_gr = train_metadata_gr.groupby(['PetID']).agg(aggregates)\n",
    "train_metadata_gr.columns = pd.Index([f'{c[0]}_{c[1].upper()}' for c in train_metadata_gr.columns.tolist()])\n",
    "train_metadata_gr = train_metadata_gr.reset_index()\n",
    "\n",
    "\n",
    "train_sentiment_desc = train_dfs_sentiment.groupby(['PetID'])['sentiment_entities'].unique()\n",
    "train_sentiment_desc = train_sentiment_desc.reset_index()\n",
    "train_sentiment_desc[\n",
    "    'sentiment_entities'] = train_sentiment_desc[\n",
    "    'sentiment_entities'].apply(lambda x: ' '.join(x))\n",
    "\n",
    "prefix = 'sentiment'\n",
    "train_sentiment_gr = train_dfs_sentiment.drop(['sentiment_entities'], axis=1)\n",
    "for i in train_sentiment_gr.columns:\n",
    "    if 'PetID' not in i:\n",
    "        train_sentiment_gr[i] = train_sentiment_gr[i].astype(float)\n",
    "train_sentiment_gr = train_sentiment_gr.groupby(['PetID']).agg(sent_agg)\n",
    "train_sentiment_gr.columns = pd.Index([f'{c[0]}' for c in train_sentiment_gr.columns.tolist()])\n",
    "train_sentiment_gr = train_sentiment_gr.reset_index()\n",
    "\n",
    "\n",
    "# Test\n",
    "test_metadata_desc = test_dfs_metadata.groupby(['PetID'])['metadata_annots_top_desc'].unique()\n",
    "test_metadata_desc = test_metadata_desc.reset_index()\n",
    "test_metadata_desc[\n",
    "    'metadata_annots_top_desc'] = test_metadata_desc[\n",
    "    'metadata_annots_top_desc'].apply(lambda x: ' '.join(x))\n",
    "\n",
    "prefix = 'metadata'\n",
    "test_metadata_gr = test_dfs_metadata.drop(['metadata_annots_top_desc'], axis=1)\n",
    "for i in test_metadata_gr.columns:\n",
    "    if 'PetID' not in i:\n",
    "        test_metadata_gr[i] = test_metadata_gr[i].astype(float)\n",
    "test_metadata_gr = test_metadata_gr.groupby(['PetID']).agg(aggregates)\n",
    "test_metadata_gr.columns = pd.Index([f'{c[0]}_{c[1].upper()}' for c in test_metadata_gr.columns.tolist()])\n",
    "test_metadata_gr = test_metadata_gr.reset_index()\n",
    "\n",
    "\n",
    "test_sentiment_desc = test_dfs_sentiment.groupby(['PetID'])['sentiment_entities'].unique()\n",
    "test_sentiment_desc = test_sentiment_desc.reset_index()\n",
    "test_sentiment_desc[\n",
    "    'sentiment_entities'] = test_sentiment_desc[\n",
    "    'sentiment_entities'].apply(lambda x: ' '.join(x))\n",
    "\n",
    "prefix = 'sentiment'\n",
    "test_sentiment_gr = test_dfs_sentiment.drop(['sentiment_entities'], axis=1)\n",
    "for i in test_sentiment_gr.columns:\n",
    "    if 'PetID' not in i:\n",
    "        test_sentiment_gr[i] = test_sentiment_gr[i].astype(float)\n",
    "test_sentiment_gr = test_sentiment_gr.groupby(['PetID']).agg(sent_agg)\n",
    "test_sentiment_gr.columns = pd.Index([f'{c[0]}' for c in test_sentiment_gr.columns.tolist()])\n",
    "test_sentiment_gr = test_sentiment_gr.reset_index()"
   ]
  },
  {
   "cell_type": "markdown",
   "metadata": {
    "_uuid": "0e4fa08ae5c47926cffb2202fc4fe5ba83a088cc"
   },
   "source": [
    "### merge processed DFs with base train/test DF:"
   ]
  },
  {
   "cell_type": "code",
   "execution_count": 24,
   "metadata": {
    "_uuid": "adba560254a6221ac0ca717581a748f984d1b9f7"
   },
   "outputs": [
    {
     "name": "stdout",
     "output_type": "stream",
     "text": [
      "(14993, 52) (3948, 51)\n"
     ]
    }
   ],
   "source": [
    "# Train merges:\n",
    "train_proc = train.copy()\n",
    "train_proc = train_proc.merge(\n",
    "    train_sentiment_gr, how='left', on='PetID')\n",
    "train_proc = train_proc.merge(\n",
    "    train_metadata_gr, how='left', on='PetID')\n",
    "train_proc = train_proc.merge(\n",
    "    train_metadata_desc, how='left', on='PetID')\n",
    "train_proc = train_proc.merge(\n",
    "    train_sentiment_desc, how='left', on='PetID')\n",
    "\n",
    "# Test merges:\n",
    "test_proc = test.copy()\n",
    "test_proc = test_proc.merge(\n",
    "    test_sentiment_gr, how='left', on='PetID')\n",
    "test_proc = test_proc.merge(\n",
    "    test_metadata_gr, how='left', on='PetID')\n",
    "test_proc = test_proc.merge(\n",
    "    test_metadata_desc, how='left', on='PetID')\n",
    "test_proc = test_proc.merge(\n",
    "    test_sentiment_desc, how='left', on='PetID')\n",
    "\n",
    "print(train_proc.shape, test_proc.shape)\n",
    "assert train_proc.shape[0] == train.shape[0]\n",
    "assert test_proc.shape[0] == test.shape[0]"
   ]
  },
  {
   "cell_type": "code",
   "execution_count": 25,
   "metadata": {
    "_uuid": "f379a8eafbba1bdeae37d6e7fbf8ce271fdccf65"
   },
   "outputs": [
    {
     "name": "stdout",
     "output_type": "stream",
     "text": [
      "(14993, 56) (3948, 55)\n"
     ]
    }
   ],
   "source": [
    "train_breed_main = train_proc[['Breed1']].merge(\n",
    "    labels_breed, how='left',\n",
    "    left_on='Breed1', right_on='BreedID',\n",
    "    suffixes=('', '_main_breed'))\n",
    "\n",
    "train_breed_main = train_breed_main.iloc[:, 2:]\n",
    "train_breed_main = train_breed_main.add_prefix('main_breed_')\n",
    "\n",
    "train_breed_second = train_proc[['Breed2']].merge(\n",
    "    labels_breed, how='left',\n",
    "    left_on='Breed2', right_on='BreedID',\n",
    "    suffixes=('', '_second_breed'))\n",
    "\n",
    "train_breed_second = train_breed_second.iloc[:, 2:]\n",
    "train_breed_second = train_breed_second.add_prefix('second_breed_')\n",
    "\n",
    "\n",
    "train_proc = pd.concat(\n",
    "    [train_proc, train_breed_main, train_breed_second], axis=1)\n",
    "\n",
    "\n",
    "test_breed_main = test_proc[['Breed1']].merge(\n",
    "    labels_breed, how='left',\n",
    "    left_on='Breed1', right_on='BreedID',\n",
    "    suffixes=('', '_main_breed'))\n",
    "\n",
    "test_breed_main = test_breed_main.iloc[:, 2:]\n",
    "test_breed_main = test_breed_main.add_prefix('main_breed_')\n",
    "\n",
    "test_breed_second = test_proc[['Breed2']].merge(\n",
    "    labels_breed, how='left',\n",
    "    left_on='Breed2', right_on='BreedID',\n",
    "    suffixes=('', '_second_breed'))\n",
    "\n",
    "test_breed_second = test_breed_second.iloc[:, 2:]\n",
    "test_breed_second = test_breed_second.add_prefix('second_breed_')\n",
    "\n",
    "\n",
    "test_proc = pd.concat(\n",
    "    [test_proc, test_breed_main, test_breed_second], axis=1)\n",
    "\n",
    "print(train_proc.shape, test_proc.shape)"
   ]
  },
  {
   "cell_type": "code",
   "execution_count": 26,
   "metadata": {
    "_uuid": "cf129fa48290bd51a75aa8093d6e964942437f31"
   },
   "outputs": [],
   "source": [
    "X = pd.concat([train_proc, test_proc], ignore_index=True, sort=False)"
   ]
  },
  {
   "cell_type": "code",
   "execution_count": 27,
   "metadata": {
    "_uuid": "b7dace2bbcf7eceedfa72e1d9af39506846e7782"
   },
   "outputs": [],
   "source": [
    "X_temp = X.copy()\n",
    "\n",
    "text_columns = ['Description', 'metadata_annots_top_desc', 'sentiment_entities']\n",
    "categorical_columns = ['main_breed_BreedName', 'second_breed_BreedName']\n",
    "\n",
    "to_drop_columns = ['PetID', 'Name', 'RescuerID']"
   ]
  },
  {
   "cell_type": "code",
   "execution_count": 28,
   "metadata": {
    "_uuid": "8787888c4ea8bf38bf95557fe62900aef6a1c60f"
   },
   "outputs": [],
   "source": [
    "rescuer_count = X.groupby(['RescuerID'])['PetID'].count().reset_index()\n",
    "rescuer_count.columns = ['RescuerID', 'RescuerID_COUNT']\n",
    "\n",
    "X_temp = X_temp.merge(rescuer_count, how='left', on='RescuerID')"
   ]
  },
  {
   "cell_type": "code",
   "execution_count": 29,
   "metadata": {
    "_uuid": "af969f7dcac615ba78a82474d914c5e25ce67ecb"
   },
   "outputs": [],
   "source": [
    "for i in categorical_columns:\n",
    "    X_temp.loc[:, i] = pd.factorize(X_temp.loc[:, i])[0]"
   ]
  },
  {
   "cell_type": "code",
   "execution_count": 30,
   "metadata": {
    "_uuid": "44b50fa65d691a27399f1232203b2249fc1d8c70"
   },
   "outputs": [],
   "source": [
    "X_text = X_temp[text_columns]\n",
    "\n",
    "for i in X_text.columns:\n",
    "    X_text.loc[:, i] = X_text.loc[:, i].fillna('none')"
   ]
  },
  {
   "cell_type": "code",
   "execution_count": 31,
   "metadata": {
    "_uuid": "24170b22e97131ad802f643cf3ec1a9b292e4060"
   },
   "outputs": [],
   "source": [
    "X_temp['Length_Description'] = X_text['Description'].map(len)\n",
    "X_temp['Length_metadata_annots_top_desc'] = X_text['metadata_annots_top_desc'].map(len)\n",
    "X_temp['Lengths_sentiment_entities'] = X_text['sentiment_entities'].map(len)"
   ]
  },
  {
   "cell_type": "markdown",
   "metadata": {
    "_uuid": "32a31a517e2834ffa31f0f592ad7d4240ae5c1ea"
   },
   "source": [
    "### TFIDF"
   ]
  },
  {
   "cell_type": "code",
   "execution_count": 32,
   "metadata": {
    "_uuid": "09116632baadf6842804dedc15023ffda928f7c5"
   },
   "outputs": [
    {
     "name": "stdout",
     "output_type": "stream",
     "text": [
      "generating features from: Description\n",
      "generating features from: metadata_annots_top_desc\n",
      "generating features from: sentiment_entities\n"
     ]
    }
   ],
   "source": [
    "n_components = 16\n",
    "text_features = []\n",
    "\n",
    "# Generate text features:\n",
    "for i in X_text.columns:\n",
    "    \n",
    "    # Initialize decomposition methods:\n",
    "    print(f'generating features from: {i}')\n",
    "    tfv = TfidfVectorizer(min_df=2,  max_features=None,\n",
    "                          strip_accents='unicode', analyzer='word', token_pattern=r'(?u)\\b\\w+\\b',\n",
    "                          ngram_range=(1, 3), use_idf=1, smooth_idf=1, sublinear_tf=1)\n",
    "    svd_ = TruncatedSVD(\n",
    "        n_components=n_components, random_state=1337)\n",
    "    \n",
    "    tfidf_col = tfv.fit_transform(X_text.loc[:, i].values)\n",
    "    \n",
    "    svd_col = svd_.fit_transform(tfidf_col)\n",
    "    svd_col = pd.DataFrame(svd_col)\n",
    "    svd_col = svd_col.add_prefix('TFIDF_{}_'.format(i))\n",
    "    \n",
    "    text_features.append(svd_col)\n",
    "    \n",
    "text_features = pd.concat(text_features, axis=1)\n",
    "text_features_ensemble = text_features.copy()\n",
    "\n",
    "X_temp = pd.concat([X_temp, text_features], axis=1)\n",
    "\n",
    "for i in X_text.columns:\n",
    "    X_temp = X_temp.drop(i, axis=1)"
   ]
  },
  {
   "cell_type": "markdown",
   "metadata": {
    "_uuid": "dba66709bbd961656400c5c654cb3d2619710d5f"
   },
   "source": [
    "### Merge image features"
   ]
  },
  {
   "cell_type": "code",
   "execution_count": 33,
   "metadata": {
    "_uuid": "b5f17382a1089b126323da4ce91211d29971f26c"
   },
   "outputs": [],
   "source": [
    "X_temp = X_temp.merge(img_features, how='left', on='PetID')"
   ]
  },
  {
   "cell_type": "markdown",
   "metadata": {
    "_uuid": "0c5e240b66fbf79c2c89a1097e39588faf97a119"
   },
   "source": [
    "### Add image_size features"
   ]
  },
  {
   "cell_type": "code",
   "execution_count": 34,
   "metadata": {
    "_uuid": "90422f43e8181ca624f2e7959542b9d1cde865e7"
   },
   "outputs": [],
   "source": [
    "from PIL import Image\n",
    "train_df_ids = train[['PetID']]\n",
    "test_df_ids = test[['PetID']]\n",
    "\n",
    "train_df_imgs = pd.DataFrame(train_image_files)\n",
    "train_df_imgs.columns = ['image_filename']\n",
    "train_imgs_pets = train_df_imgs['image_filename'].apply(lambda x: x.split(split_char)[-1].split('-')[0])\n",
    "\n",
    "test_df_imgs = pd.DataFrame(test_image_files)\n",
    "test_df_imgs.columns = ['image_filename']\n",
    "test_imgs_pets = test_df_imgs['image_filename'].apply(lambda x: x.split(split_char)[-1].split('-')[0])\n",
    "\n",
    "train_df_imgs = train_df_imgs.assign(PetID=train_imgs_pets)\n",
    "test_df_imgs = test_df_imgs.assign(PetID=test_imgs_pets)\n",
    "\n",
    "def getSize(filename):\n",
    "    st = os.stat(filename)\n",
    "    return st.st_size\n",
    "\n",
    "def getDimensions(filename):\n",
    "    img_size = Image.open(filename).size\n",
    "    return img_size \n",
    "\n",
    "train_df_imgs['image_size'] = train_df_imgs['image_filename'].apply(getSize)\n",
    "train_df_imgs['temp_size'] = train_df_imgs['image_filename'].apply(getDimensions)\n",
    "train_df_imgs['width'] = train_df_imgs['temp_size'].apply(lambda x : x[0])\n",
    "train_df_imgs['height'] = train_df_imgs['temp_size'].apply(lambda x : x[1])\n",
    "train_df_imgs['image_ratio'] = train_df_imgs['width'] / train_df_imgs['height']\n",
    "train_df_imgs['image_area'] = train_df_imgs['width'] * train_df_imgs['height']\n",
    "train_df_imgs = train_df_imgs.drop(['temp_size'], axis=1)\n",
    "\n",
    "test_df_imgs['image_size'] = test_df_imgs['image_filename'].apply(getSize)\n",
    "test_df_imgs['temp_size'] = test_df_imgs['image_filename'].apply(getDimensions)\n",
    "test_df_imgs['width'] = test_df_imgs['temp_size'].apply(lambda x : x[0])\n",
    "test_df_imgs['height'] = test_df_imgs['temp_size'].apply(lambda x : x[1])\n",
    "test_df_imgs['image_ratio'] = test_df_imgs['width'] / test_df_imgs['height']\n",
    "test_df_imgs['image_area'] = test_df_imgs['width'] * test_df_imgs['height']\n",
    "test_df_imgs = test_df_imgs.drop(['temp_size'], axis=1)\n",
    "\n",
    "aggs = {\n",
    "    'image_size': ['sum', 'mean', 'var'],\n",
    "    'width': ['sum', 'mean', 'var'],\n",
    "    'height': ['sum', 'mean', 'var'],\n",
    "    'image_ratio': ['sum', 'mean', 'var'],\n",
    "    'image_area': ['sum', 'mean', 'var']\n",
    "}\n",
    "\n",
    "agg_train_imgs = train_df_imgs.groupby('PetID').agg(aggs)\n",
    "new_columns = [\n",
    "    k + '_' + agg for k in aggs.keys() for agg in aggs[k]\n",
    "]\n",
    "agg_train_imgs.columns = new_columns\n",
    "agg_train_imgs = agg_train_imgs.reset_index()\n",
    "\n",
    "agg_test_imgs = test_df_imgs.groupby('PetID').agg(aggs)\n",
    "new_columns = [\n",
    "    k + '_' + agg for k in aggs.keys() for agg in aggs[k]\n",
    "]\n",
    "agg_test_imgs.columns = new_columns\n",
    "agg_test_imgs = agg_test_imgs.reset_index()\n",
    "\n",
    "agg_imgs = pd.concat([agg_train_imgs, agg_test_imgs], axis=0).reset_index(drop=True)\n",
    "agg_imgs_ensemble = agg_imgs.copy()"
   ]
  },
  {
   "cell_type": "code",
   "execution_count": 35,
   "metadata": {
    "_uuid": "7fb61e81ee7e060cc4e2ee8f1f8c9a8671d87c40"
   },
   "outputs": [],
   "source": [
    "X_temp = X_temp.merge(agg_imgs, how='left', on='PetID')\n",
    "X_temp['crop_per_image_mean'] = X_temp['metadata_crop_area_MEAN'] / X_temp['image_size_mean']"
   ]
  },
  {
   "cell_type": "markdown",
   "metadata": {
    "_uuid": "f9425dd6c4f5f045fcf3b96d42b06c9f8c5e21a7"
   },
   "source": [
    "### Drop ID, name and rescuerID"
   ]
  },
  {
   "cell_type": "code",
   "execution_count": 36,
   "metadata": {
    "_uuid": "054ca8cddec421f219099c63b710f5a21bdcedba"
   },
   "outputs": [],
   "source": [
    "X_temp = X_temp.drop(to_drop_columns, axis=1)"
   ]
  },
  {
   "cell_type": "code",
   "execution_count": 37,
   "metadata": {
    "_uuid": "5657331c2d46d83639d0d49bd286d664123fff98"
   },
   "outputs": [],
   "source": [
    "X_train = X_temp.loc[np.isfinite(X_temp.AdoptionSpeed), :]\n",
    "X_test = X_temp.loc[~np.isfinite(X_temp.AdoptionSpeed), :]\n",
    "\n",
    "X_test = X_test.drop(['AdoptionSpeed'], axis=1)\n",
    "\n",
    "assert X_train.shape[0] == train.shape[0]\n",
    "assert X_test.shape[0] == test.shape[0]\n",
    "\n",
    "train_cols = X_train.columns.tolist()\n",
    "train_cols.remove('AdoptionSpeed')\n",
    "\n",
    "test_cols = X_test.columns.tolist()\n",
    "\n",
    "assert np.all(train_cols == test_cols)"
   ]
  },
  {
   "cell_type": "code",
   "execution_count": 38,
   "metadata": {
    "_uuid": "33113d9abab481b5273bf023f139af5ad85e4f90"
   },
   "outputs": [],
   "source": [
    "X_train_non_null = X_train.fillna(-1)\n",
    "X_test_non_null = X_test.fillna(-1)"
   ]
  },
  {
   "cell_type": "code",
   "execution_count": 39,
   "metadata": {
    "_uuid": "18158d87855d8ad289edc6fff7aa442177ab0a68"
   },
   "outputs": [
    {
     "data": {
      "text/plain": [
       "(False, False)"
      ]
     },
     "execution_count": 39,
     "metadata": {},
     "output_type": "execute_result"
    }
   ],
   "source": [
    "X_train_non_null.isnull().any().any(), X_test_non_null.isnull().any().any()"
   ]
  },
  {
   "cell_type": "code",
   "execution_count": 40,
   "metadata": {
    "_uuid": "140d7ccb13fc5b7390a08eb73fb57377c94e15f4"
   },
   "outputs": [
    {
     "data": {
      "text/plain": [
       "((14993, 142), (3948, 141))"
      ]
     },
     "execution_count": 40,
     "metadata": {},
     "output_type": "execute_result"
    }
   ],
   "source": [
    "X_train_non_null.shape, X_test_non_null.shape"
   ]
  },
  {
   "cell_type": "code",
   "execution_count": 41,
   "metadata": {
    "_uuid": "3498274ff28da746aafee11a3edd2888787fda9b"
   },
   "outputs": [],
   "source": [
    "import scipy as sp\n",
    "\n",
    "from collections import Counter\n",
    "from functools import partial\n",
    "from math import sqrt\n",
    "\n",
    "from sklearn.metrics import cohen_kappa_score, mean_squared_error\n",
    "from sklearn.metrics import confusion_matrix as sk_cmatrix\n",
    "\n",
    "\n",
    "# FROM: https://www.kaggle.com/myltykritik/simple-lgbm-image-features\n",
    "\n",
    "# The following 3 functions have been taken from Ben Hamner's github repository\n",
    "# https://github.com/benhamner/Metrics\n",
    "def confusion_matrix(rater_a, rater_b, min_rating=None, max_rating=None):\n",
    "    \"\"\"\n",
    "    Returns the confusion matrix between rater's ratings\n",
    "    \"\"\"\n",
    "    assert(len(rater_a) == len(rater_b))\n",
    "    if min_rating is None:\n",
    "        min_rating = min(rater_a + rater_b)\n",
    "    if max_rating is None:\n",
    "        max_rating = max(rater_a + rater_b)\n",
    "    num_ratings = int(max_rating - min_rating + 1)\n",
    "    conf_mat = [[0 for i in range(num_ratings)]\n",
    "                for j in range(num_ratings)]\n",
    "    for a, b in zip(rater_a, rater_b):\n",
    "        conf_mat[a - min_rating][b - min_rating] += 1\n",
    "    return conf_mat\n",
    "\n",
    "\n",
    "def histogram(ratings, min_rating=None, max_rating=None):\n",
    "    \"\"\"\n",
    "    Returns the counts of each type of rating that a rater made\n",
    "    \"\"\"\n",
    "    if min_rating is None:\n",
    "        min_rating = min(ratings)\n",
    "    if max_rating is None:\n",
    "        max_rating = max(ratings)\n",
    "    num_ratings = int(max_rating - min_rating + 1)\n",
    "    hist_ratings = [0 for x in range(num_ratings)]\n",
    "    for r in ratings:\n",
    "        hist_ratings[r - min_rating] += 1\n",
    "    return hist_ratings\n",
    "\n",
    "\n",
    "def quadratic_weighted_kappa(y, y_pred):\n",
    "    \"\"\"\n",
    "    Calculates the quadratic weighted kappa\n",
    "    axquadratic_weighted_kappa calculates the quadratic weighted kappa\n",
    "    value, which is a measure of inter-rater agreement between two raters\n",
    "    that provide discrete numeric ratings.  Potential values range from -1\n",
    "    (representing complete disagreement) to 1 (representing complete\n",
    "    agreement).  A kappa value of 0 is expected if all agreement is due to\n",
    "    chance.\n",
    "    quadratic_weighted_kappa(rater_a, rater_b), where rater_a and rater_b\n",
    "    each correspond to a list of integer ratings.  These lists must have the\n",
    "    same length.\n",
    "    The ratings should be integers, and it is assumed that they contain\n",
    "    the complete range of possible ratings.\n",
    "    quadratic_weighted_kappa(X, min_rating, max_rating), where min_rating\n",
    "    is the minimum possible rating, and max_rating is the maximum possible\n",
    "    rating\n",
    "    \"\"\"\n",
    "    rater_a = y\n",
    "    rater_b = y_pred\n",
    "    min_rating=None\n",
    "    max_rating=None\n",
    "    rater_a = np.array(rater_a, dtype=int)\n",
    "    rater_b = np.array(rater_b, dtype=int)\n",
    "    assert(len(rater_a) == len(rater_b))\n",
    "    if min_rating is None:\n",
    "        min_rating = min(min(rater_a), min(rater_b))\n",
    "    if max_rating is None:\n",
    "        max_rating = max(max(rater_a), max(rater_b))\n",
    "    conf_mat = confusion_matrix(rater_a, rater_b,\n",
    "                                min_rating, max_rating)\n",
    "    num_ratings = len(conf_mat)\n",
    "    num_scored_items = float(len(rater_a))\n",
    "\n",
    "    hist_rater_a = histogram(rater_a, min_rating, max_rating)\n",
    "    hist_rater_b = histogram(rater_b, min_rating, max_rating)\n",
    "\n",
    "    numerator = 0.0\n",
    "    denominator = 0.0\n",
    "\n",
    "    for i in range(num_ratings):\n",
    "        for j in range(num_ratings):\n",
    "            expected_count = (hist_rater_a[i] * hist_rater_b[j]\n",
    "                              / num_scored_items)\n",
    "            d = pow(i - j, 2.0) / pow(num_ratings - 1, 2.0)\n",
    "            numerator += d * conf_mat[i][j] / num_scored_items\n",
    "            denominator += d * expected_count / num_scored_items\n",
    "\n",
    "    return (1.0 - numerator / denominator)"
   ]
  },
  {
   "cell_type": "markdown",
   "metadata": {
    "_uuid": "d8a40b9aefaa6935302789be723a29403ed988bd"
   },
   "source": [
    "### OptimizeRounder from [OptimizedRounder() - Improved](https://www.kaggle.com/naveenasaithambi/optimizedrounder-improved)"
   ]
  },
  {
   "cell_type": "code",
   "execution_count": 42,
   "metadata": {
    "_uuid": "10ddb2ef661d2c1a61e01c2a6d48908bdf858bae"
   },
   "outputs": [],
   "source": [
    "def to_bins(x, borders):\n",
    "    for i in range(len(borders)):\n",
    "        if x <= borders[i]:\n",
    "            return i\n",
    "    return len(borders)\n",
    "\n",
    "class OptimizedRounder(object):\n",
    "    def __init__(self):\n",
    "        self.coef_ = 0\n",
    "\n",
    "    def _loss(self, coef, X, y, idx):\n",
    "        X_p = np.array([to_bins(pred, coef) for pred in X])\n",
    "        ll = -quadratic_weighted_kappa(y, X_p)\n",
    "        return ll\n",
    "\n",
    "    def fit(self, X, y):\n",
    "        coef = [1.5, 2.0, 2.5, 3.0]\n",
    "        golden1 = 0.618\n",
    "        golden2 = 1 - golden1\n",
    "        ab_start = [(1, 2), (1.5, 2.5), (2, 3), (2.5, 3.5)]\n",
    "        for it1 in range(10):\n",
    "            for idx in range(4):\n",
    "                # golden section search\n",
    "                a, b = ab_start[idx]\n",
    "                # calc losses\n",
    "                coef[idx] = a\n",
    "                la = self._loss(coef, X, y, idx)\n",
    "                coef[idx] = b\n",
    "                lb = self._loss(coef, X, y, idx)\n",
    "                for it in range(20):\n",
    "                    # choose value\n",
    "                    if la > lb:\n",
    "                        a = b - (b - a) * golden1\n",
    "                        coef[idx] = a\n",
    "                        la = self._loss(coef, X, y, idx)\n",
    "                    else:\n",
    "                        b = b - (b - a) * golden2\n",
    "                        coef[idx] = b\n",
    "                        lb = self._loss(coef, X, y, idx)\n",
    "        self.coef_ = {'x': coef}\n",
    "\n",
    "    def predict(self, X, coef):\n",
    "        X_p = np.array([to_bins(pred, coef) for pred in X])\n",
    "        return X_p\n",
    "\n",
    "    def coefficients(self):\n",
    "        return self.coef_['x']"
   ]
  },
  {
   "cell_type": "markdown",
   "metadata": {
    "_uuid": "34c67df75d9ed9e01021426216164c7875956ac8"
   },
   "source": [
    "## Train model"
   ]
  },
  {
   "cell_type": "code",
   "execution_count": 43,
   "metadata": {
    "_uuid": "d3293c458698e229cad2c6b06cbb2c4b1899002b"
   },
   "outputs": [],
   "source": [
    "import xgboost as xgb\n",
    "from sklearn.model_selection import StratifiedKFold\n",
    "\n",
    "xgb_params = {\n",
    "    'eval_metric': 'rmse',\n",
    "    'seed': 1337,\n",
    "    'eta': 0.00723,\n",
    "    'subsample': 0.8,\n",
    "    'colsample_bytree': 0.85,\n",
    "    'tree_method': 'gpu_hist',\n",
    "    'device': 'gpu',\n",
    "    'silent': 1,\n",
    "}"
   ]
  },
  {
   "cell_type": "code",
   "execution_count": 44,
   "metadata": {
    "_uuid": "6ce6060ef879fd0d9a8a483b593b195926e6ef7f"
   },
   "outputs": [],
   "source": [
    "def run_xgb(params, X_train, X_test):\n",
    "    n_splits = 10\n",
    "    verbose_eval = 1000\n",
    "    num_rounds = 60000\n",
    "    early_stop = 500\n",
    "\n",
    "    kf = StratifiedKFold(n_splits=n_splits, shuffle=True, random_state=1337)\n",
    "\n",
    "    oof_train = np.zeros((X_train.shape[0]))\n",
    "    oof_test = np.zeros((X_test.shape[0], n_splits))\n",
    "\n",
    "    i = 0\n",
    "\n",
    "    for train_idx, valid_idx in kf.split(X_train, X_train['AdoptionSpeed'].values):\n",
    "\n",
    "        X_tr = X_train.iloc[train_idx, :]\n",
    "        X_val = X_train.iloc[valid_idx, :]\n",
    "\n",
    "        y_tr = X_tr['AdoptionSpeed'].values\n",
    "        X_tr = X_tr.drop(['AdoptionSpeed'], axis=1)\n",
    "\n",
    "        y_val = X_val['AdoptionSpeed'].values\n",
    "        X_val = X_val.drop(['AdoptionSpeed'], axis=1)\n",
    "\n",
    "        d_train = xgb.DMatrix(data=X_tr, label=y_tr, feature_names=X_tr.columns)\n",
    "        d_valid = xgb.DMatrix(data=X_val, label=y_val, feature_names=X_val.columns)\n",
    "\n",
    "        watchlist = [(d_train, 'train'), (d_valid, 'valid')]\n",
    "        model = xgb.train(dtrain=d_train, num_boost_round=num_rounds, evals=watchlist,\n",
    "                         early_stopping_rounds=early_stop, verbose_eval=verbose_eval, params=params)\n",
    "\n",
    "        valid_pred = model.predict(xgb.DMatrix(X_val, feature_names=X_val.columns), ntree_limit=model.best_ntree_limit)\n",
    "        test_pred = model.predict(xgb.DMatrix(X_test, feature_names=X_test.columns), ntree_limit=model.best_ntree_limit)\n",
    "\n",
    "        oof_train[valid_idx] = valid_pred\n",
    "        oof_test[:, i] = test_pred\n",
    "\n",
    "        i += 1\n",
    "    return model, oof_train, oof_test"
   ]
  },
  {
   "cell_type": "code",
   "execution_count": 45,
   "metadata": {
    "_uuid": "aac8a52c4d4e8186664b22b885c6f28b5eedd5bb"
   },
   "outputs": [
    {
     "name": "stdout",
     "output_type": "stream",
     "text": [
      "[0]\ttrain-rmse:2.32152\tvalid-rmse:2.32183\n",
      "Multiple eval metrics have been passed: 'valid-rmse' will be used for early stopping.\n",
      "\n",
      "Will train until valid-rmse hasn't improved in 500 rounds.\n",
      "[1000]\ttrain-rmse:0.791701\tvalid-rmse:1.02398\n",
      "[2000]\ttrain-rmse:0.636784\tvalid-rmse:1.01615\n",
      "[3000]\ttrain-rmse:0.516164\tvalid-rmse:1.01494\n",
      "Stopping. Best iteration:\n",
      "[2884]\ttrain-rmse:0.528884\tvalid-rmse:1.01464\n",
      "\n",
      "[0]\ttrain-rmse:2.32154\tvalid-rmse:2.32188\n",
      "Multiple eval metrics have been passed: 'valid-rmse' will be used for early stopping.\n",
      "\n",
      "Will train until valid-rmse hasn't improved in 500 rounds.\n",
      "[1000]\ttrain-rmse:0.791231\tvalid-rmse:1.04394\n",
      "[2000]\ttrain-rmse:0.640847\tvalid-rmse:1.03583\n",
      "[3000]\ttrain-rmse:0.522509\tvalid-rmse:1.03198\n",
      "[4000]\ttrain-rmse:0.426149\tvalid-rmse:1.03062\n",
      "Stopping. Best iteration:\n",
      "[4268]\ttrain-rmse:0.403098\tvalid-rmse:1.03019\n",
      "\n",
      "[0]\ttrain-rmse:2.32159\tvalid-rmse:2.32189\n",
      "Multiple eval metrics have been passed: 'valid-rmse' will be used for early stopping.\n",
      "\n",
      "Will train until valid-rmse hasn't improved in 500 rounds.\n",
      "[1000]\ttrain-rmse:0.791769\tvalid-rmse:1.01556\n",
      "[2000]\ttrain-rmse:0.640254\tvalid-rmse:1.00542\n",
      "[3000]\ttrain-rmse:0.520383\tvalid-rmse:1.00253\n",
      "Stopping. Best iteration:\n",
      "[3444]\ttrain-rmse:0.475203\tvalid-rmse:1.0018\n",
      "\n",
      "[0]\ttrain-rmse:2.32158\tvalid-rmse:2.32192\n",
      "Multiple eval metrics have been passed: 'valid-rmse' will be used for early stopping.\n",
      "\n",
      "Will train until valid-rmse hasn't improved in 500 rounds.\n",
      "[1000]\ttrain-rmse:0.793591\tvalid-rmse:1.00712\n",
      "[2000]\ttrain-rmse:0.641119\tvalid-rmse:0.99926\n",
      "[3000]\ttrain-rmse:0.521353\tvalid-rmse:0.998111\n",
      "Stopping. Best iteration:\n",
      "[3370]\ttrain-rmse:0.48236\tvalid-rmse:0.997567\n",
      "\n",
      "[0]\ttrain-rmse:2.32157\tvalid-rmse:2.32198\n",
      "Multiple eval metrics have been passed: 'valid-rmse' will be used for early stopping.\n",
      "\n",
      "Will train until valid-rmse hasn't improved in 500 rounds.\n",
      "[1000]\ttrain-rmse:0.793149\tvalid-rmse:1.03172\n",
      "[2000]\ttrain-rmse:0.642026\tvalid-rmse:1.02256\n",
      "[3000]\ttrain-rmse:0.522425\tvalid-rmse:1.01906\n",
      "[4000]\ttrain-rmse:0.426669\tvalid-rmse:1.01764\n",
      "[5000]\ttrain-rmse:0.34716\tvalid-rmse:1.01714\n",
      "Stopping. Best iteration:\n",
      "[4553]\ttrain-rmse:0.380723\tvalid-rmse:1.01692\n",
      "\n",
      "[0]\ttrain-rmse:2.32159\tvalid-rmse:2.3221\n",
      "Multiple eval metrics have been passed: 'valid-rmse' will be used for early stopping.\n",
      "\n",
      "Will train until valid-rmse hasn't improved in 500 rounds.\n",
      "[1000]\ttrain-rmse:0.795567\tvalid-rmse:1.01984\n",
      "[2000]\ttrain-rmse:0.641709\tvalid-rmse:1.0097\n",
      "[3000]\ttrain-rmse:0.520205\tvalid-rmse:1.00688\n",
      "[4000]\ttrain-rmse:0.422456\tvalid-rmse:1.00461\n",
      "[5000]\ttrain-rmse:0.344522\tvalid-rmse:1.00323\n",
      "[6000]\ttrain-rmse:0.28115\tvalid-rmse:1.003\n",
      "Stopping. Best iteration:\n",
      "[5721]\ttrain-rmse:0.297439\tvalid-rmse:1.00283\n",
      "\n",
      "[0]\ttrain-rmse:2.32157\tvalid-rmse:2.32199\n",
      "Multiple eval metrics have been passed: 'valid-rmse' will be used for early stopping.\n",
      "\n",
      "Will train until valid-rmse hasn't improved in 500 rounds.\n",
      "[1000]\ttrain-rmse:0.789844\tvalid-rmse:1.0579\n",
      "[2000]\ttrain-rmse:0.638693\tvalid-rmse:1.05059\n",
      "[3000]\ttrain-rmse:0.51874\tvalid-rmse:1.04925\n",
      "Stopping. Best iteration:\n",
      "[2706]\ttrain-rmse:0.551292\tvalid-rmse:1.04916\n",
      "\n",
      "[0]\ttrain-rmse:2.32165\tvalid-rmse:2.32144\n",
      "Multiple eval metrics have been passed: 'valid-rmse' will be used for early stopping.\n",
      "\n",
      "Will train until valid-rmse hasn't improved in 500 rounds.\n",
      "[1000]\ttrain-rmse:0.792325\tvalid-rmse:1.02426\n",
      "[2000]\ttrain-rmse:0.639027\tvalid-rmse:1.01706\n",
      "[3000]\ttrain-rmse:0.519155\tvalid-rmse:1.01598\n",
      "Stopping. Best iteration:\n",
      "[3184]\ttrain-rmse:0.499377\tvalid-rmse:1.01559\n",
      "\n",
      "[0]\ttrain-rmse:2.32165\tvalid-rmse:2.32143\n",
      "Multiple eval metrics have been passed: 'valid-rmse' will be used for early stopping.\n",
      "\n",
      "Will train until valid-rmse hasn't improved in 500 rounds.\n",
      "[1000]\ttrain-rmse:0.788541\tvalid-rmse:1.02671\n",
      "[2000]\ttrain-rmse:0.636513\tvalid-rmse:1.02073\n",
      "[3000]\ttrain-rmse:0.519181\tvalid-rmse:1.01923\n",
      "Stopping. Best iteration:\n",
      "[3166]\ttrain-rmse:0.501484\tvalid-rmse:1.01919\n",
      "\n",
      "[0]\ttrain-rmse:2.32166\tvalid-rmse:2.32147\n",
      "Multiple eval metrics have been passed: 'valid-rmse' will be used for early stopping.\n",
      "\n",
      "Will train until valid-rmse hasn't improved in 500 rounds.\n",
      "[1000]\ttrain-rmse:0.791788\tvalid-rmse:1.02617\n",
      "[2000]\ttrain-rmse:0.637684\tvalid-rmse:1.02151\n",
      "Stopping. Best iteration:\n",
      "[1797]\ttrain-rmse:0.6663\tvalid-rmse:1.02096\n",
      "\n"
     ]
    }
   ],
   "source": [
    "model, oof_train, oof_test = run_xgb(xgb_params, X_train_non_null, X_test_non_null)"
   ]
  },
  {
   "cell_type": "code",
   "execution_count": 46,
   "metadata": {
    "_uuid": "4ce7525ff6f3813967221e7f5ed3f104c711d687"
   },
   "outputs": [],
   "source": [
    "def plot_pred(pred):\n",
    "    sns.distplot(pred, kde=True, hist_kws={'range': [0, 5]})"
   ]
  },
  {
   "cell_type": "code",
   "execution_count": 47,
   "metadata": {
    "_uuid": "f0c2e531edd3a2b8995f4447436c24ca81a5ae83"
   },
   "outputs": [
    {
     "data": {
      "image/png": "[encoded data removed]",
      "text/plain": [
       "<Figure size 432x288 with 1 Axes>"
      ]
     },
     "metadata": {},
     "output_type": "display_data"
    }
   ],
   "source": [
    "plot_pred(oof_train)"
   ]
  },
  {
   "cell_type": "code",
   "execution_count": 48,
   "metadata": {
    "_uuid": "f1b70b4eecafc658d0d5d3dec6acb9d770d34c1c"
   },
   "outputs": [
    {
     "data": {
      "image/png": "[encoded data removed]",
      "text/plain": [
       "<Figure size 432x288 with 1 Axes>"
      ]
     },
     "metadata": {},
     "output_type": "display_data"
    }
   ],
   "source": [
    "plot_pred(oof_test.mean(axis=1))"
   ]
  },
  {
   "cell_type": "code",
   "execution_count": 49,
   "metadata": {
    "_uuid": "46f205e208f24ae1b7207a3f8663c5dfd5ce0ebc"
   },
   "outputs": [
    {
     "name": "stdout",
     "output_type": "stream",
     "text": [
      "QWK =  0.48644663726231696\n"
     ]
    }
   ],
   "source": [
    "optR = OptimizedRounder()\n",
    "optR.fit(oof_train, X_train['AdoptionSpeed'].values)\n",
    "coefficients = optR.coefficients()\n",
    "valid_pred = optR.predict(oof_train, coefficients)\n",
    "qwk = quadratic_weighted_kappa(X_train['AdoptionSpeed'].values, valid_pred)\n",
    "print(\"QWK = \", qwk)"
   ]
  },
  {
   "cell_type": "code",
   "execution_count": 50,
   "metadata": {
    "_uuid": "0903cc02a1856f9fb0aa8eff9f0532f29f0d6b7e"
   },
   "outputs": [
    {
     "name": "stdout",
     "output_type": "stream",
     "text": [
      "train pred distribution: Counter({4: 4206, 2: 3746, 1: 3176, 3: 2991, 0: 874})\n",
      "test pred distribution: Counter({4: 1128, 2: 945, 1: 918, 3: 780, 0: 177})\n"
     ]
    }
   ],
   "source": [
    "coefficients_ = coefficients.copy()\n",
    "coefficients_[0] = 1.66\n",
    "coefficients_[1] = 2.13\n",
    "coefficients_[3] = 2.85\n",
    "train_predictions1 = optR.predict(oof_train, coefficients_).astype(np.int8)\n",
    "print(f'train pred distribution: {Counter(train_predictions1)}')\n",
    "test_predictions = optR.predict(oof_test.mean(axis=1), coefficients_).astype(np.int8)\n",
    "print(f'test pred distribution: {Counter(test_predictions)}')"
   ]
  },
  {
   "cell_type": "code",
   "execution_count": 51,
   "metadata": {
    "_uuid": "6e1b0b559b56c83fe82e1c32dc0307775014a018"
   },
   "outputs": [
    {
     "data": {
      "text/plain": [
       "Counter({3: 2991, 1: 3176, 2: 3746, 4: 4206, 0: 874})"
      ]
     },
     "execution_count": 51,
     "metadata": {},
     "output_type": "execute_result"
    }
   ],
   "source": [
    "Counter(train_predictions1)"
   ]
  },
  {
   "cell_type": "code",
   "execution_count": 52,
   "metadata": {
    "_uuid": "25e388a57271c471d6ddf116b5225b2015351ae2"
   },
   "outputs": [
    {
     "data": {
      "text/plain": [
       "Counter({1: 918, 4: 1128, 3: 780, 2: 945, 0: 177})"
      ]
     },
     "execution_count": 52,
     "metadata": {},
     "output_type": "execute_result"
    }
   ],
   "source": [
    "Counter(test_predictions)"
   ]
  },
  {
   "cell_type": "code",
   "execution_count": 53,
   "metadata": {
    "_uuid": "cd8cb5999d506cf7d9d284afc4804d3cc5e8eb16"
   },
   "outputs": [],
   "source": [
    "submission1 = pd.DataFrame({'PetID': test['PetID'].values, 'AdoptionSpeed': test_predictions})"
   ]
  },
  {
   "cell_type": "markdown",
   "metadata": {
    "_uuid": "ad3df592d6d3dd620599709a7cdca18c4dffda86"
   },
   "source": [
    "# XGBoost"
   ]
  },
  {
   "cell_type": "code",
   "execution_count": 54,
   "metadata": {
    "_uuid": "f77271087494690c9b57cea61f481df9d7a12019"
   },
   "outputs": [],
   "source": [
    "import xgboost as xgb\n",
    "import lightgbm as lgb\n",
    "from sklearn.model_selection import StratifiedKFold\n",
    "\n",
    "xgb_params = {\n",
    "    'eval_metric': 'rmse',\n",
    "    'seed': 1337,\n",
    "    'eta': 0.00723,\n",
    "    'subsample': 0.8,\n",
    "    'colsample_bytree': 0.85,\n",
    "    'tree_method': 'gpu_hist',\n",
    "    'device': 'gpu',\n",
    "    'silent': 1,\n",
    "}\n",
    "\n",
    "lgb_params = {'application': 'regression',\n",
    "          'boosting': 'gbdt',\n",
    "          'metric': 'rmse',\n",
    "          'max_depth': -1,\n",
    "          'learning_rate': 0.007,\n",
    "          'bagging_fraction': 0.9,\n",
    "          'subsample': 0.8,\n",
    "          'colsample_bytree': 0.85,\n",
    "          'verbosity': -1,\n",
    "          'data_random_seed': 17,\n",
    "          'DUSE_GPU' : 1}"
   ]
  },
  {
   "cell_type": "code",
   "execution_count": 55,
   "metadata": {
    "_uuid": "938970199272d970665dcdf236fe3244eb843c7e"
   },
   "outputs": [],
   "source": [
    "train_columns = [c for c in X_train_non_null.columns if c not in ['AdoptionSpeed','RescuerID']]"
   ]
  },
  {
   "cell_type": "code",
   "execution_count": 56,
   "metadata": {
    "_uuid": "f856f618cff299f67b53e47a24dc85d1d35bbfaf"
   },
   "outputs": [],
   "source": [
    "from sklearn.model_selection import GroupKFold\n",
    "\n",
    "def run_lgb_xgb(xgb_params,lgb_params, X_train, X_test):\n",
    "    n_splits = 10\n",
    "    verbose_eval = 1000\n",
    "    num_rounds = 60000\n",
    "    early_stop = 500\n",
    "\n",
    "    #kf = StratifiedKFold(n_splits=n_splits, shuffle=True, random_state=1337)\n",
    "    kf = GroupKFold(n_splits=n_splits)\n",
    "\n",
    "    oof_train = np.zeros((X_train.shape[0]))\n",
    "    oof_test = np.zeros((X_test.shape[0], n_splits))\n",
    "\n",
    "    oof_train1 = np.zeros((X_train.shape[0]))\n",
    "    oof_test1 = np.zeros((X_test.shape[0], n_splits)) \n",
    "    \n",
    "    i = 0\n",
    "\n",
    "    for train_idx, valid_idx in kf.split(X_train, X_train['AdoptionSpeed'].values, group):\n",
    "\n",
    "        X_tr = X_train.iloc[train_idx, :]\n",
    "        X_val = X_train.iloc[valid_idx, :]\n",
    "\n",
    "        y_tr = X_tr['AdoptionSpeed'].values\n",
    "        X_tr = X_tr[train_columns]\n",
    "        \n",
    "        y_val = X_val['AdoptionSpeed'].values\n",
    "        X_val = X_val[train_columns]\n",
    "\n",
    "        d_train = xgb.DMatrix(data=X_tr, label=y_tr, feature_names=X_tr.columns)\n",
    "        d_valid = xgb.DMatrix(data=X_val, label=y_val, feature_names=X_val.columns)\n",
    "        \n",
    "        trn_data = lgb.Dataset(X_tr, label=y_tr)#, categorical_feature=categorical_feats)\n",
    "        val_data = lgb.Dataset(X_val, label=y_val)#, categorical_feature=categorical_feats)\n",
    "\n",
    "        watchlist = [(d_train, 'train'), (d_valid, 'valid')]\n",
    "        print(\"xgboost...\")\n",
    "        model = xgb.train(dtrain=d_train, num_boost_round=50000, evals=watchlist,\n",
    "                         early_stopping_rounds=500, verbose_eval=1000, params=xgb_params)\n",
    "        print(\"lightgbm...\")\n",
    "        clf = lgb.train(lgb_params, trn_data, 50000, valid_sets = [trn_data, val_data], verbose_eval=1000, early_stopping_rounds = 500)\n",
    "        \n",
    "        valid_pred = model.predict(xgb.DMatrix(X_val, feature_names=train_columns), ntree_limit=model.best_ntree_limit)\n",
    "        test_pred = model.predict(xgb.DMatrix(X_test[train_columns], feature_names=train_columns), ntree_limit=model.best_ntree_limit)\n",
    "    \n",
    "        oof_train[valid_idx] = valid_pred\n",
    "        oof_train1[valid_idx] = clf.predict(X_val, num_iteration=clf.best_iteration)\n",
    "        oof_test[:, i] = test_pred\n",
    "        oof_test1[:, i] = clf.predict(X_test[train_columns], num_iteration=clf.best_iteration)\n",
    "\n",
    "        i += 1\n",
    "    return model, oof_train, oof_test, clf, oof_train1, oof_test1"
   ]
  },
  {
   "cell_type": "code",
   "execution_count": 57,
   "metadata": {
    "_uuid": "287a9a4fd25bb5e2309bdc2f2ae95c780dccd837"
   },
   "outputs": [
    {
     "name": "stdout",
     "output_type": "stream",
     "text": [
      "xgboost...\n",
      "[0]\ttrain-rmse:2.32482\tvalid-rmse:2.29271\n",
      "Multiple eval metrics have been passed: 'valid-rmse' will be used for early stopping.\n",
      "\n",
      "Will train until valid-rmse hasn't improved in 500 rounds.\n",
      "[1000]\ttrain-rmse:0.796851\tvalid-rmse:1.01223\n",
      "Stopping. Best iteration:\n",
      "[1279]\ttrain-rmse:0.749536\tvalid-rmse:1.00995\n",
      "\n",
      "lightgbm...\n",
      "Training until validation scores don't improve for 500 rounds.\n",
      "[1000]\ttraining's rmse: 0.866957\tvalid_1's rmse: 1.01411\n",
      "Early stopping, best iteration is:\n",
      "[1454]\ttraining's rmse: 0.806503\tvalid_1's rmse: 1.01309\n",
      "xgboost...\n",
      "[0]\ttrain-rmse:2.3191\tvalid-rmse:2.34369\n",
      "Multiple eval metrics have been passed: 'valid-rmse' will be used for early stopping.\n",
      "\n",
      "Will train until valid-rmse hasn't improved in 500 rounds.\n",
      "[1000]\ttrain-rmse:0.791774\tvalid-rmse:1.02556\n",
      "[2000]\ttrain-rmse:0.639761\tvalid-rmse:1.023\n",
      "[3000]\ttrain-rmse:0.520964\tvalid-rmse:1.02225\n",
      "Stopping. Best iteration:\n",
      "[2966]\ttrain-rmse:0.524536\tvalid-rmse:1.02218\n",
      "\n",
      "lightgbm...\n",
      "Training until validation scores don't improve for 500 rounds.\n",
      "[1000]\ttraining's rmse: 0.866372\tvalid_1's rmse: 1.02952\n",
      "Early stopping, best iteration is:\n",
      "[1306]\ttraining's rmse: 0.824655\tvalid_1's rmse: 1.02893\n",
      "xgboost...\n",
      "[0]\ttrain-rmse:2.32235\tvalid-rmse:2.31479\n",
      "Multiple eval metrics have been passed: 'valid-rmse' will be used for early stopping.\n",
      "\n",
      "Will train until valid-rmse hasn't improved in 500 rounds.\n",
      "[1000]\ttrain-rmse:0.791872\tvalid-rmse:1.0317\n",
      "Stopping. Best iteration:\n",
      "[1434]\ttrain-rmse:0.720152\tvalid-rmse:1.03061\n",
      "\n",
      "lightgbm...\n",
      "Training until validation scores don't improve for 500 rounds.\n",
      "[1000]\ttraining's rmse: 0.864504\tvalid_1's rmse: 1.03559\n",
      "Early stopping, best iteration is:\n",
      "[929]\ttraining's rmse: 0.875265\tvalid_1's rmse: 1.03524\n",
      "xgboost...\n",
      "[0]\ttrain-rmse:2.31965\tvalid-rmse:2.33932\n",
      "Multiple eval metrics have been passed: 'valid-rmse' will be used for early stopping.\n",
      "\n",
      "Will train until valid-rmse hasn't improved in 500 rounds.\n",
      "[1000]\ttrain-rmse:0.792393\tvalid-rmse:1.05709\n",
      "[2000]\ttrain-rmse:0.640432\tvalid-rmse:1.05336\n",
      "Stopping. Best iteration:\n",
      "[1969]\ttrain-rmse:0.644556\tvalid-rmse:1.05301\n",
      "\n",
      "lightgbm...\n",
      "Training until validation scores don't improve for 500 rounds.\n",
      "[1000]\ttraining's rmse: 0.862777\tvalid_1's rmse: 1.05976\n",
      "[2000]\ttraining's rmse: 0.738606\tvalid_1's rmse: 1.05899\n",
      "Early stopping, best iteration is:\n",
      "[1502]\ttraining's rmse: 0.795848\tvalid_1's rmse: 1.05751\n",
      "xgboost...\n",
      "[0]\ttrain-rmse:2.31048\tvalid-rmse:2.42\n",
      "Multiple eval metrics have been passed: 'valid-rmse' will be used for early stopping.\n",
      "\n",
      "Will train until valid-rmse hasn't improved in 500 rounds.\n",
      "[1000]\ttrain-rmse:0.788119\tvalid-rmse:1.03748\n",
      "[2000]\ttrain-rmse:0.636063\tvalid-rmse:1.03571\n",
      "Stopping. Best iteration:\n",
      "[1555]\ttrain-rmse:0.697642\tvalid-rmse:1.035\n",
      "\n",
      "lightgbm...\n",
      "Training until validation scores don't improve for 500 rounds.\n",
      "[1000]\ttraining's rmse: 0.865081\tvalid_1's rmse: 1.03733\n",
      "Early stopping, best iteration is:\n",
      "[1014]\ttraining's rmse: 0.863073\tvalid_1's rmse: 1.03726\n",
      "xgboost...\n",
      "[0]\ttrain-rmse:2.32132\tvalid-rmse:2.32428\n",
      "Multiple eval metrics have been passed: 'valid-rmse' will be used for early stopping.\n",
      "\n",
      "Will train until valid-rmse hasn't improved in 500 rounds.\n",
      "[1000]\ttrain-rmse:0.788532\tvalid-rmse:1.06769\n",
      "Stopping. Best iteration:\n",
      "[1147]\ttrain-rmse:0.763876\tvalid-rmse:1.06727\n",
      "\n",
      "lightgbm...\n",
      "Training until validation scores don't improve for 500 rounds.\n",
      "[1000]\ttraining's rmse: 0.861531\tvalid_1's rmse: 1.06919\n",
      "[2000]\ttraining's rmse: 0.739136\tvalid_1's rmse: 1.069\n",
      "Early stopping, best iteration is:\n",
      "[1544]\ttraining's rmse: 0.79072\tvalid_1's rmse: 1.06769\n",
      "xgboost...\n",
      "[0]\ttrain-rmse:2.32747\tvalid-rmse:2.26726\n",
      "Multiple eval metrics have been passed: 'valid-rmse' will be used for early stopping.\n",
      "\n",
      "Will train until valid-rmse hasn't improved in 500 rounds.\n",
      "[1000]\ttrain-rmse:0.787518\tvalid-rmse:1.07712\n",
      "[2000]\ttrain-rmse:0.634209\tvalid-rmse:1.07659\n",
      "Stopping. Best iteration:\n",
      "[1532]\ttrain-rmse:0.700395\tvalid-rmse:1.07521\n",
      "\n",
      "lightgbm...\n",
      "Training until validation scores don't improve for 500 rounds.\n",
      "[1000]\ttraining's rmse: 0.86165\tvalid_1's rmse: 1.07618\n",
      "[2000]\ttraining's rmse: 0.737757\tvalid_1's rmse: 1.0746\n",
      "Early stopping, best iteration is:\n",
      "[1852]\ttraining's rmse: 0.753754\tvalid_1's rmse: 1.07441\n",
      "xgboost...\n",
      "[0]\ttrain-rmse:2.32284\tvalid-rmse:2.31002\n",
      "Multiple eval metrics have been passed: 'valid-rmse' will be used for early stopping.\n",
      "\n",
      "Will train until valid-rmse hasn't improved in 500 rounds.\n",
      "[1000]\ttrain-rmse:0.789306\tvalid-rmse:1.07989\n",
      "[2000]\ttrain-rmse:0.637153\tvalid-rmse:1.07979\n",
      "Stopping. Best iteration:\n",
      "[1637]\ttrain-rmse:0.688168\tvalid-rmse:1.07899\n",
      "\n",
      "lightgbm...\n",
      "Training until validation scores don't improve for 500 rounds.\n",
      "[1000]\ttraining's rmse: 0.861579\tvalid_1's rmse: 1.07848\n",
      "Early stopping, best iteration is:\n",
      "[1115]\ttraining's rmse: 0.845323\tvalid_1's rmse: 1.07775\n",
      "xgboost...\n",
      "[0]\ttrain-rmse:2.32483\tvalid-rmse:2.29206\n",
      "Multiple eval metrics have been passed: 'valid-rmse' will be used for early stopping.\n",
      "\n",
      "Will train until valid-rmse hasn't improved in 500 rounds.\n",
      "[1000]\ttrain-rmse:0.792116\tvalid-rmse:1.05215\n",
      "[2000]\ttrain-rmse:0.63925\tvalid-rmse:1.04832\n",
      "Stopping. Best iteration:\n",
      "[2266]\ttrain-rmse:0.605101\tvalid-rmse:1.04769\n",
      "\n",
      "lightgbm...\n",
      "Training until validation scores don't improve for 500 rounds.\n",
      "[1000]\ttraining's rmse: 0.864311\tvalid_1's rmse: 1.05907\n",
      "Early stopping, best iteration is:\n",
      "[1214]\ttraining's rmse: 0.834012\tvalid_1's rmse: 1.05817\n",
      "xgboost...\n",
      "[0]\ttrain-rmse:2.32281\tvalid-rmse:2.31073\n",
      "Multiple eval metrics have been passed: 'valid-rmse' will be used for early stopping.\n",
      "\n",
      "Will train until valid-rmse hasn't improved in 500 rounds.\n",
      "[1000]\ttrain-rmse:0.79209\tvalid-rmse:1.07569\n",
      "[2000]\ttrain-rmse:0.643987\tvalid-rmse:1.07325\n",
      "Stopping. Best iteration:\n",
      "[1694]\ttrain-rmse:0.685968\tvalid-rmse:1.07268\n",
      "\n",
      "lightgbm...\n",
      "Training until validation scores don't improve for 500 rounds.\n",
      "[1000]\ttraining's rmse: 0.862444\tvalid_1's rmse: 1.07842\n",
      "[2000]\ttraining's rmse: 0.741677\tvalid_1's rmse: 1.07885\n",
      "Early stopping, best iteration is:\n",
      "[1708]\ttraining's rmse: 0.773427\tvalid_1's rmse: 1.07809\n"
     ]
    }
   ],
   "source": [
    "model, oof_train, oof_test, clf, oof_train1, oof_test1 = run_lgb_xgb(xgb_params,lgb_params, X_train_non_null, X_test_non_null)"
   ]
  },
  {
   "cell_type": "code",
   "execution_count": 58,
   "metadata": {
    "_uuid": "0ee5ba7438ed72327b6fd4c72fa1ef75a4a2a04e"
   },
   "outputs": [
    {
     "name": "stdout",
     "output_type": "stream",
     "text": [
      "xgboost: 1.0495051730577059 lightgbm: 1.053031744455272\n"
     ]
    }
   ],
   "source": [
    "from sklearn.metrics import mean_squared_error\n",
    "target = X_train_non_null['AdoptionSpeed']\n",
    "print(\"xgboost:\",mean_squared_error(oof_train,target)**0.5,\"lightgbm:\",mean_squared_error(oof_train1,target)**0.5)"
   ]
  },
  {
   "cell_type": "code",
   "execution_count": 59,
   "metadata": {
    "_uuid": "b565df03111cca1331c0731db0deb09f2f7de140"
   },
   "outputs": [
    {
     "name": "stdout",
     "output_type": "stream",
     "text": [
      "QWK =  0.4381681661107606\n"
     ]
    }
   ],
   "source": [
    "optR = OptimizedRounder()\n",
    "oof_train2 = 0.7*oof_train + 0.3*oof_train1\n",
    "optR.fit(oof_train2, X_train['AdoptionSpeed'].values)\n",
    "coefficients = optR.coefficients()\n",
    "valid_pred = optR.predict(oof_train2, coefficients)\n",
    "qwk = quadratic_weighted_kappa(X_train['AdoptionSpeed'].values, valid_pred)\n",
    "print(\"QWK = \", qwk)"
   ]
  },
  {
   "cell_type": "code",
   "execution_count": 60,
   "metadata": {
    "_uuid": "8ea07ac28be5e12a33b248862ba3519ba71fc46f"
   },
   "outputs": [
    {
     "name": "stdout",
     "output_type": "stream",
     "text": [
      "train pred distribution: Counter({4: 3936, 2: 3859, 3: 3393, 1: 3291, 0: 514})\n",
      "test pred distribution: Counter({4: 1105, 2: 948, 1: 923, 3: 858, 0: 114})\n"
     ]
    }
   ],
   "source": [
    "coefficients_ = coefficients.copy()\n",
    "coefficients_[0] = 1.66\n",
    "coefficients_[1] = 2.13\n",
    "coefficients_[3] = 2.85\n",
    "train_predictions2 = optR.predict(oof_train2, coefficients_).astype(np.int8)\n",
    "print(f'train pred distribution: {Counter(train_predictions2)}')\n",
    "oof_test2 = 0.7*oof_test + 0.3*oof_test1\n",
    "test_predictions = optR.predict(oof_test2.mean(axis=1), coefficients_).astype(np.int8)\n",
    "print(f'test pred distribution: {Counter(test_predictions)}')"
   ]
  },
  {
   "cell_type": "code",
   "execution_count": 61,
   "metadata": {
    "_uuid": "dabcda72adb39c5a9e1baa09dbf01b81f654bc20"
   },
   "outputs": [],
   "source": [
    "submission2 = pd.DataFrame({'PetID': test['PetID'].values, 'AdoptionSpeed': test_predictions})"
   ]
  },
  {
   "cell_type": "markdown",
   "metadata": {
    "_uuid": "aa9e04737b946b3a0fa3e22d1c296a0dacccd9f7"
   },
   "source": [
    "# Ensemble \n",
    "https://www.kaggle.com/sakami/external-data-weighted-average-prediction/log"
   ]
  },
  {
   "cell_type": "code",
   "execution_count": 62,
   "metadata": {
    "_uuid": "53dbca56636fb9b273c6d043d3907aeb2633a297"
   },
   "outputs": [],
   "source": [
    "from tensorflow import set_random_seed\n",
    "set_random_seed(2019)"
   ]
  },
  {
   "cell_type": "code",
   "execution_count": 63,
   "metadata": {},
   "outputs": [],
   "source": [
    "state = pd.read_csv(\"../input/petfinder-external-data/petfinder_external_state.csv\")\n",
    "state = state[['StateID','Population']]\n",
    "state.columns = ['State','Population']"
   ]
  },
  {
   "cell_type": "code",
   "execution_count": 64,
   "metadata": {
    "_uuid": "d28c2715e26cb608d636a94d6dad578a59a30528"
   },
   "outputs": [],
   "source": [
    "x_count = X_temp[['State','Type']]\n",
    "x_count = x_count.groupby(['State','Type'])['State'].agg({'count'}).reset_index()\n",
    "x_count = x_count.merge(state,on='State',how='left')\n",
    "x_count['demand_rate'] = 100*x_count['count']/x_count['Population']\n",
    "x_count = x_count[['State','Type','demand_rate']]"
   ]
  },
  {
   "cell_type": "code",
   "execution_count": 65,
   "metadata": {
    "_uuid": "945410661bbbc8eb5a7fe7b251297f9fec4c6e2c"
   },
   "outputs": [],
   "source": [
    "X_temp = pd.merge(X_temp,x_count,how='left',on=['State','Type'])\n",
    "X_train = X_temp.loc[np.isfinite(X_temp.AdoptionSpeed), :]\n",
    "X_test = X_temp.loc[~np.isfinite(X_temp.AdoptionSpeed), :]\n",
    "\n",
    "X_test = X_test.drop(['AdoptionSpeed'], axis=1)\n",
    "\n",
    "assert X_train.shape[0] == train.shape[0]\n",
    "assert X_test.shape[0] == test.shape[0]\n",
    "\n",
    "train_cols = X_train.columns.tolist()\n",
    "train_cols.remove('AdoptionSpeed')\n",
    "\n",
    "test_cols = X_test.columns.tolist()\n",
    "\n",
    "assert np.all(train_cols == test_cols)"
   ]
  },
  {
   "cell_type": "code",
   "execution_count": 66,
   "metadata": {
    "_uuid": "76deebd287adab1eb6c3125d811c74e4ffea0d8d"
   },
   "outputs": [],
   "source": [
    "X_train_non_null = X_train.fillna(-1)\n",
    "X_test_non_null = X_test.fillna(-1)"
   ]
  },
  {
   "cell_type": "code",
   "execution_count": 67,
   "metadata": {},
   "outputs": [],
   "source": [
    "def frequency_encoding(train, test, categorical_features):\n",
    "    x_train = train.copy()\n",
    "    x_test = test.copy()\n",
    "    x = pd.concat([x_train, x_test], axis=0, ignore_index=True)\n",
    "    for cat in categorical_features:\n",
    "        new_column = cat + '_count'\n",
    "        cat_counts = x[cat].value_counts().to_dict()\n",
    "        x_train[new_column] = train[cat].map(cat_counts)\n",
    "        x_test[new_column] = test[cat].map(cat_counts).fillna(0)\n",
    "\n",
    "    return x_train, x_test"
   ]
  },
  {
   "cell_type": "code",
   "execution_count": 68,
   "metadata": {},
   "outputs": [],
   "source": [
    "cat_features = [\n",
    "    'Type',\n",
    "    'Breed1',\n",
    "    'Breed2',\n",
    "    'Color1',\n",
    "    'Color2',\n",
    "    'Color3',\n",
    "    'State'\n",
    "]\n",
    "\n",
    "X_train_non_null, X_test_non_null = frequency_encoding(X_train_non_null, X_test_non_null, cat_features)"
   ]
  },
  {
   "cell_type": "code",
   "execution_count": 69,
   "metadata": {
    "_uuid": "37d18aeee4271a3030cc970c12e8fba7e7829cc3"
   },
   "outputs": [],
   "source": [
    "import xgboost as xgb\n",
    "import lightgbm as lgb\n",
    "from catboost import CatBoostRegressor\n",
    "from sklearn.model_selection import StratifiedKFold\n",
    "\n",
    "xgb_params = {\n",
    "    'eval_metric': 'rmse',\n",
    "    'seed': 1337,\n",
    "    'eta': 0.00723,\n",
    "    'subsample': 0.8,\n",
    "    'colsample_bytree': 0.85,\n",
    "    'tree_method': 'gpu_hist',\n",
    "    'device': 'gpu',\n",
    "    'silent': 1,\n",
    "}\n",
    "\n",
    "lgb_params = {'application': 'regression',\n",
    "              'boosting': 'gbdt',\n",
    "              'metric': 'rmse',\n",
    "              'num_leaves': 70,\n",
    "#               'max_depth': 9,\n",
    "              'learning_rate': 0.00723,\n",
    "              'bagging_fraction': 0.8,\n",
    "              'feature_fraction': 0.85,\n",
    "    #           'min_split_gain': 0.02,\n",
    "    #           'min_child_samples': 150,\n",
    "    #           'min_child_weight': 0.02,\n",
    "              'lambda_l2': 0.0475,\n",
    "              'verbosity': -1,\n",
    "              'data_random_seed': 1337}\n",
    "\n",
    "cat_params = {\n",
    "          'depth': 8,\n",
    "          'eta': 0.02,\n",
    "          'task_type' :\"GPU\",\n",
    "          'random_strength': 1.5,\n",
    "          'loss_function': 'RMSE',\n",
    "#           'one_hot_max_size': 2,\n",
    "          'reg_lambda': 6,\n",
    "          'od_type': 'Iter',\n",
    "#           'fold_len_multiplier': 2,\n",
    "          'border_count': 128,\n",
    "#           # 'od_type': 'IncToDec',\n",
    "#           # 'od_pval': 10e-5, \n",
    "          'bootstrap_type' : \"Bayesian\",\n",
    "#           'bagging_temperature': 1,\n",
    "          'random_seed': 1337,\n",
    "          'early_stopping_rounds': 500, \n",
    "          'num_boost_round': 5000}"
   ]
  },
  {
   "cell_type": "code",
   "execution_count": 70,
   "metadata": {
    "_uuid": "1c38b45b988bb45b6a63973bd93d245f82dc67b8"
   },
   "outputs": [],
   "source": [
    "def run_lgb(params, X_train, X_test):\n",
    "    n_splits = 10\n",
    "    verbose_eval = 1000\n",
    "    num_rounds = 60000\n",
    "    early_stop = 500\n",
    "\n",
    "    kf = StratifiedKFold(n_splits=n_splits, shuffle=True, random_state=1337)\n",
    "\n",
    "    oof_train = np.zeros((X_train.shape[0]))\n",
    "    oof_test = np.zeros((X_test.shape[0]))\n",
    "\n",
    "    for train_idx, valid_idx in kf.split(X_train, X_train['AdoptionSpeed'].values):\n",
    "\n",
    "        X_tr = X_train.iloc[train_idx, :]\n",
    "        X_val = X_train.iloc[valid_idx, :]\n",
    "\n",
    "        y_tr = X_tr['AdoptionSpeed'].values\n",
    "        X_tr = X_tr.drop(['AdoptionSpeed'], axis=1)\n",
    "\n",
    "        y_val = X_val['AdoptionSpeed'].values\n",
    "        X_val = X_val.drop(['AdoptionSpeed'], axis=1)\n",
    "\n",
    "        d_train = lgb.Dataset(X_tr, label=y_tr)\n",
    "        d_valid = lgb.Dataset(X_val, label=y_val)\n",
    "        watchlist = [d_train, d_valid]\n",
    "\n",
    "        model = lgb.train(params,\n",
    "                      train_set=d_train,\n",
    "                      num_boost_round=num_rounds,\n",
    "                      valid_sets=watchlist,\n",
    "                      verbose_eval=verbose_eval,\n",
    "                      early_stopping_rounds=early_stop)\n",
    "    \n",
    "        valid_pred = model.predict(X_val, num_iteration=model.best_iteration)\n",
    "        test_pred = model.predict(X_test, num_iteration=model.best_iteration)\n",
    "\n",
    "        oof_train[valid_idx] = valid_pred\n",
    "        oof_test += test_pred / n_splits\n",
    "\n",
    "    return model, oof_train, oof_test\n",
    "\n",
    "def run_xgb(params, X_train, X_test):\n",
    "    n_splits = 10\n",
    "    verbose_eval = 1000\n",
    "    num_rounds = 60000\n",
    "    early_stop = 500\n",
    "\n",
    "    kf = StratifiedKFold(n_splits=n_splits, shuffle=True, random_state=1337)\n",
    "\n",
    "    oof_train = np.zeros((X_train.shape[0]))\n",
    "    oof_test = np.zeros((X_test.shape[0]))\n",
    "\n",
    "    for train_idx, valid_idx in kf.split(X_train, X_train['AdoptionSpeed'].values):\n",
    "\n",
    "        X_tr = X_train.iloc[train_idx, :]\n",
    "        X_val = X_train.iloc[valid_idx, :]\n",
    "\n",
    "        y_tr = X_tr['AdoptionSpeed'].values\n",
    "        X_tr = X_tr.drop(['AdoptionSpeed'], axis=1)\n",
    "\n",
    "        y_val = X_val['AdoptionSpeed'].values\n",
    "        X_val = X_val.drop(['AdoptionSpeed'], axis=1)\n",
    "\n",
    "        d_train = xgb.DMatrix(data=X_tr, label=y_tr, feature_names=X_tr.columns)\n",
    "        d_valid = xgb.DMatrix(data=X_val, label=y_val, feature_names=X_val.columns)\n",
    "\n",
    "        watchlist = [(d_train, 'train'), (d_valid, 'valid')]\n",
    "        model = xgb.train(dtrain=d_train, num_boost_round=num_rounds, evals=watchlist,\n",
    "                         early_stopping_rounds=early_stop, verbose_eval=verbose_eval, params=params)\n",
    "\n",
    "        valid_pred = model.predict(xgb.DMatrix(X_val, feature_names=X_val.columns), ntree_limit=model.best_ntree_limit)\n",
    "        test_pred = model.predict(xgb.DMatrix(X_test, feature_names=X_test.columns), ntree_limit=model.best_ntree_limit)\n",
    "\n",
    "        oof_train[valid_idx] = valid_pred\n",
    "        oof_test += test_pred / n_splits\n",
    "\n",
    "    return model, oof_train, oof_test\n",
    "\n",
    "def run_cat(params, X_train, X_test):\n",
    "    n_splits = 5\n",
    "    verbose_eval = 1000\n",
    "    num_rounds = 2500\n",
    "    early_stop = 500\n",
    "\n",
    "    kf = StratifiedKFold(n_splits=n_splits, shuffle=True, random_state=1337)\n",
    "\n",
    "    oof_train = np.zeros((X_train.shape[0]))\n",
    "    oof_test = np.zeros((X_test.shape[0]))\n",
    "\n",
    "    for train_idx, valid_idx in kf.split(X_train, X_train['AdoptionSpeed'].values):\n",
    "\n",
    "        X_tr = X_train.iloc[train_idx, :]\n",
    "        X_val = X_train.iloc[valid_idx, :]\n",
    "\n",
    "        y_tr = X_tr['AdoptionSpeed'].values\n",
    "        X_tr = X_tr.drop(['AdoptionSpeed'], axis=1)\n",
    "\n",
    "        y_val = X_val['AdoptionSpeed'].values\n",
    "        X_val = X_val.drop(['AdoptionSpeed'], axis=1)\n",
    "\n",
    "        watchlist = (X_tr, y_tr)\n",
    "        model = CatBoostRegressor(**params)\n",
    "        model.fit(X_tr, y_tr, eval_set=watchlist, verbose=verbose_eval, use_best_model=True)\n",
    "    \n",
    "        valid_pred = model.predict(X_val)\n",
    "        test_pred = model.predict(X_test)\n",
    "\n",
    "        oof_train[valid_idx] = valid_pred\n",
    "        oof_test += test_pred / n_splits\n",
    "\n",
    "    return model, oof_train, oof_test"
   ]
  },
  {
   "cell_type": "code",
   "execution_count": 71,
   "metadata": {
    "_uuid": "d1b221bc0b5b4ca846cc642d11a9d6edf36d33b9"
   },
   "outputs": [
    {
     "name": "stdout",
     "output_type": "stream",
     "text": [
      "Training until validation scores don't improve for 500 rounds.\n",
      "[1000]\ttraining's rmse: 0.678538\tvalid_1's rmse: 1.02084\n",
      "[2000]\ttraining's rmse: 0.484942\tvalid_1's rmse: 1.01424\n",
      "[3000]\ttraining's rmse: 0.353021\tvalid_1's rmse: 1.0136\n",
      "Early stopping, best iteration is:\n",
      "[2809]\ttraining's rmse: 0.375355\tvalid_1's rmse: 1.01323\n",
      "Training until validation scores don't improve for 500 rounds.\n",
      "[1000]\ttraining's rmse: 0.678667\tvalid_1's rmse: 1.04063\n",
      "[2000]\ttraining's rmse: 0.486801\tvalid_1's rmse: 1.03745\n",
      "[3000]\ttraining's rmse: 0.356447\tvalid_1's rmse: 1.03522\n",
      "[4000]\ttraining's rmse: 0.262744\tvalid_1's rmse: 1.03362\n",
      "[5000]\ttraining's rmse: 0.195314\tvalid_1's rmse: 1.03303\n",
      "Early stopping, best iteration is:\n",
      "[4966]\ttraining's rmse: 0.197339\tvalid_1's rmse: 1.03297\n",
      "Training until validation scores don't improve for 500 rounds.\n",
      "[1000]\ttraining's rmse: 0.679589\tvalid_1's rmse: 1.01109\n",
      "[2000]\ttraining's rmse: 0.486749\tvalid_1's rmse: 1.00331\n",
      "[3000]\ttraining's rmse: 0.354395\tvalid_1's rmse: 1.00207\n",
      "[4000]\ttraining's rmse: 0.260497\tvalid_1's rmse: 1.00123\n",
      "[5000]\ttraining's rmse: 0.19369\tvalid_1's rmse: 1.0006\n",
      "Early stopping, best iteration is:\n",
      "[5132]\ttraining's rmse: 0.186494\tvalid_1's rmse: 1.00042\n",
      "Training until validation scores don't improve for 500 rounds.\n",
      "[1000]\ttraining's rmse: 0.680114\tvalid_1's rmse: 1.00473\n",
      "[2000]\ttraining's rmse: 0.487103\tvalid_1's rmse: 0.997503\n",
      "Early stopping, best iteration is:\n",
      "[2243]\ttraining's rmse: 0.450344\tvalid_1's rmse: 0.997216\n",
      "Training until validation scores don't improve for 500 rounds.\n",
      "[1000]\ttraining's rmse: 0.679287\tvalid_1's rmse: 1.02462\n",
      "[2000]\ttraining's rmse: 0.488612\tvalid_1's rmse: 1.01897\n",
      "[3000]\ttraining's rmse: 0.357422\tvalid_1's rmse: 1.01712\n",
      "[4000]\ttraining's rmse: 0.262865\tvalid_1's rmse: 1.01643\n",
      "[5000]\ttraining's rmse: 0.193883\tvalid_1's rmse: 1.01528\n",
      "[6000]\ttraining's rmse: 0.144575\tvalid_1's rmse: 1.01517\n",
      "Early stopping, best iteration is:\n",
      "[5691]\ttraining's rmse: 0.158615\tvalid_1's rmse: 1.01504\n",
      "Training until validation scores don't improve for 500 rounds.\n",
      "[1000]\ttraining's rmse: 0.681393\tvalid_1's rmse: 1.01681\n",
      "[2000]\ttraining's rmse: 0.489296\tvalid_1's rmse: 1.009\n",
      "[3000]\ttraining's rmse: 0.358177\tvalid_1's rmse: 1.00742\n",
      "Early stopping, best iteration is:\n",
      "[2887]\ttraining's rmse: 0.371002\tvalid_1's rmse: 1.00726\n",
      "Training until validation scores don't improve for 500 rounds.\n",
      "[1000]\ttraining's rmse: 0.678111\tvalid_1's rmse: 1.05297\n",
      "[2000]\ttraining's rmse: 0.488809\tvalid_1's rmse: 1.04823\n",
      "[3000]\ttraining's rmse: 0.357922\tvalid_1's rmse: 1.04609\n",
      "Early stopping, best iteration is:\n",
      "[2722]\ttraining's rmse: 0.38985\tvalid_1's rmse: 1.04589\n",
      "Training until validation scores don't improve for 500 rounds.\n",
      "[1000]\ttraining's rmse: 0.679598\tvalid_1's rmse: 1.01895\n",
      "[2000]\ttraining's rmse: 0.487298\tvalid_1's rmse: 1.01308\n",
      "Early stopping, best iteration is:\n",
      "[2463]\ttraining's rmse: 0.419722\tvalid_1's rmse: 1.01286\n",
      "Training until validation scores don't improve for 500 rounds.\n",
      "[1000]\ttraining's rmse: 0.677183\tvalid_1's rmse: 1.01974\n",
      "[2000]\ttraining's rmse: 0.483938\tvalid_1's rmse: 1.01689\n",
      "Early stopping, best iteration is:\n",
      "[1538]\ttraining's rmse: 0.56244\tvalid_1's rmse: 1.01636\n",
      "Training until validation scores don't improve for 500 rounds.\n",
      "[1000]\ttraining's rmse: 0.679017\tvalid_1's rmse: 1.01468\n",
      "[2000]\ttraining's rmse: 0.488005\tvalid_1's rmse: 1.01364\n",
      "Early stopping, best iteration is:\n",
      "[1522]\ttraining's rmse: 0.569963\tvalid_1's rmse: 1.01285\n",
      "[0]\ttrain-rmse:2.3216\tvalid-rmse:2.32192\n",
      "Multiple eval metrics have been passed: 'valid-rmse' will be used for early stopping.\n",
      "\n",
      "Will train until valid-rmse hasn't improved in 500 rounds.\n",
      "[1000]\ttrain-rmse:0.790657\tvalid-rmse:1.02174\n",
      "[2000]\ttrain-rmse:0.63767\tvalid-rmse:1.01413\n",
      "[3000]\ttrain-rmse:0.518735\tvalid-rmse:1.01196\n",
      "Stopping. Best iteration:\n",
      "[3135]\ttrain-rmse:0.503651\tvalid-rmse:1.01135\n",
      "\n",
      "[0]\ttrain-rmse:2.32156\tvalid-rmse:2.32205\n",
      "Multiple eval metrics have been passed: 'valid-rmse' will be used for early stopping.\n",
      "\n",
      "Will train until valid-rmse hasn't improved in 500 rounds.\n",
      "[1000]\ttrain-rmse:0.787312\tvalid-rmse:1.03864\n",
      "[2000]\ttrain-rmse:0.640115\tvalid-rmse:1.03177\n",
      "[3000]\ttrain-rmse:0.521943\tvalid-rmse:1.02908\n",
      "[4000]\ttrain-rmse:0.425169\tvalid-rmse:1.02689\n",
      "[5000]\ttrain-rmse:0.346751\tvalid-rmse:1.0258\n",
      "Stopping. Best iteration:\n",
      "[4718]\ttrain-rmse:0.367427\tvalid-rmse:1.02553\n",
      "\n",
      "[0]\ttrain-rmse:2.32154\tvalid-rmse:2.32173\n",
      "Multiple eval metrics have been passed: 'valid-rmse' will be used for early stopping.\n",
      "\n",
      "Will train until valid-rmse hasn't improved in 500 rounds.\n",
      "[1000]\ttrain-rmse:0.790258\tvalid-rmse:1.01592\n",
      "[2000]\ttrain-rmse:0.638496\tvalid-rmse:1.00641\n",
      "[3000]\ttrain-rmse:0.519524\tvalid-rmse:1.00341\n",
      "[4000]\ttrain-rmse:0.422056\tvalid-rmse:1.00229\n",
      "Stopping. Best iteration:\n",
      "[4019]\ttrain-rmse:0.42056\tvalid-rmse:1.00219\n",
      "\n",
      "[0]\ttrain-rmse:2.32159\tvalid-rmse:2.32196\n",
      "Multiple eval metrics have been passed: 'valid-rmse' will be used for early stopping.\n",
      "\n",
      "Will train until valid-rmse hasn't improved in 500 rounds.\n",
      "[1000]\ttrain-rmse:0.792063\tvalid-rmse:1.00577\n",
      "[2000]\ttrain-rmse:0.641123\tvalid-rmse:0.997954\n",
      "Stopping. Best iteration:\n",
      "[2137]\ttrain-rmse:0.62318\tvalid-rmse:0.997393\n",
      "\n",
      "[0]\ttrain-rmse:2.32152\tvalid-rmse:2.322\n",
      "Multiple eval metrics have been passed: 'valid-rmse' will be used for early stopping.\n",
      "\n",
      "Will train until valid-rmse hasn't improved in 500 rounds.\n",
      "[1000]\ttrain-rmse:0.791609\tvalid-rmse:1.03042\n",
      "[2000]\ttrain-rmse:0.641011\tvalid-rmse:1.02025\n",
      "[3000]\ttrain-rmse:0.520901\tvalid-rmse:1.01691\n",
      "[4000]\ttrain-rmse:0.423982\tvalid-rmse:1.01555\n",
      "[5000]\ttrain-rmse:0.346327\tvalid-rmse:1.01465\n",
      "[6000]\ttrain-rmse:0.282796\tvalid-rmse:1.01431\n",
      "Stopping. Best iteration:\n",
      "[5548]\ttrain-rmse:0.30999\tvalid-rmse:1.01422\n",
      "\n",
      "[0]\ttrain-rmse:2.32157\tvalid-rmse:2.32193\n",
      "Multiple eval metrics have been passed: 'valid-rmse' will be used for early stopping.\n",
      "\n",
      "Will train until valid-rmse hasn't improved in 500 rounds.\n",
      "[1000]\ttrain-rmse:0.795022\tvalid-rmse:1.01837\n",
      "[2000]\ttrain-rmse:0.640911\tvalid-rmse:1.00625\n",
      "[3000]\ttrain-rmse:0.521575\tvalid-rmse:1.00126\n",
      "[4000]\ttrain-rmse:0.424992\tvalid-rmse:1.00087\n",
      "Stopping. Best iteration:\n",
      "[3516]\ttrain-rmse:0.46965\tvalid-rmse:1.00013\n",
      "\n",
      "[0]\ttrain-rmse:2.32153\tvalid-rmse:2.32194\n",
      "Multiple eval metrics have been passed: 'valid-rmse' will be used for early stopping.\n",
      "\n",
      "Will train until valid-rmse hasn't improved in 500 rounds.\n",
      "[1000]\ttrain-rmse:0.787531\tvalid-rmse:1.05685\n",
      "[2000]\ttrain-rmse:0.635783\tvalid-rmse:1.04961\n",
      "[3000]\ttrain-rmse:0.517803\tvalid-rmse:1.04834\n",
      "[4000]\ttrain-rmse:0.421707\tvalid-rmse:1.04801\n",
      "Stopping. Best iteration:\n",
      "[3700]\ttrain-rmse:0.448304\tvalid-rmse:1.04771\n",
      "\n",
      "[0]\ttrain-rmse:2.3216\tvalid-rmse:2.32158\n",
      "Multiple eval metrics have been passed: 'valid-rmse' will be used for early stopping.\n",
      "\n",
      "Will train until valid-rmse hasn't improved in 500 rounds.\n",
      "[1000]\ttrain-rmse:0.792482\tvalid-rmse:1.01953\n",
      "[2000]\ttrain-rmse:0.639034\tvalid-rmse:1.0116\n",
      "[3000]\ttrain-rmse:0.520336\tvalid-rmse:1.01112\n",
      "Stopping. Best iteration:\n",
      "[2815]\ttrain-rmse:0.540528\tvalid-rmse:1.01053\n",
      "\n",
      "[0]\ttrain-rmse:2.32166\tvalid-rmse:2.3214\n",
      "Multiple eval metrics have been passed: 'valid-rmse' will be used for early stopping.\n",
      "\n",
      "Will train until valid-rmse hasn't improved in 500 rounds.\n",
      "[1000]\ttrain-rmse:0.787409\tvalid-rmse:1.02511\n",
      "[2000]\ttrain-rmse:0.636303\tvalid-rmse:1.01923\n",
      "[3000]\ttrain-rmse:0.516591\tvalid-rmse:1.018\n",
      "[4000]\ttrain-rmse:0.419879\tvalid-rmse:1.01776\n",
      "Stopping. Best iteration:\n",
      "[3880]\ttrain-rmse:0.430491\tvalid-rmse:1.01756\n",
      "\n",
      "[0]\ttrain-rmse:2.32169\tvalid-rmse:2.32154\n",
      "Multiple eval metrics have been passed: 'valid-rmse' will be used for early stopping.\n",
      "\n",
      "Will train until valid-rmse hasn't improved in 500 rounds.\n",
      "[1000]\ttrain-rmse:0.789032\tvalid-rmse:1.02063\n",
      "[2000]\ttrain-rmse:0.635805\tvalid-rmse:1.01548\n",
      "[3000]\ttrain-rmse:0.51867\tvalid-rmse:1.01425\n",
      "[4000]\ttrain-rmse:0.42276\tvalid-rmse:1.01341\n",
      "Stopping. Best iteration:\n",
      "[3778]\ttrain-rmse:0.442029\tvalid-rmse:1.01318\n",
      "\n"
     ]
    },
    {
     "name": "stderr",
     "output_type": "stream",
     "text": [
      "Warning: less than 75% gpu memory available for training. Free: 525.875 Total: 525.875\n"
     ]
    },
    {
     "name": "stdout",
     "output_type": "stream",
     "text": [
      "0:\tlearn: 2.7330827\ttest: 2.7330828\tbest: 2.7330828 (0)\ttotal: 48.7ms\tremaining: 4m 3s\n",
      "1000:\tlearn: 0.9201255\ttest: 0.9201255\tbest: 0.9201255 (1000)\ttotal: 40.3s\tremaining: 2m 40s\n",
      "2000:\tlearn: 0.8320163\ttest: 0.8320163\tbest: 0.8320163 (2000)\ttotal: 1m 21s\tremaining: 2m 2s\n",
      "3000:\tlearn: 0.7721385\ttest: 0.7721385\tbest: 0.7721385 (3000)\ttotal: 2m 2s\tremaining: 1m 21s\n",
      "4000:\tlearn: 0.7244850\ttest: 0.7244850\tbest: 0.7244850 (4000)\ttotal: 2m 43s\tremaining: 40.8s\n",
      "4999:\tlearn: 0.6831712\ttest: 0.6831712\tbest: 0.6831712 (4999)\ttotal: 3m 24s\tremaining: 0us\n",
      "bestTest = 0.6831711771\n",
      "bestIteration = 4999\n"
     ]
    },
    {
     "name": "stderr",
     "output_type": "stream",
     "text": [
      "Warning: less than 75% gpu memory available for training. Free: 525.875 Total: 525.875\n"
     ]
    },
    {
     "name": "stdout",
     "output_type": "stream",
     "text": [
      "0:\tlearn: 2.7330597\ttest: 2.7330597\tbest: 2.7330597 (0)\ttotal: 43.9ms\tremaining: 3m 39s\n",
      "1000:\tlearn: 0.9258729\ttest: 0.9258729\tbest: 0.9258729 (1000)\ttotal: 40.3s\tremaining: 2m 41s\n",
      "2000:\tlearn: 0.8363174\ttest: 0.8363174\tbest: 0.8363174 (2000)\ttotal: 1m 22s\tremaining: 2m 3s\n",
      "3000:\tlearn: 0.7737079\ttest: 0.7737079\tbest: 0.7737079 (3000)\ttotal: 2m 3s\tremaining: 1m 22s\n",
      "4000:\tlearn: 0.7300348\ttest: 0.7300349\tbest: 0.7300349 (4000)\ttotal: 2m 43s\tremaining: 40.9s\n",
      "4999:\tlearn: 0.6896538\ttest: 0.6896538\tbest: 0.6896538 (4999)\ttotal: 3m 24s\tremaining: 0us\n",
      "bestTest = 0.6896538386\n",
      "bestIteration = 4999\n"
     ]
    },
    {
     "name": "stderr",
     "output_type": "stream",
     "text": [
      "Warning: less than 75% gpu memory available for training. Free: 525.875 Total: 525.875\n"
     ]
    },
    {
     "name": "stdout",
     "output_type": "stream",
     "text": [
      "0:\tlearn: 2.7330761\ttest: 2.7330761\tbest: 2.7330761 (0)\ttotal: 46.5ms\tremaining: 3m 52s\n",
      "1000:\tlearn: 0.9217438\ttest: 0.9217438\tbest: 0.9217438 (1000)\ttotal: 40.8s\tremaining: 2m 43s\n",
      "2000:\tlearn: 0.8225246\ttest: 0.8225245\tbest: 0.8225245 (2000)\ttotal: 1m 23s\tremaining: 2m 5s\n",
      "3000:\tlearn: 0.7513646\ttest: 0.7513646\tbest: 0.7513646 (3000)\ttotal: 2m 6s\tremaining: 1m 24s\n",
      "4000:\tlearn: 0.6993426\ttest: 0.6993426\tbest: 0.6993426 (4000)\ttotal: 2m 49s\tremaining: 42.2s\n",
      "4999:\tlearn: 0.6594244\ttest: 0.6594244\tbest: 0.6594244 (4999)\ttotal: 3m 31s\tremaining: 0us\n",
      "bestTest = 0.659424359\n",
      "bestIteration = 4999\n"
     ]
    },
    {
     "name": "stderr",
     "output_type": "stream",
     "text": [
      "Warning: less than 75% gpu memory available for training. Free: 525.875 Total: 525.875\n"
     ]
    },
    {
     "name": "stdout",
     "output_type": "stream",
     "text": [
      "0:\tlearn: 2.7330819\ttest: 2.7330820\tbest: 2.7330820 (0)\ttotal: 43.6ms\tremaining: 3m 37s\n",
      "1000:\tlearn: 0.9295434\ttest: 0.9295434\tbest: 0.9295434 (1000)\ttotal: 40s\tremaining: 2m 39s\n",
      "2000:\tlearn: 0.8378253\ttest: 0.8378253\tbest: 0.8378253 (2000)\ttotal: 1m 22s\tremaining: 2m 3s\n",
      "3000:\tlearn: 0.7681354\ttest: 0.7681355\tbest: 0.7681355 (3000)\ttotal: 2m 3s\tremaining: 1m 22s\n",
      "4000:\tlearn: 0.7158566\ttest: 0.7158566\tbest: 0.7158566 (4000)\ttotal: 2m 45s\tremaining: 41.4s\n",
      "4999:\tlearn: 0.6741690\ttest: 0.6741689\tbest: 0.6741689 (4999)\ttotal: 3m 27s\tremaining: 0us\n",
      "bestTest = 0.6741689316\n",
      "bestIteration = 4999\n"
     ]
    },
    {
     "name": "stderr",
     "output_type": "stream",
     "text": [
      "Warning: less than 75% gpu memory available for training. Free: 525.875 Total: 525.875\n"
     ]
    },
    {
     "name": "stdout",
     "output_type": "stream",
     "text": [
      "0:\tlearn: 2.7332996\ttest: 2.7332996\tbest: 2.7332996 (0)\ttotal: 44.2ms\tremaining: 3m 40s\n",
      "1000:\tlearn: 0.9258483\ttest: 0.9258483\tbest: 0.9258483 (1000)\ttotal: 40.2s\tremaining: 2m 40s\n",
      "2000:\tlearn: 0.8232912\ttest: 0.8232912\tbest: 0.8232912 (2000)\ttotal: 1m 22s\tremaining: 2m 3s\n",
      "3000:\tlearn: 0.7501655\ttest: 0.7501655\tbest: 0.7501655 (3000)\ttotal: 2m 5s\tremaining: 1m 23s\n",
      "4000:\tlearn: 0.6982737\ttest: 0.6982737\tbest: 0.6982737 (4000)\ttotal: 2m 47s\tremaining: 41.9s\n",
      "4999:\tlearn: 0.6567524\ttest: 0.6567523\tbest: 0.6567523 (4999)\ttotal: 3m 30s\tremaining: 0us\n",
      "bestTest = 0.6567523314\n",
      "bestIteration = 4999\n"
     ]
    }
   ],
   "source": [
    "model, oof_train_0, oof_test_0 = run_lgb(lgb_params, X_train_non_null, X_test_non_null)\n",
    "model, oof_train_1, oof_test_1 = run_xgb(xgb_params, X_train_non_null, X_test_non_null)\n",
    "model, oof_train_2, oof_test_2 = run_cat(cat_params, X_train_non_null, X_test_non_null)"
   ]
  },
  {
   "cell_type": "code",
   "execution_count": 72,
   "metadata": {
    "_uuid": "85d991c0cbff158e395c421ca7d2e8b557a5a8ed"
   },
   "outputs": [
    {
     "data": {
      "text/plain": [
       "array([0.41793311, 0.47533859, 0.15950911])"
      ]
     },
     "execution_count": 72,
     "metadata": {},
     "output_type": "execute_result"
    }
   ],
   "source": [
    "from sklearn.linear_model import LinearRegression\n",
    "\n",
    "oof_train_0 = oof_train_0[:, np.newaxis]\n",
    "oof_train_1 = oof_train_1[:, np.newaxis]\n",
    "oof_train_2 = oof_train_2[:, np.newaxis]\n",
    "oof_train = np.hstack((oof_train_0, oof_train_1, oof_train_2))\n",
    "y_train = X_train_non_null['AdoptionSpeed'].values\n",
    "\n",
    "oof_test_0 = oof_test_0[:, np.newaxis]\n",
    "oof_test_1 = oof_test_1[:, np.newaxis]\n",
    "oof_test_2 = oof_test_2[:, np.newaxis]\n",
    "oof_test = np.hstack((oof_test_0, oof_test_1, oof_test_2))\n",
    "\n",
    "linear_model = LinearRegression()\n",
    "linear_model.fit(oof_train, y_train)\n",
    "oof_train = linear_model.predict(oof_train)\n",
    "oof_test = linear_model.predict(oof_test)\n",
    "\n",
    "linear_model.coef_"
   ]
  },
  {
   "cell_type": "code",
   "execution_count": 73,
   "metadata": {
    "_uuid": "27b1a27bd30839bd9b402fb45feef5904061595a"
   },
   "outputs": [
    {
     "name": "stdout",
     "output_type": "stream",
     "text": [
      "QWK =  0.490463620386108\n"
     ]
    }
   ],
   "source": [
    "optR = OptimizedRounder()\n",
    "optR.fit(oof_train, y_train)\n",
    "coefficients = optR.coefficients()\n",
    "valid_pred = optR.predict(oof_train, coefficients)\n",
    "qwk = quadratic_weighted_kappa(y_train, valid_pred)\n",
    "test_predictions = optR.predict(oof_test, coefficients).astype(np.int8)\n",
    "print(\"QWK = \", qwk)"
   ]
  },
  {
   "cell_type": "code",
   "execution_count": 74,
   "metadata": {
    "_uuid": "f5b6b439ad61b38aa3288dd6f19333585176b617"
   },
   "outputs": [],
   "source": [
    "train_predictions3 = valid_pred"
   ]
  },
  {
   "cell_type": "code",
   "execution_count": 75,
   "metadata": {
    "_uuid": "ca50f5629cbbef1601da261279367d453f32a622"
   },
   "outputs": [],
   "source": [
    "submission3 = pd.DataFrame({'PetID': test['PetID'].values, 'AdoptionSpeed': test_predictions})"
   ]
  },
  {
   "cell_type": "code",
   "execution_count": 76,
   "metadata": {
    "_uuid": "cc11b09908ff87f5919a86c344e4e2ebd4c67da5"
   },
   "outputs": [],
   "source": [
    "submission1[\"AdoptionSpeed\"] = submission1.AdoptionSpeed*0.4 + submission2.AdoptionSpeed*0.2 + submission3.AdoptionSpeed*0.4\n",
    "submission1[\"AdoptionSpeed\"] = submission1[\"AdoptionSpeed\"].round().astype(int)\n",
    "submission1.to_csv('submission.csv', index=False)"
   ]
  }
 ],
 "metadata": {
  "kernelspec": {
   "display_name": "Python 3",
   "language": "python",
   "name": "python3"
  },
  "language_info": {
   "codemirror_mode": {
    "name": "ipython",
    "version": 3
   },
   "file_extension": ".py",
   "mimetype": "text/x-python",
   "name": "python",
   "nbconvert_exporter": "python",
   "pygments_lexer": "ipython3",
   "version": "3.6.6"
  }
 },
 "nbformat": 4,
 "nbformat_minor": 1
}
